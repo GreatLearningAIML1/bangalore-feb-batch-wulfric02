{
  "nbformat": 4,
  "nbformat_minor": 0,
  "metadata": {
    "kernelspec": {
      "display_name": "Python 3",
      "language": "python",
      "name": "python3"
    },
    "language_info": {
      "codemirror_mode": {
        "name": "ipython",
        "version": 3
      },
      "file_extension": ".py",
      "mimetype": "text/x-python",
      "name": "python",
      "nbconvert_exporter": "python",
      "pygments_lexer": "ipython3",
      "version": "3.6.5"
    },
    "colab": {
      "name": "R1-Lab Internal_Questions -1.ipynb",
      "provenance": []
    }
  },
  "cells": [
    {
      "cell_type": "markdown",
      "metadata": {
        "id": "wNjcRz9Z5uq4",
        "colab_type": "text"
      },
      "source": [
        "## Lists, Dictionaries and Sets in Python"
      ]
    },
    {
      "cell_type": "markdown",
      "metadata": {
        "id": "wimNKrGW5uq7",
        "colab_type": "text"
      },
      "source": [
        "## Part 1\n",
        "\n",
        "### Lists in Python\n",
        "\n",
        "Sequences in Python are data structures that hold objects in an ordered array. Now, we will work on Lists, the most common sequence data types in Python."
      ]
    },
    {
      "cell_type": "code",
      "metadata": {
        "id": "xeKRGJ5U5uq8",
        "colab_type": "code",
        "colab": {
          "base_uri": "https://localhost:8080/",
          "height": 34
        },
        "outputId": "af91b1f8-bafb-4632-917e-b38b610279fc"
      },
      "source": [
        "#Example \n",
        "l1 = ['learning', \"Python\", 'is fun?', True]\n",
        "print(l1)"
      ],
      "execution_count": 1,
      "outputs": [
        {
          "output_type": "stream",
          "text": [
            "['learning', 'Python', 'is fun?', True]\n"
          ],
          "name": "stdout"
        }
      ]
    },
    {
      "cell_type": "markdown",
      "metadata": {
        "id": "qke5saru5urA",
        "colab_type": "text"
      },
      "source": [
        "List can also be created by using list() function. "
      ]
    },
    {
      "cell_type": "code",
      "metadata": {
        "id": "JAqk87j05urB",
        "colab_type": "code",
        "colab": {
          "base_uri": "https://localhost:8080/",
          "height": 34
        },
        "outputId": "426c09f1-e9a5-4aa1-8316-ccdc83f2234e"
      },
      "source": [
        "#Example\n",
        "l2 = list((\"learning\", \"for\", \"life\", True))\n",
        "print(l2)"
      ],
      "execution_count": 2,
      "outputs": [
        {
          "output_type": "stream",
          "text": [
            "['learning', 'for', 'life', True]\n"
          ],
          "name": "stdout"
        }
      ]
    },
    {
      "cell_type": "markdown",
      "metadata": {
        "id": "FcwAbh8W5urE",
        "colab_type": "text"
      },
      "source": [
        "Adding to an existing list\n",
        "\n",
        "### Question 1\n",
        "\n",
        "Add 10 to list l1 given above.\n",
        "\n",
        "[ **Hint: ** Use **append** ]"
      ]
    },
    {
      "cell_type": "code",
      "metadata": {
        "id": "jH5GGOUW5urF",
        "colab_type": "code",
        "colab": {}
      },
      "source": [
        "l1.append(10)\n"
      ],
      "execution_count": 0,
      "outputs": []
    },
    {
      "cell_type": "code",
      "metadata": {
        "id": "W4mkTNYx59my",
        "colab_type": "code",
        "colab": {
          "base_uri": "https://localhost:8080/",
          "height": 34
        },
        "outputId": "7baa7340-a211-44e9-e8d3-d6248e04f085"
      },
      "source": [
        "print(l1)"
      ],
      "execution_count": 4,
      "outputs": [
        {
          "output_type": "stream",
          "text": [
            "['learning', 'Python', 'is fun?', True, 10]\n"
          ],
          "name": "stdout"
        }
      ]
    },
    {
      "cell_type": "markdown",
      "metadata": {
        "id": "HfXmJ7KR5urI",
        "colab_type": "text"
      },
      "source": [
        "Removing from an existing list\n",
        "\n",
        "### Question 2\n",
        "\n",
        "Remove 10 from l1.\n",
        "\n",
        "[ **Hint:** Use **remove**]"
      ]
    },
    {
      "cell_type": "code",
      "metadata": {
        "id": "ArOFG9sN5urI",
        "colab_type": "code",
        "colab": {
          "base_uri": "https://localhost:8080/",
          "height": 34
        },
        "outputId": "a091876f-638e-4e09-bb52-806dd0c1767a"
      },
      "source": [
        "l1.remove(10)\n",
        "print(l1)"
      ],
      "execution_count": 5,
      "outputs": [
        {
          "output_type": "stream",
          "text": [
            "['learning', 'Python', 'is fun?', True]\n"
          ],
          "name": "stdout"
        }
      ]
    },
    {
      "cell_type": "markdown",
      "metadata": {
        "id": "q7quN-7u5urL",
        "colab_type": "text"
      },
      "source": [
        "Joining 2 lists\n",
        "\n",
        "### Question 3\n",
        "\n",
        "[ **Hint: ** Use **+** operator or **extend**]"
      ]
    },
    {
      "cell_type": "code",
      "metadata": {
        "id": "Qjw3dWP45urM",
        "colab_type": "code",
        "colab": {}
      },
      "source": [
        "l1 = ['learning', \"Python\", 'is fun?', True]\n",
        "l2 = list((\"learning\", \"for\", \"life\", True))"
      ],
      "execution_count": 0,
      "outputs": []
    },
    {
      "cell_type": "code",
      "metadata": {
        "id": "m4D8cMZo5urP",
        "colab_type": "code",
        "colab": {
          "base_uri": "https://localhost:8080/",
          "height": 34
        },
        "outputId": "ba133a3b-99cf-4d90-f53d-8a66d809063e"
      },
      "source": [
        "print(l1+l2)"
      ],
      "execution_count": 6,
      "outputs": [
        {
          "output_type": "stream",
          "text": [
            "['learning', 'Python', 'is fun?', True, 'learning', 'for', 'life', True]\n"
          ],
          "name": "stdout"
        }
      ]
    },
    {
      "cell_type": "markdown",
      "metadata": {
        "id": "QOTGnje85urT",
        "colab_type": "text"
      },
      "source": [
        "Number List\n",
        "\n",
        "### Question 4\n",
        "\n",
        "Find Range and Mean of l3.\n",
        "\n",
        "l3 = [2,4,6,8]\n",
        "\n",
        "[ **Hint: ** Use **len(),sum(), min(), max()** functions ]\n",
        " \n",
        "If you want to use standard functions like mean & range, you have to import them from numpy else you can calculate them the traditional way using formulas"
      ]
    },
    {
      "cell_type": "code",
      "metadata": {
        "id": "TwrsByCn5urT",
        "colab_type": "code",
        "colab": {}
      },
      "source": [
        "l3 = [2,4,6,8]"
      ],
      "execution_count": 0,
      "outputs": []
    },
    {
      "cell_type": "code",
      "metadata": {
        "id": "g4BiL2Sq5urW",
        "colab_type": "code",
        "colab": {}
      },
      "source": [
        "import numpy as np"
      ],
      "execution_count": 0,
      "outputs": []
    },
    {
      "cell_type": "code",
      "metadata": {
        "id": "A2W2QaRa6tzO",
        "colab_type": "code",
        "colab": {}
      },
      "source": [
        "l3_arr = np.asarray(l3)"
      ],
      "execution_count": 0,
      "outputs": []
    },
    {
      "cell_type": "code",
      "metadata": {
        "id": "a4MSHQSH6yeI",
        "colab_type": "code",
        "colab": {
          "base_uri": "https://localhost:8080/",
          "height": 34
        },
        "outputId": "6c2b47f8-f1a5-4000-8a0f-c828d1cff719"
      },
      "source": [
        "l3_arr.mean()"
      ],
      "execution_count": 13,
      "outputs": [
        {
          "output_type": "execute_result",
          "data": {
            "text/plain": [
              "5.0"
            ]
          },
          "metadata": {
            "tags": []
          },
          "execution_count": 13
        }
      ]
    },
    {
      "cell_type": "code",
      "metadata": {
        "id": "ZRIEecWh68Rq",
        "colab_type": "code",
        "colab": {
          "base_uri": "https://localhost:8080/",
          "height": 34
        },
        "outputId": "16588726-dceb-41bc-acad-ea575d8669f6"
      },
      "source": [
        "range = l3_arr.max() - l3_arr.min()\n",
        "print(range)"
      ],
      "execution_count": 14,
      "outputs": [
        {
          "output_type": "stream",
          "text": [
            "6\n"
          ],
          "name": "stdout"
        }
      ]
    },
    {
      "cell_type": "markdown",
      "metadata": {
        "id": "OW3LNT_z5urZ",
        "colab_type": "text"
      },
      "source": [
        "Count the occurances of an element in a given list.\n",
        "\n",
        "### Question 5\n",
        "Append the given sequence of numbers to l3 (given above) 0,1,3,3,5,5,7,9. Count the occurences of 5 in l3.\n",
        "\n",
        "[ **Hint: ** Use ** + operator to add multiple elements in the array and count() function to print the occurences**]"
      ]
    },
    {
      "cell_type": "code",
      "metadata": {
        "id": "_A4kEiWB5ura",
        "colab_type": "code",
        "colab": {
          "base_uri": "https://localhost:8080/",
          "height": 34
        },
        "outputId": "a98acab7-df69-424a-81ae-dc4090ab22fe"
      },
      "source": [
        "l4 = [0,1,3,3,5,5,7,9]\n",
        "l3 = l3 + l4\n",
        "print(l3)"
      ],
      "execution_count": 20,
      "outputs": [
        {
          "output_type": "stream",
          "text": [
            "[2, 4, 6, 8, 0, 1, 3, 3, 5, 5, 7, 9]\n"
          ],
          "name": "stdout"
        }
      ]
    },
    {
      "cell_type": "code",
      "metadata": {
        "id": "51pHEVlq7aSm",
        "colab_type": "code",
        "colab": {
          "base_uri": "https://localhost:8080/",
          "height": 34
        },
        "outputId": "46c000cd-56c0-49b6-c909-1b1028e00d7c"
      },
      "source": [
        "l3.count(5)"
      ],
      "execution_count": 21,
      "outputs": [
        {
          "output_type": "execute_result",
          "data": {
            "text/plain": [
              "2"
            ]
          },
          "metadata": {
            "tags": []
          },
          "execution_count": 21
        }
      ]
    },
    {
      "cell_type": "markdown",
      "metadata": {
        "id": "I4U0xqFa5urc",
        "colab_type": "text"
      },
      "source": [
        "Sorting and Reversing a list\n",
        "\n",
        "### Question 6\n",
        "sort and print l3 in ascending and descending order sequentially (given above)\n",
        "\n",
        "**(Hint: Use .sort() function)**"
      ]
    },
    {
      "cell_type": "code",
      "metadata": {
        "id": "7u6SX-TR5urc",
        "colab_type": "code",
        "colab": {
          "base_uri": "https://localhost:8080/",
          "height": 34
        },
        "outputId": "eaaf3996-b1fb-4701-e49e-60a457df1409"
      },
      "source": [
        "l3.sort()\n",
        "print(l3)"
      ],
      "execution_count": 24,
      "outputs": [
        {
          "output_type": "stream",
          "text": [
            "[0, 1, 2, 3, 3, 4, 5, 5, 6, 7, 8, 9]\n"
          ],
          "name": "stdout"
        }
      ]
    },
    {
      "cell_type": "code",
      "metadata": {
        "id": "y-ETszcE5ure",
        "colab_type": "code",
        "colab": {
          "base_uri": "https://localhost:8080/",
          "height": 34
        },
        "outputId": "b40a9d63-e802-463c-9291-08b19d623019"
      },
      "source": [
        "l3.sort(reverse=True)\n",
        "print(l3)"
      ],
      "execution_count": 25,
      "outputs": [
        {
          "output_type": "stream",
          "text": [
            "[9, 8, 7, 6, 5, 5, 4, 3, 3, 2, 1, 0]\n"
          ],
          "name": "stdout"
        }
      ]
    },
    {
      "cell_type": "markdown",
      "metadata": {
        "id": "42B3PGtx5urg",
        "colab_type": "text"
      },
      "source": [
        "### Functions"
      ]
    },
    {
      "cell_type": "markdown",
      "metadata": {
        "id": "k7dqRK9v5urh",
        "colab_type": "text"
      },
      "source": [
        "**Example:**\n",
        "\n",
        "**def** function_name(args)**:**\n",
        "    \n",
        "    function code goes here"
      ]
    },
    {
      "cell_type": "markdown",
      "metadata": {
        "id": "cbb376M15uri",
        "colab_type": "text"
      },
      "source": [
        "### Question 7\n",
        "\n",
        "Define a function with name **sum_3** which can take 3 numbers as input, and returns sum of them."
      ]
    },
    {
      "cell_type": "code",
      "metadata": {
        "id": "GjX43udV5urj",
        "colab_type": "code",
        "colab": {}
      },
      "source": [
        "def sum_3(a,b,c):\n",
        "  return a+b+c"
      ],
      "execution_count": 0,
      "outputs": []
    },
    {
      "cell_type": "code",
      "metadata": {
        "id": "-zNBfBRJ7-d_",
        "colab_type": "code",
        "colab": {
          "base_uri": "https://localhost:8080/",
          "height": 34
        },
        "outputId": "69357181-e4a7-4697-9b97-66c085e3d730"
      },
      "source": [
        "print(sum_3(1,2,3))"
      ],
      "execution_count": 27,
      "outputs": [
        {
          "output_type": "stream",
          "text": [
            "6\n"
          ],
          "name": "stdout"
        }
      ]
    },
    {
      "cell_type": "markdown",
      "metadata": {
        "id": "KI_8vOZ75urn",
        "colab_type": "text"
      },
      "source": [
        "### Lambda Functions"
      ]
    },
    {
      "cell_type": "markdown",
      "metadata": {
        "id": "23NQt0aW5urp",
        "colab_type": "text"
      },
      "source": [
        "Anonymous functions or no name functions, which can be considered when you use a function only once.\n",
        "\n",
        "**Example:**\n",
        "\n",
        "f = lambda x, y : x + y\n",
        "\n",
        "f(1,1)\n",
        "\n",
        "2\n"
      ]
    },
    {
      "cell_type": "markdown",
      "metadata": {
        "id": "AfjrHCGb5urq",
        "colab_type": "text"
      },
      "source": [
        "### Question 8\n",
        "\n",
        "Write the same above **sum_3** function using lambda."
      ]
    },
    {
      "cell_type": "code",
      "metadata": {
        "id": "HRuPbq8m5urr",
        "colab_type": "code",
        "colab": {
          "base_uri": "https://localhost:8080/",
          "height": 34
        },
        "outputId": "e495c0db-4ef4-486e-b95b-e594291e6b72"
      },
      "source": [
        "sum_3_l = lambda a,b,c : a+b+c\n",
        "print(sum_3_l(1,2,3))"
      ],
      "execution_count": 29,
      "outputs": [
        {
          "output_type": "stream",
          "text": [
            "6\n"
          ],
          "name": "stdout"
        }
      ]
    },
    {
      "cell_type": "code",
      "metadata": {
        "id": "WzJkXnZ05urt",
        "colab_type": "code",
        "colab": {}
      },
      "source": [
        ""
      ],
      "execution_count": 0,
      "outputs": []
    },
    {
      "cell_type": "markdown",
      "metadata": {
        "id": "GLdhbAPX5urv",
        "colab_type": "text"
      },
      "source": [
        "# Numpy"
      ]
    },
    {
      "cell_type": "markdown",
      "metadata": {
        "id": "nvAzBHbh5urw",
        "colab_type": "text"
      },
      "source": [
        "We have seen python basic data structures in our last section. They are great but lack specialized features for data analysis. Like, adding roows, columns, operating on 2d matrices aren't readily available. So, we will use *numpy* for such functions.\n",
        "\n"
      ]
    },
    {
      "cell_type": "code",
      "metadata": {
        "id": "jdFQcd4v5urw",
        "colab_type": "code",
        "colab": {}
      },
      "source": [
        "import numpy as np"
      ],
      "execution_count": 0,
      "outputs": []
    },
    {
      "cell_type": "markdown",
      "metadata": {
        "id": "YAooDNiu5ury",
        "colab_type": "text"
      },
      "source": [
        "Numpy operates on *nd* arrays. These are similar to lists but contains homogenous elements but easier to store 2-d data."
      ]
    },
    {
      "cell_type": "code",
      "metadata": {
        "id": "P4xgPfM65ur2",
        "colab_type": "code",
        "colab": {
          "base_uri": "https://localhost:8080/",
          "height": 68
        },
        "outputId": "e616294b-db4b-4d34-e4a9-fdbf590a5b2c"
      },
      "source": [
        "l1 = [1,2,3,4]\n",
        "nd1 = np.array(l1)\n",
        "print(nd1)\n",
        "\n",
        "l2 = [5,6,7,8]\n",
        "nd2 = np.array([l1,l2])\n",
        "print(nd2)"
      ],
      "execution_count": 31,
      "outputs": [
        {
          "output_type": "stream",
          "text": [
            "[1 2 3 4]\n",
            "[[1 2 3 4]\n",
            " [5 6 7 8]]\n"
          ],
          "name": "stdout"
        }
      ]
    },
    {
      "cell_type": "markdown",
      "metadata": {
        "id": "5Rqmzf-Y5ur6",
        "colab_type": "text"
      },
      "source": [
        "Sum functions on np.array()"
      ]
    },
    {
      "cell_type": "code",
      "metadata": {
        "id": "B79mLmhj5ur7",
        "colab_type": "code",
        "colab": {
          "base_uri": "https://localhost:8080/",
          "height": 68
        },
        "outputId": "e8b25a02-a256-4fab-b4c7-2ee3c3bcfce9"
      },
      "source": [
        "print(nd2.shape)\n",
        "\n",
        "print(nd2.size)\n",
        "\n",
        "print(nd2.dtype)"
      ],
      "execution_count": 32,
      "outputs": [
        {
          "output_type": "stream",
          "text": [
            "(2, 4)\n",
            "8\n",
            "int64\n"
          ],
          "name": "stdout"
        }
      ]
    },
    {
      "cell_type": "markdown",
      "metadata": {
        "id": "rfgLrUp05ur9",
        "colab_type": "text"
      },
      "source": [
        "### Question 1\n",
        "\n",
        "Create an identity 2d-array or matrix (with ones across the diagonal).\n",
        "\n",
        "[ **Hint: ** You can also use **np.identity()** function ]"
      ]
    },
    {
      "cell_type": "code",
      "metadata": {
        "id": "1pMJ_LyS5ur-",
        "colab_type": "code",
        "colab": {
          "base_uri": "https://localhost:8080/",
          "height": 51
        },
        "outputId": "39110cdf-9cb0-45d4-bdcc-dbed940df606"
      },
      "source": [
        "np.identity(n=2)"
      ],
      "execution_count": 33,
      "outputs": [
        {
          "output_type": "execute_result",
          "data": {
            "text/plain": [
              "array([[1., 0.],\n",
              "       [0., 1.]])"
            ]
          },
          "metadata": {
            "tags": []
          },
          "execution_count": 33
        }
      ]
    },
    {
      "cell_type": "markdown",
      "metadata": {
        "id": "DTQl1vYA5ur_",
        "colab_type": "text"
      },
      "source": [
        "### Question 2\n",
        "\n",
        "Create a 2d-array or matrix of order 3x3 with values = 9,8,7,6,5,4,3,2,1 arranged in the same order.\n",
        "\n",
        "Use: **np.matrix()** function\n",
        "\n"
      ]
    },
    {
      "cell_type": "code",
      "metadata": {
        "id": "sZkDk_Y65usA",
        "colab_type": "code",
        "colab": {}
      },
      "source": [
        "mat = np.matrix([[9,8,7],[6,5,4],[3,2,1]])"
      ],
      "execution_count": 0,
      "outputs": []
    },
    {
      "cell_type": "code",
      "metadata": {
        "id": "sO0l3PvB5usC",
        "colab_type": "code",
        "colab": {}
      },
      "source": [
        ""
      ],
      "execution_count": 0,
      "outputs": []
    },
    {
      "cell_type": "markdown",
      "metadata": {
        "id": "oEW5sEFO5usD",
        "colab_type": "text"
      },
      "source": [
        "### Question 3\n",
        "\n",
        "Reverse both the rows and columns of the given matrix.\n",
        "\n",
        "Hint: You can use the transpose **.T**)"
      ]
    },
    {
      "cell_type": "code",
      "metadata": {
        "id": "OU07q3IQ5usE",
        "colab_type": "code",
        "colab": {
          "base_uri": "https://localhost:8080/",
          "height": 68
        },
        "outputId": "06488f5e-70c2-4f91-ae6a-d3fbd3f46aad"
      },
      "source": [
        "mat.transpose()"
      ],
      "execution_count": 37,
      "outputs": [
        {
          "output_type": "execute_result",
          "data": {
            "text/plain": [
              "matrix([[9, 6, 3],\n",
              "        [8, 5, 2],\n",
              "        [7, 4, 1]])"
            ]
          },
          "metadata": {
            "tags": []
          },
          "execution_count": 37
        }
      ]
    },
    {
      "cell_type": "code",
      "metadata": {
        "id": "PjfAdR0l5usG",
        "colab_type": "code",
        "colab": {}
      },
      "source": [
        ""
      ],
      "execution_count": 0,
      "outputs": []
    },
    {
      "cell_type": "markdown",
      "metadata": {
        "id": "akQITijl5usK",
        "colab_type": "text"
      },
      "source": [
        "### Question 4\n",
        "Add + 1 to all the elements in the given matrix."
      ]
    },
    {
      "cell_type": "code",
      "metadata": {
        "id": "xrydeDSG5usL",
        "colab_type": "code",
        "colab": {
          "base_uri": "https://localhost:8080/",
          "height": 68
        },
        "outputId": "61e93f08-7429-4762-ba01-87cd3f56819f"
      },
      "source": [
        "mat + 1"
      ],
      "execution_count": 38,
      "outputs": [
        {
          "output_type": "execute_result",
          "data": {
            "text/plain": [
              "matrix([[10,  9,  8],\n",
              "        [ 7,  6,  5],\n",
              "        [ 4,  3,  2]])"
            ]
          },
          "metadata": {
            "tags": []
          },
          "execution_count": 38
        }
      ]
    },
    {
      "cell_type": "code",
      "metadata": {
        "id": "nd1MbmIs5usP",
        "colab_type": "code",
        "colab": {}
      },
      "source": [
        ""
      ],
      "execution_count": 0,
      "outputs": []
    },
    {
      "cell_type": "markdown",
      "metadata": {
        "id": "PEUj4D9u5usS",
        "colab_type": "text"
      },
      "source": [
        "Similarly you can do operations like scalar  substraction, division, multiplication (operating on each element in the matrix)"
      ]
    },
    {
      "cell_type": "markdown",
      "metadata": {
        "id": "vsLHMDaN5usS",
        "colab_type": "text"
      },
      "source": [
        "### Question 5\n",
        "\n",
        "Find the mean of all elements in the given matrix nd6.\n",
        "nd6 = [[  1   4   9 121 144 169]\n",
        " [ 16  25  36 196 225 256]\n",
        " [ 49  64  81 289 324 361]]\n",
        " \n",
        " Use: **.mean()** function\n"
      ]
    },
    {
      "cell_type": "code",
      "metadata": {
        "id": "x3OKgA0R5usU",
        "colab_type": "code",
        "colab": {}
      },
      "source": [
        "nd6 = [[ 1,4,9, 121 ,144, 169], [ 16, 25 ,36, 196 ,225 ,256] ,[ 49, 64, 81 ,289, 324, 361]]"
      ],
      "execution_count": 0,
      "outputs": []
    },
    {
      "cell_type": "code",
      "metadata": {
        "id": "vus1L3ls5usX",
        "colab_type": "code",
        "colab": {
          "base_uri": "https://localhost:8080/",
          "height": 34
        },
        "outputId": "1b894f0e-05eb-4302-d54f-90fbe9c53260"
      },
      "source": [
        "np.asarray(nd6).mean()"
      ],
      "execution_count": 44,
      "outputs": [
        {
          "output_type": "execute_result",
          "data": {
            "text/plain": [
              "131.66666666666666"
            ]
          },
          "metadata": {
            "tags": []
          },
          "execution_count": 44
        }
      ]
    },
    {
      "cell_type": "markdown",
      "metadata": {
        "id": "bGnnI2oC5usZ",
        "colab_type": "text"
      },
      "source": [
        "### Question 7\n",
        "\n",
        "Find the dot product of two given matrices.\n",
        "\n",
        "[**Hint:** Use **np.dot()**]"
      ]
    },
    {
      "cell_type": "code",
      "metadata": {
        "id": "LLzMU1LA5usZ",
        "colab_type": "code",
        "colab": {}
      },
      "source": [
        "a = [[1, 2, 3], [4, 5, 6], [7, 8, 9]]\n",
        "b = [[9, 8, 7], [6, 5, 4], [3, 2, 1]]\n"
      ],
      "execution_count": 0,
      "outputs": []
    },
    {
      "cell_type": "code",
      "metadata": {
        "id": "lFc4Gym55usb",
        "colab_type": "code",
        "colab": {
          "base_uri": "https://localhost:8080/",
          "height": 68
        },
        "outputId": "2184a2bc-5a28-4d22-9699-aef0e733c6a9"
      },
      "source": [
        "a_arr = np.asarray(a)\n",
        "b_arr = np.asarray(b)\n",
        "np.dot(a_arr, b_arr)"
      ],
      "execution_count": 47,
      "outputs": [
        {
          "output_type": "execute_result",
          "data": {
            "text/plain": [
              "array([[ 30,  24,  18],\n",
              "       [ 84,  69,  54],\n",
              "       [138, 114,  90]])"
            ]
          },
          "metadata": {
            "tags": []
          },
          "execution_count": 47
        }
      ]
    },
    {
      "cell_type": "code",
      "metadata": {
        "id": "WjOam68v5usd",
        "colab_type": "code",
        "colab": {}
      },
      "source": [
        ""
      ],
      "execution_count": 0,
      "outputs": []
    },
    {
      "cell_type": "markdown",
      "metadata": {
        "id": "vziOF26Y5usf",
        "colab_type": "text"
      },
      "source": [
        "# Pandas"
      ]
    },
    {
      "cell_type": "markdown",
      "metadata": {
        "id": "Vcmm8Non5usf",
        "colab_type": "text"
      },
      "source": [
        "We have seen Numpy in the last section. It is good at performing math operation on 2d-arrays of numbers. But the major drawback is, it cannot deal with heterogenous values. So, Pandas dataframes are helpful in that aspect for storing different data types and referring the values like a dict in python instead of just referring each item with index.\n",
        "\n",
        "[Link to Official Documentation](http://pandas.pydata.org/pandas-docs/version/0.23/dsintro.html)"
      ]
    },
    {
      "cell_type": "markdown",
      "metadata": {
        "id": "W3-bGpdR5ush",
        "colab_type": "text"
      },
      "source": [
        "## Series"
      ]
    },
    {
      "cell_type": "markdown",
      "metadata": {
        "id": "MPZNXbC95usi",
        "colab_type": "text"
      },
      "source": [
        "Pandas series are almost same as nd arrays in numpy, with a additional inferencing ability with custom labels like *keys* in a *dictionary* in python."
      ]
    },
    {
      "cell_type": "code",
      "metadata": {
        "id": "A0SHX5lp5usj",
        "colab_type": "code",
        "colab": {}
      },
      "source": [
        "import numpy as np\n",
        "import pandas as pd"
      ],
      "execution_count": 0,
      "outputs": []
    },
    {
      "cell_type": "code",
      "metadata": {
        "id": "h4F_POw75usn",
        "colab_type": "code",
        "colab": {
          "base_uri": "https://localhost:8080/",
          "height": 85
        },
        "outputId": "a3379f83-bb20-40e2-8ed1-09dfaa3836b3"
      },
      "source": [
        "#Example\n",
        "\n",
        "series1 = pd.Series(data = [1,2,3], index = ['key1', 'key2', 'key3'])\n",
        "series1"
      ],
      "execution_count": 49,
      "outputs": [
        {
          "output_type": "execute_result",
          "data": {
            "text/plain": [
              "key1    1\n",
              "key2    2\n",
              "key3    3\n",
              "dtype: int64"
            ]
          },
          "metadata": {
            "tags": []
          },
          "execution_count": 49
        }
      ]
    },
    {
      "cell_type": "markdown",
      "metadata": {
        "id": "tXSEABIJ5usq",
        "colab_type": "text"
      },
      "source": [
        "### Question 1\n",
        "\n",
        "Convert a given dict to pd series.\n",
        "\n",
        "[**Hint:** Use **.Series**]"
      ]
    },
    {
      "cell_type": "code",
      "metadata": {
        "id": "PnED0HXB5usq",
        "colab_type": "code",
        "colab": {}
      },
      "source": [
        "d1 = {'a': 1, 'b': 2, 'c': 3}"
      ],
      "execution_count": 0,
      "outputs": []
    },
    {
      "cell_type": "code",
      "metadata": {
        "id": "UCNXpN5v5uss",
        "colab_type": "code",
        "colab": {}
      },
      "source": [
        "series2 = pd.Series(d1)"
      ],
      "execution_count": 0,
      "outputs": []
    },
    {
      "cell_type": "markdown",
      "metadata": {
        "id": "X0R6EnKM5usw",
        "colab_type": "text"
      },
      "source": [
        "You can directly use numpy functions on series.\n",
        "### Question 2\n",
        "\n",
        "Find the dot product of both the series create above\n",
        "\n",
        "\n",
        "[ **Hint: ** Use **np.dot()** ]"
      ]
    },
    {
      "cell_type": "code",
      "metadata": {
        "id": "-qnbSKxW5usy",
        "colab_type": "code",
        "colab": {
          "base_uri": "https://localhost:8080/",
          "height": 34
        },
        "outputId": "7a0f2300-acbb-42fb-cdeb-e186f2fbf229"
      },
      "source": [
        "np.dot(series1, series2)"
      ],
      "execution_count": 53,
      "outputs": [
        {
          "output_type": "execute_result",
          "data": {
            "text/plain": [
              "14"
            ]
          },
          "metadata": {
            "tags": []
          },
          "execution_count": 53
        }
      ]
    },
    {
      "cell_type": "markdown",
      "metadata": {
        "id": "0lgW9tyC5usz",
        "colab_type": "text"
      },
      "source": [
        "## Dataframes"
      ]
    },
    {
      "cell_type": "markdown",
      "metadata": {
        "id": "YU9mjbxX5us0",
        "colab_type": "text"
      },
      "source": [
        "A dataframe is a table with labeled columns which can hold different types of data in each column. "
      ]
    },
    {
      "cell_type": "code",
      "metadata": {
        "id": "Hw_OSIDu5us2",
        "colab_type": "code",
        "colab": {
          "base_uri": "https://localhost:8080/",
          "height": 142
        },
        "outputId": "7310d021-3f9c-401e-866c-a16aaafca8d1"
      },
      "source": [
        "# Example\n",
        "d1 = {'a': [1,2,3], 'b': [3,4,5], 'c':[6,7,8] }\n",
        "df1 = pd.DataFrame(d1)\n",
        "df1"
      ],
      "execution_count": 54,
      "outputs": [
        {
          "output_type": "execute_result",
          "data": {
            "text/html": [
              "<div>\n",
              "<style scoped>\n",
              "    .dataframe tbody tr th:only-of-type {\n",
              "        vertical-align: middle;\n",
              "    }\n",
              "\n",
              "    .dataframe tbody tr th {\n",
              "        vertical-align: top;\n",
              "    }\n",
              "\n",
              "    .dataframe thead th {\n",
              "        text-align: right;\n",
              "    }\n",
              "</style>\n",
              "<table border=\"1\" class=\"dataframe\">\n",
              "  <thead>\n",
              "    <tr style=\"text-align: right;\">\n",
              "      <th></th>\n",
              "      <th>a</th>\n",
              "      <th>b</th>\n",
              "      <th>c</th>\n",
              "    </tr>\n",
              "  </thead>\n",
              "  <tbody>\n",
              "    <tr>\n",
              "      <th>0</th>\n",
              "      <td>1</td>\n",
              "      <td>3</td>\n",
              "      <td>6</td>\n",
              "    </tr>\n",
              "    <tr>\n",
              "      <th>1</th>\n",
              "      <td>2</td>\n",
              "      <td>4</td>\n",
              "      <td>7</td>\n",
              "    </tr>\n",
              "    <tr>\n",
              "      <th>2</th>\n",
              "      <td>3</td>\n",
              "      <td>5</td>\n",
              "      <td>8</td>\n",
              "    </tr>\n",
              "  </tbody>\n",
              "</table>\n",
              "</div>"
            ],
            "text/plain": [
              "   a  b  c\n",
              "0  1  3  6\n",
              "1  2  4  7\n",
              "2  3  5  8"
            ]
          },
          "metadata": {
            "tags": []
          },
          "execution_count": 54
        }
      ]
    },
    {
      "cell_type": "markdown",
      "metadata": {
        "id": "ncgXq8sx5us5",
        "colab_type": "text"
      },
      "source": [
        "### Question 3\n",
        "\n",
        "Select second row in the above dataframe df1.\n",
        "\n"
      ]
    },
    {
      "cell_type": "code",
      "metadata": {
        "id": "xCcb0sUx5us8",
        "colab_type": "code",
        "colab": {
          "base_uri": "https://localhost:8080/",
          "height": 80
        },
        "outputId": "eafaa916-dcee-4a55-c5db-f44aa4714915"
      },
      "source": [
        "df1.iloc[1:2,:]"
      ],
      "execution_count": 55,
      "outputs": [
        {
          "output_type": "execute_result",
          "data": {
            "text/html": [
              "<div>\n",
              "<style scoped>\n",
              "    .dataframe tbody tr th:only-of-type {\n",
              "        vertical-align: middle;\n",
              "    }\n",
              "\n",
              "    .dataframe tbody tr th {\n",
              "        vertical-align: top;\n",
              "    }\n",
              "\n",
              "    .dataframe thead th {\n",
              "        text-align: right;\n",
              "    }\n",
              "</style>\n",
              "<table border=\"1\" class=\"dataframe\">\n",
              "  <thead>\n",
              "    <tr style=\"text-align: right;\">\n",
              "      <th></th>\n",
              "      <th>a</th>\n",
              "      <th>b</th>\n",
              "      <th>c</th>\n",
              "    </tr>\n",
              "  </thead>\n",
              "  <tbody>\n",
              "    <tr>\n",
              "      <th>1</th>\n",
              "      <td>2</td>\n",
              "      <td>4</td>\n",
              "      <td>7</td>\n",
              "    </tr>\n",
              "  </tbody>\n",
              "</table>\n",
              "</div>"
            ],
            "text/plain": [
              "   a  b  c\n",
              "1  2  4  7"
            ]
          },
          "metadata": {
            "tags": []
          },
          "execution_count": 55
        }
      ]
    },
    {
      "cell_type": "markdown",
      "metadata": {
        "id": "dCppqRsJ5us-",
        "colab_type": "text"
      },
      "source": [
        "### Question 4\n",
        "\n",
        "Select column c in second row of df1.\n",
        "\n",
        "[ **Hint: ** For using labels use **df.loc[row, column]**. For using numeric indexed use **df.iloc[]**. For using mixture of numeric indexes and labels use **df.ix[row, column]** ]\n",
        "\n"
      ]
    },
    {
      "cell_type": "code",
      "metadata": {
        "id": "BloOFUnK5us-",
        "colab_type": "code",
        "colab": {
          "base_uri": "https://localhost:8080/",
          "height": 34
        },
        "outputId": "2d3235c4-e9a6-4e66-bab5-c7141b4eb4a7"
      },
      "source": [
        "df1.loc[1,'c']"
      ],
      "execution_count": 58,
      "outputs": [
        {
          "output_type": "execute_result",
          "data": {
            "text/plain": [
              "7"
            ]
          },
          "metadata": {
            "tags": []
          },
          "execution_count": 58
        }
      ]
    },
    {
      "cell_type": "markdown",
      "metadata": {
        "id": "N2e_aDTi5utD",
        "colab_type": "text"
      },
      "source": [
        "## Using Dataframes on a dataset"
      ]
    },
    {
      "cell_type": "markdown",
      "metadata": {
        "id": "bSyLO1kf5utD",
        "colab_type": "text"
      },
      "source": [
        "##### Using the mtcars dataset.\n",
        "\n",
        "For the below set of questions, we will be using the cars data from [Motor Trend Car Road Tests](http://stat.ethz.ch/R-manual/R-devel/library/datasets/html/mtcars.html)\n",
        "\n",
        "The data was extracted from the 1974 Motor Trend US magazine, and comprises fuel consumption and 10 aspects of automobile design and performance for 32 automobiles (1973–74 models). \n",
        "\n",
        "\n",
        "Details :\n",
        "    \n",
        "A data frame with 32 observations on 11 (numeric) variables.\n",
        "\n",
        "[, 1] \tmpg \tMiles/(US) gallon\n",
        "\n",
        "[, 2] \tcyl \tNumber of cylinders\n",
        "\n",
        "[, 3] \tdisp \tDisplacement (cu.in.)\n",
        "\n",
        "[, 4] \thp \tGross horsepower\n",
        "\n",
        "[, 5] \tdrat \tRear axle ratio\n",
        "\n",
        "[, 6] \twt \tWeight (1000 lbs)\n",
        "\n",
        "[, 7] \tqsec \t1/4 mile time\n",
        "\n",
        "[, 8] \tvs \tEngine (0 = V-shaped, 1 = straight)\n",
        "\n",
        "[, 9] \tam \tTransmission (0 = automatic, 1 = manual)\n",
        "\n",
        "[,10] \tgear \tNumber of forward gears\n",
        "\n",
        "[,11] \tcarb \tNumber of carburetors "
      ]
    },
    {
      "cell_type": "code",
      "metadata": {
        "id": "becstIzc_QKw",
        "colab_type": "code",
        "colab": {
          "base_uri": "https://localhost:8080/",
          "height": 122
        },
        "outputId": "8c943695-5341-413a-fa0a-b6b45185895f"
      },
      "source": [
        "from google.colab import drive\n",
        "drive.mount('/gdrive')"
      ],
      "execution_count": 59,
      "outputs": [
        {
          "output_type": "stream",
          "text": [
            "Go to this URL in a browser: https://accounts.google.com/o/oauth2/auth?client_id=947318989803-6bn6qk8qdgf4n4g3pfee6491hc0brc4i.apps.googleusercontent.com&redirect_uri=urn%3aietf%3awg%3aoauth%3a2.0%3aoob&response_type=code&scope=email%20https%3a%2f%2fwww.googleapis.com%2fauth%2fdocs.test%20https%3a%2f%2fwww.googleapis.com%2fauth%2fdrive%20https%3a%2f%2fwww.googleapis.com%2fauth%2fdrive.photos.readonly%20https%3a%2f%2fwww.googleapis.com%2fauth%2fpeopleapi.readonly\n",
            "\n",
            "Enter your authorization code:\n",
            "··········\n",
            "Mounted at /gdrive\n"
          ],
          "name": "stdout"
        }
      ]
    },
    {
      "cell_type": "code",
      "metadata": {
        "id": "u7dsBCMp_Vl1",
        "colab_type": "code",
        "colab": {
          "base_uri": "https://localhost:8080/",
          "height": 34
        },
        "outputId": "49b3ee48-2873-4b65-b4a5-952dde9f874e"
      },
      "source": [
        "%cd /gdrive/My Drive/statistical_learning"
      ],
      "execution_count": 60,
      "outputs": [
        {
          "output_type": "stream",
          "text": [
            "/gdrive/My Drive/statistical_learning\n"
          ],
          "name": "stdout"
        }
      ]
    },
    {
      "cell_type": "code",
      "metadata": {
        "id": "GJlyHajX5utE",
        "colab_type": "code",
        "colab": {}
      },
      "source": [
        "## Reading a dataset from a csv file using pandas.\n",
        "mtcars = pd.read_csv('mtcars.csv')\n",
        "mtcars.index = mtcars['name']\n"
      ],
      "execution_count": 0,
      "outputs": []
    },
    {
      "cell_type": "code",
      "metadata": {
        "id": "z4EYc0Nf_Omq",
        "colab_type": "code",
        "colab": {}
      },
      "source": [
        ""
      ],
      "execution_count": 0,
      "outputs": []
    },
    {
      "cell_type": "markdown",
      "metadata": {
        "id": "jWXZaofm5utF",
        "colab_type": "text"
      },
      "source": [
        "Following questions are based on analysing a particular dataset using dataframes."
      ]
    },
    {
      "cell_type": "markdown",
      "metadata": {
        "id": "Q_s8eDCZ5utN",
        "colab_type": "text"
      },
      "source": [
        "### Question 5\n",
        "\n",
        "Check the type and dimensions of given dataset - mtcars.\n",
        "\n",
        "\n",
        "[ **Hint: ** Use **type()** and **df.shape** ]"
      ]
    },
    {
      "cell_type": "code",
      "metadata": {
        "id": "nadk9MyP5utO",
        "colab_type": "code",
        "colab": {
          "base_uri": "https://localhost:8080/",
          "height": 34
        },
        "outputId": "3ff1db02-cbdd-4f2d-f187-75bc3d3957de"
      },
      "source": [
        "mtcars.shape"
      ],
      "execution_count": 63,
      "outputs": [
        {
          "output_type": "execute_result",
          "data": {
            "text/plain": [
              "(32, 12)"
            ]
          },
          "metadata": {
            "tags": []
          },
          "execution_count": 63
        }
      ]
    },
    {
      "cell_type": "code",
      "metadata": {
        "id": "7esGYZ7F_iYv",
        "colab_type": "code",
        "colab": {
          "base_uri": "https://localhost:8080/",
          "height": 34
        },
        "outputId": "07146fb4-1874-47ed-ac8a-442149760741"
      },
      "source": [
        "type(mtcars)"
      ],
      "execution_count": 64,
      "outputs": [
        {
          "output_type": "execute_result",
          "data": {
            "text/plain": [
              "pandas.core.frame.DataFrame"
            ]
          },
          "metadata": {
            "tags": []
          },
          "execution_count": 64
        }
      ]
    },
    {
      "cell_type": "markdown",
      "metadata": {
        "id": "-ThEq_zd5utR",
        "colab_type": "text"
      },
      "source": [
        "### Question 6\n",
        "\n",
        "Check the first 10 lines and last 10 lines of the given dataset- mtcars.\n",
        "\n",
        "[**Hint:** Use **.head()** and **.tail()**]"
      ]
    },
    {
      "cell_type": "code",
      "metadata": {
        "id": "MKH7xAkb5utS",
        "colab_type": "code",
        "colab": {
          "base_uri": "https://localhost:8080/",
          "height": 390
        },
        "outputId": "6b6f6f1b-7f69-4edb-c431-e430cbe29e27"
      },
      "source": [
        "mtcars.head(10)"
      ],
      "execution_count": 65,
      "outputs": [
        {
          "output_type": "execute_result",
          "data": {
            "text/html": [
              "<div>\n",
              "<style scoped>\n",
              "    .dataframe tbody tr th:only-of-type {\n",
              "        vertical-align: middle;\n",
              "    }\n",
              "\n",
              "    .dataframe tbody tr th {\n",
              "        vertical-align: top;\n",
              "    }\n",
              "\n",
              "    .dataframe thead th {\n",
              "        text-align: right;\n",
              "    }\n",
              "</style>\n",
              "<table border=\"1\" class=\"dataframe\">\n",
              "  <thead>\n",
              "    <tr style=\"text-align: right;\">\n",
              "      <th></th>\n",
              "      <th>name</th>\n",
              "      <th>mpg</th>\n",
              "      <th>cyl</th>\n",
              "      <th>disp</th>\n",
              "      <th>hp</th>\n",
              "      <th>drat</th>\n",
              "      <th>wt</th>\n",
              "      <th>qsec</th>\n",
              "      <th>vs</th>\n",
              "      <th>am</th>\n",
              "      <th>gear</th>\n",
              "      <th>carb</th>\n",
              "    </tr>\n",
              "    <tr>\n",
              "      <th>name</th>\n",
              "      <th></th>\n",
              "      <th></th>\n",
              "      <th></th>\n",
              "      <th></th>\n",
              "      <th></th>\n",
              "      <th></th>\n",
              "      <th></th>\n",
              "      <th></th>\n",
              "      <th></th>\n",
              "      <th></th>\n",
              "      <th></th>\n",
              "      <th></th>\n",
              "    </tr>\n",
              "  </thead>\n",
              "  <tbody>\n",
              "    <tr>\n",
              "      <th>Mazda RX4</th>\n",
              "      <td>Mazda RX4</td>\n",
              "      <td>21.0</td>\n",
              "      <td>6</td>\n",
              "      <td>160.0</td>\n",
              "      <td>110</td>\n",
              "      <td>3.90</td>\n",
              "      <td>2.620</td>\n",
              "      <td>16.46</td>\n",
              "      <td>0</td>\n",
              "      <td>1</td>\n",
              "      <td>4</td>\n",
              "      <td>4</td>\n",
              "    </tr>\n",
              "    <tr>\n",
              "      <th>Mazda RX4 Wag</th>\n",
              "      <td>Mazda RX4 Wag</td>\n",
              "      <td>21.0</td>\n",
              "      <td>6</td>\n",
              "      <td>160.0</td>\n",
              "      <td>110</td>\n",
              "      <td>3.90</td>\n",
              "      <td>2.875</td>\n",
              "      <td>17.02</td>\n",
              "      <td>0</td>\n",
              "      <td>1</td>\n",
              "      <td>4</td>\n",
              "      <td>4</td>\n",
              "    </tr>\n",
              "    <tr>\n",
              "      <th>Datsun 710</th>\n",
              "      <td>Datsun 710</td>\n",
              "      <td>22.8</td>\n",
              "      <td>4</td>\n",
              "      <td>108.0</td>\n",
              "      <td>93</td>\n",
              "      <td>3.85</td>\n",
              "      <td>2.320</td>\n",
              "      <td>18.61</td>\n",
              "      <td>1</td>\n",
              "      <td>1</td>\n",
              "      <td>4</td>\n",
              "      <td>1</td>\n",
              "    </tr>\n",
              "    <tr>\n",
              "      <th>Hornet 4 Drive</th>\n",
              "      <td>Hornet 4 Drive</td>\n",
              "      <td>21.4</td>\n",
              "      <td>6</td>\n",
              "      <td>258.0</td>\n",
              "      <td>110</td>\n",
              "      <td>3.08</td>\n",
              "      <td>3.215</td>\n",
              "      <td>19.44</td>\n",
              "      <td>1</td>\n",
              "      <td>0</td>\n",
              "      <td>3</td>\n",
              "      <td>1</td>\n",
              "    </tr>\n",
              "    <tr>\n",
              "      <th>Hornet Sportabout</th>\n",
              "      <td>Hornet Sportabout</td>\n",
              "      <td>18.7</td>\n",
              "      <td>8</td>\n",
              "      <td>360.0</td>\n",
              "      <td>175</td>\n",
              "      <td>3.15</td>\n",
              "      <td>3.440</td>\n",
              "      <td>17.02</td>\n",
              "      <td>0</td>\n",
              "      <td>0</td>\n",
              "      <td>3</td>\n",
              "      <td>2</td>\n",
              "    </tr>\n",
              "    <tr>\n",
              "      <th>Valiant</th>\n",
              "      <td>Valiant</td>\n",
              "      <td>18.1</td>\n",
              "      <td>6</td>\n",
              "      <td>225.0</td>\n",
              "      <td>105</td>\n",
              "      <td>2.76</td>\n",
              "      <td>3.460</td>\n",
              "      <td>20.22</td>\n",
              "      <td>1</td>\n",
              "      <td>0</td>\n",
              "      <td>3</td>\n",
              "      <td>1</td>\n",
              "    </tr>\n",
              "    <tr>\n",
              "      <th>Duster 360</th>\n",
              "      <td>Duster 360</td>\n",
              "      <td>14.3</td>\n",
              "      <td>8</td>\n",
              "      <td>360.0</td>\n",
              "      <td>245</td>\n",
              "      <td>3.21</td>\n",
              "      <td>3.570</td>\n",
              "      <td>15.84</td>\n",
              "      <td>0</td>\n",
              "      <td>0</td>\n",
              "      <td>3</td>\n",
              "      <td>4</td>\n",
              "    </tr>\n",
              "    <tr>\n",
              "      <th>Merc 240D</th>\n",
              "      <td>Merc 240D</td>\n",
              "      <td>24.4</td>\n",
              "      <td>4</td>\n",
              "      <td>146.7</td>\n",
              "      <td>62</td>\n",
              "      <td>3.69</td>\n",
              "      <td>3.190</td>\n",
              "      <td>20.00</td>\n",
              "      <td>1</td>\n",
              "      <td>0</td>\n",
              "      <td>4</td>\n",
              "      <td>2</td>\n",
              "    </tr>\n",
              "    <tr>\n",
              "      <th>Merc 230</th>\n",
              "      <td>Merc 230</td>\n",
              "      <td>22.8</td>\n",
              "      <td>4</td>\n",
              "      <td>140.8</td>\n",
              "      <td>95</td>\n",
              "      <td>3.92</td>\n",
              "      <td>3.150</td>\n",
              "      <td>22.90</td>\n",
              "      <td>1</td>\n",
              "      <td>0</td>\n",
              "      <td>4</td>\n",
              "      <td>2</td>\n",
              "    </tr>\n",
              "    <tr>\n",
              "      <th>Merc 280</th>\n",
              "      <td>Merc 280</td>\n",
              "      <td>19.2</td>\n",
              "      <td>6</td>\n",
              "      <td>167.6</td>\n",
              "      <td>123</td>\n",
              "      <td>3.92</td>\n",
              "      <td>3.440</td>\n",
              "      <td>18.30</td>\n",
              "      <td>1</td>\n",
              "      <td>0</td>\n",
              "      <td>4</td>\n",
              "      <td>4</td>\n",
              "    </tr>\n",
              "  </tbody>\n",
              "</table>\n",
              "</div>"
            ],
            "text/plain": [
              "                                name   mpg  cyl   disp  ...  vs  am  gear  carb\n",
              "name                                                    ...                    \n",
              "Mazda RX4                  Mazda RX4  21.0    6  160.0  ...   0   1     4     4\n",
              "Mazda RX4 Wag          Mazda RX4 Wag  21.0    6  160.0  ...   0   1     4     4\n",
              "Datsun 710                Datsun 710  22.8    4  108.0  ...   1   1     4     1\n",
              "Hornet 4 Drive        Hornet 4 Drive  21.4    6  258.0  ...   1   0     3     1\n",
              "Hornet Sportabout  Hornet Sportabout  18.7    8  360.0  ...   0   0     3     2\n",
              "Valiant                      Valiant  18.1    6  225.0  ...   1   0     3     1\n",
              "Duster 360                Duster 360  14.3    8  360.0  ...   0   0     3     4\n",
              "Merc 240D                  Merc 240D  24.4    4  146.7  ...   1   0     4     2\n",
              "Merc 230                    Merc 230  22.8    4  140.8  ...   1   0     4     2\n",
              "Merc 280                    Merc 280  19.2    6  167.6  ...   1   0     4     4\n",
              "\n",
              "[10 rows x 12 columns]"
            ]
          },
          "metadata": {
            "tags": []
          },
          "execution_count": 65
        }
      ]
    },
    {
      "cell_type": "code",
      "metadata": {
        "id": "J1OCdJCe_oeb",
        "colab_type": "code",
        "colab": {
          "base_uri": "https://localhost:8080/",
          "height": 390
        },
        "outputId": "67dbea0e-460c-4bc8-da40-450d6c118aa0"
      },
      "source": [
        "mtcars.tail(10)"
      ],
      "execution_count": 66,
      "outputs": [
        {
          "output_type": "execute_result",
          "data": {
            "text/html": [
              "<div>\n",
              "<style scoped>\n",
              "    .dataframe tbody tr th:only-of-type {\n",
              "        vertical-align: middle;\n",
              "    }\n",
              "\n",
              "    .dataframe tbody tr th {\n",
              "        vertical-align: top;\n",
              "    }\n",
              "\n",
              "    .dataframe thead th {\n",
              "        text-align: right;\n",
              "    }\n",
              "</style>\n",
              "<table border=\"1\" class=\"dataframe\">\n",
              "  <thead>\n",
              "    <tr style=\"text-align: right;\">\n",
              "      <th></th>\n",
              "      <th>name</th>\n",
              "      <th>mpg</th>\n",
              "      <th>cyl</th>\n",
              "      <th>disp</th>\n",
              "      <th>hp</th>\n",
              "      <th>drat</th>\n",
              "      <th>wt</th>\n",
              "      <th>qsec</th>\n",
              "      <th>vs</th>\n",
              "      <th>am</th>\n",
              "      <th>gear</th>\n",
              "      <th>carb</th>\n",
              "    </tr>\n",
              "    <tr>\n",
              "      <th>name</th>\n",
              "      <th></th>\n",
              "      <th></th>\n",
              "      <th></th>\n",
              "      <th></th>\n",
              "      <th></th>\n",
              "      <th></th>\n",
              "      <th></th>\n",
              "      <th></th>\n",
              "      <th></th>\n",
              "      <th></th>\n",
              "      <th></th>\n",
              "      <th></th>\n",
              "    </tr>\n",
              "  </thead>\n",
              "  <tbody>\n",
              "    <tr>\n",
              "      <th>AMC Javelin</th>\n",
              "      <td>AMC Javelin</td>\n",
              "      <td>15.2</td>\n",
              "      <td>8</td>\n",
              "      <td>304.0</td>\n",
              "      <td>150</td>\n",
              "      <td>3.15</td>\n",
              "      <td>3.435</td>\n",
              "      <td>17.30</td>\n",
              "      <td>0</td>\n",
              "      <td>0</td>\n",
              "      <td>3</td>\n",
              "      <td>2</td>\n",
              "    </tr>\n",
              "    <tr>\n",
              "      <th>Camaro Z28</th>\n",
              "      <td>Camaro Z28</td>\n",
              "      <td>13.3</td>\n",
              "      <td>8</td>\n",
              "      <td>350.0</td>\n",
              "      <td>245</td>\n",
              "      <td>3.73</td>\n",
              "      <td>3.840</td>\n",
              "      <td>15.41</td>\n",
              "      <td>0</td>\n",
              "      <td>0</td>\n",
              "      <td>3</td>\n",
              "      <td>4</td>\n",
              "    </tr>\n",
              "    <tr>\n",
              "      <th>Pontiac Firebird</th>\n",
              "      <td>Pontiac Firebird</td>\n",
              "      <td>19.2</td>\n",
              "      <td>8</td>\n",
              "      <td>400.0</td>\n",
              "      <td>175</td>\n",
              "      <td>3.08</td>\n",
              "      <td>3.845</td>\n",
              "      <td>17.05</td>\n",
              "      <td>0</td>\n",
              "      <td>0</td>\n",
              "      <td>3</td>\n",
              "      <td>2</td>\n",
              "    </tr>\n",
              "    <tr>\n",
              "      <th>Fiat X1-9</th>\n",
              "      <td>Fiat X1-9</td>\n",
              "      <td>27.3</td>\n",
              "      <td>4</td>\n",
              "      <td>79.0</td>\n",
              "      <td>66</td>\n",
              "      <td>4.08</td>\n",
              "      <td>1.935</td>\n",
              "      <td>18.90</td>\n",
              "      <td>1</td>\n",
              "      <td>1</td>\n",
              "      <td>4</td>\n",
              "      <td>1</td>\n",
              "    </tr>\n",
              "    <tr>\n",
              "      <th>Porsche 914-2</th>\n",
              "      <td>Porsche 914-2</td>\n",
              "      <td>26.0</td>\n",
              "      <td>4</td>\n",
              "      <td>120.3</td>\n",
              "      <td>91</td>\n",
              "      <td>4.43</td>\n",
              "      <td>2.140</td>\n",
              "      <td>16.70</td>\n",
              "      <td>0</td>\n",
              "      <td>1</td>\n",
              "      <td>5</td>\n",
              "      <td>2</td>\n",
              "    </tr>\n",
              "    <tr>\n",
              "      <th>Lotus Europa</th>\n",
              "      <td>Lotus Europa</td>\n",
              "      <td>30.4</td>\n",
              "      <td>4</td>\n",
              "      <td>95.1</td>\n",
              "      <td>113</td>\n",
              "      <td>3.77</td>\n",
              "      <td>1.513</td>\n",
              "      <td>16.90</td>\n",
              "      <td>1</td>\n",
              "      <td>1</td>\n",
              "      <td>5</td>\n",
              "      <td>2</td>\n",
              "    </tr>\n",
              "    <tr>\n",
              "      <th>Ford Pantera L</th>\n",
              "      <td>Ford Pantera L</td>\n",
              "      <td>15.8</td>\n",
              "      <td>8</td>\n",
              "      <td>351.0</td>\n",
              "      <td>264</td>\n",
              "      <td>4.22</td>\n",
              "      <td>3.170</td>\n",
              "      <td>14.50</td>\n",
              "      <td>0</td>\n",
              "      <td>1</td>\n",
              "      <td>5</td>\n",
              "      <td>4</td>\n",
              "    </tr>\n",
              "    <tr>\n",
              "      <th>Ferrari Dino</th>\n",
              "      <td>Ferrari Dino</td>\n",
              "      <td>19.7</td>\n",
              "      <td>6</td>\n",
              "      <td>145.0</td>\n",
              "      <td>175</td>\n",
              "      <td>3.62</td>\n",
              "      <td>2.770</td>\n",
              "      <td>15.50</td>\n",
              "      <td>0</td>\n",
              "      <td>1</td>\n",
              "      <td>5</td>\n",
              "      <td>6</td>\n",
              "    </tr>\n",
              "    <tr>\n",
              "      <th>Maserati Bora</th>\n",
              "      <td>Maserati Bora</td>\n",
              "      <td>15.0</td>\n",
              "      <td>8</td>\n",
              "      <td>301.0</td>\n",
              "      <td>335</td>\n",
              "      <td>3.54</td>\n",
              "      <td>3.570</td>\n",
              "      <td>14.60</td>\n",
              "      <td>0</td>\n",
              "      <td>1</td>\n",
              "      <td>5</td>\n",
              "      <td>8</td>\n",
              "    </tr>\n",
              "    <tr>\n",
              "      <th>Volvo 142E</th>\n",
              "      <td>Volvo 142E</td>\n",
              "      <td>21.4</td>\n",
              "      <td>4</td>\n",
              "      <td>121.0</td>\n",
              "      <td>109</td>\n",
              "      <td>4.11</td>\n",
              "      <td>2.780</td>\n",
              "      <td>18.60</td>\n",
              "      <td>1</td>\n",
              "      <td>1</td>\n",
              "      <td>4</td>\n",
              "      <td>2</td>\n",
              "    </tr>\n",
              "  </tbody>\n",
              "</table>\n",
              "</div>"
            ],
            "text/plain": [
              "                              name   mpg  cyl   disp  ...  vs  am  gear  carb\n",
              "name                                                  ...                    \n",
              "AMC Javelin            AMC Javelin  15.2    8  304.0  ...   0   0     3     2\n",
              "Camaro Z28              Camaro Z28  13.3    8  350.0  ...   0   0     3     4\n",
              "Pontiac Firebird  Pontiac Firebird  19.2    8  400.0  ...   0   0     3     2\n",
              "Fiat X1-9                Fiat X1-9  27.3    4   79.0  ...   1   1     4     1\n",
              "Porsche 914-2        Porsche 914-2  26.0    4  120.3  ...   0   1     5     2\n",
              "Lotus Europa          Lotus Europa  30.4    4   95.1  ...   1   1     5     2\n",
              "Ford Pantera L      Ford Pantera L  15.8    8  351.0  ...   0   1     5     4\n",
              "Ferrari Dino          Ferrari Dino  19.7    6  145.0  ...   0   1     5     6\n",
              "Maserati Bora        Maserati Bora  15.0    8  301.0  ...   0   1     5     8\n",
              "Volvo 142E              Volvo 142E  21.4    4  121.0  ...   1   1     4     2\n",
              "\n",
              "[10 rows x 12 columns]"
            ]
          },
          "metadata": {
            "tags": []
          },
          "execution_count": 66
        }
      ]
    },
    {
      "cell_type": "markdown",
      "metadata": {
        "id": "pxQgwjpU5utU",
        "colab_type": "text"
      },
      "source": [
        "### Question 7\n",
        "\n",
        "Print all the column labels in the given dataset - mtcars.\n",
        "\n",
        "[ **Hint: ** Use **df.columns** ]"
      ]
    },
    {
      "cell_type": "code",
      "metadata": {
        "id": "t8eKrT_T5utV",
        "colab_type": "code",
        "colab": {
          "base_uri": "https://localhost:8080/",
          "height": 68
        },
        "outputId": "28927992-bb23-4c13-baa5-3a682d395616"
      },
      "source": [
        "mtcars.columns"
      ],
      "execution_count": 68,
      "outputs": [
        {
          "output_type": "execute_result",
          "data": {
            "text/plain": [
              "Index(['name', 'mpg', 'cyl', 'disp', 'hp', 'drat', 'wt', 'qsec', 'vs', 'am',\n",
              "       'gear', 'carb'],\n",
              "      dtype='object')"
            ]
          },
          "metadata": {
            "tags": []
          },
          "execution_count": 68
        }
      ]
    },
    {
      "cell_type": "markdown",
      "metadata": {
        "id": "071qQo1Q5utX",
        "colab_type": "text"
      },
      "source": [
        "### Question 8"
      ]
    },
    {
      "cell_type": "markdown",
      "metadata": {
        "id": "HCrFVIwe5utY",
        "colab_type": "text"
      },
      "source": [
        "Select first 6 rows and 3 columns in mtcars dataframe.\n",
        "\n",
        "**Hint: **  \n",
        "mtcars.ix[:,:] gives all rows and columns in the dataset."
      ]
    },
    {
      "cell_type": "code",
      "metadata": {
        "id": "CLc08Wgl5utZ",
        "colab_type": "code",
        "colab": {
          "base_uri": "https://localhost:8080/",
          "height": 266
        },
        "outputId": "69105f70-6eaa-4e3b-ea16-bbbbfd0c69ab"
      },
      "source": [
        "mtcars.iloc[:6, :3]"
      ],
      "execution_count": 70,
      "outputs": [
        {
          "output_type": "execute_result",
          "data": {
            "text/html": [
              "<div>\n",
              "<style scoped>\n",
              "    .dataframe tbody tr th:only-of-type {\n",
              "        vertical-align: middle;\n",
              "    }\n",
              "\n",
              "    .dataframe tbody tr th {\n",
              "        vertical-align: top;\n",
              "    }\n",
              "\n",
              "    .dataframe thead th {\n",
              "        text-align: right;\n",
              "    }\n",
              "</style>\n",
              "<table border=\"1\" class=\"dataframe\">\n",
              "  <thead>\n",
              "    <tr style=\"text-align: right;\">\n",
              "      <th></th>\n",
              "      <th>name</th>\n",
              "      <th>mpg</th>\n",
              "      <th>cyl</th>\n",
              "    </tr>\n",
              "    <tr>\n",
              "      <th>name</th>\n",
              "      <th></th>\n",
              "      <th></th>\n",
              "      <th></th>\n",
              "    </tr>\n",
              "  </thead>\n",
              "  <tbody>\n",
              "    <tr>\n",
              "      <th>Mazda RX4</th>\n",
              "      <td>Mazda RX4</td>\n",
              "      <td>21.0</td>\n",
              "      <td>6</td>\n",
              "    </tr>\n",
              "    <tr>\n",
              "      <th>Mazda RX4 Wag</th>\n",
              "      <td>Mazda RX4 Wag</td>\n",
              "      <td>21.0</td>\n",
              "      <td>6</td>\n",
              "    </tr>\n",
              "    <tr>\n",
              "      <th>Datsun 710</th>\n",
              "      <td>Datsun 710</td>\n",
              "      <td>22.8</td>\n",
              "      <td>4</td>\n",
              "    </tr>\n",
              "    <tr>\n",
              "      <th>Hornet 4 Drive</th>\n",
              "      <td>Hornet 4 Drive</td>\n",
              "      <td>21.4</td>\n",
              "      <td>6</td>\n",
              "    </tr>\n",
              "    <tr>\n",
              "      <th>Hornet Sportabout</th>\n",
              "      <td>Hornet Sportabout</td>\n",
              "      <td>18.7</td>\n",
              "      <td>8</td>\n",
              "    </tr>\n",
              "    <tr>\n",
              "      <th>Valiant</th>\n",
              "      <td>Valiant</td>\n",
              "      <td>18.1</td>\n",
              "      <td>6</td>\n",
              "    </tr>\n",
              "  </tbody>\n",
              "</table>\n",
              "</div>"
            ],
            "text/plain": [
              "                                name   mpg  cyl\n",
              "name                                           \n",
              "Mazda RX4                  Mazda RX4  21.0    6\n",
              "Mazda RX4 Wag          Mazda RX4 Wag  21.0    6\n",
              "Datsun 710                Datsun 710  22.8    4\n",
              "Hornet 4 Drive        Hornet 4 Drive  21.4    6\n",
              "Hornet Sportabout  Hornet Sportabout  18.7    8\n",
              "Valiant                      Valiant  18.1    6"
            ]
          },
          "metadata": {
            "tags": []
          },
          "execution_count": 70
        }
      ]
    },
    {
      "cell_type": "markdown",
      "metadata": {
        "id": "6wmqVT5x5uta",
        "colab_type": "text"
      },
      "source": [
        "## Lab Brief - Statistical Learning with Python"
      ]
    },
    {
      "cell_type": "markdown",
      "metadata": {
        "id": "LD1fK9ny5utb",
        "colab_type": "text"
      },
      "source": [
        "### Part-1"
      ]
    },
    {
      "cell_type": "markdown",
      "metadata": {
        "id": "3f8UrHam5utb",
        "colab_type": "text"
      },
      "source": [
        "## Measures of Data"
      ]
    },
    {
      "cell_type": "markdown",
      "metadata": {
        "id": "LxgixQq85utc",
        "colab_type": "text"
      },
      "source": [
        "Descriptive Statistcs are measures that summarize important features of data. Producing these descriptive statistics is a common first step to take after cleaning and preparing a dataset for further analysis. Examples are like calculating Mean or Median. In this lab, we will be looking into some of these functions and explore several new ones."
      ]
    },
    {
      "cell_type": "markdown",
      "metadata": {
        "id": "r2XHJJfR5utc",
        "colab_type": "text"
      },
      "source": [
        "#### Measures of Central Tendency"
      ]
    },
    {
      "cell_type": "markdown",
      "metadata": {
        "id": "uhxA6lm_5utd",
        "colab_type": "text"
      },
      "source": [
        "Whenever you measure things of the same kind, a fairly large number of such measurements will tend to cluster around the middle value. Such a value is called a measure of \"Central Tendency\". The other terms that are used synonymously are \"Measures of Location\", or \"Statistical Averages\". "
      ]
    },
    {
      "cell_type": "code",
      "metadata": {
        "id": "XoXzpsUh5utd",
        "colab_type": "code",
        "colab": {}
      },
      "source": [
        "import numpy as np\n",
        "import pandas as pd\n",
        "import matplotlib.pyplot as plt\n",
        "\n",
        "mtcars = pd.read_csv('mtcars.csv')"
      ],
      "execution_count": 0,
      "outputs": []
    },
    {
      "cell_type": "markdown",
      "metadata": {
        "id": "k_zhUQ8A5ute",
        "colab_type": "text"
      },
      "source": [
        "##### Using the mtcars dataset.\n",
        "\n",
        "For the below set of questions, we will be using the cars data from [Motor Trend Car Road Tests](http://stat.ethz.ch/R-manual/R-devel/library/datasets/html/mtcars.html)\n",
        "\n",
        "The data was extracted from the 1974 Motor Trend US magazine, and comprises fuel consumption and 10 aspects of automobile design and performance for 32 automobiles (1973–74 models). \n",
        "\n",
        "\n",
        "Details :\n",
        "    \n",
        "A data frame with 32 observations on 11 (numeric) variables.\n",
        "\n",
        "[, 1] \tmpg \tMiles/(US) gallon\n",
        "\n",
        "[, 2] \tcyl \tNumber of cylinders\n",
        "\n",
        "[, 3] \tdisp \tDisplacement (cu.in.)\n",
        "\n",
        "[, 4] \thp \tGross horsepower\n",
        "\n",
        "[, 5] \tdrat \tRear axle ratio\n",
        "\n",
        "[, 6] \twt \tWeight (1000 lbs)\n",
        "\n",
        "[, 7] \tqsec \t1/4 mile time\n",
        "\n",
        "[, 8] \tvs \tEngine (0 = V-shaped, 1 = straight)\n",
        "\n",
        "[, 9] \tam \tTransmission (0 = automatic, 1 = manual)\n",
        "\n",
        "[,10] \tgear \tNumber of forward gears\n",
        "\n",
        "[,11] \tcarb \tNumber of carburetors "
      ]
    },
    {
      "cell_type": "markdown",
      "metadata": {
        "id": "BUedKtXI5utf",
        "colab_type": "text"
      },
      "source": [
        "#### Explore the data - Setting the index"
      ]
    },
    {
      "cell_type": "code",
      "metadata": {
        "id": "QUfHi4Ac5utf",
        "colab_type": "code",
        "colab": {
          "base_uri": "https://localhost:8080/",
          "height": 235
        },
        "outputId": "cb9d608c-1e4c-456c-90fe-3e1259813b64"
      },
      "source": [
        "# mtcars.index = mtcars[\"name\"]\n",
        "mtcars.head()\n",
        "# mtcars.mean() #By default this will give the mean of each column"
      ],
      "execution_count": 88,
      "outputs": [
        {
          "output_type": "execute_result",
          "data": {
            "text/html": [
              "<div>\n",
              "<style scoped>\n",
              "    .dataframe tbody tr th:only-of-type {\n",
              "        vertical-align: middle;\n",
              "    }\n",
              "\n",
              "    .dataframe tbody tr th {\n",
              "        vertical-align: top;\n",
              "    }\n",
              "\n",
              "    .dataframe thead th {\n",
              "        text-align: right;\n",
              "    }\n",
              "</style>\n",
              "<table border=\"1\" class=\"dataframe\">\n",
              "  <thead>\n",
              "    <tr style=\"text-align: right;\">\n",
              "      <th></th>\n",
              "      <th>name</th>\n",
              "      <th>mpg</th>\n",
              "      <th>cyl</th>\n",
              "      <th>disp</th>\n",
              "      <th>hp</th>\n",
              "      <th>drat</th>\n",
              "      <th>wt</th>\n",
              "      <th>qsec</th>\n",
              "      <th>vs</th>\n",
              "      <th>am</th>\n",
              "      <th>gear</th>\n",
              "      <th>carb</th>\n",
              "    </tr>\n",
              "    <tr>\n",
              "      <th>name</th>\n",
              "      <th></th>\n",
              "      <th></th>\n",
              "      <th></th>\n",
              "      <th></th>\n",
              "      <th></th>\n",
              "      <th></th>\n",
              "      <th></th>\n",
              "      <th></th>\n",
              "      <th></th>\n",
              "      <th></th>\n",
              "      <th></th>\n",
              "      <th></th>\n",
              "    </tr>\n",
              "  </thead>\n",
              "  <tbody>\n",
              "    <tr>\n",
              "      <th>Mazda RX4</th>\n",
              "      <td>Mazda RX4</td>\n",
              "      <td>21.0</td>\n",
              "      <td>6</td>\n",
              "      <td>160.0</td>\n",
              "      <td>110</td>\n",
              "      <td>3.90</td>\n",
              "      <td>2.620</td>\n",
              "      <td>16.46</td>\n",
              "      <td>0</td>\n",
              "      <td>1</td>\n",
              "      <td>4</td>\n",
              "      <td>4</td>\n",
              "    </tr>\n",
              "    <tr>\n",
              "      <th>Mazda RX4 Wag</th>\n",
              "      <td>Mazda RX4 Wag</td>\n",
              "      <td>21.0</td>\n",
              "      <td>6</td>\n",
              "      <td>160.0</td>\n",
              "      <td>110</td>\n",
              "      <td>3.90</td>\n",
              "      <td>2.875</td>\n",
              "      <td>17.02</td>\n",
              "      <td>0</td>\n",
              "      <td>1</td>\n",
              "      <td>4</td>\n",
              "      <td>4</td>\n",
              "    </tr>\n",
              "    <tr>\n",
              "      <th>Datsun 710</th>\n",
              "      <td>Datsun 710</td>\n",
              "      <td>22.8</td>\n",
              "      <td>4</td>\n",
              "      <td>108.0</td>\n",
              "      <td>93</td>\n",
              "      <td>3.85</td>\n",
              "      <td>2.320</td>\n",
              "      <td>18.61</td>\n",
              "      <td>1</td>\n",
              "      <td>1</td>\n",
              "      <td>4</td>\n",
              "      <td>1</td>\n",
              "    </tr>\n",
              "    <tr>\n",
              "      <th>Hornet 4 Drive</th>\n",
              "      <td>Hornet 4 Drive</td>\n",
              "      <td>21.4</td>\n",
              "      <td>6</td>\n",
              "      <td>258.0</td>\n",
              "      <td>110</td>\n",
              "      <td>3.08</td>\n",
              "      <td>3.215</td>\n",
              "      <td>19.44</td>\n",
              "      <td>1</td>\n",
              "      <td>0</td>\n",
              "      <td>3</td>\n",
              "      <td>1</td>\n",
              "    </tr>\n",
              "    <tr>\n",
              "      <th>Hornet Sportabout</th>\n",
              "      <td>Hornet Sportabout</td>\n",
              "      <td>18.7</td>\n",
              "      <td>8</td>\n",
              "      <td>360.0</td>\n",
              "      <td>175</td>\n",
              "      <td>3.15</td>\n",
              "      <td>3.440</td>\n",
              "      <td>17.02</td>\n",
              "      <td>0</td>\n",
              "      <td>0</td>\n",
              "      <td>3</td>\n",
              "      <td>2</td>\n",
              "    </tr>\n",
              "  </tbody>\n",
              "</table>\n",
              "</div>"
            ],
            "text/plain": [
              "                                name   mpg  cyl   disp  ...  vs  am  gear  carb\n",
              "name                                                    ...                    \n",
              "Mazda RX4                  Mazda RX4  21.0    6  160.0  ...   0   1     4     4\n",
              "Mazda RX4 Wag          Mazda RX4 Wag  21.0    6  160.0  ...   0   1     4     4\n",
              "Datsun 710                Datsun 710  22.8    4  108.0  ...   1   1     4     1\n",
              "Hornet 4 Drive        Hornet 4 Drive  21.4    6  258.0  ...   1   0     3     1\n",
              "Hornet Sportabout  Hornet Sportabout  18.7    8  360.0  ...   0   0     3     2\n",
              "\n",
              "[5 rows x 12 columns]"
            ]
          },
          "metadata": {
            "tags": []
          },
          "execution_count": 88
        }
      ]
    },
    {
      "cell_type": "markdown",
      "metadata": {
        "id": "F-jCZcYH5utg",
        "colab_type": "text"
      },
      "source": [
        "### Question 1\n",
        "\n",
        "What is the first car name given in mtcars?\n",
        "\n",
        "** Make use of index which has been set previously **\n",
        "\n",
        "**Hint**: Use .loc function\n"
      ]
    },
    {
      "cell_type": "code",
      "metadata": {
        "scrolled": true,
        "id": "GgLFQTJY5uth",
        "colab_type": "code",
        "colab": {
          "base_uri": "https://localhost:8080/",
          "height": 34
        },
        "outputId": "8d35851d-92fa-41f3-b29e-015c24920d14"
      },
      "source": [
        "mtcars.loc[: ,  'name'][0]"
      ],
      "execution_count": 90,
      "outputs": [
        {
          "output_type": "execute_result",
          "data": {
            "text/plain": [
              "'Mazda RX4'"
            ]
          },
          "metadata": {
            "tags": []
          },
          "execution_count": 90
        }
      ]
    },
    {
      "cell_type": "markdown",
      "metadata": {
        "id": "eFDI0gos5uti",
        "colab_type": "text"
      },
      "source": [
        "### Question 2\n",
        "What is the highest difference between the hp and cyl?\n",
        "\n",
        "**Hint:** You can use **max()** function to find the difference"
      ]
    },
    {
      "cell_type": "code",
      "metadata": {
        "id": "1uv9ieNd5uti",
        "colab_type": "code",
        "colab": {
          "base_uri": "https://localhost:8080/",
          "height": 34
        },
        "outputId": "07d5ba9f-1840-4dea-f590-31e2912bd5dd"
      },
      "source": [
        "max_dfs = mtcars['hp'] - mtcars['cyl']\n",
        "max_dfs.max()"
      ],
      "execution_count": 77,
      "outputs": [
        {
          "output_type": "execute_result",
          "data": {
            "text/plain": [
              "327"
            ]
          },
          "metadata": {
            "tags": []
          },
          "execution_count": 77
        }
      ]
    },
    {
      "cell_type": "markdown",
      "metadata": {
        "id": "knRcRMMl5utl",
        "colab_type": "text"
      },
      "source": [
        "### Question 3\n",
        "What are the cars having highest weight(wt) and lowest weight(wt)?\n",
        "\n",
        "**Hint:** Use idxmax() and idxmin() to locate the row\n",
        "\n",
        "Use **.iloc** function to print the  row\n",
        "\n",
        "**Note:** Both idxmax and idxmin belong to pandas"
      ]
    },
    {
      "cell_type": "code",
      "metadata": {
        "id": "yAWKQwle5utl",
        "colab_type": "code",
        "colab": {
          "base_uri": "https://localhost:8080/",
          "height": 80
        },
        "outputId": "d0d909d3-4c66-4bc5-abf8-842ef6c2b68b"
      },
      "source": [
        "idx = mtcars['wt'].idxmin()\n",
        "mtcars.iloc[idx:idx+1]"
      ],
      "execution_count": 91,
      "outputs": [
        {
          "output_type": "execute_result",
          "data": {
            "text/html": [
              "<div>\n",
              "<style scoped>\n",
              "    .dataframe tbody tr th:only-of-type {\n",
              "        vertical-align: middle;\n",
              "    }\n",
              "\n",
              "    .dataframe tbody tr th {\n",
              "        vertical-align: top;\n",
              "    }\n",
              "\n",
              "    .dataframe thead th {\n",
              "        text-align: right;\n",
              "    }\n",
              "</style>\n",
              "<table border=\"1\" class=\"dataframe\">\n",
              "  <thead>\n",
              "    <tr style=\"text-align: right;\">\n",
              "      <th></th>\n",
              "      <th>name</th>\n",
              "      <th>mpg</th>\n",
              "      <th>cyl</th>\n",
              "      <th>disp</th>\n",
              "      <th>hp</th>\n",
              "      <th>drat</th>\n",
              "      <th>wt</th>\n",
              "      <th>qsec</th>\n",
              "      <th>vs</th>\n",
              "      <th>am</th>\n",
              "      <th>gear</th>\n",
              "      <th>carb</th>\n",
              "    </tr>\n",
              "  </thead>\n",
              "  <tbody>\n",
              "    <tr>\n",
              "      <th>27</th>\n",
              "      <td>Lotus Europa</td>\n",
              "      <td>30.4</td>\n",
              "      <td>4</td>\n",
              "      <td>95.1</td>\n",
              "      <td>113</td>\n",
              "      <td>3.77</td>\n",
              "      <td>1.513</td>\n",
              "      <td>16.9</td>\n",
              "      <td>1</td>\n",
              "      <td>1</td>\n",
              "      <td>5</td>\n",
              "      <td>2</td>\n",
              "    </tr>\n",
              "  </tbody>\n",
              "</table>\n",
              "</div>"
            ],
            "text/plain": [
              "            name   mpg  cyl  disp   hp  drat     wt  qsec  vs  am  gear  carb\n",
              "27  Lotus Europa  30.4    4  95.1  113  3.77  1.513  16.9   1   1     5     2"
            ]
          },
          "metadata": {
            "tags": []
          },
          "execution_count": 91
        }
      ]
    },
    {
      "cell_type": "code",
      "metadata": {
        "id": "5iJ3pujd5utn",
        "colab_type": "code",
        "colab": {
          "base_uri": "https://localhost:8080/",
          "height": 80
        },
        "outputId": "afed45de-ae2e-4d96-b8d4-7bcbb9459fcf"
      },
      "source": [
        "idx = mtcars['wt'].idxmax()\n",
        "mtcars.iloc[idx:idx+1]"
      ],
      "execution_count": 92,
      "outputs": [
        {
          "output_type": "execute_result",
          "data": {
            "text/html": [
              "<div>\n",
              "<style scoped>\n",
              "    .dataframe tbody tr th:only-of-type {\n",
              "        vertical-align: middle;\n",
              "    }\n",
              "\n",
              "    .dataframe tbody tr th {\n",
              "        vertical-align: top;\n",
              "    }\n",
              "\n",
              "    .dataframe thead th {\n",
              "        text-align: right;\n",
              "    }\n",
              "</style>\n",
              "<table border=\"1\" class=\"dataframe\">\n",
              "  <thead>\n",
              "    <tr style=\"text-align: right;\">\n",
              "      <th></th>\n",
              "      <th>name</th>\n",
              "      <th>mpg</th>\n",
              "      <th>cyl</th>\n",
              "      <th>disp</th>\n",
              "      <th>hp</th>\n",
              "      <th>drat</th>\n",
              "      <th>wt</th>\n",
              "      <th>qsec</th>\n",
              "      <th>vs</th>\n",
              "      <th>am</th>\n",
              "      <th>gear</th>\n",
              "      <th>carb</th>\n",
              "    </tr>\n",
              "  </thead>\n",
              "  <tbody>\n",
              "    <tr>\n",
              "      <th>15</th>\n",
              "      <td>Lincoln Continental</td>\n",
              "      <td>10.4</td>\n",
              "      <td>8</td>\n",
              "      <td>460.0</td>\n",
              "      <td>215</td>\n",
              "      <td>3.0</td>\n",
              "      <td>5.424</td>\n",
              "      <td>17.82</td>\n",
              "      <td>0</td>\n",
              "      <td>0</td>\n",
              "      <td>3</td>\n",
              "      <td>4</td>\n",
              "    </tr>\n",
              "  </tbody>\n",
              "</table>\n",
              "</div>"
            ],
            "text/plain": [
              "                   name   mpg  cyl   disp   hp  ...   qsec  vs  am  gear  carb\n",
              "15  Lincoln Continental  10.4    8  460.0  215  ...  17.82   0   0     3     4\n",
              "\n",
              "[1 rows x 12 columns]"
            ]
          },
          "metadata": {
            "tags": []
          },
          "execution_count": 92
        }
      ]
    },
    {
      "cell_type": "markdown",
      "metadata": {
        "id": "88oXnPR75uty",
        "colab_type": "text"
      },
      "source": [
        "### Question 4\n",
        "\n",
        "Find the mean of each row and each column in the given dataset.\n",
        "\n",
        "**Hint:** Use .mean() function. To operate on rows use **axis=0**, on columns use **axis=1**"
      ]
    },
    {
      "cell_type": "code",
      "metadata": {
        "id": "GNLNh6oj5utz",
        "colab_type": "code",
        "colab": {
          "base_uri": "https://localhost:8080/",
          "height": 221
        },
        "outputId": "39cb1761-49aa-4316-c84c-f89d2b9db260"
      },
      "source": [
        "mtcars.mean(axis=0)"
      ],
      "execution_count": 93,
      "outputs": [
        {
          "output_type": "execute_result",
          "data": {
            "text/plain": [
              "mpg      20.090625\n",
              "cyl       6.187500\n",
              "disp    230.721875\n",
              "hp      146.687500\n",
              "drat      3.596563\n",
              "wt        3.217250\n",
              "qsec     17.848750\n",
              "vs        0.437500\n",
              "am        0.406250\n",
              "gear      3.687500\n",
              "carb      2.812500\n",
              "dtype: float64"
            ]
          },
          "metadata": {
            "tags": []
          },
          "execution_count": 93
        }
      ]
    },
    {
      "cell_type": "code",
      "metadata": {
        "id": "w0uFdUlhCPcB",
        "colab_type": "code",
        "colab": {
          "base_uri": "https://localhost:8080/",
          "height": 578
        },
        "outputId": "b50946ef-cb43-4543-a7b8-a821ab764810"
      },
      "source": [
        "mtcars.mean(axis=1)"
      ],
      "execution_count": 94,
      "outputs": [
        {
          "output_type": "execute_result",
          "data": {
            "text/plain": [
              "0     29.907273\n",
              "1     29.981364\n",
              "2     23.598182\n",
              "3     38.739545\n",
              "4     53.664545\n",
              "5     35.049091\n",
              "6     59.720000\n",
              "7     24.634545\n",
              "8     27.233636\n",
              "9     31.860000\n",
              "10    31.787273\n",
              "11    46.430909\n",
              "12    46.500000\n",
              "13    46.350000\n",
              "14    66.232727\n",
              "15    66.058545\n",
              "16    65.972273\n",
              "17    19.440909\n",
              "18    17.742273\n",
              "19    18.814091\n",
              "20    24.888636\n",
              "21    47.240909\n",
              "22    46.007727\n",
              "23    58.752727\n",
              "24    57.379545\n",
              "25    18.928636\n",
              "26    24.779091\n",
              "27    24.880273\n",
              "28    60.971818\n",
              "29    34.508182\n",
              "30    63.155455\n",
              "31    26.262727\n",
              "dtype: float64"
            ]
          },
          "metadata": {
            "tags": []
          },
          "execution_count": 94
        }
      ]
    },
    {
      "cell_type": "markdown",
      "metadata": {
        "id": "bli3powv5ut0",
        "colab_type": "text"
      },
      "source": [
        "### Question 5\n",
        "\n",
        "Plot mpg values of mtcards dataframe using matplotlib.\n",
        "\n",
        "**Hint: Use plt.plot function**"
      ]
    },
    {
      "cell_type": "code",
      "metadata": {
        "id": "Juh1dQ9u5ut1",
        "colab_type": "code",
        "colab": {
          "base_uri": "https://localhost:8080/",
          "height": 271
        },
        "outputId": "b787b8a3-9494-4b37-e1ea-b3c01667c5ad"
      },
      "source": [
        "f = plt.plot(mtcars['mpg'])\n",
        "f = plt.xticks(rotation=90)"
      ],
      "execution_count": 95,
      "outputs": [
        {
          "output_type": "display_data",
          "data": {
            "image/png": "[encoded data removed]",
            "text/plain": [
              "<Figure size 432x288 with 1 Axes>"
            ]
          },
          "metadata": {
            "tags": []
          }
        }
      ]
    },
    {
      "cell_type": "markdown",
      "metadata": {
        "id": "OmVn9zXp5ut2",
        "colab_type": "text"
      },
      "source": [
        "## Part 2"
      ]
    },
    {
      "cell_type": "markdown",
      "metadata": {
        "id": "euVxQW4v5ut4",
        "colab_type": "text"
      },
      "source": [
        "## Measures of Dispersion"
      ]
    },
    {
      "cell_type": "markdown",
      "metadata": {
        "id": "iFaoh_7I5ut4",
        "colab_type": "text"
      },
      "source": [
        "Measures of Dispersion (Spread) are statistics that describe how data varies. Measure of dispersion gives us the sense of how much the data tends to diverge from the central tendency."
      ]
    },
    {
      "cell_type": "markdown",
      "metadata": {
        "id": "PLfu5Li15ut5",
        "colab_type": "text"
      },
      "source": [
        "### Question 6\n",
        "\n",
        "What the range of `mpg` in the given dataset?\n",
        "\n",
        "**Hint:** Range = max-min"
      ]
    },
    {
      "cell_type": "code",
      "metadata": {
        "id": "TXFHL3Uh5ut5",
        "colab_type": "code",
        "colab": {
          "base_uri": "https://localhost:8080/",
          "height": 34
        },
        "outputId": "ab7a110c-e149-4275-cd1a-0806117962f4"
      },
      "source": [
        "mtcars.mpg.max() - mtcars.mpg.min()"
      ],
      "execution_count": 96,
      "outputs": [
        {
          "output_type": "execute_result",
          "data": {
            "text/plain": [
              "23.5"
            ]
          },
          "metadata": {
            "tags": []
          },
          "execution_count": 96
        }
      ]
    },
    {
      "cell_type": "markdown",
      "metadata": {
        "id": "Z1trDxPA5ut9",
        "colab_type": "text"
      },
      "source": [
        "### Question 7\n",
        "\n",
        "Calculate the 25th quantile (lower quantile)for `mpg` in the given dataset.\n",
        "\n",
        "**Hint:** Use **.quantile()**"
      ]
    },
    {
      "cell_type": "code",
      "metadata": {
        "id": "qrinFdHp5ut-",
        "colab_type": "code",
        "colab": {}
      },
      "source": [
        "q25 = mtcars.mpg.quantile(0.25)"
      ],
      "execution_count": 0,
      "outputs": []
    },
    {
      "cell_type": "code",
      "metadata": {
        "id": "Zq-vPfooCvDz",
        "colab_type": "code",
        "colab": {
          "base_uri": "https://localhost:8080/",
          "height": 34
        },
        "outputId": "83889537-6245-455a-b6df-58390571bd43"
      },
      "source": [
        "print(q25)"
      ],
      "execution_count": 100,
      "outputs": [
        {
          "output_type": "stream",
          "text": [
            "15.425\n"
          ],
          "name": "stdout"
        }
      ]
    },
    {
      "cell_type": "markdown",
      "metadata": {
        "id": "AiNsXe3-5ut_",
        "colab_type": "text"
      },
      "source": [
        "### Question 8\n",
        "\n",
        "Calculate the Inter-Quartile Range(IQR) for `mpg` in the given dataset."
      ]
    },
    {
      "cell_type": "markdown",
      "metadata": {
        "id": "uvndgMJn5ut_",
        "colab_type": "text"
      },
      "source": [
        "Interquartile range (IQR) is another common measure of spread. IQR is the distance between the 3rd quartile and the 1st quartile.\n",
        "\n",
        "**Hint:** IQR = Q3 - Q1"
      ]
    },
    {
      "cell_type": "code",
      "metadata": {
        "id": "iUTdT69b5ut_",
        "colab_type": "code",
        "colab": {
          "base_uri": "https://localhost:8080/",
          "height": 34
        },
        "outputId": "717ee0f6-c0ea-4a61-8b84-97bb38706cc0"
      },
      "source": [
        "q75 = mtcars.mpg.quantile(0.75)\n",
        "print(q75-q25)"
      ],
      "execution_count": 102,
      "outputs": [
        {
          "output_type": "stream",
          "text": [
            "7.375\n"
          ],
          "name": "stdout"
        }
      ]
    },
    {
      "cell_type": "markdown",
      "metadata": {
        "id": "AEoDvblj5uuA",
        "colab_type": "text"
      },
      "source": [
        "### Question 9\n",
        "\n",
        "Calculate the Variance, Standard Deviation and Median Absolute Deviation for `mpg`."
      ]
    },
    {
      "cell_type": "markdown",
      "metadata": {
        "id": "oAYWoSzt5uuB",
        "colab_type": "text"
      },
      "source": [
        "Variance and Standard Deviation are two other common measure of dispersion.\n",
        "\n",
        "**Hint:** Use .var() and .std()"
      ]
    },
    {
      "cell_type": "markdown",
      "metadata": {
        "id": "wpf-PNOy5uuB",
        "colab_type": "text"
      },
      "source": [
        "**Hint:** Median Absolute Deviation - alternative measure of spread based on the median. It is the median of the absolute value of the deviations from the median. "
      ]
    },
    {
      "cell_type": "code",
      "metadata": {
        "id": "x2t8sbPX5uuC",
        "colab_type": "code",
        "colab": {
          "base_uri": "https://localhost:8080/",
          "height": 85
        },
        "outputId": "b4909fdf-b236-4379-df51-b2119a3dd5d5"
      },
      "source": [
        "var = mtcars.mpg.var()\n",
        "print(var)\n",
        "\n",
        "std = mtcars.mpg.std()\n",
        "print(std)\n",
        "\n",
        "def median_abs_deviation(arr):\n",
        "    sub = arr - arr.median()\n",
        "    return sub.abs().median()\n",
        "\n",
        "print(\"Median absolute deviation = \", median_abs_deviation(mtcars.mpg))\n",
        "print(\"Mean absolute deviation = \", mtcars.mpg.mad())"
      ],
      "execution_count": 103,
      "outputs": [
        {
          "output_type": "stream",
          "text": [
            "36.32410282258065\n",
            "6.026948052089105\n",
            "Median absolute deviation =  3.6500000000000004\n",
            "Mean absolute deviation =  4.714453125\n"
          ],
          "name": "stdout"
        }
      ]
    },
    {
      "cell_type": "code",
      "metadata": {
        "id": "Fp10OXk6DKWv",
        "colab_type": "code",
        "colab": {}
      },
      "source": [
        ""
      ],
      "execution_count": 0,
      "outputs": []
    }
  ]
}