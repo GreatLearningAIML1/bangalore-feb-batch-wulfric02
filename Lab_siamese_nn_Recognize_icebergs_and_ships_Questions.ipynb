{
  "nbformat": 4,
  "nbformat_minor": 0,
  "metadata": {
    "kernelspec": {
      "display_name": "Python 3",
      "language": "python",
      "name": "python3"
    },
    "language_info": {
      "codemirror_mode": {
        "name": "ipython",
        "version": 3
      },
      "file_extension": ".py",
      "mimetype": "text/x-python",
      "name": "python",
      "nbconvert_exporter": "python",
      "pygments_lexer": "ipython3",
      "version": "3.6.8"
    },
    "colab": {
      "name": "Lab-siamese-nn-Recognize icebergs and ships-Questions.ipynb",
      "provenance": []
    }
  },
  "cells": [
    {
      "cell_type": "markdown",
      "metadata": {
        "_cell_guid": "608e43e3-8699-4299-9d18-9e9a6a3dd9bf",
        "_uuid": "434ffd54c774edd4e8b851ab0a4b6675425e46da",
        "id": "2lk18oMELIKl",
        "colab_type": "text"
      },
      "source": [
        "# Siamese Neural Networks\n",
        "Recognize images of icebergs from images of ships. \n",
        "These images were taken from space with a Sentinel-4 satellite. The goal was to create the most accurate neural network to differentiate them. However, neural networks usually only work well with A LOT of data, and I constrained you guys to 1000 examples to train on. That seems like a lot, but a CONVENTIONAL neural network needs more data. However, we are going to make a special kind of neural network: *Siamese Network*. This special network is used for face recognition and few-shot learning(learning from few examples). Let's get started by importing the usual liraries:"
      ]
    },
    {
      "cell_type": "code",
      "metadata": {
        "_cell_guid": "b1076dfc-b9ad-4769-8c92-a6c4dae69d19",
        "_uuid": "8f2839f25d086af736a60e9eeb907d3b93b6e0e5",
        "id": "ATGXp97rLIKn",
        "colab_type": "code",
        "colab": {}
      },
      "source": [
        "from keras.layers import Input, Conv2D, Lambda, merge, Dense, Flatten,MaxPooling2D,Activation, Dropout\n",
        "from keras.models import Model, Sequential\n",
        "from keras.regularizers import l2\n",
        "from keras import backend as K\n",
        "from keras.optimizers import Adam\n",
        "from skimage.io import imshow\n",
        "import matplotlib.pyplot as plt\n",
        "import numpy as np\n",
        "import pandas as pd\n",
        "import random"
      ],
      "execution_count": 0,
      "outputs": []
    },
    {
      "cell_type": "code",
      "metadata": {
        "id": "QoFTIQF4LlHg",
        "colab_type": "code",
        "colab": {
          "base_uri": "https://localhost:8080/",
          "height": 122
        },
        "outputId": "284c6985-0cb2-44ee-fd00-5b68ea520cdc"
      },
      "source": [
        "from google.colab import drive\n",
        "drive.mount('/gdrive')"
      ],
      "execution_count": 2,
      "outputs": [
        {
          "output_type": "stream",
          "text": [
            "Go to this URL in a browser: https://accounts.google.com/o/oauth2/auth?client_id=947318989803-6bn6qk8qdgf4n4g3pfee6491hc0brc4i.apps.googleusercontent.com&redirect_uri=urn%3aietf%3awg%3aoauth%3a2.0%3aoob&response_type=code&scope=email%20https%3a%2f%2fwww.googleapis.com%2fauth%2fdocs.test%20https%3a%2f%2fwww.googleapis.com%2fauth%2fdrive%20https%3a%2f%2fwww.googleapis.com%2fauth%2fdrive.photos.readonly%20https%3a%2f%2fwww.googleapis.com%2fauth%2fpeopleapi.readonly\n",
            "\n",
            "Enter your authorization code:\n",
            "··········\n",
            "Mounted at /gdrive\n"
          ],
          "name": "stdout"
        }
      ]
    },
    {
      "cell_type": "code",
      "metadata": {
        "id": "nXhKGEpELs7j",
        "colab_type": "code",
        "colab": {
          "base_uri": "https://localhost:8080/",
          "height": 34
        },
        "outputId": "cf1e6355-0b4a-4269-ec65-9b0e2635f71e"
      },
      "source": [
        "%cd /gdrive/My Drive/CV"
      ],
      "execution_count": 3,
      "outputs": [
        {
          "output_type": "stream",
          "text": [
            "/gdrive/My Drive/CV\n"
          ],
          "name": "stdout"
        }
      ]
    },
    {
      "cell_type": "markdown",
      "metadata": {
        "_cell_guid": "adbffb0a-1784-4595-b3f2-2ea930abc31f",
        "_uuid": "b9200b733a896e4b6f261122fe9134c00955cc91",
        "id": "VOHEkpvlLIKt",
        "colab_type": "text"
      },
      "source": [
        "## Load the Data\n"
      ]
    },
    {
      "cell_type": "code",
      "metadata": {
        "_cell_guid": "79c7e3d0-c299-4dcb-8224-4455121ee9b0",
        "_uuid": "d629ff2d2480ee46fbb7e2d37f6b5fab8052498a",
        "id": "o6SS2gTXLIKv",
        "colab_type": "code",
        "colab": {
          "base_uri": "https://localhost:8080/",
          "height": 34
        },
        "outputId": "86cb74c5-9f3e-4cb5-c8e9-a8acf453cb3a"
      },
      "source": [
        "npz = np.load('input_data.npz')\n",
        "X_train = npz['X_train']\n",
        "Y_train = npz['Y_train']\n",
        "del npz\n",
        "print ('We have {} examples to work with'.format(Y_train.shape[0]-1000))"
      ],
      "execution_count": 5,
      "outputs": [
        {
          "output_type": "stream",
          "text": [
            "We have 3113 examples to work with\n"
          ],
          "name": "stdout"
        }
      ]
    },
    {
      "cell_type": "markdown",
      "metadata": {
        "_cell_guid": "ed28bc84-1a8a-472f-98ae-9553fe6d1097",
        "_uuid": "b2e2306b8b16ae7f4f9b63249d1f2ff6e29559d3",
        "id": "QymEHx9ZLIKy",
        "colab_type": "text"
      },
      "source": [
        "## Check the data\n",
        "\n",
        "Load some of the images to observe how your data look like."
      ]
    },
    {
      "cell_type": "code",
      "metadata": {
        "id": "-1FrPQ29LIKz",
        "colab_type": "code",
        "colab": {}
      },
      "source": [
        "def check_data(idx):\n",
        "    imshow(np.squeeze(X_train[idx,:,:,2]))\n",
        "    plt.show()\n",
        "    labels = ['Ship','Iceberg']  \n",
        "    print ('This is:',labels[int(Y_train[idx])])"
      ],
      "execution_count": 0,
      "outputs": []
    },
    {
      "cell_type": "code",
      "metadata": {
        "id": "Z0DhthEJL1fu",
        "colab_type": "code",
        "colab": {
          "base_uri": "https://localhost:8080/",
          "height": 314
        },
        "outputId": "9abd8eb6-aec5-428f-f2d2-3a42ad2a3943"
      },
      "source": [
        "check_data(42)"
      ],
      "execution_count": 7,
      "outputs": [
        {
          "output_type": "display_data",
          "data": {
            "image/png": "[encoded data removed]",
            "text/plain": [
              "<Figure size 432x288 with 2 Axes>"
            ]
          },
          "metadata": {
            "tags": []
          }
        },
        {
          "output_type": "stream",
          "text": [
            "This is: Ship\n"
          ],
          "name": "stdout"
        }
      ]
    },
    {
      "cell_type": "code",
      "metadata": {
        "id": "6dOvFgQPOMj4",
        "colab_type": "code",
        "colab": {
          "base_uri": "https://localhost:8080/",
          "height": 314
        },
        "outputId": "ac0941dc-75b8-4ab5-a9dc-6157ae472fdd"
      },
      "source": [
        "check_data(200)"
      ],
      "execution_count": 9,
      "outputs": [
        {
          "output_type": "display_data",
          "data": {
            "image/png": "[encoded data removed]",
            "text/plain": [
              "<Figure size 432x288 with 2 Axes>"
            ]
          },
          "metadata": {
            "tags": []
          }
        },
        {
          "output_type": "stream",
          "text": [
            "This is: Iceberg\n"
          ],
          "name": "stdout"
        }
      ]
    },
    {
      "cell_type": "markdown",
      "metadata": {
        "id": "E5dw_rVjLIK1",
        "colab_type": "text"
      },
      "source": [
        "# Creating the structure of Siamese Network"
      ]
    },
    {
      "cell_type": "code",
      "metadata": {
        "id": "V9IW5RYjOsgY",
        "colab_type": "code",
        "colab": {}
      },
      "source": [
        ""
      ],
      "execution_count": 0,
      "outputs": []
    },
    {
      "cell_type": "markdown",
      "metadata": {
        "id": "aDrurfs6LIK3",
        "colab_type": "text"
      },
      "source": [
        "# Create two Inputs for each image - left_input and right_input\n",
        "Hint - use Input Function in Keras and keep the shape to be 75,75,3"
      ]
    },
    {
      "cell_type": "code",
      "metadata": {
        "id": "itqN5l2ELIK4",
        "colab_type": "code",
        "colab": {
          "base_uri": "https://localhost:8080/",
          "height": 105
        },
        "outputId": "77c4ef38-6878-4d17-a9ed-d3d432e36377"
      },
      "source": [
        "left_input = Input((75,75,3))\n",
        "right_input = Input((75,75,3))"
      ],
      "execution_count": 10,
      "outputs": [
        {
          "output_type": "stream",
          "text": [
            "WARNING:tensorflow:From /usr/local/lib/python3.6/dist-packages/keras/backend/tensorflow_backend.py:66: The name tf.get_default_graph is deprecated. Please use tf.compat.v1.get_default_graph instead.\n",
            "\n",
            "WARNING:tensorflow:From /usr/local/lib/python3.6/dist-packages/keras/backend/tensorflow_backend.py:541: The name tf.placeholder is deprecated. Please use tf.compat.v1.placeholder instead.\n",
            "\n"
          ],
          "name": "stdout"
        }
      ]
    },
    {
      "cell_type": "markdown",
      "metadata": {
        "id": "F7qqQF-JLIK6",
        "colab_type": "text"
      },
      "source": [
        "# Create a base Network in which both images will go through individually.\n",
        "\n",
        "Hint - Use Sequential Model in Keras with convolution layers, Maxpooling Layers, Flatten Layer and Denser Layer with appropriate activation functions.\n",
        "Name the network as base_network"
      ]
    },
    {
      "cell_type": "code",
      "metadata": {
        "id": "dAXp372rLIK8",
        "colab_type": "code",
        "colab": {
          "base_uri": "https://localhost:8080/",
          "height": 105
        },
        "outputId": "0421c24c-dbbe-4532-865f-fb408e0490fc"
      },
      "source": [
        "base_network = Sequential([\n",
        "    Conv2D(5,3, input_shape=(75,75,3)),\n",
        "    Activation('relu'),\n",
        "    MaxPooling2D(),\n",
        "    Conv2D(8,3),\n",
        "    Activation('relu'),\n",
        "    MaxPooling2D(),\n",
        "    Conv2D(10,2),\n",
        "    Activation('relu'),\n",
        "    MaxPooling2D(),\n",
        "    Conv2D(7,2),\n",
        "    Activation('relu'),\n",
        "    Flatten(),\n",
        "    Dense(18),\n",
        "    Activation('sigmoid')\n",
        "])"
      ],
      "execution_count": 11,
      "outputs": [
        {
          "output_type": "stream",
          "text": [
            "WARNING:tensorflow:From /usr/local/lib/python3.6/dist-packages/keras/backend/tensorflow_backend.py:4432: The name tf.random_uniform is deprecated. Please use tf.random.uniform instead.\n",
            "\n",
            "WARNING:tensorflow:From /usr/local/lib/python3.6/dist-packages/keras/backend/tensorflow_backend.py:4267: The name tf.nn.max_pool is deprecated. Please use tf.nn.max_pool2d instead.\n",
            "\n"
          ],
          "name": "stdout"
        }
      ]
    },
    {
      "cell_type": "code",
      "metadata": {
        "id": "1lg1ihXCLIK-",
        "colab_type": "code",
        "colab": {}
      },
      "source": [
        ""
      ],
      "execution_count": 0,
      "outputs": []
    },
    {
      "cell_type": "markdown",
      "metadata": {
        "id": "mFOJ9J1wLILB",
        "colab_type": "text"
      },
      "source": [
        "# Process the left and right inputs to the same Base Network(base_network)"
      ]
    },
    {
      "cell_type": "code",
      "metadata": {
        "id": "_BbzK4dvLILC",
        "colab_type": "code",
        "colab": {}
      },
      "source": [
        "processed_a = base_network(left_input)\n"
      ],
      "execution_count": 0,
      "outputs": []
    },
    {
      "cell_type": "code",
      "metadata": {
        "id": "4obf8m4_LILE",
        "colab_type": "code",
        "colab": {}
      },
      "source": [
        "\n",
        "processed_b = base_network(right_input)\n"
      ],
      "execution_count": 0,
      "outputs": []
    },
    {
      "cell_type": "markdown",
      "metadata": {
        "id": "6Utnw652LILI",
        "colab_type": "text"
      },
      "source": [
        "# Get the L1 Distance layer between the 2 processed encodings (processed_a and processed_b)\n",
        "Hint - You can use Lambda function for this."
      ]
    },
    {
      "cell_type": "code",
      "metadata": {
        "id": "jagEhYJsLILJ",
        "colab_type": "code",
        "colab": {}
      },
      "source": [
        "L1_layer = Lambda(lambda tensor:K.abs(tensor[0] - tensor[1]))\n"
      ],
      "execution_count": 0,
      "outputs": []
    },
    {
      "cell_type": "code",
      "metadata": {
        "id": "kX5DuvrBLILL",
        "colab_type": "code",
        "colab": {}
      },
      "source": [
        "L1_distance = L1_layer([processed_a, processed_b])\n"
      ],
      "execution_count": 0,
      "outputs": []
    },
    {
      "cell_type": "markdown",
      "metadata": {
        "id": "Fu5fjmi7LILN",
        "colab_type": "text"
      },
      "source": [
        "# Add the prediction layer in the end and create the Siamese Network using Model function."
      ]
    },
    {
      "cell_type": "code",
      "metadata": {
        "id": "lhPAn23JLILO",
        "colab_type": "code",
        "colab": {}
      },
      "source": [
        "prediction = Dense(1,activation='sigmoid')(L1_distance)\n",
        "siamese_net = Model(inputs=[left_input,right_input],outputs=prediction)"
      ],
      "execution_count": 0,
      "outputs": []
    },
    {
      "cell_type": "markdown",
      "metadata": {
        "id": "k4pS8TwgLILS",
        "colab_type": "text"
      },
      "source": [
        "# Define the Optimizer Adam and Compile the Siamese Model."
      ]
    },
    {
      "cell_type": "code",
      "metadata": {
        "id": "LhQqyyerLILV",
        "colab_type": "code",
        "colab": {
          "base_uri": "https://localhost:8080/",
          "height": 156
        },
        "outputId": "7215607c-614b-42b1-ffb5-96f2e21bdefb"
      },
      "source": [
        "optimizer = Adam(0.001, decay=2.5e-4)\n",
        "\n",
        "siamese_net.compile(loss=\"binary_crossentropy\",optimizer=optimizer,metrics=['accuracy'])"
      ],
      "execution_count": 17,
      "outputs": [
        {
          "output_type": "stream",
          "text": [
            "WARNING:tensorflow:From /usr/local/lib/python3.6/dist-packages/keras/optimizers.py:793: The name tf.train.Optimizer is deprecated. Please use tf.compat.v1.train.Optimizer instead.\n",
            "\n",
            "WARNING:tensorflow:From /usr/local/lib/python3.6/dist-packages/keras/backend/tensorflow_backend.py:3657: The name tf.log is deprecated. Please use tf.math.log instead.\n",
            "\n",
            "WARNING:tensorflow:From /usr/local/lib/python3.6/dist-packages/tensorflow_core/python/ops/nn_impl.py:183: where (from tensorflow.python.ops.array_ops) is deprecated and will be removed in a future version.\n",
            "Instructions for updating:\n",
            "Use tf.where in 2.0, which has the same broadcast rule as np.where\n"
          ],
          "name": "stdout"
        }
      ]
    },
    {
      "cell_type": "markdown",
      "metadata": {
        "_cell_guid": "dbba8e74-6b9c-4c84-96ed-55137265280b",
        "_uuid": "28e3843cae1a192bb14eb04cc1fe1705ef69f405",
        "id": "LEaKOa7SLILY",
        "colab_type": "text"
      },
      "source": [
        "# Show the Summary of your Siamese Network"
      ]
    },
    {
      "cell_type": "code",
      "metadata": {
        "id": "0-Y6mNLKLILZ",
        "colab_type": "code",
        "colab": {
          "base_uri": "https://localhost:8080/",
          "height": 357
        },
        "outputId": "f055d17d-6f3b-484c-c106-d95ac280f742"
      },
      "source": [
        "siamese_net.summary()\n"
      ],
      "execution_count": 18,
      "outputs": [
        {
          "output_type": "stream",
          "text": [
            "Model: \"model_1\"\n",
            "__________________________________________________________________________________________________\n",
            "Layer (type)                    Output Shape         Param #     Connected to                     \n",
            "==================================================================================================\n",
            "input_1 (InputLayer)            (None, 75, 75, 3)    0                                            \n",
            "__________________________________________________________________________________________________\n",
            "input_2 (InputLayer)            (None, 75, 75, 3)    0                                            \n",
            "__________________________________________________________________________________________________\n",
            "sequential_1 (Sequential)       (None, 18)           7317        input_1[0][0]                    \n",
            "                                                                 input_2[0][0]                    \n",
            "__________________________________________________________________________________________________\n",
            "lambda_1 (Lambda)               (None, 18)           0           sequential_1[1][0]               \n",
            "                                                                 sequential_1[2][0]               \n",
            "__________________________________________________________________________________________________\n",
            "dense_2 (Dense)                 (None, 1)            19          lambda_1[0][0]                   \n",
            "==================================================================================================\n",
            "Total params: 7,336\n",
            "Trainable params: 7,336\n",
            "Non-trainable params: 0\n",
            "__________________________________________________________________________________________________\n"
          ],
          "name": "stdout"
        }
      ]
    },
    {
      "cell_type": "markdown",
      "metadata": {
        "id": "vkc1g2c4LILb",
        "colab_type": "text"
      },
      "source": [
        "# Creating the Pair of Images to train on"
      ]
    },
    {
      "cell_type": "markdown",
      "metadata": {
        "_cell_guid": "7080234f-01f4-4df1-88a7-459746335c50",
        "_uuid": "4553890c8130dc76076252a09290497a4afc27e6",
        "id": "yTJpbzPhLILc",
        "colab_type": "text"
      },
      "source": [
        "It's not time to train though. We still have to create pairs of images to train on. There will be Positive(the same class) or Negative(different classes) for outputs. Let's construct this dataset. It is recommended that there are equal amounts positive and negative."
      ]
    },
    {
      "cell_type": "code",
      "metadata": {
        "_cell_guid": "32cb30db-144d-4f93-af05-6cb9a697c084",
        "_uuid": "09a3e9d488acd34e99912c5f01474029e77637f5",
        "id": "Wuhql9egLILc",
        "colab_type": "code",
        "colab": {}
      },
      "source": [
        "# First let's separate the dataset from 1 matrix to a list of matricies\n",
        "image_list = np.split(X_train[:1000],1000)\n",
        "label_list = np.split(Y_train[:1000],1000)\n",
        "\n",
        "left_input = []\n",
        "right_input = []\n",
        "targets = []\n",
        "\n",
        "#Number of pairs per image\n",
        "pairs = 5\n",
        "#Let's create the new dataset to train on\n",
        "for i in range(len(label_list)):\n",
        "    for _ in range(pairs):\n",
        "        compare_to = i\n",
        "        while compare_to == i: #Make sure it's not comparing to itself\n",
        "            compare_to = random.randint(0,999)\n",
        "        left_input.append(image_list[i])\n",
        "        right_input.append(image_list[compare_to])\n",
        "        if label_list[i] == label_list[compare_to]:# They are the same\n",
        "            targets.append(1.)\n",
        "        else:# Not the same\n",
        "            targets.append(0.)\n",
        "            \n",
        "left_input = np.squeeze(np.array(left_input))\n",
        "right_input = np.squeeze(np.array(right_input))\n",
        "targets = np.squeeze(np.array(targets))\n",
        "\n",
        "iceimage = X_train[101]\n",
        "test_left = []\n",
        "test_right = []\n",
        "test_targets = []\n",
        "\n",
        "for i in range(Y_train.shape[0]-1000):\n",
        "    test_left.append(iceimage)\n",
        "    test_right.append(X_train[i+1000])\n",
        "    test_targets.append(Y_train[i+1000])\n",
        "\n",
        "test_left = np.squeeze(np.array(test_left))\n",
        "test_right = np.squeeze(np.array(test_right))\n",
        "test_targets = np.squeeze(np.array(test_targets))"
      ],
      "execution_count": 0,
      "outputs": []
    },
    {
      "cell_type": "markdown",
      "metadata": {
        "id": "bRSQwYtWLILf",
        "colab_type": "text"
      },
      "source": [
        "Now we have a lot more examples.\n",
        "Now we have pairs x 1000 examples to train the network on. \n",
        "Each side will have an input of an image and the output will be one if they are the same and zero if not."
      ]
    },
    {
      "cell_type": "markdown",
      "metadata": {
        "id": "58LdWQx9LILf",
        "colab_type": "text"
      },
      "source": [
        "# Train the Siamese train on left and right input image pairs created and validate it by test pairs."
      ]
    },
    {
      "cell_type": "code",
      "metadata": {
        "id": "JktUXLMUX2z9",
        "colab_type": "code",
        "colab": {}
      },
      "source": [
        "from keras.callbacks import ModelCheckpoint, EarlyStopping, ReduceLROnPlateau, LearningRateScheduler"
      ],
      "execution_count": 0,
      "outputs": []
    },
    {
      "cell_type": "code",
      "metadata": {
        "id": "mokoEcyMLILg",
        "colab_type": "code",
        "colab": {}
      },
      "source": [
        "callbacks = [\n",
        "    EarlyStopping(patience=20, verbose=1),\n",
        "    ReduceLROnPlateau(factor=0.1, patience=3, min_lr= 0.001, verbose=1),\n",
        "    ModelCheckpoint('siamese_model.h5', verbose=1, save_best_only=True)\n",
        "]"
      ],
      "execution_count": 0,
      "outputs": []
    },
    {
      "cell_type": "code",
      "metadata": {
        "id": "lnOQfAWgLILi",
        "colab_type": "code",
        "colab": {
          "base_uri": "https://localhost:8080/",
          "height": 1000
        },
        "outputId": "99f4d69b-42cb-4bfb-cbd1-347b1967051d"
      },
      "source": [
        "siamese_net.fit([left_input,right_input], targets,\n",
        "                batch_size=16,\n",
        "                epochs=60,\n",
        "                verbose=1,\n",
        "                validation_data=([test_left,test_right],test_targets),\n",
        "                callbacks=callbacks)"
      ],
      "execution_count": 25,
      "outputs": [
        {
          "output_type": "stream",
          "text": [
            "WARNING:tensorflow:From /usr/local/lib/python3.6/dist-packages/keras/backend/tensorflow_backend.py:1033: The name tf.assign_add is deprecated. Please use tf.compat.v1.assign_add instead.\n",
            "\n",
            "WARNING:tensorflow:From /usr/local/lib/python3.6/dist-packages/keras/backend/tensorflow_backend.py:1020: The name tf.assign is deprecated. Please use tf.compat.v1.assign instead.\n",
            "\n",
            "WARNING:tensorflow:From /usr/local/lib/python3.6/dist-packages/keras/backend/tensorflow_backend.py:3005: The name tf.Session is deprecated. Please use tf.compat.v1.Session instead.\n",
            "\n",
            "Train on 5000 samples, validate on 3113 samples\n",
            "Epoch 1/60\n",
            "WARNING:tensorflow:From /usr/local/lib/python3.6/dist-packages/keras/backend/tensorflow_backend.py:190: The name tf.get_default_session is deprecated. Please use tf.compat.v1.get_default_session instead.\n",
            "\n",
            "WARNING:tensorflow:From /usr/local/lib/python3.6/dist-packages/keras/backend/tensorflow_backend.py:197: The name tf.ConfigProto is deprecated. Please use tf.compat.v1.ConfigProto instead.\n",
            "\n",
            "WARNING:tensorflow:From /usr/local/lib/python3.6/dist-packages/keras/backend/tensorflow_backend.py:207: The name tf.global_variables is deprecated. Please use tf.compat.v1.global_variables instead.\n",
            "\n",
            "WARNING:tensorflow:From /usr/local/lib/python3.6/dist-packages/keras/backend/tensorflow_backend.py:216: The name tf.is_variable_initialized is deprecated. Please use tf.compat.v1.is_variable_initialized instead.\n",
            "\n",
            "WARNING:tensorflow:From /usr/local/lib/python3.6/dist-packages/keras/backend/tensorflow_backend.py:223: The name tf.variables_initializer is deprecated. Please use tf.compat.v1.variables_initializer instead.\n",
            "\n",
            "5000/5000 [==============================] - 36s 7ms/step - loss: 0.6751 - acc: 0.5886 - val_loss: 0.6527 - val_acc: 0.6184\n",
            "\n",
            "Epoch 00001: val_loss improved from inf to 0.65270, saving model to siamese_model.h5\n",
            "Epoch 2/60\n",
            "5000/5000 [==============================] - 35s 7ms/step - loss: 0.5885 - acc: 0.7116 - val_loss: 0.5481 - val_acc: 0.7963\n",
            "\n",
            "Epoch 00002: val_loss improved from 0.65270 to 0.54810, saving model to siamese_model.h5\n",
            "Epoch 3/60\n",
            "5000/5000 [==============================] - 35s 7ms/step - loss: 0.4949 - acc: 0.7808 - val_loss: 0.4512 - val_acc: 0.8333\n",
            "\n",
            "Epoch 00003: val_loss improved from 0.54810 to 0.45119, saving model to siamese_model.h5\n",
            "Epoch 4/60\n",
            "5000/5000 [==============================] - 35s 7ms/step - loss: 0.4481 - acc: 0.8086 - val_loss: 0.4508 - val_acc: 0.8272\n",
            "\n",
            "Epoch 00004: val_loss improved from 0.45119 to 0.45076, saving model to siamese_model.h5\n",
            "Epoch 5/60\n",
            "5000/5000 [==============================] - 35s 7ms/step - loss: 0.4199 - acc: 0.8230 - val_loss: 0.5876 - val_acc: 0.7019\n",
            "\n",
            "Epoch 00005: val_loss did not improve from 0.45076\n",
            "Epoch 6/60\n",
            "5000/5000 [==============================] - 35s 7ms/step - loss: 0.3921 - acc: 0.8340 - val_loss: 0.4744 - val_acc: 0.8063\n",
            "\n",
            "Epoch 00006: val_loss did not improve from 0.45076\n",
            "Epoch 7/60\n",
            "5000/5000 [==============================] - 35s 7ms/step - loss: 0.3689 - acc: 0.8464 - val_loss: 0.4874 - val_acc: 0.7883\n",
            "\n",
            "Epoch 00007: ReduceLROnPlateau reducing learning rate to 0.001.\n",
            "\n",
            "Epoch 00007: val_loss did not improve from 0.45076\n",
            "Epoch 8/60\n",
            "5000/5000 [==============================] - 35s 7ms/step - loss: 0.3490 - acc: 0.8576 - val_loss: 0.4920 - val_acc: 0.7976\n",
            "\n",
            "Epoch 00008: val_loss did not improve from 0.45076\n",
            "Epoch 9/60\n",
            "5000/5000 [==============================] - 35s 7ms/step - loss: 0.3405 - acc: 0.8608 - val_loss: 0.4655 - val_acc: 0.8021\n",
            "\n",
            "Epoch 00009: val_loss did not improve from 0.45076\n",
            "Epoch 10/60\n",
            "5000/5000 [==============================] - 35s 7ms/step - loss: 0.3231 - acc: 0.8672 - val_loss: 0.4593 - val_acc: 0.8127\n",
            "\n",
            "Epoch 00010: ReduceLROnPlateau reducing learning rate to 0.001.\n",
            "\n",
            "Epoch 00010: val_loss did not improve from 0.45076\n",
            "Epoch 11/60\n",
            "5000/5000 [==============================] - 35s 7ms/step - loss: 0.3122 - acc: 0.8756 - val_loss: 0.4906 - val_acc: 0.7925\n",
            "\n",
            "Epoch 00011: val_loss did not improve from 0.45076\n",
            "Epoch 12/60\n",
            "5000/5000 [==============================] - 35s 7ms/step - loss: 0.2965 - acc: 0.8872 - val_loss: 0.5255 - val_acc: 0.7780\n",
            "\n",
            "Epoch 00012: val_loss did not improve from 0.45076\n",
            "Epoch 13/60\n",
            "5000/5000 [==============================] - 35s 7ms/step - loss: 0.2867 - acc: 0.8900 - val_loss: 0.4728 - val_acc: 0.8037\n",
            "\n",
            "Epoch 00013: ReduceLROnPlateau reducing learning rate to 0.001.\n",
            "\n",
            "Epoch 00013: val_loss did not improve from 0.45076\n",
            "Epoch 14/60\n",
            "5000/5000 [==============================] - 35s 7ms/step - loss: 0.2732 - acc: 0.8950 - val_loss: 0.4796 - val_acc: 0.8073\n",
            "\n",
            "Epoch 00014: val_loss did not improve from 0.45076\n",
            "Epoch 15/60\n",
            "5000/5000 [==============================] - 35s 7ms/step - loss: 0.2636 - acc: 0.9006 - val_loss: 0.4792 - val_acc: 0.7986\n",
            "\n",
            "Epoch 00015: val_loss did not improve from 0.45076\n",
            "Epoch 16/60\n",
            "5000/5000 [==============================] - 35s 7ms/step - loss: 0.2524 - acc: 0.9050 - val_loss: 0.5088 - val_acc: 0.7951\n",
            "\n",
            "Epoch 00016: ReduceLROnPlateau reducing learning rate to 0.001.\n",
            "\n",
            "Epoch 00016: val_loss did not improve from 0.45076\n",
            "Epoch 17/60\n",
            "5000/5000 [==============================] - 35s 7ms/step - loss: 0.2455 - acc: 0.9090 - val_loss: 0.4938 - val_acc: 0.8073\n",
            "\n",
            "Epoch 00017: val_loss did not improve from 0.45076\n",
            "Epoch 18/60\n",
            "5000/5000 [==============================] - 35s 7ms/step - loss: 0.2337 - acc: 0.9136 - val_loss: 0.5426 - val_acc: 0.7835\n",
            "\n",
            "Epoch 00018: val_loss did not improve from 0.45076\n",
            "Epoch 19/60\n",
            "5000/5000 [==============================] - 35s 7ms/step - loss: 0.2267 - acc: 0.9198 - val_loss: 0.5224 - val_acc: 0.7967\n",
            "\n",
            "Epoch 00019: ReduceLROnPlateau reducing learning rate to 0.001.\n",
            "\n",
            "Epoch 00019: val_loss did not improve from 0.45076\n",
            "Epoch 20/60\n",
            "5000/5000 [==============================] - 35s 7ms/step - loss: 0.2215 - acc: 0.9202 - val_loss: 0.5088 - val_acc: 0.8031\n",
            "\n",
            "Epoch 00020: val_loss did not improve from 0.45076\n",
            "Epoch 21/60\n",
            "5000/5000 [==============================] - 35s 7ms/step - loss: 0.2124 - acc: 0.9218 - val_loss: 0.5335 - val_acc: 0.7816\n",
            "\n",
            "Epoch 00021: val_loss did not improve from 0.45076\n",
            "Epoch 22/60\n",
            "5000/5000 [==============================] - 35s 7ms/step - loss: 0.2099 - acc: 0.9232 - val_loss: 0.5425 - val_acc: 0.7899\n",
            "\n",
            "Epoch 00022: ReduceLROnPlateau reducing learning rate to 0.001.\n",
            "\n",
            "Epoch 00022: val_loss did not improve from 0.45076\n",
            "Epoch 23/60\n",
            "5000/5000 [==============================] - 35s 7ms/step - loss: 0.2021 - acc: 0.9266 - val_loss: 0.5397 - val_acc: 0.7970\n",
            "\n",
            "Epoch 00023: val_loss did not improve from 0.45076\n",
            "Epoch 24/60\n",
            "5000/5000 [==============================] - 35s 7ms/step - loss: 0.1961 - acc: 0.9298 - val_loss: 0.5376 - val_acc: 0.8053\n",
            "\n",
            "Epoch 00024: val_loss did not improve from 0.45076\n",
            "Epoch 00024: early stopping\n"
          ],
          "name": "stdout"
        },
        {
          "output_type": "execute_result",
          "data": {
            "text/plain": [
              "<keras.callbacks.History at 0x7f2e0ef81cf8>"
            ]
          },
          "metadata": {
            "tags": []
          },
          "execution_count": 25
        }
      ]
    },
    {
      "cell_type": "code",
      "metadata": {
        "_uuid": "e572afcaaf7dc8632d813031ebd828d9eec0f9aa",
        "id": "l9_83gymLILk",
        "colab_type": "code",
        "colab": {}
      },
      "source": [
        "siamese_net.load_weights('siamese_model.h5')\n"
      ],
      "execution_count": 0,
      "outputs": []
    },
    {
      "cell_type": "code",
      "metadata": {
        "id": "wrNZCoiXLILm",
        "colab_type": "code",
        "colab": {
          "base_uri": "https://localhost:8080/",
          "height": 34
        },
        "outputId": "f7ddd66f-06c9-40db-a37e-5091f847f7fe"
      },
      "source": [
        "val_loss, val_acc = siamese_net.evaluate([test_left,test_right], \n",
        "                     test_targets,\n",
        "                     batch_size=16,\n",
        "                     verbose=1)"
      ],
      "execution_count": 27,
      "outputs": [
        {
          "output_type": "stream",
          "text": [
            "3113/3113 [==============================] - 8s 3ms/step\n"
          ],
          "name": "stdout"
        }
      ]
    },
    {
      "cell_type": "code",
      "metadata": {
        "id": "cUWog43gLILp",
        "colab_type": "code",
        "colab": {
          "base_uri": "https://localhost:8080/",
          "height": 51
        },
        "outputId": "da25f7d8-b5dc-4cd0-bb20-0e5ec37cac58"
      },
      "source": [
        "print(\"Validation Loss =\", val_loss)\n",
        "print(\"Validation Accuracy =\", val_acc)"
      ],
      "execution_count": 28,
      "outputs": [
        {
          "output_type": "stream",
          "text": [
            "Validation Loss = 0.4507569919205386\n",
            "Validation Accuracy = 0.827176357249987\n"
          ],
          "name": "stdout"
        }
      ]
    },
    {
      "cell_type": "code",
      "metadata": {
        "id": "7-lGzX5rYNaC",
        "colab_type": "code",
        "colab": {}
      },
      "source": [
        ""
      ],
      "execution_count": 0,
      "outputs": []
    }
  ]
}