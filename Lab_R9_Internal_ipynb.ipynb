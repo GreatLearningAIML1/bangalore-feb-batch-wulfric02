{
  "nbformat": 4,
  "nbformat_minor": 0,
  "metadata": {
    "colab": {
      "name": "Lab_R9_Internal.ipynb.ipynb",
      "provenance": [],
      "collapsed_sections": [],
      "toc_visible": true
    },
    "kernelspec": {
      "name": "python3",
      "display_name": "Python 3"
    }
  },
  "cells": [
    {
      "cell_type": "markdown",
      "metadata": {
        "id": "vXE926qT0jHg",
        "colab_type": "text"
      },
      "source": [
        "# Time series prediction using LSTM"
      ]
    },
    {
      "cell_type": "markdown",
      "metadata": {
        "id": "54u8ql4Z4kBE",
        "colab_type": "text"
      },
      "source": [
        "## Dataset\n",
        "- Daily minimum temperatures in Melbourne, Australia, 1981-1990\n",
        "- Units: Degrees Celcius"
      ]
    },
    {
      "cell_type": "markdown",
      "metadata": {
        "id": "IPkYyOzY77yl",
        "colab_type": "text"
      },
      "source": [
        "## Question 1"
      ]
    },
    {
      "cell_type": "markdown",
      "metadata": {
        "id": "aXEOY69f8B9d",
        "colab_type": "text"
      },
      "source": [
        "### Load the data\n",
        "- load daily-minimum-temperatures-in-me.csv"
      ]
    },
    {
      "cell_type": "code",
      "metadata": {
        "id": "1Yvcuhqz0m23",
        "colab_type": "code",
        "colab": {}
      },
      "source": [
        "import pandas as pd\n",
        "import numpy as np"
      ],
      "execution_count": 0,
      "outputs": []
    },
    {
      "cell_type": "code",
      "metadata": {
        "id": "XNO2HGEt2zRu",
        "colab_type": "code",
        "colab": {
          "base_uri": "https://localhost:8080/",
          "height": 122
        },
        "outputId": "ea83d7cf-4dd3-4a21-810e-76f2774fbcb2"
      },
      "source": [
        "from google.colab import drive\n",
        "drive.mount('/gdrive')\n"
      ],
      "execution_count": 1,
      "outputs": [
        {
          "output_type": "stream",
          "text": [
            "Go to this URL in a browser: https://accounts.google.com/o/oauth2/auth?client_id=947318989803-6bn6qk8qdgf4n4g3pfee6491hc0brc4i.apps.googleusercontent.com&redirect_uri=urn%3Aietf%3Awg%3Aoauth%3A2.0%3Aoob&scope=email%20https%3A%2F%2Fwww.googleapis.com%2Fauth%2Fdocs.test%20https%3A%2F%2Fwww.googleapis.com%2Fauth%2Fdrive%20https%3A%2F%2Fwww.googleapis.com%2Fauth%2Fdrive.photos.readonly%20https%3A%2F%2Fwww.googleapis.com%2Fauth%2Fpeopleapi.readonly&response_type=code\n",
            "\n",
            "Enter your authorization code:\n",
            "··········\n",
            "Mounted at /gdrive\n"
          ],
          "name": "stdout"
        }
      ]
    },
    {
      "cell_type": "code",
      "metadata": {
        "id": "LA7R2II8-Jxh",
        "colab_type": "code",
        "colab": {
          "base_uri": "https://localhost:8080/",
          "height": 34
        },
        "outputId": "7373a7f9-ccac-45d4-c502-eec3ddc70a92"
      },
      "source": [
        "%cd /gdrive/My Drive/CV"
      ],
      "execution_count": 2,
      "outputs": [
        {
          "output_type": "stream",
          "text": [
            "/gdrive/My Drive/CV\n"
          ],
          "name": "stdout"
        }
      ]
    },
    {
      "cell_type": "code",
      "metadata": {
        "id": "HQZB8fXM3RcZ",
        "colab_type": "code",
        "colab": {}
      },
      "source": [
        "temp_df = pd.read_csv('daily-minimum-temperatures-in-me.csv')"
      ],
      "execution_count": 0,
      "outputs": []
    },
    {
      "cell_type": "markdown",
      "metadata": {
        "id": "pWcMgg69-T6k",
        "colab_type": "text"
      },
      "source": [
        "### Print the data\n",
        "- First 5 rows only"
      ]
    },
    {
      "cell_type": "code",
      "metadata": {
        "id": "SM828gT_-Ra2",
        "colab_type": "code",
        "colab": {
          "base_uri": "https://localhost:8080/",
          "height": 204
        },
        "outputId": "8bc11b97-cfd5-4760-b03b-29f5c7fccb36"
      },
      "source": [
        "temp_df.head()"
      ],
      "execution_count": 5,
      "outputs": [
        {
          "output_type": "execute_result",
          "data": {
            "text/html": [
              "<div>\n",
              "<style scoped>\n",
              "    .dataframe tbody tr th:only-of-type {\n",
              "        vertical-align: middle;\n",
              "    }\n",
              "\n",
              "    .dataframe tbody tr th {\n",
              "        vertical-align: top;\n",
              "    }\n",
              "\n",
              "    .dataframe thead th {\n",
              "        text-align: right;\n",
              "    }\n",
              "</style>\n",
              "<table border=\"1\" class=\"dataframe\">\n",
              "  <thead>\n",
              "    <tr style=\"text-align: right;\">\n",
              "      <th></th>\n",
              "      <th>Date</th>\n",
              "      <th>Temperature</th>\n",
              "    </tr>\n",
              "  </thead>\n",
              "  <tbody>\n",
              "    <tr>\n",
              "      <th>0</th>\n",
              "      <td>1981-01-01</td>\n",
              "      <td>20.7</td>\n",
              "    </tr>\n",
              "    <tr>\n",
              "      <th>1</th>\n",
              "      <td>1981-01-02</td>\n",
              "      <td>17.9</td>\n",
              "    </tr>\n",
              "    <tr>\n",
              "      <th>2</th>\n",
              "      <td>1981-01-03</td>\n",
              "      <td>18.8</td>\n",
              "    </tr>\n",
              "    <tr>\n",
              "      <th>3</th>\n",
              "      <td>1981-01-04</td>\n",
              "      <td>14.6</td>\n",
              "    </tr>\n",
              "    <tr>\n",
              "      <th>4</th>\n",
              "      <td>1981-01-05</td>\n",
              "      <td>15.8</td>\n",
              "    </tr>\n",
              "  </tbody>\n",
              "</table>\n",
              "</div>"
            ],
            "text/plain": [
              "         Date  Temperature\n",
              "0  1981-01-01         20.7\n",
              "1  1981-01-02         17.9\n",
              "2  1981-01-03         18.8\n",
              "3  1981-01-04         14.6\n",
              "4  1981-01-05         15.8"
            ]
          },
          "metadata": {
            "tags": []
          },
          "execution_count": 5
        }
      ]
    },
    {
      "cell_type": "markdown",
      "metadata": {
        "id": "JGnWESz9BKx8",
        "colab_type": "text"
      },
      "source": [
        "### Set index column\n",
        "- Set the DataFrame index using \"Date\" column"
      ]
    },
    {
      "cell_type": "code",
      "metadata": {
        "id": "nFrbd_vd-eZP",
        "colab_type": "code",
        "colab": {}
      },
      "source": [
        "temp_df.set_index(\"Date\", inplace=True)"
      ],
      "execution_count": 0,
      "outputs": []
    },
    {
      "cell_type": "code",
      "metadata": {
        "id": "IjX_0PtV3qmS",
        "colab_type": "code",
        "colab": {
          "base_uri": "https://localhost:8080/",
          "height": 235
        },
        "outputId": "6807d3e0-8b0c-48cd-9fc9-0d204965a626"
      },
      "source": [
        "temp_df.head()"
      ],
      "execution_count": 9,
      "outputs": [
        {
          "output_type": "execute_result",
          "data": {
            "text/html": [
              "<div>\n",
              "<style scoped>\n",
              "    .dataframe tbody tr th:only-of-type {\n",
              "        vertical-align: middle;\n",
              "    }\n",
              "\n",
              "    .dataframe tbody tr th {\n",
              "        vertical-align: top;\n",
              "    }\n",
              "\n",
              "    .dataframe thead th {\n",
              "        text-align: right;\n",
              "    }\n",
              "</style>\n",
              "<table border=\"1\" class=\"dataframe\">\n",
              "  <thead>\n",
              "    <tr style=\"text-align: right;\">\n",
              "      <th></th>\n",
              "      <th>Temperature</th>\n",
              "    </tr>\n",
              "    <tr>\n",
              "      <th>Date</th>\n",
              "      <th></th>\n",
              "    </tr>\n",
              "  </thead>\n",
              "  <tbody>\n",
              "    <tr>\n",
              "      <th>1981-01-01</th>\n",
              "      <td>20.7</td>\n",
              "    </tr>\n",
              "    <tr>\n",
              "      <th>1981-01-02</th>\n",
              "      <td>17.9</td>\n",
              "    </tr>\n",
              "    <tr>\n",
              "      <th>1981-01-03</th>\n",
              "      <td>18.8</td>\n",
              "    </tr>\n",
              "    <tr>\n",
              "      <th>1981-01-04</th>\n",
              "      <td>14.6</td>\n",
              "    </tr>\n",
              "    <tr>\n",
              "      <th>1981-01-05</th>\n",
              "      <td>15.8</td>\n",
              "    </tr>\n",
              "  </tbody>\n",
              "</table>\n",
              "</div>"
            ],
            "text/plain": [
              "            Temperature\n",
              "Date                   \n",
              "1981-01-01         20.7\n",
              "1981-01-02         17.9\n",
              "1981-01-03         18.8\n",
              "1981-01-04         14.6\n",
              "1981-01-05         15.8"
            ]
          },
          "metadata": {
            "tags": []
          },
          "execution_count": 9
        }
      ]
    },
    {
      "cell_type": "markdown",
      "metadata": {
        "id": "sS7IVXq7B1P1",
        "colab_type": "text"
      },
      "source": [
        "## Question 2"
      ]
    },
    {
      "cell_type": "markdown",
      "metadata": {
        "id": "PcgAOybZCc5-",
        "colab_type": "text"
      },
      "source": [
        "### Check the total count of null values in the data"
      ]
    },
    {
      "cell_type": "code",
      "metadata": {
        "id": "UTMe5jdCCj4k",
        "colab_type": "code",
        "colab": {
          "base_uri": "https://localhost:8080/",
          "height": 34
        },
        "outputId": "f6b229c3-4674-439d-b118-cc3ee69a0ada"
      },
      "source": [
        "temp_df.shape"
      ],
      "execution_count": 11,
      "outputs": [
        {
          "output_type": "execute_result",
          "data": {
            "text/plain": [
              "(3650, 1)"
            ]
          },
          "metadata": {
            "tags": []
          },
          "execution_count": 11
        }
      ]
    },
    {
      "cell_type": "code",
      "metadata": {
        "id": "oAtOVzOo342W",
        "colab_type": "code",
        "colab": {
          "base_uri": "https://localhost:8080/",
          "height": 51
        },
        "outputId": "297d387b-a206-4171-c6a8-15aa1bfcdbd4"
      },
      "source": [
        "temp_df.isna().sum()"
      ],
      "execution_count": 13,
      "outputs": [
        {
          "output_type": "execute_result",
          "data": {
            "text/plain": [
              "Temperature    0\n",
              "dtype: int64"
            ]
          },
          "metadata": {
            "tags": []
          },
          "execution_count": 13
        }
      ]
    },
    {
      "cell_type": "code",
      "metadata": {
        "id": "lxjVWaQi4oJ0",
        "colab_type": "code",
        "colab": {
          "base_uri": "https://localhost:8080/",
          "height": 119
        },
        "outputId": "89058f82-4f9f-46c8-a02d-16a329332a6f"
      },
      "source": [
        "temp_df.info()"
      ],
      "execution_count": 15,
      "outputs": [
        {
          "output_type": "stream",
          "text": [
            "<class 'pandas.core.frame.DataFrame'>\n",
            "Index: 3650 entries, 1981-01-01 to 1990-12-31\n",
            "Data columns (total 1 columns):\n",
            "Temperature    3650 non-null float64\n",
            "dtypes: float64(1)\n",
            "memory usage: 217.0+ KB\n"
          ],
          "name": "stdout"
        }
      ]
    },
    {
      "cell_type": "code",
      "metadata": {
        "id": "T11a7EGw4yd4",
        "colab_type": "code",
        "colab": {}
      },
      "source": [
        ""
      ],
      "execution_count": 0,
      "outputs": []
    },
    {
      "cell_type": "markdown",
      "metadata": {
        "id": "Ua-AeW2YC3kY",
        "colab_type": "text"
      },
      "source": [
        "### Drop all the rows with null values\n",
        "- use dropna() method"
      ]
    },
    {
      "cell_type": "code",
      "metadata": {
        "id": "9l9UeA6YC8RV",
        "colab_type": "code",
        "colab": {
          "base_uri": "https://localhost:8080/",
          "height": 1000
        },
        "outputId": "86949349-4466-4ca4-f7b7-adfffccbc142"
      },
      "source": [
        "temp_df.dropna()"
      ],
      "execution_count": 14,
      "outputs": [
        {
          "output_type": "execute_result",
          "data": {
            "text/html": [
              "<div>\n",
              "<style scoped>\n",
              "    .dataframe tbody tr th:only-of-type {\n",
              "        vertical-align: middle;\n",
              "    }\n",
              "\n",
              "    .dataframe tbody tr th {\n",
              "        vertical-align: top;\n",
              "    }\n",
              "\n",
              "    .dataframe thead th {\n",
              "        text-align: right;\n",
              "    }\n",
              "</style>\n",
              "<table border=\"1\" class=\"dataframe\">\n",
              "  <thead>\n",
              "    <tr style=\"text-align: right;\">\n",
              "      <th></th>\n",
              "      <th>Temperature</th>\n",
              "    </tr>\n",
              "    <tr>\n",
              "      <th>Date</th>\n",
              "      <th></th>\n",
              "    </tr>\n",
              "  </thead>\n",
              "  <tbody>\n",
              "    <tr>\n",
              "      <th>1981-01-01</th>\n",
              "      <td>20.7</td>\n",
              "    </tr>\n",
              "    <tr>\n",
              "      <th>1981-01-02</th>\n",
              "      <td>17.9</td>\n",
              "    </tr>\n",
              "    <tr>\n",
              "      <th>1981-01-03</th>\n",
              "      <td>18.8</td>\n",
              "    </tr>\n",
              "    <tr>\n",
              "      <th>1981-01-04</th>\n",
              "      <td>14.6</td>\n",
              "    </tr>\n",
              "    <tr>\n",
              "      <th>1981-01-05</th>\n",
              "      <td>15.8</td>\n",
              "    </tr>\n",
              "    <tr>\n",
              "      <th>1981-01-06</th>\n",
              "      <td>15.8</td>\n",
              "    </tr>\n",
              "    <tr>\n",
              "      <th>1981-01-07</th>\n",
              "      <td>15.8</td>\n",
              "    </tr>\n",
              "    <tr>\n",
              "      <th>1981-01-08</th>\n",
              "      <td>17.4</td>\n",
              "    </tr>\n",
              "    <tr>\n",
              "      <th>1981-01-09</th>\n",
              "      <td>21.8</td>\n",
              "    </tr>\n",
              "    <tr>\n",
              "      <th>1981-01-10</th>\n",
              "      <td>20.0</td>\n",
              "    </tr>\n",
              "    <tr>\n",
              "      <th>1981-01-11</th>\n",
              "      <td>16.2</td>\n",
              "    </tr>\n",
              "    <tr>\n",
              "      <th>1981-01-12</th>\n",
              "      <td>13.3</td>\n",
              "    </tr>\n",
              "    <tr>\n",
              "      <th>1981-01-13</th>\n",
              "      <td>16.7</td>\n",
              "    </tr>\n",
              "    <tr>\n",
              "      <th>1981-01-14</th>\n",
              "      <td>21.5</td>\n",
              "    </tr>\n",
              "    <tr>\n",
              "      <th>1981-01-15</th>\n",
              "      <td>25.0</td>\n",
              "    </tr>\n",
              "    <tr>\n",
              "      <th>1981-01-16</th>\n",
              "      <td>20.7</td>\n",
              "    </tr>\n",
              "    <tr>\n",
              "      <th>1981-01-17</th>\n",
              "      <td>20.6</td>\n",
              "    </tr>\n",
              "    <tr>\n",
              "      <th>1981-01-18</th>\n",
              "      <td>24.8</td>\n",
              "    </tr>\n",
              "    <tr>\n",
              "      <th>1981-01-19</th>\n",
              "      <td>17.7</td>\n",
              "    </tr>\n",
              "    <tr>\n",
              "      <th>1981-01-20</th>\n",
              "      <td>15.5</td>\n",
              "    </tr>\n",
              "    <tr>\n",
              "      <th>1981-01-21</th>\n",
              "      <td>18.2</td>\n",
              "    </tr>\n",
              "    <tr>\n",
              "      <th>1981-01-22</th>\n",
              "      <td>12.1</td>\n",
              "    </tr>\n",
              "    <tr>\n",
              "      <th>1981-01-23</th>\n",
              "      <td>14.4</td>\n",
              "    </tr>\n",
              "    <tr>\n",
              "      <th>1981-01-24</th>\n",
              "      <td>16.0</td>\n",
              "    </tr>\n",
              "    <tr>\n",
              "      <th>1981-01-25</th>\n",
              "      <td>16.5</td>\n",
              "    </tr>\n",
              "    <tr>\n",
              "      <th>1981-01-26</th>\n",
              "      <td>18.7</td>\n",
              "    </tr>\n",
              "    <tr>\n",
              "      <th>1981-01-27</th>\n",
              "      <td>19.4</td>\n",
              "    </tr>\n",
              "    <tr>\n",
              "      <th>1981-01-28</th>\n",
              "      <td>17.2</td>\n",
              "    </tr>\n",
              "    <tr>\n",
              "      <th>1981-01-29</th>\n",
              "      <td>15.5</td>\n",
              "    </tr>\n",
              "    <tr>\n",
              "      <th>1981-01-30</th>\n",
              "      <td>15.1</td>\n",
              "    </tr>\n",
              "    <tr>\n",
              "      <th>...</th>\n",
              "      <td>...</td>\n",
              "    </tr>\n",
              "    <tr>\n",
              "      <th>1990-12-02</th>\n",
              "      <td>13.2</td>\n",
              "    </tr>\n",
              "    <tr>\n",
              "      <th>1990-12-03</th>\n",
              "      <td>16.2</td>\n",
              "    </tr>\n",
              "    <tr>\n",
              "      <th>1990-12-04</th>\n",
              "      <td>17.3</td>\n",
              "    </tr>\n",
              "    <tr>\n",
              "      <th>1990-12-05</th>\n",
              "      <td>20.5</td>\n",
              "    </tr>\n",
              "    <tr>\n",
              "      <th>1990-12-06</th>\n",
              "      <td>20.2</td>\n",
              "    </tr>\n",
              "    <tr>\n",
              "      <th>1990-12-07</th>\n",
              "      <td>19.4</td>\n",
              "    </tr>\n",
              "    <tr>\n",
              "      <th>1990-12-08</th>\n",
              "      <td>15.5</td>\n",
              "    </tr>\n",
              "    <tr>\n",
              "      <th>1990-12-09</th>\n",
              "      <td>14.1</td>\n",
              "    </tr>\n",
              "    <tr>\n",
              "      <th>1990-12-10</th>\n",
              "      <td>11.0</td>\n",
              "    </tr>\n",
              "    <tr>\n",
              "      <th>1990-12-11</th>\n",
              "      <td>11.1</td>\n",
              "    </tr>\n",
              "    <tr>\n",
              "      <th>1990-12-12</th>\n",
              "      <td>14.0</td>\n",
              "    </tr>\n",
              "    <tr>\n",
              "      <th>1990-12-13</th>\n",
              "      <td>11.4</td>\n",
              "    </tr>\n",
              "    <tr>\n",
              "      <th>1990-12-14</th>\n",
              "      <td>12.5</td>\n",
              "    </tr>\n",
              "    <tr>\n",
              "      <th>1990-12-15</th>\n",
              "      <td>13.4</td>\n",
              "    </tr>\n",
              "    <tr>\n",
              "      <th>1990-12-16</th>\n",
              "      <td>13.6</td>\n",
              "    </tr>\n",
              "    <tr>\n",
              "      <th>1990-12-17</th>\n",
              "      <td>13.9</td>\n",
              "    </tr>\n",
              "    <tr>\n",
              "      <th>1990-12-18</th>\n",
              "      <td>17.2</td>\n",
              "    </tr>\n",
              "    <tr>\n",
              "      <th>1990-12-19</th>\n",
              "      <td>14.7</td>\n",
              "    </tr>\n",
              "    <tr>\n",
              "      <th>1990-12-20</th>\n",
              "      <td>15.4</td>\n",
              "    </tr>\n",
              "    <tr>\n",
              "      <th>1990-12-21</th>\n",
              "      <td>13.1</td>\n",
              "    </tr>\n",
              "    <tr>\n",
              "      <th>1990-12-22</th>\n",
              "      <td>13.2</td>\n",
              "    </tr>\n",
              "    <tr>\n",
              "      <th>1990-12-23</th>\n",
              "      <td>13.9</td>\n",
              "    </tr>\n",
              "    <tr>\n",
              "      <th>1990-12-24</th>\n",
              "      <td>10.0</td>\n",
              "    </tr>\n",
              "    <tr>\n",
              "      <th>1990-12-25</th>\n",
              "      <td>12.9</td>\n",
              "    </tr>\n",
              "    <tr>\n",
              "      <th>1990-12-26</th>\n",
              "      <td>14.6</td>\n",
              "    </tr>\n",
              "    <tr>\n",
              "      <th>1990-12-27</th>\n",
              "      <td>14.0</td>\n",
              "    </tr>\n",
              "    <tr>\n",
              "      <th>1990-12-28</th>\n",
              "      <td>13.6</td>\n",
              "    </tr>\n",
              "    <tr>\n",
              "      <th>1990-12-29</th>\n",
              "      <td>13.5</td>\n",
              "    </tr>\n",
              "    <tr>\n",
              "      <th>1990-12-30</th>\n",
              "      <td>15.7</td>\n",
              "    </tr>\n",
              "    <tr>\n",
              "      <th>1990-12-31</th>\n",
              "      <td>13.0</td>\n",
              "    </tr>\n",
              "  </tbody>\n",
              "</table>\n",
              "<p>3650 rows × 1 columns</p>\n",
              "</div>"
            ],
            "text/plain": [
              "            Temperature\n",
              "Date                   \n",
              "1981-01-01         20.7\n",
              "1981-01-02         17.9\n",
              "1981-01-03         18.8\n",
              "1981-01-04         14.6\n",
              "1981-01-05         15.8\n",
              "1981-01-06         15.8\n",
              "1981-01-07         15.8\n",
              "1981-01-08         17.4\n",
              "1981-01-09         21.8\n",
              "1981-01-10         20.0\n",
              "1981-01-11         16.2\n",
              "1981-01-12         13.3\n",
              "1981-01-13         16.7\n",
              "1981-01-14         21.5\n",
              "1981-01-15         25.0\n",
              "1981-01-16         20.7\n",
              "1981-01-17         20.6\n",
              "1981-01-18         24.8\n",
              "1981-01-19         17.7\n",
              "1981-01-20         15.5\n",
              "1981-01-21         18.2\n",
              "1981-01-22         12.1\n",
              "1981-01-23         14.4\n",
              "1981-01-24         16.0\n",
              "1981-01-25         16.5\n",
              "1981-01-26         18.7\n",
              "1981-01-27         19.4\n",
              "1981-01-28         17.2\n",
              "1981-01-29         15.5\n",
              "1981-01-30         15.1\n",
              "...                 ...\n",
              "1990-12-02         13.2\n",
              "1990-12-03         16.2\n",
              "1990-12-04         17.3\n",
              "1990-12-05         20.5\n",
              "1990-12-06         20.2\n",
              "1990-12-07         19.4\n",
              "1990-12-08         15.5\n",
              "1990-12-09         14.1\n",
              "1990-12-10         11.0\n",
              "1990-12-11         11.1\n",
              "1990-12-12         14.0\n",
              "1990-12-13         11.4\n",
              "1990-12-14         12.5\n",
              "1990-12-15         13.4\n",
              "1990-12-16         13.6\n",
              "1990-12-17         13.9\n",
              "1990-12-18         17.2\n",
              "1990-12-19         14.7\n",
              "1990-12-20         15.4\n",
              "1990-12-21         13.1\n",
              "1990-12-22         13.2\n",
              "1990-12-23         13.9\n",
              "1990-12-24         10.0\n",
              "1990-12-25         12.9\n",
              "1990-12-26         14.6\n",
              "1990-12-27         14.0\n",
              "1990-12-28         13.6\n",
              "1990-12-29         13.5\n",
              "1990-12-30         15.7\n",
              "1990-12-31         13.0\n",
              "\n",
              "[3650 rows x 1 columns]"
            ]
          },
          "metadata": {
            "tags": []
          },
          "execution_count": 14
        }
      ]
    },
    {
      "cell_type": "markdown",
      "metadata": {
        "id": "SJam5Ho-DHK7",
        "colab_type": "text"
      },
      "source": [
        "## Question 3"
      ]
    },
    {
      "cell_type": "markdown",
      "metadata": {
        "id": "3esUPJAMDzCJ",
        "colab_type": "text"
      },
      "source": [
        "### Describe your dataframe\n",
        "- use describe() method"
      ]
    },
    {
      "cell_type": "code",
      "metadata": {
        "id": "uhH8OwGVELyH",
        "colab_type": "code",
        "colab": {
          "base_uri": "https://localhost:8080/",
          "height": 297
        },
        "outputId": "31489b61-3e2c-4c68-9c26-96cb6497beca"
      },
      "source": [
        "temp_df.describe()"
      ],
      "execution_count": 17,
      "outputs": [
        {
          "output_type": "execute_result",
          "data": {
            "text/html": [
              "<div>\n",
              "<style scoped>\n",
              "    .dataframe tbody tr th:only-of-type {\n",
              "        vertical-align: middle;\n",
              "    }\n",
              "\n",
              "    .dataframe tbody tr th {\n",
              "        vertical-align: top;\n",
              "    }\n",
              "\n",
              "    .dataframe thead th {\n",
              "        text-align: right;\n",
              "    }\n",
              "</style>\n",
              "<table border=\"1\" class=\"dataframe\">\n",
              "  <thead>\n",
              "    <tr style=\"text-align: right;\">\n",
              "      <th></th>\n",
              "      <th>Temperature</th>\n",
              "    </tr>\n",
              "  </thead>\n",
              "  <tbody>\n",
              "    <tr>\n",
              "      <th>count</th>\n",
              "      <td>3650.000000</td>\n",
              "    </tr>\n",
              "    <tr>\n",
              "      <th>mean</th>\n",
              "      <td>11.177753</td>\n",
              "    </tr>\n",
              "    <tr>\n",
              "      <th>std</th>\n",
              "      <td>4.071837</td>\n",
              "    </tr>\n",
              "    <tr>\n",
              "      <th>min</th>\n",
              "      <td>0.000000</td>\n",
              "    </tr>\n",
              "    <tr>\n",
              "      <th>25%</th>\n",
              "      <td>8.300000</td>\n",
              "    </tr>\n",
              "    <tr>\n",
              "      <th>50%</th>\n",
              "      <td>11.000000</td>\n",
              "    </tr>\n",
              "    <tr>\n",
              "      <th>75%</th>\n",
              "      <td>14.000000</td>\n",
              "    </tr>\n",
              "    <tr>\n",
              "      <th>max</th>\n",
              "      <td>26.300000</td>\n",
              "    </tr>\n",
              "  </tbody>\n",
              "</table>\n",
              "</div>"
            ],
            "text/plain": [
              "       Temperature\n",
              "count  3650.000000\n",
              "mean     11.177753\n",
              "std       4.071837\n",
              "min       0.000000\n",
              "25%       8.300000\n",
              "50%      11.000000\n",
              "75%      14.000000\n",
              "max      26.300000"
            ]
          },
          "metadata": {
            "tags": []
          },
          "execution_count": 17
        }
      ]
    },
    {
      "cell_type": "markdown",
      "metadata": {
        "id": "bizrToFMB4ix",
        "colab_type": "text"
      },
      "source": [
        "### Plot the dataframe\n",
        "- use plot() method"
      ]
    },
    {
      "cell_type": "code",
      "metadata": {
        "id": "rNiXK6YZB30N",
        "colab_type": "code",
        "colab": {}
      },
      "source": [
        "import matplotlib.pyplot as plt\n",
        "import seaborn as sns"
      ],
      "execution_count": 0,
      "outputs": []
    },
    {
      "cell_type": "code",
      "metadata": {
        "id": "c1thVJLj5GpW",
        "colab_type": "code",
        "colab": {
          "base_uri": "https://localhost:8080/",
          "height": 286
        },
        "outputId": "ea536854-4c0a-455b-ef86-ea01799fbaf8"
      },
      "source": [
        "plt.plot(temp_df)"
      ],
      "execution_count": 20,
      "outputs": [
        {
          "output_type": "execute_result",
          "data": {
            "text/plain": [
              "[<matplotlib.lines.Line2D at 0x7f84baf0d3c8>]"
            ]
          },
          "metadata": {
            "tags": []
          },
          "execution_count": 20
        },
        {
          "output_type": "display_data",
          "data": {
            "image/png": "[encoded data removed]",
            "text/plain": [
              "<Figure size 432x288 with 1 Axes>"
            ]
          },
          "metadata": {
            "tags": []
          }
        }
      ]
    },
    {
      "cell_type": "markdown",
      "metadata": {
        "id": "OtI9ZGJqE1lh",
        "colab_type": "text"
      },
      "source": [
        "### Get representation of the distribution of data using histogram\n",
        "- use hist() method"
      ]
    },
    {
      "cell_type": "code",
      "metadata": {
        "id": "qan611HdE9nR",
        "colab_type": "code",
        "colab": {
          "base_uri": "https://localhost:8080/",
          "height": 337
        },
        "outputId": "709e280b-3120-48d6-85e9-4613f9003c6c"
      },
      "source": [
        "plt.hist(temp_df['Temperature'])"
      ],
      "execution_count": 21,
      "outputs": [
        {
          "output_type": "execute_result",
          "data": {
            "text/plain": [
              "(array([ 53., 181., 564., 862., 830., 670., 347., 102.,  32.,   9.]),\n",
              " array([ 0.  ,  2.63,  5.26,  7.89, 10.52, 13.15, 15.78, 18.41, 21.04,\n",
              "        23.67, 26.3 ]),\n",
              " <a list of 10 Patch objects>)"
            ]
          },
          "metadata": {
            "tags": []
          },
          "execution_count": 21
        },
        {
          "output_type": "display_data",
          "data": {
            "image/png": "[encoded data removed]",
            "text/plain": [
              "<Figure size 432x288 with 1 Axes>"
            ]
          },
          "metadata": {
            "tags": []
          }
        }
      ]
    },
    {
      "cell_type": "markdown",
      "metadata": {
        "id": "D8VDVRisHAsH",
        "colab_type": "text"
      },
      "source": [
        "### Check minimum and maximum temperature\n",
        "- use min() and max() methods"
      ]
    },
    {
      "cell_type": "code",
      "metadata": {
        "id": "xlwlVtRfG_qX",
        "colab_type": "code",
        "colab": {
          "base_uri": "https://localhost:8080/",
          "height": 34
        },
        "outputId": "cc0fae73-6692-456f-ffee-fb465498f2c0"
      },
      "source": [
        "np.min(temp_df['Temperature'])"
      ],
      "execution_count": 24,
      "outputs": [
        {
          "output_type": "execute_result",
          "data": {
            "text/plain": [
              "0.0"
            ]
          },
          "metadata": {
            "tags": []
          },
          "execution_count": 24
        }
      ]
    },
    {
      "cell_type": "code",
      "metadata": {
        "id": "abO5iWWAFFCJ",
        "colab_type": "code",
        "colab": {
          "base_uri": "https://localhost:8080/",
          "height": 34
        },
        "outputId": "b8c26187-1aa7-45d6-f0cb-79e7c8a1a245"
      },
      "source": [
        "np.max(temp_df['Temperature'])"
      ],
      "execution_count": 25,
      "outputs": [
        {
          "output_type": "execute_result",
          "data": {
            "text/plain": [
              "26.3"
            ]
          },
          "metadata": {
            "tags": []
          },
          "execution_count": 25
        }
      ]
    },
    {
      "cell_type": "code",
      "metadata": {
        "id": "x09KSHgq8W_U",
        "colab_type": "code",
        "colab": {}
      },
      "source": [
        ""
      ],
      "execution_count": 0,
      "outputs": []
    },
    {
      "cell_type": "code",
      "metadata": {
        "id": "hVYPqVK89Ey8",
        "colab_type": "code",
        "colab": {}
      },
      "source": [
        ""
      ],
      "execution_count": 0,
      "outputs": []
    },
    {
      "cell_type": "markdown",
      "metadata": {
        "id": "qTjD3zhSI_BD",
        "colab_type": "text"
      },
      "source": [
        "## Question 4"
      ]
    },
    {
      "cell_type": "markdown",
      "metadata": {
        "id": "QSDmmRxBMOO7",
        "colab_type": "text"
      },
      "source": [
        "### Split the dataset into training and testing\n",
        "- training data: 75%\n",
        "- testing data: 25%"
      ]
    },
    {
      "cell_type": "code",
      "metadata": {
        "id": "dbrspzBVM6Gg",
        "colab_type": "code",
        "colab": {}
      },
      "source": [
        "train_size = int(len(temp_df)*0.75)\n",
        "test_size = len(temp_df) - train_size"
      ],
      "execution_count": 0,
      "outputs": []
    },
    {
      "cell_type": "code",
      "metadata": {
        "id": "GFFKbVzD-bDI",
        "colab_type": "code",
        "colab": {
          "base_uri": "https://localhost:8080/",
          "height": 34
        },
        "outputId": "132b31fe-cae3-4caa-8527-0eebf204e38a"
      },
      "source": [
        "train_size"
      ],
      "execution_count": 42,
      "outputs": [
        {
          "output_type": "execute_result",
          "data": {
            "text/plain": [
              "2737"
            ]
          },
          "metadata": {
            "tags": []
          },
          "execution_count": 42
        }
      ]
    },
    {
      "cell_type": "code",
      "metadata": {
        "id": "dvHBgljl-eBQ",
        "colab_type": "code",
        "colab": {
          "base_uri": "https://localhost:8080/",
          "height": 34
        },
        "outputId": "caa66e93-770b-4625-bfae-88b968bd7371"
      },
      "source": [
        "test_size"
      ],
      "execution_count": 43,
      "outputs": [
        {
          "output_type": "execute_result",
          "data": {
            "text/plain": [
              "913"
            ]
          },
          "metadata": {
            "tags": []
          },
          "execution_count": 43
        }
      ]
    },
    {
      "cell_type": "code",
      "metadata": {
        "id": "e30H0Rtg9cyd",
        "colab_type": "code",
        "colab": {}
      },
      "source": [
        "train_data = temp_df.iloc[0:train_size, :]\n",
        "test_data = temp_df.iloc[test_size:len(temp_df), :]"
      ],
      "execution_count": 0,
      "outputs": []
    },
    {
      "cell_type": "code",
      "metadata": {
        "id": "vYlxjRDj6a7E",
        "colab_type": "code",
        "colab": {}
      },
      "source": [
        ""
      ],
      "execution_count": 0,
      "outputs": []
    },
    {
      "cell_type": "markdown",
      "metadata": {
        "id": "eEgBn5JkKwrZ",
        "colab_type": "text"
      },
      "source": [
        "### Normalize the data\n",
        "- normalize temperature values using MinMaxScaler\n",
        "- feature_range: 0-1\n",
        "- fit MinMaxScaler on train data and transform it\n",
        "  - use fit_transform() method\n",
        "- transform test data using MinMaxScaler object\n",
        "  - use transform() method"
      ]
    },
    {
      "cell_type": "code",
      "metadata": {
        "id": "OqDcm7tbI19Z",
        "colab_type": "code",
        "colab": {}
      },
      "source": [
        "from sklearn.preprocessing import MinMaxScaler"
      ],
      "execution_count": 0,
      "outputs": []
    },
    {
      "cell_type": "code",
      "metadata": {
        "id": "658I-XRoAGa6",
        "colab_type": "code",
        "colab": {}
      },
      "source": [
        "scaler = MinMaxScaler(feature_range=(0, 1))\n",
        "train_df = scaler.fit_transform(train_data)\n",
        "test_df = scaler.transform(test_data)"
      ],
      "execution_count": 0,
      "outputs": []
    },
    {
      "cell_type": "markdown",
      "metadata": {
        "id": "4HjbO8gRQ3M1",
        "colab_type": "text"
      },
      "source": [
        "### Print scaled train and test data\n",
        "- print only first 5 values"
      ]
    },
    {
      "cell_type": "code",
      "metadata": {
        "id": "U_WDZwKxRBRx",
        "colab_type": "code",
        "colab": {
          "base_uri": "https://localhost:8080/",
          "height": 102
        },
        "outputId": "10a2d8c1-905d-4da0-c98e-cd6ae1c6c6c1"
      },
      "source": [
        "train_df[0:5,:]"
      ],
      "execution_count": 52,
      "outputs": [
        {
          "output_type": "execute_result",
          "data": {
            "text/plain": [
              "array([[0.78707224],\n",
              "       [0.68060837],\n",
              "       [0.7148289 ],\n",
              "       [0.55513308],\n",
              "       [0.60076046]])"
            ]
          },
          "metadata": {
            "tags": []
          },
          "execution_count": 52
        }
      ]
    },
    {
      "cell_type": "code",
      "metadata": {
        "id": "vYlwALHrRGcX",
        "colab_type": "code",
        "colab": {
          "base_uri": "https://localhost:8080/",
          "height": 102
        },
        "outputId": "4d38d87e-1b27-4414-f921-f1d23001e3d8"
      },
      "source": [
        "test_df[0:5,:]"
      ],
      "execution_count": 53,
      "outputs": [
        {
          "output_type": "execute_result",
          "data": {
            "text/plain": [
              "array([[0.36121673],\n",
              "       [0.27376426],\n",
              "       [0.30798479],\n",
              "       [0.30418251],\n",
              "       [0.32319392]])"
            ]
          },
          "metadata": {
            "tags": []
          },
          "execution_count": 53
        }
      ]
    },
    {
      "cell_type": "markdown",
      "metadata": {
        "id": "JB5lHp94RQWY",
        "colab_type": "text"
      },
      "source": [
        "## Question 5"
      ]
    },
    {
      "cell_type": "markdown",
      "metadata": {
        "id": "kVqNUf00RSiv",
        "colab_type": "text"
      },
      "source": [
        "### Create sequential data\n",
        "Map the temperature at a particular day 'd' to the temperature at day t\n",
        "'d+n', where n is any number you define.\n",
        "\n",
        "For example: to map temperatures of consecutive days, use d+1, i.e. lookback = 1\n",
        "- Below function takes data as input and returns sequential data.\n",
        "- X as features and y as labels"
      ]
    },
    {
      "cell_type": "code",
      "metadata": {
        "id": "AtxhXruAWws-",
        "colab_type": "code",
        "colab": {}
      },
      "source": [
        "import numpy as np\n",
        "def create_seq_data(data, lookback=1):\n",
        "  X, y = list(), list()\n",
        "  \n",
        "  for day in range((len(data)-lookback)):\n",
        "    X.append(data[day: day+lookback, 0])\n",
        "    y.append(data[day+lookback, 0])\n",
        "  return np.array(X), np.array(y)"
      ],
      "execution_count": 0,
      "outputs": []
    },
    {
      "cell_type": "markdown",
      "metadata": {
        "id": "VMBJpuDQJzcG",
        "colab_type": "text"
      },
      "source": [
        "### Use the above function to create train and test sets\n",
        "- Get X_train and y_train\n",
        "- Get X_test and y_test\n",
        "- lookback = 1"
      ]
    },
    {
      "cell_type": "code",
      "metadata": {
        "id": "Uq6GGmJ0Zqem",
        "colab_type": "code",
        "colab": {}
      },
      "source": [
        "X_train,y_train = create_seq_data(train_df)\n",
        "X_test, y_test = create_seq_data(test_df)"
      ],
      "execution_count": 0,
      "outputs": []
    },
    {
      "cell_type": "code",
      "metadata": {
        "id": "758gUEgbB8Z7",
        "colab_type": "code",
        "colab": {}
      },
      "source": [
        ""
      ],
      "execution_count": 0,
      "outputs": []
    },
    {
      "cell_type": "markdown",
      "metadata": {
        "id": "-E2iixEfK0Px",
        "colab_type": "text"
      },
      "source": [
        "### Reshape the data\n",
        "- Reshape X_train and X_test\n",
        "- use np.reshape() method\n",
        "- this is to be done to make the data ready for input in model"
      ]
    },
    {
      "cell_type": "code",
      "metadata": {
        "id": "X3qhXEqoZxQ3",
        "colab_type": "code",
        "colab": {}
      },
      "source": [
        "X_train = np.reshape(X_train, (X_train.shape[0], X_train.shape[1],1))\n",
        "X_test = np.reshape(X_test, (X_test.shape[0], X_test.shape[1],1))"
      ],
      "execution_count": 0,
      "outputs": []
    },
    {
      "cell_type": "markdown",
      "metadata": {
        "id": "zKZ8SALZcuNB",
        "colab_type": "text"
      },
      "source": [
        "### Print shape of data\n",
        "- print shape of X_train and X_test"
      ]
    },
    {
      "cell_type": "code",
      "metadata": {
        "id": "OSg_rbP6c_HI",
        "colab_type": "code",
        "colab": {
          "base_uri": "https://localhost:8080/",
          "height": 34
        },
        "outputId": "35203c47-4c61-4e86-c130-c84035a7bf7b"
      },
      "source": [
        "X_train.shape"
      ],
      "execution_count": 71,
      "outputs": [
        {
          "output_type": "execute_result",
          "data": {
            "text/plain": [
              "(2736, 1, 1)"
            ]
          },
          "metadata": {
            "tags": []
          },
          "execution_count": 71
        }
      ]
    },
    {
      "cell_type": "code",
      "metadata": {
        "id": "3nA3PYZYCPBK",
        "colab_type": "code",
        "colab": {
          "base_uri": "https://localhost:8080/",
          "height": 34
        },
        "outputId": "a9e7b4e9-9e39-48dd-fbb6-6da0297669a1"
      },
      "source": [
        "X_test.shape"
      ],
      "execution_count": 72,
      "outputs": [
        {
          "output_type": "execute_result",
          "data": {
            "text/plain": [
              "(2736, 1, 1)"
            ]
          },
          "metadata": {
            "tags": []
          },
          "execution_count": 72
        }
      ]
    },
    {
      "cell_type": "markdown",
      "metadata": {
        "id": "emGjaYZ5dfRq",
        "colab_type": "text"
      },
      "source": [
        "## Question 6"
      ]
    },
    {
      "cell_type": "markdown",
      "metadata": {
        "id": "7fk2Ze24dsXw",
        "colab_type": "text"
      },
      "source": [
        "### Define sequential model\n",
        "- initialize a Sequential model\n",
        "- add an LSTM layer\n",
        "  - units: 10\n",
        "  - stateful: True\n",
        "  - pass a `batch_input_shape` argument to your layer\n",
        "  - batch_input_shape: (batch_size, look_back, 1)\n",
        "    - batch_size: 1\n",
        "    - look_back: 1\n",
        "- add Dense layer with 1 neuron"
      ]
    },
    {
      "cell_type": "code",
      "metadata": {
        "id": "eXU6UNt4dhJz",
        "colab_type": "code",
        "colab": {
          "base_uri": "https://localhost:8080/",
          "height": 156
        },
        "outputId": "e205ce19-8bad-4eed-9a97-226c36d06e1a"
      },
      "source": [
        "from keras.models import Sequential\n",
        "from keras.layers import GRU, Dense\n",
        "from keras.layers import LSTM\n",
        "from keras  import callbacks\n",
        "from keras import optimizers\n",
        "\n",
        "look_back = 1\n",
        "batch_size = 1\n",
        "model = Sequential()\n",
        "model.add(LSTM(4, batch_input_shape=(batch_size, look_back, 1), stateful=True))\n",
        "model.add(Dense(1))\n"
      ],
      "execution_count": 73,
      "outputs": [
        {
          "output_type": "stream",
          "text": [
            "Using TensorFlow backend.\n"
          ],
          "name": "stderr"
        },
        {
          "output_type": "stream",
          "text": [
            "WARNING:tensorflow:From /usr/local/lib/python3.6/dist-packages/keras/backend/tensorflow_backend.py:66: The name tf.get_default_graph is deprecated. Please use tf.compat.v1.get_default_graph instead.\n",
            "\n",
            "WARNING:tensorflow:From /usr/local/lib/python3.6/dist-packages/keras/backend/tensorflow_backend.py:541: The name tf.placeholder is deprecated. Please use tf.compat.v1.placeholder instead.\n",
            "\n",
            "WARNING:tensorflow:From /usr/local/lib/python3.6/dist-packages/keras/backend/tensorflow_backend.py:4432: The name tf.random_uniform is deprecated. Please use tf.random.uniform instead.\n",
            "\n"
          ],
          "name": "stdout"
        }
      ]
    },
    {
      "cell_type": "markdown",
      "metadata": {
        "id": "cLymvPFzEQSp",
        "colab_type": "text"
      },
      "source": [
        "## Question 7"
      ]
    },
    {
      "cell_type": "markdown",
      "metadata": {
        "id": "AZmlvbcMrCTh",
        "colab_type": "text"
      },
      "source": [
        "### compile your model\n",
        "- loss: mean_squared_error\n",
        "- optimizer: adam"
      ]
    },
    {
      "cell_type": "code",
      "metadata": {
        "id": "TrcHrSdtg62Q",
        "colab_type": "code",
        "colab": {
          "base_uri": "https://localhost:8080/",
          "height": 71
        },
        "outputId": "cc22a690-7e78-411f-95a0-859b0c0c08d2"
      },
      "source": [
        "model.compile(optimizer='adam', loss='mean_squared_error')"
      ],
      "execution_count": 74,
      "outputs": [
        {
          "output_type": "stream",
          "text": [
            "WARNING:tensorflow:From /usr/local/lib/python3.6/dist-packages/keras/optimizers.py:793: The name tf.train.Optimizer is deprecated. Please use tf.compat.v1.train.Optimizer instead.\n",
            "\n"
          ],
          "name": "stdout"
        }
      ]
    },
    {
      "cell_type": "markdown",
      "metadata": {
        "id": "WWAoHdFurJN5",
        "colab_type": "text"
      },
      "source": [
        "### summarize your model\n",
        "- use summary() method"
      ]
    },
    {
      "cell_type": "code",
      "metadata": {
        "id": "UlIaCMtBrPU2",
        "colab_type": "code",
        "colab": {
          "base_uri": "https://localhost:8080/",
          "height": 221
        },
        "outputId": "b4e674d7-30e9-4a62-d9fc-6fa512ee47ed"
      },
      "source": [
        "model.summary()"
      ],
      "execution_count": 75,
      "outputs": [
        {
          "output_type": "stream",
          "text": [
            "Model: \"sequential_1\"\n",
            "_________________________________________________________________\n",
            "Layer (type)                 Output Shape              Param #   \n",
            "=================================================================\n",
            "lstm_1 (LSTM)                (1, 4)                    96        \n",
            "_________________________________________________________________\n",
            "dense_1 (Dense)              (1, 1)                    5         \n",
            "=================================================================\n",
            "Total params: 101\n",
            "Trainable params: 101\n",
            "Non-trainable params: 0\n",
            "_________________________________________________________________\n"
          ],
          "name": "stdout"
        }
      ]
    },
    {
      "cell_type": "markdown",
      "metadata": {
        "id": "dq5a3i6uEcJI",
        "colab_type": "text"
      },
      "source": [
        "## Question 8"
      ]
    },
    {
      "cell_type": "markdown",
      "metadata": {
        "id": "0Ca3CFhOrf83",
        "colab_type": "text"
      },
      "source": [
        "### fit your model\n",
        "- epochs: 50\n",
        "- batch_size: 1"
      ]
    },
    {
      "cell_type": "code",
      "metadata": {
        "id": "BbuB-XGPhH6h",
        "colab_type": "code",
        "colab": {
          "base_uri": "https://localhost:8080/",
          "height": 1000
        },
        "outputId": "2cf6eee1-5713-486b-d7ba-4afe8a9f45df"
      },
      "source": [
        "model.fit(X_train, y_train, batch_size=1, epochs=50)"
      ],
      "execution_count": 76,
      "outputs": [
        {
          "output_type": "stream",
          "text": [
            "WARNING:tensorflow:From /usr/local/lib/python3.6/dist-packages/tensorflow_core/python/ops/math_grad.py:1424: where (from tensorflow.python.ops.array_ops) is deprecated and will be removed in a future version.\n",
            "Instructions for updating:\n",
            "Use tf.where in 2.0, which has the same broadcast rule as np.where\n",
            "WARNING:tensorflow:From /usr/local/lib/python3.6/dist-packages/keras/backend/tensorflow_backend.py:1033: The name tf.assign_add is deprecated. Please use tf.compat.v1.assign_add instead.\n",
            "\n",
            "WARNING:tensorflow:From /usr/local/lib/python3.6/dist-packages/keras/backend/tensorflow_backend.py:1020: The name tf.assign is deprecated. Please use tf.compat.v1.assign instead.\n",
            "\n",
            "WARNING:tensorflow:From /usr/local/lib/python3.6/dist-packages/keras/backend/tensorflow_backend.py:3005: The name tf.Session is deprecated. Please use tf.compat.v1.Session instead.\n",
            "\n",
            "Epoch 1/50\n",
            "WARNING:tensorflow:From /usr/local/lib/python3.6/dist-packages/keras/backend/tensorflow_backend.py:190: The name tf.get_default_session is deprecated. Please use tf.compat.v1.get_default_session instead.\n",
            "\n",
            "WARNING:tensorflow:From /usr/local/lib/python3.6/dist-packages/keras/backend/tensorflow_backend.py:197: The name tf.ConfigProto is deprecated. Please use tf.compat.v1.ConfigProto instead.\n",
            "\n",
            "WARNING:tensorflow:From /usr/local/lib/python3.6/dist-packages/keras/backend/tensorflow_backend.py:207: The name tf.global_variables is deprecated. Please use tf.compat.v1.global_variables instead.\n",
            "\n",
            "WARNING:tensorflow:From /usr/local/lib/python3.6/dist-packages/keras/backend/tensorflow_backend.py:216: The name tf.is_variable_initialized is deprecated. Please use tf.compat.v1.is_variable_initialized instead.\n",
            "\n",
            "WARNING:tensorflow:From /usr/local/lib/python3.6/dist-packages/keras/backend/tensorflow_backend.py:223: The name tf.variables_initializer is deprecated. Please use tf.compat.v1.variables_initializer instead.\n",
            "\n",
            "2736/2736 [==============================] - 5s 2ms/step - loss: 0.0200\n",
            "Epoch 2/50\n",
            "2736/2736 [==============================] - 4s 2ms/step - loss: 0.0147\n",
            "Epoch 3/50\n",
            "2736/2736 [==============================] - 4s 2ms/step - loss: 0.0131\n",
            "Epoch 4/50\n",
            "2736/2736 [==============================] - 4s 2ms/step - loss: 0.0121\n",
            "Epoch 5/50\n",
            "2736/2736 [==============================] - 4s 2ms/step - loss: 0.0114\n",
            "Epoch 6/50\n",
            "2736/2736 [==============================] - 4s 2ms/step - loss: 0.0113\n",
            "Epoch 7/50\n",
            "2736/2736 [==============================] - 4s 2ms/step - loss: 0.0111\n",
            "Epoch 8/50\n",
            "2736/2736 [==============================] - 4s 2ms/step - loss: 0.0113\n",
            "Epoch 9/50\n",
            "2736/2736 [==============================] - 4s 2ms/step - loss: 0.0107\n",
            "Epoch 10/50\n",
            "2736/2736 [==============================] - 4s 2ms/step - loss: 0.0105\n",
            "Epoch 11/50\n",
            "2736/2736 [==============================] - 4s 2ms/step - loss: 0.0104\n",
            "Epoch 12/50\n",
            "2736/2736 [==============================] - 4s 2ms/step - loss: 0.0102\n",
            "Epoch 13/50\n",
            "2736/2736 [==============================] - 4s 2ms/step - loss: 0.0101\n",
            "Epoch 14/50\n",
            "2736/2736 [==============================] - 4s 2ms/step - loss: 0.0101\n",
            "Epoch 15/50\n",
            "2736/2736 [==============================] - 4s 2ms/step - loss: 0.0100\n",
            "Epoch 16/50\n",
            "2736/2736 [==============================] - 4s 2ms/step - loss: 0.0100\n",
            "Epoch 17/50\n",
            "2736/2736 [==============================] - 4s 2ms/step - loss: 0.0100\n",
            "Epoch 18/50\n",
            "2736/2736 [==============================] - 4s 2ms/step - loss: 0.0100\n",
            "Epoch 19/50\n",
            "2736/2736 [==============================] - 4s 2ms/step - loss: 0.0100\n",
            "Epoch 20/50\n",
            "2736/2736 [==============================] - 4s 2ms/step - loss: 0.0100\n",
            "Epoch 21/50\n",
            "2736/2736 [==============================] - 4s 2ms/step - loss: 0.0100\n",
            "Epoch 22/50\n",
            "2736/2736 [==============================] - 4s 2ms/step - loss: 0.0100\n",
            "Epoch 23/50\n",
            "2736/2736 [==============================] - 4s 2ms/step - loss: 0.0099\n",
            "Epoch 24/50\n",
            "2736/2736 [==============================] - 4s 2ms/step - loss: 0.0099\n",
            "Epoch 25/50\n",
            "2736/2736 [==============================] - 4s 2ms/step - loss: 0.0099\n",
            "Epoch 26/50\n",
            "2736/2736 [==============================] - 4s 2ms/step - loss: 0.0099\n",
            "Epoch 27/50\n",
            "2736/2736 [==============================] - 4s 2ms/step - loss: 0.0100\n",
            "Epoch 28/50\n",
            "2736/2736 [==============================] - 4s 2ms/step - loss: 0.0099\n",
            "Epoch 29/50\n",
            "2736/2736 [==============================] - 4s 2ms/step - loss: 0.0100\n",
            "Epoch 30/50\n",
            "2736/2736 [==============================] - 4s 2ms/step - loss: 0.0099\n",
            "Epoch 31/50\n",
            "2736/2736 [==============================] - 4s 2ms/step - loss: 0.0100\n",
            "Epoch 32/50\n",
            "2736/2736 [==============================] - 5s 2ms/step - loss: 0.0099\n",
            "Epoch 33/50\n",
            "2736/2736 [==============================] - 5s 2ms/step - loss: 0.0099\n",
            "Epoch 34/50\n",
            "2736/2736 [==============================] - 4s 2ms/step - loss: 0.0099\n",
            "Epoch 35/50\n",
            "2736/2736 [==============================] - 4s 2ms/step - loss: 0.0099\n",
            "Epoch 36/50\n",
            "2736/2736 [==============================] - 4s 2ms/step - loss: 0.0100\n",
            "Epoch 37/50\n",
            "2736/2736 [==============================] - 4s 2ms/step - loss: 0.0099\n",
            "Epoch 38/50\n",
            "2736/2736 [==============================] - 4s 2ms/step - loss: 0.0100\n",
            "Epoch 39/50\n",
            "2736/2736 [==============================] - 4s 2ms/step - loss: 0.0099\n",
            "Epoch 40/50\n",
            "2736/2736 [==============================] - 4s 2ms/step - loss: 0.0099\n",
            "Epoch 41/50\n",
            "2736/2736 [==============================] - 4s 2ms/step - loss: 0.0100\n",
            "Epoch 42/50\n",
            "2736/2736 [==============================] - 4s 2ms/step - loss: 0.0100\n",
            "Epoch 43/50\n",
            "2736/2736 [==============================] - 4s 2ms/step - loss: 0.0099\n",
            "Epoch 44/50\n",
            "2736/2736 [==============================] - 4s 2ms/step - loss: 0.0099\n",
            "Epoch 45/50\n",
            "2736/2736 [==============================] - 4s 2ms/step - loss: 0.0099\n",
            "Epoch 46/50\n",
            "2736/2736 [==============================] - 4s 2ms/step - loss: 0.0099\n",
            "Epoch 47/50\n",
            "2736/2736 [==============================] - 4s 2ms/step - loss: 0.0099\n",
            "Epoch 48/50\n",
            "2736/2736 [==============================] - 4s 2ms/step - loss: 0.0099\n",
            "Epoch 49/50\n",
            "2736/2736 [==============================] - 4s 2ms/step - loss: 0.0100\n",
            "Epoch 50/50\n",
            "2736/2736 [==============================] - 4s 2ms/step - loss: 0.0099\n"
          ],
          "name": "stdout"
        },
        {
          "output_type": "execute_result",
          "data": {
            "text/plain": [
              "<keras.callbacks.History at 0x7f849e4bec18>"
            ]
          },
          "metadata": {
            "tags": []
          },
          "execution_count": 76
        }
      ]
    },
    {
      "cell_type": "markdown",
      "metadata": {
        "id": "hqRlEmbjEqyG",
        "colab_type": "text"
      },
      "source": [
        "## Question 9"
      ]
    },
    {
      "cell_type": "markdown",
      "metadata": {
        "id": "12IhOtvUHJBF",
        "colab_type": "text"
      },
      "source": [
        "### make predictions on train data\n",
        "- use predict() method\n",
        "  - batch_size: 1\n",
        "- store predictions in a variable"
      ]
    },
    {
      "cell_type": "code",
      "metadata": {
        "id": "iXWuJikQHURm",
        "colab_type": "code",
        "colab": {}
      },
      "source": [
        "trainPredict = model.predict(X_train, batch_size=1)"
      ],
      "execution_count": 0,
      "outputs": []
    },
    {
      "cell_type": "markdown",
      "metadata": {
        "id": "XxxWOa-PsieH",
        "colab_type": "text"
      },
      "source": [
        "### reset model state\n",
        "- if you are using stateful=True in your model then you should call reset_states every time, when you want to make consecutive model calls independent.\n",
        "- use reset_states() method"
      ]
    },
    {
      "cell_type": "code",
      "metadata": {
        "id": "ZdV5_F1Eo8SY",
        "colab_type": "code",
        "colab": {}
      },
      "source": [
        "model.reset_states()"
      ],
      "execution_count": 0,
      "outputs": []
    },
    {
      "cell_type": "markdown",
      "metadata": {
        "colab_type": "text",
        "id": "KAhziPVBJD0u"
      },
      "source": [
        "### make predictions on test data\n",
        "- use predict() method\n",
        "  - batch_size: 1\n",
        "- store predictions in a variable"
      ]
    },
    {
      "cell_type": "code",
      "metadata": {
        "id": "HuHopEXNJU_y",
        "colab_type": "code",
        "colab": {}
      },
      "source": [
        "testPredict = model.predict(X_test, batch_size=1)"
      ],
      "execution_count": 0,
      "outputs": []
    },
    {
      "cell_type": "markdown",
      "metadata": {
        "id": "pO81E-fsJruD",
        "colab_type": "text"
      },
      "source": [
        "## Question 10"
      ]
    },
    {
      "cell_type": "markdown",
      "metadata": {
        "id": "RImBG7sCtnlb",
        "colab_type": "text"
      },
      "source": [
        "### Inverse train predictions and true labels\n",
        "- use your MinMaxSclarer object\n",
        "- use inverse_transform() method"
      ]
    },
    {
      "cell_type": "code",
      "metadata": {
        "id": "xXfce41cqN-h",
        "colab_type": "code",
        "colab": {}
      },
      "source": [
        "trainPredict = scaler.inverse_transform(trainPredict)\n",
        "y_train = scaler.inverse_transform([y_train])\n",
        "\n",
        "\n",
        "\n",
        "\n"
      ],
      "execution_count": 0,
      "outputs": []
    },
    {
      "cell_type": "markdown",
      "metadata": {
        "colab_type": "text",
        "id": "5fWSzk8cuPbp"
      },
      "source": [
        "### Inverse test predictions and true labels\n",
        "- use your MinMaxSclarer object\n",
        "- use inverse_transform() method"
      ]
    },
    {
      "cell_type": "code",
      "metadata": {
        "colab_type": "code",
        "id": "nVJ1wMupuPbu",
        "colab": {}
      },
      "source": [
        "testPredict = scaler.inverse_transform(testPredict)\n",
        "y_test = scaler.inverse_transform([y_test])\n"
      ],
      "execution_count": 0,
      "outputs": []
    },
    {
      "cell_type": "markdown",
      "metadata": {
        "id": "VtowvAItJv6c",
        "colab_type": "text"
      },
      "source": [
        "### Evaluate train predictions\n",
        "- calculate RMSE\n",
        "- RMSE = sqrt(mean_squared_error(true_labels, predicted_labels))\n",
        "- use sqrt() and mean_squared_error() method\n",
        "- print training RMSE"
      ]
    },
    {
      "cell_type": "code",
      "metadata": {
        "id": "h-tMy4EqEV45",
        "colab_type": "code",
        "colab": {}
      },
      "source": [
        "from sklearn.metrics import mean_squared_error\n",
        "import math"
      ],
      "execution_count": 0,
      "outputs": []
    },
    {
      "cell_type": "code",
      "metadata": {
        "id": "GjXbis_bJ9GL",
        "colab_type": "code",
        "colab": {}
      },
      "source": [
        "trainScore = math.sqrt(mean_squared_error(y_train[0], trainPredict[:,0]))"
      ],
      "execution_count": 0,
      "outputs": []
    },
    {
      "cell_type": "code",
      "metadata": {
        "id": "pLb65-QiqMDX",
        "colab_type": "code",
        "colab": {
          "base_uri": "https://localhost:8080/",
          "height": 34
        },
        "outputId": "66329ad5-f5d6-4781-e6a0-164a2dc57a87"
      },
      "source": [
        "print('Train Score: %.2f RMSE' % (trainScore))"
      ],
      "execution_count": 86,
      "outputs": [
        {
          "output_type": "stream",
          "text": [
            "Train Score: 2.62 RMSE\n"
          ],
          "name": "stdout"
        }
      ]
    },
    {
      "cell_type": "markdown",
      "metadata": {
        "colab_type": "text",
        "id": "DBOfSPRDvERE"
      },
      "source": [
        "### Evaluate test predictions\n",
        "- calculate RMSE\n",
        "- RMSE = sqrt(mean_squared_error(true_labels, predicted_labels))\n",
        "- use sqrt() and mean_squared_error() method\n",
        "- print testing RMSE"
      ]
    },
    {
      "cell_type": "code",
      "metadata": {
        "colab_type": "code",
        "id": "8rQOereovERJ",
        "colab": {}
      },
      "source": [
        "testScore = math.sqrt(mean_squared_error(y_test[0], testPredict[:,0]))"
      ],
      "execution_count": 0,
      "outputs": []
    },
    {
      "cell_type": "code",
      "metadata": {
        "colab_type": "code",
        "id": "8DhUsMnvvERT",
        "colab": {
          "base_uri": "https://localhost:8080/",
          "height": 34
        },
        "outputId": "b92a324d-7544-46ed-a46f-a6b77e08b447"
      },
      "source": [
        "print('Test Score: %.2f RMSE' % (testScore))"
      ],
      "execution_count": 88,
      "outputs": [
        {
          "output_type": "stream",
          "text": [
            "Test Score: 2.56 RMSE\n"
          ],
          "name": "stdout"
        }
      ]
    },
    {
      "cell_type": "code",
      "metadata": {
        "id": "PAnzxOyoy5Bj",
        "colab_type": "code",
        "colab": {}
      },
      "source": [
        ""
      ],
      "execution_count": 0,
      "outputs": []
    }
  ]
}