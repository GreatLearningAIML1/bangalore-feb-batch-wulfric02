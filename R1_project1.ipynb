{
  "nbformat": 4,
  "nbformat_minor": 0,
  "metadata": {
    "colab": {
      "name": "R1_project1.ipynb",
      "provenance": []
    },
    "kernelspec": {
      "name": "python3",
      "display_name": "Python 3"
    }
  },
  "cells": [
    {
      "cell_type": "code",
      "metadata": {
        "id": "7lf6CkbeEZOJ",
        "colab_type": "code",
        "colab": {
          "base_uri": "https://localhost:8080/",
          "height": 122
        },
        "outputId": "75bc2441-46a9-4f12-c3b1-746f218429da"
      },
      "source": [
        "from google.colab import drive\n",
        "drive.mount('/gdrive')"
      ],
      "execution_count": 1,
      "outputs": [
        {
          "output_type": "stream",
          "text": [
            "Go to this URL in a browser: https://accounts.google.com/o/oauth2/auth?client_id=947318989803-6bn6qk8qdgf4n4g3pfee6491hc0brc4i.apps.googleusercontent.com&redirect_uri=urn%3aietf%3awg%3aoauth%3a2.0%3aoob&response_type=code&scope=email%20https%3a%2f%2fwww.googleapis.com%2fauth%2fdocs.test%20https%3a%2f%2fwww.googleapis.com%2fauth%2fdrive%20https%3a%2f%2fwww.googleapis.com%2fauth%2fdrive.photos.readonly%20https%3a%2f%2fwww.googleapis.com%2fauth%2fpeopleapi.readonly\n",
            "\n",
            "Enter your authorization code:\n",
            "··········\n",
            "Mounted at /gdrive\n"
          ],
          "name": "stdout"
        }
      ]
    },
    {
      "cell_type": "code",
      "metadata": {
        "id": "nr0a1kPVEhvo",
        "colab_type": "code",
        "colab": {
          "base_uri": "https://localhost:8080/",
          "height": 34
        },
        "outputId": "39e0b520-48f8-4b3a-bb44-df571ebd3d2c"
      },
      "source": [
        "%cd /gdrive/My Drive/statistical_learning"
      ],
      "execution_count": 2,
      "outputs": [
        {
          "output_type": "stream",
          "text": [
            "/gdrive/My Drive/statistical_learning\n"
          ],
          "name": "stdout"
        }
      ]
    },
    {
      "cell_type": "code",
      "metadata": {
        "id": "txdyh7rqEuL8",
        "colab_type": "code",
        "colab": {}
      },
      "source": [
        "import pandas as pd\n"
      ],
      "execution_count": 0,
      "outputs": []
    },
    {
      "cell_type": "code",
      "metadata": {
        "id": "0WSVkomrEv-M",
        "colab_type": "code",
        "colab": {
          "base_uri": "https://localhost:8080/",
          "height": 326
        },
        "outputId": "3b3d1004-b1a0-470c-a385-9641e97fccc1"
      },
      "source": [
        "df = pd.read_csv('Laliga.csv', skiprows=1, header=0)\n",
        "df.tail(5)"
      ],
      "execution_count": 4,
      "outputs": [
        {
          "output_type": "execute_result",
          "data": {
            "text/html": [
              "<div>\n",
              "<style scoped>\n",
              "    .dataframe tbody tr th:only-of-type {\n",
              "        vertical-align: middle;\n",
              "    }\n",
              "\n",
              "    .dataframe tbody tr th {\n",
              "        vertical-align: top;\n",
              "    }\n",
              "\n",
              "    .dataframe thead th {\n",
              "        text-align: right;\n",
              "    }\n",
              "</style>\n",
              "<table border=\"1\" class=\"dataframe\">\n",
              "  <thead>\n",
              "    <tr style=\"text-align: right;\">\n",
              "      <th></th>\n",
              "      <th>Pos</th>\n",
              "      <th>Team</th>\n",
              "      <th>Seasons</th>\n",
              "      <th>Points</th>\n",
              "      <th>GamesPlayed</th>\n",
              "      <th>GamesWon</th>\n",
              "      <th>GamesDrawn</th>\n",
              "      <th>GamesLost</th>\n",
              "      <th>GoalsFor</th>\n",
              "      <th>GoalsAgainst</th>\n",
              "      <th>Champion</th>\n",
              "      <th>Runner-up</th>\n",
              "      <th>Third</th>\n",
              "      <th>Fourth</th>\n",
              "      <th>Fifth</th>\n",
              "      <th>Sixth</th>\n",
              "      <th>T</th>\n",
              "      <th>Debut</th>\n",
              "      <th>Since/LastApp</th>\n",
              "      <th>BestPosition</th>\n",
              "    </tr>\n",
              "  </thead>\n",
              "  <tbody>\n",
              "    <tr>\n",
              "      <th>56</th>\n",
              "      <td>57</td>\n",
              "      <td>Xerez</td>\n",
              "      <td>1</td>\n",
              "      <td>34</td>\n",
              "      <td>38</td>\n",
              "      <td>8</td>\n",
              "      <td>10</td>\n",
              "      <td>20</td>\n",
              "      <td>38</td>\n",
              "      <td>66</td>\n",
              "      <td>-</td>\n",
              "      <td>-</td>\n",
              "      <td>-</td>\n",
              "      <td>-</td>\n",
              "      <td>-</td>\n",
              "      <td>-</td>\n",
              "      <td>-</td>\n",
              "      <td>2009-10</td>\n",
              "      <td>2009-10</td>\n",
              "      <td>20</td>\n",
              "    </tr>\n",
              "    <tr>\n",
              "      <th>57</th>\n",
              "      <td>58</td>\n",
              "      <td>Condal</td>\n",
              "      <td>1</td>\n",
              "      <td>22</td>\n",
              "      <td>30</td>\n",
              "      <td>7</td>\n",
              "      <td>8</td>\n",
              "      <td>15</td>\n",
              "      <td>37</td>\n",
              "      <td>57</td>\n",
              "      <td>-</td>\n",
              "      <td>-</td>\n",
              "      <td>-</td>\n",
              "      <td>-</td>\n",
              "      <td>-</td>\n",
              "      <td>-</td>\n",
              "      <td>-</td>\n",
              "      <td>1956-57</td>\n",
              "      <td>1956-57</td>\n",
              "      <td>16</td>\n",
              "    </tr>\n",
              "    <tr>\n",
              "      <th>58</th>\n",
              "      <td>59</td>\n",
              "      <td>Atletico Tetuan</td>\n",
              "      <td>1</td>\n",
              "      <td>19</td>\n",
              "      <td>30</td>\n",
              "      <td>7</td>\n",
              "      <td>5</td>\n",
              "      <td>18</td>\n",
              "      <td>51</td>\n",
              "      <td>85</td>\n",
              "      <td>-</td>\n",
              "      <td>-</td>\n",
              "      <td>-</td>\n",
              "      <td>-</td>\n",
              "      <td>-</td>\n",
              "      <td>-</td>\n",
              "      <td>-</td>\n",
              "      <td>1951-52</td>\n",
              "      <td>1951-52</td>\n",
              "      <td>16</td>\n",
              "    </tr>\n",
              "    <tr>\n",
              "      <th>59</th>\n",
              "      <td>60</td>\n",
              "      <td>Cultural Leonesa</td>\n",
              "      <td>1</td>\n",
              "      <td>14</td>\n",
              "      <td>30</td>\n",
              "      <td>5</td>\n",
              "      <td>4</td>\n",
              "      <td>21</td>\n",
              "      <td>34</td>\n",
              "      <td>65</td>\n",
              "      <td>-</td>\n",
              "      <td>-</td>\n",
              "      <td>-</td>\n",
              "      <td>-</td>\n",
              "      <td>-</td>\n",
              "      <td>-</td>\n",
              "      <td>-</td>\n",
              "      <td>1955-56</td>\n",
              "      <td>1955-56</td>\n",
              "      <td>15</td>\n",
              "    </tr>\n",
              "    <tr>\n",
              "      <th>60</th>\n",
              "      <td>61</td>\n",
              "      <td>Girona</td>\n",
              "      <td>1</td>\n",
              "      <td>-</td>\n",
              "      <td>-</td>\n",
              "      <td>-</td>\n",
              "      <td>-</td>\n",
              "      <td>-</td>\n",
              "      <td>-</td>\n",
              "      <td>-</td>\n",
              "      <td>-</td>\n",
              "      <td>-</td>\n",
              "      <td>-</td>\n",
              "      <td>-</td>\n",
              "      <td>-</td>\n",
              "      <td>-</td>\n",
              "      <td>-</td>\n",
              "      <td>2017-18</td>\n",
              "      <td>2017-18</td>\n",
              "      <td>9</td>\n",
              "    </tr>\n",
              "  </tbody>\n",
              "</table>\n",
              "</div>"
            ],
            "text/plain": [
              "    Pos              Team  Seasons  ...    Debut Since/LastApp BestPosition\n",
              "56   57             Xerez        1  ...  2009-10       2009-10           20\n",
              "57   58            Condal        1  ...  1956-57       1956-57           16\n",
              "58   59   Atletico Tetuan        1  ...  1951-52       1951-52           16\n",
              "59   60  Cultural Leonesa        1  ...  1955-56       1955-56           15\n",
              "60   61            Girona        1  ...  2017-18       2017-18            9\n",
              "\n",
              "[5 rows x 20 columns]"
            ]
          },
          "metadata": {
            "tags": []
          },
          "execution_count": 4
        }
      ]
    },
    {
      "cell_type": "code",
      "metadata": {
        "id": "uOhqP3JFEz9W",
        "colab_type": "code",
        "colab": {
          "base_uri": "https://localhost:8080/",
          "height": 297
        },
        "outputId": "4023c8c5-a717-47c5-8bbb-57acdcc60a6b"
      },
      "source": [
        "df.describe()\n"
      ],
      "execution_count": 5,
      "outputs": [
        {
          "output_type": "execute_result",
          "data": {
            "text/html": [
              "<div>\n",
              "<style scoped>\n",
              "    .dataframe tbody tr th:only-of-type {\n",
              "        vertical-align: middle;\n",
              "    }\n",
              "\n",
              "    .dataframe tbody tr th {\n",
              "        vertical-align: top;\n",
              "    }\n",
              "\n",
              "    .dataframe thead th {\n",
              "        text-align: right;\n",
              "    }\n",
              "</style>\n",
              "<table border=\"1\" class=\"dataframe\">\n",
              "  <thead>\n",
              "    <tr style=\"text-align: right;\">\n",
              "      <th></th>\n",
              "      <th>Pos</th>\n",
              "      <th>Seasons</th>\n",
              "      <th>BestPosition</th>\n",
              "    </tr>\n",
              "  </thead>\n",
              "  <tbody>\n",
              "    <tr>\n",
              "      <th>count</th>\n",
              "      <td>61.000000</td>\n",
              "      <td>61.000000</td>\n",
              "      <td>61.000000</td>\n",
              "    </tr>\n",
              "    <tr>\n",
              "      <th>mean</th>\n",
              "      <td>31.000000</td>\n",
              "      <td>24.000000</td>\n",
              "      <td>7.081967</td>\n",
              "    </tr>\n",
              "    <tr>\n",
              "      <th>std</th>\n",
              "      <td>17.752934</td>\n",
              "      <td>26.827225</td>\n",
              "      <td>5.276663</td>\n",
              "    </tr>\n",
              "    <tr>\n",
              "      <th>min</th>\n",
              "      <td>1.000000</td>\n",
              "      <td>1.000000</td>\n",
              "      <td>1.000000</td>\n",
              "    </tr>\n",
              "    <tr>\n",
              "      <th>25%</th>\n",
              "      <td>16.000000</td>\n",
              "      <td>4.000000</td>\n",
              "      <td>3.000000</td>\n",
              "    </tr>\n",
              "    <tr>\n",
              "      <th>50%</th>\n",
              "      <td>31.000000</td>\n",
              "      <td>12.000000</td>\n",
              "      <td>6.000000</td>\n",
              "    </tr>\n",
              "    <tr>\n",
              "      <th>75%</th>\n",
              "      <td>46.000000</td>\n",
              "      <td>38.000000</td>\n",
              "      <td>10.000000</td>\n",
              "    </tr>\n",
              "    <tr>\n",
              "      <th>max</th>\n",
              "      <td>61.000000</td>\n",
              "      <td>86.000000</td>\n",
              "      <td>20.000000</td>\n",
              "    </tr>\n",
              "  </tbody>\n",
              "</table>\n",
              "</div>"
            ],
            "text/plain": [
              "             Pos    Seasons  BestPosition\n",
              "count  61.000000  61.000000     61.000000\n",
              "mean   31.000000  24.000000      7.081967\n",
              "std    17.752934  26.827225      5.276663\n",
              "min     1.000000   1.000000      1.000000\n",
              "25%    16.000000   4.000000      3.000000\n",
              "50%    31.000000  12.000000      6.000000\n",
              "75%    46.000000  38.000000     10.000000\n",
              "max    61.000000  86.000000     20.000000"
            ]
          },
          "metadata": {
            "tags": []
          },
          "execution_count": 5
        }
      ]
    },
    {
      "cell_type": "code",
      "metadata": {
        "id": "b8QV70h9E4bG",
        "colab_type": "code",
        "colab": {}
      },
      "source": [
        "df.replace('-', 0, inplace=True)\n"
      ],
      "execution_count": 0,
      "outputs": []
    },
    {
      "cell_type": "code",
      "metadata": {
        "id": "gh_BqEg-E6_o",
        "colab_type": "code",
        "colab": {
          "base_uri": "https://localhost:8080/",
          "height": 442
        },
        "outputId": "4f2bbffc-ada9-45a8-89b5-c70c67aa16aa"
      },
      "source": [
        "df.info()\n"
      ],
      "execution_count": 7,
      "outputs": [
        {
          "output_type": "stream",
          "text": [
            "<class 'pandas.core.frame.DataFrame'>\n",
            "RangeIndex: 61 entries, 0 to 60\n",
            "Data columns (total 20 columns):\n",
            "Pos              61 non-null int64\n",
            "Team             61 non-null object\n",
            "Seasons          61 non-null int64\n",
            "Points           61 non-null object\n",
            "GamesPlayed      61 non-null object\n",
            "GamesWon         61 non-null object\n",
            "GamesDrawn       61 non-null object\n",
            "GamesLost        61 non-null object\n",
            "GoalsFor         61 non-null object\n",
            "GoalsAgainst     61 non-null object\n",
            "Champion         61 non-null object\n",
            "Runner-up        61 non-null object\n",
            "Third            61 non-null object\n",
            "Fourth           61 non-null object\n",
            "Fifth            61 non-null object\n",
            "Sixth            61 non-null object\n",
            "T                61 non-null object\n",
            "Debut            61 non-null object\n",
            "Since/LastApp    61 non-null object\n",
            "BestPosition     61 non-null int64\n",
            "dtypes: int64(3), object(17)\n",
            "memory usage: 9.7+ KB\n"
          ],
          "name": "stdout"
        }
      ]
    },
    {
      "cell_type": "code",
      "metadata": {
        "id": "XufUlYq8FE00",
        "colab_type": "code",
        "colab": {
          "base_uri": "https://localhost:8080/",
          "height": 442
        },
        "outputId": "e858f693-7cce-4061-ad9a-512fd25fdd82"
      },
      "source": [
        "df = df.apply(pd.to_numeric, errors='ignore')\n",
        "df.info()"
      ],
      "execution_count": 8,
      "outputs": [
        {
          "output_type": "stream",
          "text": [
            "<class 'pandas.core.frame.DataFrame'>\n",
            "RangeIndex: 61 entries, 0 to 60\n",
            "Data columns (total 20 columns):\n",
            "Pos              61 non-null int64\n",
            "Team             61 non-null object\n",
            "Seasons          61 non-null int64\n",
            "Points           61 non-null int64\n",
            "GamesPlayed      61 non-null int64\n",
            "GamesWon         61 non-null int64\n",
            "GamesDrawn       61 non-null int64\n",
            "GamesLost        61 non-null int64\n",
            "GoalsFor         61 non-null int64\n",
            "GoalsAgainst     61 non-null int64\n",
            "Champion         61 non-null int64\n",
            "Runner-up        61 non-null int64\n",
            "Third            61 non-null int64\n",
            "Fourth           61 non-null int64\n",
            "Fifth            61 non-null int64\n",
            "Sixth            61 non-null int64\n",
            "T                61 non-null int64\n",
            "Debut            61 non-null object\n",
            "Since/LastApp    61 non-null object\n",
            "BestPosition     61 non-null int64\n",
            "dtypes: int64(17), object(3)\n",
            "memory usage: 9.7+ KB\n"
          ],
          "name": "stdout"
        }
      ]
    },
    {
      "cell_type": "code",
      "metadata": {
        "id": "zuaZ8YKuFIDj",
        "colab_type": "code",
        "colab": {
          "base_uri": "https://localhost:8080/",
          "height": 334
        },
        "outputId": "8fa141a9-f861-4483-8519-a1faeded5ab2"
      },
      "source": [
        "df.describe()"
      ],
      "execution_count": 9,
      "outputs": [
        {
          "output_type": "execute_result",
          "data": {
            "text/html": [
              "<div>\n",
              "<style scoped>\n",
              "    .dataframe tbody tr th:only-of-type {\n",
              "        vertical-align: middle;\n",
              "    }\n",
              "\n",
              "    .dataframe tbody tr th {\n",
              "        vertical-align: top;\n",
              "    }\n",
              "\n",
              "    .dataframe thead th {\n",
              "        text-align: right;\n",
              "    }\n",
              "</style>\n",
              "<table border=\"1\" class=\"dataframe\">\n",
              "  <thead>\n",
              "    <tr style=\"text-align: right;\">\n",
              "      <th></th>\n",
              "      <th>Pos</th>\n",
              "      <th>Seasons</th>\n",
              "      <th>Points</th>\n",
              "      <th>GamesPlayed</th>\n",
              "      <th>GamesWon</th>\n",
              "      <th>GamesDrawn</th>\n",
              "      <th>GamesLost</th>\n",
              "      <th>GoalsFor</th>\n",
              "      <th>GoalsAgainst</th>\n",
              "      <th>Champion</th>\n",
              "      <th>Runner-up</th>\n",
              "      <th>Third</th>\n",
              "      <th>Fourth</th>\n",
              "      <th>Fifth</th>\n",
              "      <th>Sixth</th>\n",
              "      <th>T</th>\n",
              "      <th>BestPosition</th>\n",
              "    </tr>\n",
              "  </thead>\n",
              "  <tbody>\n",
              "    <tr>\n",
              "      <th>count</th>\n",
              "      <td>61.000000</td>\n",
              "      <td>61.000000</td>\n",
              "      <td>61.000000</td>\n",
              "      <td>61.000000</td>\n",
              "      <td>61.000000</td>\n",
              "      <td>61.000000</td>\n",
              "      <td>61.000000</td>\n",
              "      <td>61.000000</td>\n",
              "      <td>61.000000</td>\n",
              "      <td>61.000000</td>\n",
              "      <td>61.000000</td>\n",
              "      <td>61.000000</td>\n",
              "      <td>61.000000</td>\n",
              "      <td>61.000000</td>\n",
              "      <td>61.000000</td>\n",
              "      <td>61.000000</td>\n",
              "      <td>61.000000</td>\n",
              "    </tr>\n",
              "    <tr>\n",
              "      <th>mean</th>\n",
              "      <td>31.000000</td>\n",
              "      <td>24.000000</td>\n",
              "      <td>901.426230</td>\n",
              "      <td>796.819672</td>\n",
              "      <td>303.967213</td>\n",
              "      <td>188.934426</td>\n",
              "      <td>303.754098</td>\n",
              "      <td>1140.344262</td>\n",
              "      <td>1140.229508</td>\n",
              "      <td>1.426230</td>\n",
              "      <td>1.409836</td>\n",
              "      <td>1.409836</td>\n",
              "      <td>1.409836</td>\n",
              "      <td>1.409836</td>\n",
              "      <td>1.409836</td>\n",
              "      <td>8.475410</td>\n",
              "      <td>7.081967</td>\n",
              "    </tr>\n",
              "    <tr>\n",
              "      <th>std</th>\n",
              "      <td>17.752934</td>\n",
              "      <td>26.827225</td>\n",
              "      <td>1134.899121</td>\n",
              "      <td>876.282765</td>\n",
              "      <td>406.991030</td>\n",
              "      <td>201.799477</td>\n",
              "      <td>294.708594</td>\n",
              "      <td>1506.740211</td>\n",
              "      <td>1163.710766</td>\n",
              "      <td>5.472535</td>\n",
              "      <td>4.540107</td>\n",
              "      <td>3.247445</td>\n",
              "      <td>2.746980</td>\n",
              "      <td>2.505840</td>\n",
              "      <td>2.231420</td>\n",
              "      <td>18.100282</td>\n",
              "      <td>5.276663</td>\n",
              "    </tr>\n",
              "    <tr>\n",
              "      <th>min</th>\n",
              "      <td>1.000000</td>\n",
              "      <td>1.000000</td>\n",
              "      <td>0.000000</td>\n",
              "      <td>0.000000</td>\n",
              "      <td>0.000000</td>\n",
              "      <td>0.000000</td>\n",
              "      <td>0.000000</td>\n",
              "      <td>0.000000</td>\n",
              "      <td>0.000000</td>\n",
              "      <td>0.000000</td>\n",
              "      <td>0.000000</td>\n",
              "      <td>0.000000</td>\n",
              "      <td>0.000000</td>\n",
              "      <td>0.000000</td>\n",
              "      <td>0.000000</td>\n",
              "      <td>0.000000</td>\n",
              "      <td>1.000000</td>\n",
              "    </tr>\n",
              "    <tr>\n",
              "      <th>25%</th>\n",
              "      <td>16.000000</td>\n",
              "      <td>4.000000</td>\n",
              "      <td>96.000000</td>\n",
              "      <td>114.000000</td>\n",
              "      <td>34.000000</td>\n",
              "      <td>24.000000</td>\n",
              "      <td>62.000000</td>\n",
              "      <td>153.000000</td>\n",
              "      <td>221.000000</td>\n",
              "      <td>0.000000</td>\n",
              "      <td>0.000000</td>\n",
              "      <td>0.000000</td>\n",
              "      <td>0.000000</td>\n",
              "      <td>0.000000</td>\n",
              "      <td>0.000000</td>\n",
              "      <td>0.000000</td>\n",
              "      <td>3.000000</td>\n",
              "    </tr>\n",
              "    <tr>\n",
              "      <th>50%</th>\n",
              "      <td>31.000000</td>\n",
              "      <td>12.000000</td>\n",
              "      <td>375.000000</td>\n",
              "      <td>423.000000</td>\n",
              "      <td>123.000000</td>\n",
              "      <td>95.000000</td>\n",
              "      <td>197.000000</td>\n",
              "      <td>430.000000</td>\n",
              "      <td>632.000000</td>\n",
              "      <td>0.000000</td>\n",
              "      <td>0.000000</td>\n",
              "      <td>0.000000</td>\n",
              "      <td>0.000000</td>\n",
              "      <td>0.000000</td>\n",
              "      <td>0.000000</td>\n",
              "      <td>1.000000</td>\n",
              "      <td>6.000000</td>\n",
              "    </tr>\n",
              "    <tr>\n",
              "      <th>75%</th>\n",
              "      <td>46.000000</td>\n",
              "      <td>38.000000</td>\n",
              "      <td>1351.000000</td>\n",
              "      <td>1318.000000</td>\n",
              "      <td>426.000000</td>\n",
              "      <td>330.000000</td>\n",
              "      <td>563.000000</td>\n",
              "      <td>1642.000000</td>\n",
              "      <td>1951.000000</td>\n",
              "      <td>0.000000</td>\n",
              "      <td>0.000000</td>\n",
              "      <td>1.000000</td>\n",
              "      <td>2.000000</td>\n",
              "      <td>2.000000</td>\n",
              "      <td>2.000000</td>\n",
              "      <td>6.000000</td>\n",
              "      <td>10.000000</td>\n",
              "    </tr>\n",
              "    <tr>\n",
              "      <th>max</th>\n",
              "      <td>61.000000</td>\n",
              "      <td>86.000000</td>\n",
              "      <td>4385.000000</td>\n",
              "      <td>2762.000000</td>\n",
              "      <td>1647.000000</td>\n",
              "      <td>633.000000</td>\n",
              "      <td>1070.000000</td>\n",
              "      <td>5947.000000</td>\n",
              "      <td>3889.000000</td>\n",
              "      <td>33.000000</td>\n",
              "      <td>25.000000</td>\n",
              "      <td>16.000000</td>\n",
              "      <td>12.000000</td>\n",
              "      <td>12.000000</td>\n",
              "      <td>10.000000</td>\n",
              "      <td>83.000000</td>\n",
              "      <td>20.000000</td>\n",
              "    </tr>\n",
              "  </tbody>\n",
              "</table>\n",
              "</div>"
            ],
            "text/plain": [
              "             Pos    Seasons       Points  ...      Sixth          T  BestPosition\n",
              "count  61.000000  61.000000    61.000000  ...  61.000000  61.000000     61.000000\n",
              "mean   31.000000  24.000000   901.426230  ...   1.409836   8.475410      7.081967\n",
              "std    17.752934  26.827225  1134.899121  ...   2.231420  18.100282      5.276663\n",
              "min     1.000000   1.000000     0.000000  ...   0.000000   0.000000      1.000000\n",
              "25%    16.000000   4.000000    96.000000  ...   0.000000   0.000000      3.000000\n",
              "50%    31.000000  12.000000   375.000000  ...   0.000000   1.000000      6.000000\n",
              "75%    46.000000  38.000000  1351.000000  ...   2.000000   6.000000     10.000000\n",
              "max    61.000000  86.000000  4385.000000  ...  10.000000  83.000000     20.000000\n",
              "\n",
              "[8 rows x 17 columns]"
            ]
          },
          "metadata": {
            "tags": []
          },
          "execution_count": 9
        }
      ]
    },
    {
      "cell_type": "code",
      "metadata": {
        "id": "u6LBupLsFKrm",
        "colab_type": "code",
        "colab": {
          "base_uri": "https://localhost:8080/",
          "height": 71
        },
        "outputId": "35812d5a-e6a5-43fd-f831-7ff369865dca"
      },
      "source": [
        "debut_parsed = df['Debut'].apply(lambda x:int(x[:4]))\n",
        "teams = df.loc[(debut_parsed >= 1930) & (debut_parsed <= 1980)]['Team'].tolist()\n",
        "\n",
        "print(\"Teams started playing between 1930-1980 : \", str(teams)[1:-1])\n",
        "print(\"Total number of teams  : \", len(teams))"
      ],
      "execution_count": 10,
      "outputs": [
        {
          "output_type": "stream",
          "text": [
            "Teams started playing between 1930-1980 :  'Valencia', 'Sevilla', 'Zaragoza', 'Real Betis', 'Deportivo La Coruna', 'Celta Vigo', 'Valladolid', 'Sporting Gijon', 'Osasuna', 'Malaga', 'Oviedo', 'Mallorca', 'Las Palmas', 'Granada', 'Rayo Vallecano', 'Elche', 'Hercules', 'Tenerife', 'Murcia', 'Alaves', 'Levante', 'Salamanca', 'Sabadell', 'Cadiz', 'Castellon', 'Cordoba', 'Recreativo', 'Burgos CF', 'Pontevedra', 'Gimnastic', 'Alcoyano', 'Jaen', 'AD Almeria', 'Lleida', 'Condal', 'Atletico Tetuan', 'Cultural Leonesa'\n",
            "Total number of teams  :  37\n"
          ],
          "name": "stdout"
        }
      ]
    },
    {
      "cell_type": "code",
      "metadata": {
        "id": "y2f3wwTzFckM",
        "colab_type": "code",
        "colab": {
          "base_uri": "https://localhost:8080/",
          "height": 34
        },
        "outputId": "55c58512-37d6-4cfd-96ee-ced5d7c64838"
      },
      "source": [
        "df.nlargest(5, 'Points')['Team'].tolist()\n"
      ],
      "execution_count": 11,
      "outputs": [
        {
          "output_type": "execute_result",
          "data": {
            "text/plain": [
              "['Real Madrid', 'Barcelona', 'Atletico Madrid', 'Valencia', 'Athletic Bilbao']"
            ]
          },
          "metadata": {
            "tags": []
          },
          "execution_count": 11
        }
      ]
    },
    {
      "cell_type": "code",
      "metadata": {
        "id": "oTL3PV1vForm",
        "colab_type": "code",
        "colab": {
          "base_uri": "https://localhost:8080/",
          "height": 1000
        },
        "outputId": "33cb62bb-418c-444b-e0ef-694e503879a6"
      },
      "source": [
        "def Goal_diff_count():\n",
        "    columns = ['Team', 'GoalDiff']\n",
        "    diff_df = pd.DataFrame(columns=columns)\n",
        "    for index, row in df.iterrows():\n",
        "        diff = row.GoalsFor - row.GoalsAgainst\n",
        "        x = pd.Series([row['Team'], diff], columns)\n",
        "        diff_df = diff_df.append(x, ignore_index=True)\n",
        "    diff_df = diff_df.apply(pd.to_numeric, errors='ignore')\n",
        "\n",
        "    val = diff_df.GoalDiff.abs() \n",
        "    max_goal_diff = val.max()\n",
        "    t1 = str(diff_df.iloc[[val.idxmax()]]['Team'].tolist())[2:-2]\n",
        "    \n",
        "    val = diff_df.loc[diff_df.GoalDiff.abs() > 0]['GoalDiff'].abs()\n",
        "    min_goal_diff = val.min()\n",
        "    t2 = str(diff_df.iloc[[val.idxmin()]]['Team'].tolist())[2:-2]\n",
        "    \n",
        "    val = diff_df.GoalDiff\n",
        "    goalsFor_GoalsAgainst = val.min()\n",
        "    t3 = str(diff_df.iloc[[val.idxmin()]]['Team'].tolist())[2:-2]\n",
        "\n",
        "    print(\"Maximum Goal Difference: \", max_goal_diff, \"Team = \", t1 )\n",
        "    print(\"Minimum Goal Difference: \", min_goal_diff, \"Team = \", t2)\n",
        "    print(\"Goal Difference(GoalsFor - GoalsAgainst): \", goalsFor_GoalsAgainst, \"Team = \", t3)\n",
        "\n",
        "    print(\"Team and Goal Differences  (Note: Negative indicates GoalsAgainst > GoalsFor)\")\n",
        "    print(diff_df.to_string(index=False))\n",
        "Goal_diff_count()"
      ],
      "execution_count": 12,
      "outputs": [
        {
          "output_type": "stream",
          "text": [
            "Maximum Goal Difference:  2807 Team =  Real Madrid\n",
            "Minimum Goal Difference:  2 Team =  Real Sociedad\n",
            "Goal Difference(GoalsFor - GoalsAgainst):  -525 Team =  Racing Santander\n",
            "Team and Goal Differences  (Note: Negative indicates GoalsAgainst > GoalsFor)\n",
            "                Team  GoalDiff\n",
            "         Real Madrid      2807\n",
            "           Barcelona      2786\n",
            "     Atletico Madrid      1225\n",
            "            Valencia       929\n",
            "     Athletic Bilbao       931\n",
            "             Sevilla       307\n",
            "            Espanyol      -280\n",
            "       Real Sociedad        -2\n",
            "            Zaragoza      -164\n",
            "          Real Betis      -333\n",
            " Deportivo La Coruna      -136\n",
            "          Celta Vigo      -346\n",
            "          Valladolid      -413\n",
            "    Racing Santander      -525\n",
            "      Sporting Gijon      -399\n",
            "             Osasuna      -334\n",
            "              Malaga      -342\n",
            "              Oviedo      -309\n",
            "            Mallorca      -189\n",
            "          Las Palmas      -399\n",
            "          Villarreal       103\n",
            "             Granada      -338\n",
            "      Rayo Vallecano      -328\n",
            "               Elche      -272\n",
            "              Getafe      -113\n",
            "            Hercules      -334\n",
            "            Tenerife      -125\n",
            "              Murcia      -385\n",
            "              Alaves      -165\n",
            "             Levante      -202\n",
            "           Salamanca      -159\n",
            "            Sabadell      -228\n",
            "               Cadiz      -269\n",
            "            Logrones      -198\n",
            "           Castellon      -169\n",
            "            Albacete       -90\n",
            "             Almeria      -122\n",
            "             Cordoba      -145\n",
            "          Compostela       -42\n",
            "          Recreativo       -94\n",
            "           Burgos CF       -94\n",
            "          Pontevedra       -56\n",
            "            Numancia       -98\n",
            "               Eibar       -28\n",
            "              Arenas       -81\n",
            "         Real Burgos       -38\n",
            "           Gimnastic      -114\n",
            "         Extremadura       -55\n",
            "              Merida       -45\n",
            "            Alcoyano      -107\n",
            "                Jaen       -62\n",
            "          Real Union       -31\n",
            "          AD Almeria       -45\n",
            "              Europa       -34\n",
            "              Lleida      -112\n",
            "             Leganes       -19\n",
            "               Xerez       -28\n",
            "              Condal       -20\n",
            "     Atletico Tetuan       -34\n",
            "    Cultural Leonesa       -31\n",
            "              Girona         0\n"
          ],
          "name": "stdout"
        }
      ]
    },
    {
      "cell_type": "code",
      "metadata": {
        "id": "EX4N9p5cGFtz",
        "colab_type": "code",
        "colab": {
          "base_uri": "https://localhost:8080/",
          "height": 230
        },
        "outputId": "7ef9b0e4-5073-46d3-bd2d-4de33835b02f"
      },
      "source": [
        "df['Winning Percent'] = ((df.GamesWon/df.GamesPlayed) * 100).fillna(value=0)\n",
        "df.tail(3)"
      ],
      "execution_count": 13,
      "outputs": [
        {
          "output_type": "execute_result",
          "data": {
            "text/html": [
              "<div>\n",
              "<style scoped>\n",
              "    .dataframe tbody tr th:only-of-type {\n",
              "        vertical-align: middle;\n",
              "    }\n",
              "\n",
              "    .dataframe tbody tr th {\n",
              "        vertical-align: top;\n",
              "    }\n",
              "\n",
              "    .dataframe thead th {\n",
              "        text-align: right;\n",
              "    }\n",
              "</style>\n",
              "<table border=\"1\" class=\"dataframe\">\n",
              "  <thead>\n",
              "    <tr style=\"text-align: right;\">\n",
              "      <th></th>\n",
              "      <th>Pos</th>\n",
              "      <th>Team</th>\n",
              "      <th>Seasons</th>\n",
              "      <th>Points</th>\n",
              "      <th>GamesPlayed</th>\n",
              "      <th>GamesWon</th>\n",
              "      <th>GamesDrawn</th>\n",
              "      <th>GamesLost</th>\n",
              "      <th>GoalsFor</th>\n",
              "      <th>GoalsAgainst</th>\n",
              "      <th>Champion</th>\n",
              "      <th>Runner-up</th>\n",
              "      <th>Third</th>\n",
              "      <th>Fourth</th>\n",
              "      <th>Fifth</th>\n",
              "      <th>Sixth</th>\n",
              "      <th>T</th>\n",
              "      <th>Debut</th>\n",
              "      <th>Since/LastApp</th>\n",
              "      <th>BestPosition</th>\n",
              "      <th>Winning Percent</th>\n",
              "    </tr>\n",
              "  </thead>\n",
              "  <tbody>\n",
              "    <tr>\n",
              "      <th>58</th>\n",
              "      <td>59</td>\n",
              "      <td>Atletico Tetuan</td>\n",
              "      <td>1</td>\n",
              "      <td>19</td>\n",
              "      <td>30</td>\n",
              "      <td>7</td>\n",
              "      <td>5</td>\n",
              "      <td>18</td>\n",
              "      <td>51</td>\n",
              "      <td>85</td>\n",
              "      <td>0</td>\n",
              "      <td>0</td>\n",
              "      <td>0</td>\n",
              "      <td>0</td>\n",
              "      <td>0</td>\n",
              "      <td>0</td>\n",
              "      <td>0</td>\n",
              "      <td>1951-52</td>\n",
              "      <td>1951-52</td>\n",
              "      <td>16</td>\n",
              "      <td>23.333333</td>\n",
              "    </tr>\n",
              "    <tr>\n",
              "      <th>59</th>\n",
              "      <td>60</td>\n",
              "      <td>Cultural Leonesa</td>\n",
              "      <td>1</td>\n",
              "      <td>14</td>\n",
              "      <td>30</td>\n",
              "      <td>5</td>\n",
              "      <td>4</td>\n",
              "      <td>21</td>\n",
              "      <td>34</td>\n",
              "      <td>65</td>\n",
              "      <td>0</td>\n",
              "      <td>0</td>\n",
              "      <td>0</td>\n",
              "      <td>0</td>\n",
              "      <td>0</td>\n",
              "      <td>0</td>\n",
              "      <td>0</td>\n",
              "      <td>1955-56</td>\n",
              "      <td>1955-56</td>\n",
              "      <td>15</td>\n",
              "      <td>16.666667</td>\n",
              "    </tr>\n",
              "    <tr>\n",
              "      <th>60</th>\n",
              "      <td>61</td>\n",
              "      <td>Girona</td>\n",
              "      <td>1</td>\n",
              "      <td>0</td>\n",
              "      <td>0</td>\n",
              "      <td>0</td>\n",
              "      <td>0</td>\n",
              "      <td>0</td>\n",
              "      <td>0</td>\n",
              "      <td>0</td>\n",
              "      <td>0</td>\n",
              "      <td>0</td>\n",
              "      <td>0</td>\n",
              "      <td>0</td>\n",
              "      <td>0</td>\n",
              "      <td>0</td>\n",
              "      <td>0</td>\n",
              "      <td>2017-18</td>\n",
              "      <td>2017-18</td>\n",
              "      <td>9</td>\n",
              "      <td>0.000000</td>\n",
              "    </tr>\n",
              "  </tbody>\n",
              "</table>\n",
              "</div>"
            ],
            "text/plain": [
              "    Pos              Team  Seasons  ...  Since/LastApp  BestPosition  Winning Percent\n",
              "58   59   Atletico Tetuan        1  ...        1951-52            16        23.333333\n",
              "59   60  Cultural Leonesa        1  ...        1955-56            15        16.666667\n",
              "60   61            Girona        1  ...        2017-18             9         0.000000\n",
              "\n",
              "[3 rows x 21 columns]"
            ]
          },
          "metadata": {
            "tags": []
          },
          "execution_count": 13
        }
      ]
    },
    {
      "cell_type": "code",
      "metadata": {
        "id": "np2xWhbjGLhm",
        "colab_type": "code",
        "colab": {
          "base_uri": "https://localhost:8080/",
          "height": 34
        },
        "outputId": "a4d9c01b-4b56-42da-e344-71b1724af755"
      },
      "source": [
        "df.nlargest(5, 'Winning Percent')['Team'].tolist()"
      ],
      "execution_count": 14,
      "outputs": [
        {
          "output_type": "execute_result",
          "data": {
            "text/plain": [
              "['Real Madrid', 'Barcelona', 'Atletico Madrid', 'Valencia', 'Athletic Bilbao']"
            ]
          },
          "metadata": {
            "tags": []
          },
          "execution_count": 14
        }
      ]
    },
    {
      "cell_type": "code",
      "metadata": {
        "id": "LzFeAgWQGSz2",
        "colab_type": "code",
        "colab": {
          "base_uri": "https://localhost:8080/",
          "height": 340
        },
        "outputId": "1ca3110d-353a-4973-eb11-2677475e1585"
      },
      "source": [
        "x = df.groupby(['BestPosition'])['Points'].sum()\n",
        "print(x.reset_index().to_string(index=False))\n"
      ],
      "execution_count": 15,
      "outputs": [
        {
          "output_type": "stream",
          "text": [
            " BestPosition  Points\n",
            "            1   27933\n",
            "            2    6904\n",
            "            3    5221\n",
            "            4    6563\n",
            "            5    1884\n",
            "            6    2113\n",
            "            7    1186\n",
            "            8    1134\n",
            "            9      96\n",
            "           10     450\n",
            "           11     445\n",
            "           12     511\n",
            "           14      71\n",
            "           15      14\n",
            "           16      81\n",
            "           17     266\n",
            "           19      81\n",
            "           20      34\n"
          ],
          "name": "stdout"
        }
      ]
    },
    {
      "cell_type": "code",
      "metadata": {
        "id": "4Ko8L7GDGXSD",
        "colab_type": "code",
        "colab": {}
      },
      "source": [
        ""
      ],
      "execution_count": 0,
      "outputs": []
    }
  ]
}