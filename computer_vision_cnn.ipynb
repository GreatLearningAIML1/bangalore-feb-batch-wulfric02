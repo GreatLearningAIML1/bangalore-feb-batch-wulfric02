{
  "nbformat": 4,
  "nbformat_minor": 0,
  "metadata": {
    "colab": {
      "name": "computer_vision_cnn.ipynb",
      "provenance": [],
      "collapsed_sections": []
    },
    "kernelspec": {
      "name": "python3",
      "display_name": "Python 3"
    },
    "accelerator": "GPU"
  },
  "cells": [
    {
      "cell_type": "code",
      "metadata": {
        "id": "GK-KKbDyFgxY",
        "colab_type": "code",
        "colab": {}
      },
      "source": [
        "import pandas as pd\n",
        "import numpy as np\n",
        "import os\n",
        "from skimage.transform import resize as imresize\n",
        "from tqdm import tqdm\n",
        "\n",
        "import imageio\n"
      ],
      "execution_count": 0,
      "outputs": []
    },
    {
      "cell_type": "code",
      "metadata": {
        "id": "md7vEf5tWn4u",
        "colab_type": "code",
        "outputId": "4437a671-c217-4ecd-d24a-c0274af69921",
        "colab": {
          "base_uri": "https://localhost:8080/",
          "height": 122
        }
      },
      "source": [
        "from google.colab import drive\n",
        "drive.mount('/gdrive')"
      ],
      "execution_count": 2,
      "outputs": [
        {
          "output_type": "stream",
          "text": [
            "Go to this URL in a browser: https://accounts.google.com/o/oauth2/auth?client_id=947318989803-6bn6qk8qdgf4n4g3pfee6491hc0brc4i.apps.googleusercontent.com&redirect_uri=urn%3Aietf%3Awg%3Aoauth%3A2.0%3Aoob&scope=email%20https%3A%2F%2Fwww.googleapis.com%2Fauth%2Fdocs.test%20https%3A%2F%2Fwww.googleapis.com%2Fauth%2Fdrive%20https%3A%2F%2Fwww.googleapis.com%2Fauth%2Fdrive.photos.readonly%20https%3A%2F%2Fwww.googleapis.com%2Fauth%2Fpeopleapi.readonly&response_type=code\n",
            "\n",
            "Enter your authorization code:\n",
            "··········\n",
            "Mounted at /gdrive\n"
          ],
          "name": "stdout"
        }
      ]
    },
    {
      "cell_type": "code",
      "metadata": {
        "id": "dNFPrjKkWwWb",
        "colab_type": "code",
        "outputId": "5da96bf2-bc7f-4871-891d-6909bd5d8b3d",
        "colab": {
          "base_uri": "https://localhost:8080/",
          "height": 34
        }
      },
      "source": [
        "%cd /gdrive/My\\ Drive/"
      ],
      "execution_count": 3,
      "outputs": [
        {
          "output_type": "stream",
          "text": [
            "/gdrive/My Drive\n"
          ],
          "name": "stdout"
        }
      ]
    },
    {
      "cell_type": "code",
      "metadata": {
        "id": "bu57oVV7DIVV",
        "colab_type": "code",
        "colab": {
          "base_uri": "https://localhost:8080/",
          "height": 34
        },
        "outputId": "28fb9554-afea-43d1-b19a-47354407b885"
      },
      "source": [
        "# from keras.utils import plot_model\n",
        "from keras.models import Model\n",
        "from keras.layers import Input\n",
        "from keras.layers import Dense\n",
        "from keras.layers import Flatten\n",
        "from keras.layers import Activation\n",
        "from keras.layers import Dropout\n",
        "from keras.layers import Maximum\n",
        "from keras.layers import ZeroPadding2D\n",
        "from keras.layers.convolutional import Conv2D\n",
        "from keras.layers.pooling import MaxPooling2D\n",
        "from keras.layers.merge import concatenate\n",
        "from keras import regularizers\n",
        "from keras.layers import BatchNormalization\n",
        "from keras.optimizers import Adam, SGD\n",
        "from keras.preprocessing.image import ImageDataGenerator\n",
        "from keras.callbacks import ModelCheckpoint, ReduceLROnPlateau\n",
        "from keras.layers.advanced_activations import LeakyReLU\n",
        "from keras.utils import to_categorical\n",
        "from skimage.transform import resize as imresize"
      ],
      "execution_count": 4,
      "outputs": [
        {
          "output_type": "stream",
          "text": [
            "Using TensorFlow backend.\n"
          ],
          "name": "stderr"
        }
      ]
    },
    {
      "cell_type": "code",
      "metadata": {
        "id": "KamQMc8qHMCN",
        "colab_type": "code",
        "colab": {}
      },
      "source": [
        "from sklearn.model_selection import train_test_split"
      ],
      "execution_count": 0,
      "outputs": []
    },
    {
      "cell_type": "code",
      "metadata": {
        "id": "uJ65S-YO5zod",
        "colab_type": "code",
        "colab": {}
      },
      "source": [
        "\n",
        "BATCH_SIZE = 16\n",
        "EPOCHS = 30\n",
        "RANDOM_STATE = 11\n",
        "\n",
        "CLASS = {\n",
        "    'Black-grass': 0,\n",
        "    'Charlock': 1,\n",
        "    'Cleavers': 2,\n",
        "    'Common Chickweed': 3,\n",
        "    'Common wheat': 4,\n",
        "    'Fat Hen': 5,\n",
        "    'Loose Silky-bent': 6,\n",
        "    'Maize': 7,\n",
        "    'Scentless Mayweed': 8,\n",
        "    'Shepherds Purse': 9,\n",
        "    'Small-flowered Cranesbill': 10,\n",
        "    'Sugar beet': 11\n",
        "}\n",
        "\n",
        "INV_CLASS = {\n",
        "    0: 'Black-grass',\n",
        "    1: 'Charlock',\n",
        "    2: 'Cleavers',\n",
        "    3: 'Common Chickweed',\n",
        "    4: 'Common wheat',\n",
        "    5: 'Fat Hen',\n",
        "    6: 'Loose Silky-bent',\n",
        "    7: 'Maize',\n",
        "    8: 'Scentless Mayweed',\n",
        "    9: 'Shepherds Purse',\n",
        "    10: 'Small-flowered Cranesbill',\n",
        "    11: 'Sugar beet'\n",
        "}\n",
        "\n",
        "# Dense layers set\n",
        "def dense_set(inp_layer, n, activation, drop_rate=0.):\n",
        "    dp = Dropout(drop_rate)(inp_layer)\n",
        "    dns = Dense(n)(dp)\n",
        "    bn = BatchNormalization(axis=-1)(dns)\n",
        "    act = Activation(activation=activation)(bn)\n",
        "    return act\n",
        "\n",
        "# Conv. layers set\n",
        "def conv_layer(feature_batch, feature_map, kernel_size=(3, 3),strides=(1,1), zp_flag=False):\n",
        "    if zp_flag:\n",
        "        zp = ZeroPadding2D((1,1))(feature_batch)\n",
        "    else:\n",
        "        zp = feature_batch\n",
        "    conv = Conv2D(filters=feature_map, kernel_size=kernel_size, strides=strides)(zp)\n",
        "    bn = BatchNormalization(axis=3)(conv)\n",
        "    act = LeakyReLU(1/10)(bn)\n",
        "    return act\n",
        "\n",
        "# simple model \n",
        "def get_model():\n",
        "    inp_img = Input(shape=(51, 51, 3))\n",
        "\n",
        "    # 51\n",
        "    conv1 = conv_layer(inp_img, 64, zp_flag=False)\n",
        "    conv2 = conv_layer(conv1, 64, zp_flag=False)\n",
        "    mp1 = MaxPooling2D(pool_size=(3, 3), strides=(2, 2))(conv2)\n",
        "    # 23\n",
        "    conv3 = conv_layer(mp1, 128, zp_flag=False)\n",
        "    conv4 = conv_layer(conv3, 128, zp_flag=False)\n",
        "    mp2 = MaxPooling2D(pool_size=(3, 3), strides=(2, 2))(conv4)\n",
        "    # 9\n",
        "    conv7 = conv_layer(mp2, 256, zp_flag=False)\n",
        "    conv8 = conv_layer(conv7, 256, zp_flag=False)\n",
        "    conv9 = conv_layer(conv8, 256, zp_flag=False)\n",
        "    mp3 = MaxPooling2D(pool_size=(3, 3), strides=(2, 2))(conv9)\n",
        "    # 1\n",
        "    # dense layers\n",
        "    flt = Flatten()(mp3)\n",
        "    ds1 = dense_set(flt, 128, activation='tanh')\n",
        "    out = dense_set(ds1, 12, activation='softmax')\n",
        "\n",
        "    model = Model(inputs=inp_img, outputs=out)\n",
        "    \n",
        "    # The first 50 epochs are used by Adam opt.\n",
        "    # Then 30 epochs are used by SGD opt.\n",
        "    \n",
        "    #mypotim = Adam(lr=2 * 1e-3, beta_1=0.9, beta_2=0.999, epsilon=1e-08)\n",
        "    mypotim = SGD(lr=1 * 1e-1, momentum=0.9, nesterov=True)\n",
        "    model.compile(loss='categorical_crossentropy',\n",
        "                   optimizer=mypotim,\n",
        "                   metrics=['accuracy'])\n",
        "    model.summary()\n",
        "    return model\n",
        "\n",
        "\n",
        "def get_callbacks(filepath, patience=5):\n",
        "    lr_reduce = ReduceLROnPlateau(monitor='val_acc', factor=0.1, epsilon=1e-5, patience=patience, verbose=1)\n",
        "    msave = ModelCheckpoint(filepath, save_best_only=True)\n",
        "    return [lr_reduce, msave]\n",
        "\n",
        "def train_model(gmodel, img, target):\n",
        "    x_train, x_valid, y_train, y_valid = train_test_split(\n",
        "                                                        img,\n",
        "                                                        target,\n",
        "                                                        shuffle=True,\n",
        "                                                        train_size=0.8,\n",
        "                                                        random_state=RANDOM_STATE\n",
        "                                                        )\n",
        "    gen = ImageDataGenerator(\n",
        "            rotation_range=360.,\n",
        "            width_shift_range=0.3,\n",
        "            height_shift_range=0.3,\n",
        "            zoom_range=0.3,\n",
        "            horizontal_flip=True,\n",
        "            vertical_flip=True\n",
        "    )\n",
        "    gmodel.fit_generator(gen.flow(x_train, y_train,batch_size=BATCH_SIZE),\n",
        "               steps_per_epoch=10*len(x_train)/BATCH_SIZE,\n",
        "               epochs=EPOCHS,\n",
        "               verbose=1,\n",
        "               shuffle=True,\n",
        "               validation_data=(x_valid, y_valid))\n",
        "    \n",
        "\n",
        "\n"
      ],
      "execution_count": 0,
      "outputs": []
    },
    {
      "cell_type": "code",
      "metadata": {
        "id": "tLjP56XqWn3_",
        "colab_type": "code",
        "colab": {}
      },
      "source": [
        ""
      ],
      "execution_count": 0,
      "outputs": []
    },
    {
      "cell_type": "code",
      "metadata": {
        "id": "D9Kmg4VBB_YZ",
        "colab_type": "code",
        "colab": {}
      },
      "source": [
        "def reader():\n",
        "    file_ext = []\n",
        "    train_path = []\n",
        "    test_path = []\n",
        "\n",
        "    for root, dirs, files in os.walk('/gdrive/My Drive/plant-seedlings'):\n",
        "        if dirs != []:\n",
        "            print('Root:\\n'+str(root))\n",
        "            print('Dirs:\\n'+str(dirs))\n",
        "        else:\n",
        "            for f in files:\n",
        "                ext = os.path.splitext(str(f))[1][1:]\n",
        "\n",
        "                if ext not in file_ext:\n",
        "                    file_ext.append(ext)\n",
        "\n",
        "                if 'train' in root:\n",
        "                    path = os.path.join(root, f)\n",
        "                    train_path.append(path)\n",
        "                elif 'test' in root:\n",
        "                    path = os.path.join(root, f)\n",
        "                    test_path.append(path)\n",
        "    train_dict = {\n",
        "        'image': [],\n",
        "        'label': [],\n",
        "        'class': []\n",
        "    }\n",
        "    test_dict = {\n",
        "        'image': [],\n",
        "        'label': []\n",
        "    }\n",
        "\n",
        "    train_dict = fill_dict(train_path, train_dict)\n",
        "    test_dict = fill_dict(test_path, test_dict)\n",
        "    return train_dict, test_dict"
      ],
      "execution_count": 0,
      "outputs": []
    },
    {
      "cell_type": "code",
      "metadata": {
        "id": "DWdHK5WIUH1N",
        "colab_type": "code",
        "colab": {}
      },
      "source": [
        "def img_reshape(img):\n",
        "    img = imresize(img, (51, 51, 3))\n",
        "    return img\n",
        "\n",
        "# get image tag\n",
        "def img_label(path):\n",
        "    return str(str(path.split('/')[-1]))\n",
        "\n",
        "# get plant class on image\n",
        "def img_class(path):\n",
        "    return str(path.split('/')[-2])\n",
        "\n",
        "# fill train and test dict\n",
        "def fill_dict(paths, some_dict):\n",
        "    text = ''\n",
        "    if 'train' in paths[0]:\n",
        "        text = 'Start fill train_dict'\n",
        "    elif 'test' in paths[0]:\n",
        "        text = 'Start fill test_dict'\n",
        "\n",
        "    for p in tqdm(paths, ascii=True, ncols=85, desc=text):\n",
        "        img = imageio.imread(p)\n",
        "        img = img_reshape(img)\n",
        "        some_dict['image'].append(img)\n",
        "        some_dict['label'].append(img_label(p))\n",
        "        if 'train' in paths[0]:\n",
        "            some_dict['class'].append(img_class(p))\n",
        "\n",
        "    return some_dict\n"
      ],
      "execution_count": 0,
      "outputs": []
    },
    {
      "cell_type": "code",
      "metadata": {
        "id": "Md8768Hz_qaV",
        "colab_type": "code",
        "colab": {}
      },
      "source": [
        "from keras.utils import to_categorical"
      ],
      "execution_count": 0,
      "outputs": []
    },
    {
      "cell_type": "code",
      "metadata": {
        "id": "V0LiIXUfi-Gi",
        "colab_type": "code",
        "colab": {
          "base_uri": "https://localhost:8080/",
          "height": 207
        },
        "outputId": "52eeee55-bcbd-440a-dc7e-de5c54fe8650"
      },
      "source": [
        "train_dict, test_dict = reader()\n",
        "X_train = np.array(train_dict['image'])\n",
        "y_train = to_categorical(np.array([CLASS[l] for l in train_dict['class']]))\n",
        "\n",
        "X_test = np.array(test_dict['image'])\n",
        "label = test_dict['label']\n",
        "\n"
      ],
      "execution_count": 10,
      "outputs": [
        {
          "output_type": "stream",
          "text": [
            "Root:\n",
            "/gdrive/My Drive/plant-seedlings\n",
            "Dirs:\n",
            "['test', 'train']\n",
            "Root:\n",
            "/gdrive/My Drive/plant-seedlings/train\n",
            "Dirs:\n",
            "['Scentless Mayweed', 'Maize', 'Small-flowered Cranesbill', 'Shepherds Purse', 'Black-grass', 'Loose Silky-bent', 'Charlock', 'Common Chickweed', 'Common wheat', 'Fat Hen', 'Cleavers', 'Sugar beet']\n"
          ],
          "name": "stdout"
        },
        {
          "output_type": "stream",
          "text": [
            "Start fill train_dict: 100%|#####################| 4750/4750 [35:57<00:00,  2.69it/s]\n",
            "Start fill test_dict: 100%|########################| 794/794 [04:34<00:00,  3.04it/s]\n"
          ],
          "name": "stderr"
        }
      ]
    },
    {
      "cell_type": "code",
      "metadata": {
        "id": "B4ysA4ZFAzJY",
        "colab_type": "code",
        "colab": {
          "base_uri": "https://localhost:8080/",
          "height": 1000
        },
        "outputId": "86188181-ee8b-4570-9191-369c5f3d81d5"
      },
      "source": [
        "gmodel = get_model()"
      ],
      "execution_count": 22,
      "outputs": [
        {
          "output_type": "stream",
          "text": [
            "Model: \"model_8\"\n",
            "_________________________________________________________________\n",
            "Layer (type)                 Output Shape              Param #   \n",
            "=================================================================\n",
            "input_8 (InputLayer)         (None, 51, 51, 3)         0         \n",
            "_________________________________________________________________\n",
            "conv2d_50 (Conv2D)           (None, 49, 49, 64)        1792      \n",
            "_________________________________________________________________\n",
            "batch_normalization_64 (Batc (None, 49, 49, 64)        256       \n",
            "_________________________________________________________________\n",
            "leaky_re_lu_50 (LeakyReLU)   (None, 49, 49, 64)        0         \n",
            "_________________________________________________________________\n",
            "conv2d_51 (Conv2D)           (None, 47, 47, 64)        36928     \n",
            "_________________________________________________________________\n",
            "batch_normalization_65 (Batc (None, 47, 47, 64)        256       \n",
            "_________________________________________________________________\n",
            "leaky_re_lu_51 (LeakyReLU)   (None, 47, 47, 64)        0         \n",
            "_________________________________________________________________\n",
            "max_pooling2d_22 (MaxPooling (None, 23, 23, 64)        0         \n",
            "_________________________________________________________________\n",
            "conv2d_52 (Conv2D)           (None, 21, 21, 128)       73856     \n",
            "_________________________________________________________________\n",
            "batch_normalization_66 (Batc (None, 21, 21, 128)       512       \n",
            "_________________________________________________________________\n",
            "leaky_re_lu_52 (LeakyReLU)   (None, 21, 21, 128)       0         \n",
            "_________________________________________________________________\n",
            "conv2d_53 (Conv2D)           (None, 19, 19, 128)       147584    \n",
            "_________________________________________________________________\n",
            "batch_normalization_67 (Batc (None, 19, 19, 128)       512       \n",
            "_________________________________________________________________\n",
            "leaky_re_lu_53 (LeakyReLU)   (None, 19, 19, 128)       0         \n",
            "_________________________________________________________________\n",
            "max_pooling2d_23 (MaxPooling (None, 9, 9, 128)         0         \n",
            "_________________________________________________________________\n",
            "conv2d_54 (Conv2D)           (None, 7, 7, 256)         295168    \n",
            "_________________________________________________________________\n",
            "batch_normalization_68 (Batc (None, 7, 7, 256)         1024      \n",
            "_________________________________________________________________\n",
            "leaky_re_lu_54 (LeakyReLU)   (None, 7, 7, 256)         0         \n",
            "_________________________________________________________________\n",
            "conv2d_55 (Conv2D)           (None, 5, 5, 256)         590080    \n",
            "_________________________________________________________________\n",
            "batch_normalization_69 (Batc (None, 5, 5, 256)         1024      \n",
            "_________________________________________________________________\n",
            "leaky_re_lu_55 (LeakyReLU)   (None, 5, 5, 256)         0         \n",
            "_________________________________________________________________\n",
            "conv2d_56 (Conv2D)           (None, 3, 3, 256)         590080    \n",
            "_________________________________________________________________\n",
            "batch_normalization_70 (Batc (None, 3, 3, 256)         1024      \n",
            "_________________________________________________________________\n",
            "leaky_re_lu_56 (LeakyReLU)   (None, 3, 3, 256)         0         \n",
            "_________________________________________________________________\n",
            "max_pooling2d_24 (MaxPooling (None, 1, 1, 256)         0         \n",
            "_________________________________________________________________\n",
            "flatten_8 (Flatten)          (None, 256)               0         \n",
            "_________________________________________________________________\n",
            "dropout_15 (Dropout)         (None, 256)               0         \n",
            "_________________________________________________________________\n",
            "dense_15 (Dense)             (None, 128)               32896     \n",
            "_________________________________________________________________\n",
            "batch_normalization_71 (Batc (None, 128)               512       \n",
            "_________________________________________________________________\n",
            "activation_15 (Activation)   (None, 128)               0         \n",
            "_________________________________________________________________\n",
            "dropout_16 (Dropout)         (None, 128)               0         \n",
            "_________________________________________________________________\n",
            "dense_16 (Dense)             (None, 12)                1548      \n",
            "_________________________________________________________________\n",
            "batch_normalization_72 (Batc (None, 12)                48        \n",
            "_________________________________________________________________\n",
            "activation_16 (Activation)   (None, 12)                0         \n",
            "=================================================================\n",
            "Total params: 1,775,100\n",
            "Trainable params: 1,772,516\n",
            "Non-trainable params: 2,584\n",
            "_________________________________________________________________\n"
          ],
          "name": "stdout"
        }
      ]
    },
    {
      "cell_type": "code",
      "metadata": {
        "id": "PXzgoDWJ0CLm",
        "colab_type": "code",
        "colab": {
          "base_uri": "https://localhost:8080/",
          "height": 34
        },
        "outputId": "f79da947-8447-46f0-8c6d-a6a48bfeff75"
      },
      "source": [
        "gmodel"
      ],
      "execution_count": 23,
      "outputs": [
        {
          "output_type": "execute_result",
          "data": {
            "text/plain": [
              "<keras.engine.training.Model at 0x7feb6fc61b70>"
            ]
          },
          "metadata": {
            "tags": []
          },
          "execution_count": 23
        }
      ]
    },
    {
      "cell_type": "code",
      "metadata": {
        "id": "rHzbg29HT6Hq",
        "colab_type": "code",
        "colab": {
          "base_uri": "https://localhost:8080/",
          "height": 1000
        },
        "outputId": "6efdc4ad-2271-4653-d3f3-e96be476f6c6"
      },
      "source": [
        "train_model(gmodel, X_train, y_train)\n"
      ],
      "execution_count": 26,
      "outputs": [
        {
          "output_type": "stream",
          "text": [
            "Epoch 1/30\n",
            "2375/2375 [==============================] - 135s 57ms/step - loss: 1.3209 - acc: 0.5482 - val_loss: 1.6171 - val_acc: 0.4779\n",
            "Epoch 2/30\n",
            "2375/2375 [==============================] - 106s 45ms/step - loss: 0.8031 - acc: 0.7261 - val_loss: 0.6587 - val_acc: 0.7800\n",
            "Epoch 3/30\n",
            "2375/2375 [==============================] - 105s 44ms/step - loss: 0.6482 - acc: 0.7775 - val_loss: 0.8175 - val_acc: 0.7053\n",
            "Epoch 4/30\n",
            "2375/2375 [==============================] - 105s 44ms/step - loss: 0.5317 - acc: 0.8139 - val_loss: 0.8530 - val_acc: 0.7179\n",
            "Epoch 5/30\n",
            "2375/2375 [==============================] - 106s 45ms/step - loss: 0.4758 - acc: 0.8360 - val_loss: 0.3976 - val_acc: 0.8863\n",
            "Epoch 6/30\n",
            "2375/2375 [==============================] - 106s 45ms/step - loss: 0.4233 - acc: 0.8519 - val_loss: 0.4689 - val_acc: 0.8484\n",
            "Epoch 7/30\n",
            "2375/2375 [==============================] - 106s 45ms/step - loss: 0.3846 - acc: 0.8645 - val_loss: 0.3420 - val_acc: 0.8905\n",
            "Epoch 8/30\n",
            "2375/2375 [==============================] - 106s 45ms/step - loss: 0.3545 - acc: 0.8748 - val_loss: 0.2977 - val_acc: 0.8863\n",
            "Epoch 9/30\n",
            "2375/2375 [==============================] - 109s 46ms/step - loss: 0.3192 - acc: 0.8876 - val_loss: 0.3313 - val_acc: 0.8716\n",
            "Epoch 10/30\n",
            "2375/2375 [==============================] - 110s 46ms/step - loss: 0.3051 - acc: 0.8927 - val_loss: 0.2521 - val_acc: 0.9095\n",
            "Epoch 11/30\n",
            "2375/2375 [==============================] - 108s 46ms/step - loss: 0.2883 - acc: 0.8979 - val_loss: 0.2962 - val_acc: 0.9084\n",
            "Epoch 12/30\n",
            "2375/2375 [==============================] - 107s 45ms/step - loss: 0.2753 - acc: 0.9029 - val_loss: 0.4048 - val_acc: 0.8789\n",
            "Epoch 13/30\n",
            "2375/2375 [==============================] - 108s 46ms/step - loss: 0.2495 - acc: 0.9104 - val_loss: 0.2370 - val_acc: 0.9232\n",
            "Epoch 14/30\n",
            "2375/2375 [==============================] - 107s 45ms/step - loss: 0.2393 - acc: 0.9143 - val_loss: 0.1753 - val_acc: 0.9442\n",
            "Epoch 15/30\n",
            "2375/2375 [==============================] - 110s 46ms/step - loss: 0.2324 - acc: 0.9169 - val_loss: 0.3730 - val_acc: 0.8779\n",
            "Epoch 16/30\n",
            "2375/2375 [==============================] - 111s 47ms/step - loss: 0.2293 - acc: 0.9189 - val_loss: 1.2601 - val_acc: 0.6779\n",
            "Epoch 17/30\n",
            "2375/2375 [==============================] - 109s 46ms/step - loss: 0.2136 - acc: 0.9241 - val_loss: 0.2340 - val_acc: 0.9221\n",
            "Epoch 18/30\n",
            "2375/2375 [==============================] - 109s 46ms/step - loss: 0.2053 - acc: 0.9271 - val_loss: 0.2121 - val_acc: 0.9337\n",
            "Epoch 19/30\n",
            "2375/2375 [==============================] - 110s 46ms/step - loss: 0.2031 - acc: 0.9277 - val_loss: 0.2847 - val_acc: 0.9095\n",
            "Epoch 20/30\n",
            "2375/2375 [==============================] - 110s 46ms/step - loss: 0.1952 - acc: 0.9311 - val_loss: 0.1842 - val_acc: 0.9368\n",
            "Epoch 21/30\n",
            "2375/2375 [==============================] - 106s 45ms/step - loss: 0.1876 - acc: 0.9335 - val_loss: 0.2693 - val_acc: 0.9105\n",
            "Epoch 22/30\n",
            "2375/2375 [==============================] - 106s 44ms/step - loss: 0.1848 - acc: 0.9348 - val_loss: 0.1643 - val_acc: 0.9484\n",
            "Epoch 23/30\n",
            "2375/2375 [==============================] - 108s 46ms/step - loss: 0.1776 - acc: 0.9363 - val_loss: 0.3225 - val_acc: 0.8895\n",
            "Epoch 24/30\n",
            "2375/2375 [==============================] - 108s 45ms/step - loss: 0.1751 - acc: 0.9392 - val_loss: 0.2684 - val_acc: 0.9126\n",
            "Epoch 25/30\n",
            "2375/2375 [==============================] - 108s 46ms/step - loss: 0.1676 - acc: 0.9389 - val_loss: 0.1966 - val_acc: 0.9389\n",
            "Epoch 26/30\n",
            "2375/2375 [==============================] - 106s 45ms/step - loss: 0.1693 - acc: 0.9402 - val_loss: 0.1583 - val_acc: 0.9516\n",
            "Epoch 27/30\n",
            "2375/2375 [==============================] - 108s 46ms/step - loss: 0.1617 - acc: 0.9428 - val_loss: 0.2342 - val_acc: 0.9158\n",
            "Epoch 28/30\n",
            "2375/2375 [==============================] - 106s 45ms/step - loss: 0.1552 - acc: 0.9438 - val_loss: 0.2634 - val_acc: 0.9232\n",
            "Epoch 29/30\n",
            "2375/2375 [==============================] - 126s 53ms/step - loss: 0.1541 - acc: 0.9458 - val_loss: 0.1598 - val_acc: 0.9526\n",
            "Epoch 30/30\n",
            "2375/2375 [==============================] - 114s 48ms/step - loss: 0.1464 - acc: 0.9486 - val_loss: 0.2087 - val_acc: 0.9337\n"
          ],
          "name": "stdout"
        }
      ]
    },
    {
      "cell_type": "code",
      "metadata": {
        "id": "Lmxsj6SeBMLa",
        "colab_type": "code",
        "colab": {}
      },
      "source": [
        "def test_model(gmodel, img, label):\n",
        "    prob = gmodel.predict(img, verbose=1)\n",
        "    pred = prob.argmax(axis=-1)\n",
        "    sub = pd.DataFrame({\"file\": label,\n",
        "                         \"species\": [INV_CLASS[p] for p in pred]})\n",
        "    print(sub)"
      ],
      "execution_count": 0,
      "outputs": []
    },
    {
      "cell_type": "code",
      "metadata": {
        "id": "3QdgfnT3TPTV",
        "colab_type": "code",
        "colab": {
          "base_uri": "https://localhost:8080/",
          "height": 1000
        },
        "outputId": "7c1cd66d-ad06-4e95-f464-3179fac82374"
      },
      "source": [
        "test_model(gmodel, X_test, label)"
      ],
      "execution_count": 39,
      "outputs": [
        {
          "output_type": "stream",
          "text": [
            "794/794 [==============================] - 1s 698us/step\n",
            "              file                    species\n",
            "0    976e4e079.png           Common Chickweed\n",
            "1    93079d970.png                 Sugar beet\n",
            "2    856f2910a.png  Small-flowered Cranesbill\n",
            "3    1d0cbd819.png           Loose Silky-bent\n",
            "4    4bbfd1e05.png                   Cleavers\n",
            "5    c0461776c.png           Common Chickweed\n",
            "6    b31292706.png           Common Chickweed\n",
            "7    29bab7cad.png           Common Chickweed\n",
            "8    37297a64c.png           Common Chickweed\n",
            "9    f2dc546ca.png                   Cleavers\n",
            "10   b6a3f7876.png                Black-grass\n",
            "11   8874bba69.png           Loose Silky-bent\n",
            "12   1459e96a0.png                   Cleavers\n",
            "13   9a3f20121.png           Loose Silky-bent\n",
            "14   5315c2dca.png           Loose Silky-bent\n",
            "15   b7a7f6390.png                    Fat Hen\n",
            "16   20e562fd5.png                 Sugar beet\n",
            "17   e3f50adfc.png                   Cleavers\n",
            "18   6ba4ef411.png                   Cleavers\n",
            "19   acdb75e00.png           Loose Silky-bent\n",
            "20   e0ec5b6a1.png                 Sugar beet\n",
            "21   219fd68d5.png          Scentless Mayweed\n",
            "22   41f1c3cdb.png                    Fat Hen\n",
            "23   8c98a6e9b.png           Loose Silky-bent\n",
            "24   1bf9b94a6.png          Scentless Mayweed\n",
            "25   cadab6616.png            Shepherds Purse\n",
            "26   17d5e5ac4.png           Loose Silky-bent\n",
            "27   aee6fa3df.png           Loose Silky-bent\n",
            "28   19618ad6a.png                 Sugar beet\n",
            "29   7e9cf1c46.png           Common Chickweed\n",
            "..             ...                        ...\n",
            "764  ce15eee52.png                   Charlock\n",
            "765  be2499cf4.png           Loose Silky-bent\n",
            "766  593896f83.png           Common Chickweed\n",
            "767  e96e57a90.png            Shepherds Purse\n",
            "768  c4ed8ed38.png                   Charlock\n",
            "769  446f7da01.png           Loose Silky-bent\n",
            "770  b145ba9d4.png          Scentless Mayweed\n",
            "771  b98327bf4.png          Scentless Mayweed\n",
            "772  bd789d151.png           Common Chickweed\n",
            "773  e84464f5a.png                   Cleavers\n",
            "774  afcf6abd5.png  Small-flowered Cranesbill\n",
            "775  79dafec17.png           Loose Silky-bent\n",
            "776  0885e7690.png          Scentless Mayweed\n",
            "777  0911d3dee.png           Common Chickweed\n",
            "778  ba3ce6b3e.png          Scentless Mayweed\n",
            "779  aecfaed64.png            Shepherds Purse\n",
            "780  089ad62a7.png           Common Chickweed\n",
            "781  31f3dd81f.png           Loose Silky-bent\n",
            "782  afa446484.png  Small-flowered Cranesbill\n",
            "783  115f93ecc.png           Loose Silky-bent\n",
            "784  da5255450.png           Common Chickweed\n",
            "785  d689256be.png                Black-grass\n",
            "786  dabea05f4.png           Loose Silky-bent\n",
            "787  d09275360.png                 Sugar beet\n",
            "788  16467a950.png           Loose Silky-bent\n",
            "789  da231c97f.png          Scentless Mayweed\n",
            "790  632156793.png                   Cleavers\n",
            "791  e88bf0db9.png  Small-flowered Cranesbill\n",
            "792  953496deb.png                    Fat Hen\n",
            "793  efe19dc32.png                   Charlock\n",
            "\n",
            "[794 rows x 2 columns]\n"
          ],
          "name": "stdout"
        }
      ]
    },
    {
      "cell_type": "code",
      "metadata": {
        "id": "nOhPD_wPiQ7G",
        "colab_type": "code",
        "colab": {
          "base_uri": "https://localhost:8080/",
          "height": 1000
        },
        "outputId": "4cd6d1f6-7268-4883-b1b6-1cbfaa81c20c"
      },
      "source": [
        "gmodel.summary()"
      ],
      "execution_count": 31,
      "outputs": [
        {
          "output_type": "stream",
          "text": [
            "Model: \"model_8\"\n",
            "_________________________________________________________________\n",
            "Layer (type)                 Output Shape              Param #   \n",
            "=================================================================\n",
            "input_8 (InputLayer)         (None, 51, 51, 3)         0         \n",
            "_________________________________________________________________\n",
            "conv2d_50 (Conv2D)           (None, 49, 49, 64)        1792      \n",
            "_________________________________________________________________\n",
            "batch_normalization_64 (Batc (None, 49, 49, 64)        256       \n",
            "_________________________________________________________________\n",
            "leaky_re_lu_50 (LeakyReLU)   (None, 49, 49, 64)        0         \n",
            "_________________________________________________________________\n",
            "conv2d_51 (Conv2D)           (None, 47, 47, 64)        36928     \n",
            "_________________________________________________________________\n",
            "batch_normalization_65 (Batc (None, 47, 47, 64)        256       \n",
            "_________________________________________________________________\n",
            "leaky_re_lu_51 (LeakyReLU)   (None, 47, 47, 64)        0         \n",
            "_________________________________________________________________\n",
            "max_pooling2d_22 (MaxPooling (None, 23, 23, 64)        0         \n",
            "_________________________________________________________________\n",
            "conv2d_52 (Conv2D)           (None, 21, 21, 128)       73856     \n",
            "_________________________________________________________________\n",
            "batch_normalization_66 (Batc (None, 21, 21, 128)       512       \n",
            "_________________________________________________________________\n",
            "leaky_re_lu_52 (LeakyReLU)   (None, 21, 21, 128)       0         \n",
            "_________________________________________________________________\n",
            "conv2d_53 (Conv2D)           (None, 19, 19, 128)       147584    \n",
            "_________________________________________________________________\n",
            "batch_normalization_67 (Batc (None, 19, 19, 128)       512       \n",
            "_________________________________________________________________\n",
            "leaky_re_lu_53 (LeakyReLU)   (None, 19, 19, 128)       0         \n",
            "_________________________________________________________________\n",
            "max_pooling2d_23 (MaxPooling (None, 9, 9, 128)         0         \n",
            "_________________________________________________________________\n",
            "conv2d_54 (Conv2D)           (None, 7, 7, 256)         295168    \n",
            "_________________________________________________________________\n",
            "batch_normalization_68 (Batc (None, 7, 7, 256)         1024      \n",
            "_________________________________________________________________\n",
            "leaky_re_lu_54 (LeakyReLU)   (None, 7, 7, 256)         0         \n",
            "_________________________________________________________________\n",
            "conv2d_55 (Conv2D)           (None, 5, 5, 256)         590080    \n",
            "_________________________________________________________________\n",
            "batch_normalization_69 (Batc (None, 5, 5, 256)         1024      \n",
            "_________________________________________________________________\n",
            "leaky_re_lu_55 (LeakyReLU)   (None, 5, 5, 256)         0         \n",
            "_________________________________________________________________\n",
            "conv2d_56 (Conv2D)           (None, 3, 3, 256)         590080    \n",
            "_________________________________________________________________\n",
            "batch_normalization_70 (Batc (None, 3, 3, 256)         1024      \n",
            "_________________________________________________________________\n",
            "leaky_re_lu_56 (LeakyReLU)   (None, 3, 3, 256)         0         \n",
            "_________________________________________________________________\n",
            "max_pooling2d_24 (MaxPooling (None, 1, 1, 256)         0         \n",
            "_________________________________________________________________\n",
            "flatten_8 (Flatten)          (None, 256)               0         \n",
            "_________________________________________________________________\n",
            "dropout_15 (Dropout)         (None, 256)               0         \n",
            "_________________________________________________________________\n",
            "dense_15 (Dense)             (None, 128)               32896     \n",
            "_________________________________________________________________\n",
            "batch_normalization_71 (Batc (None, 128)               512       \n",
            "_________________________________________________________________\n",
            "activation_15 (Activation)   (None, 128)               0         \n",
            "_________________________________________________________________\n",
            "dropout_16 (Dropout)         (None, 128)               0         \n",
            "_________________________________________________________________\n",
            "dense_16 (Dense)             (None, 12)                1548      \n",
            "_________________________________________________________________\n",
            "batch_normalization_72 (Batc (None, 12)                48        \n",
            "_________________________________________________________________\n",
            "activation_16 (Activation)   (None, 12)                0         \n",
            "=================================================================\n",
            "Total params: 1,775,100\n",
            "Trainable params: 1,772,516\n",
            "Non-trainable params: 2,584\n",
            "_________________________________________________________________\n"
          ],
          "name": "stdout"
        }
      ]
    },
    {
      "cell_type": "code",
      "metadata": {
        "id": "Li-8IW-TjGIw",
        "colab_type": "code",
        "colab": {}
      },
      "source": [
        "# TRain accuracy is 94%\n",
        "# Test accuracy is 93%"
      ],
      "execution_count": 0,
      "outputs": []
    },
    {
      "cell_type": "code",
      "metadata": {
        "id": "S8aaUJjDHusZ",
        "colab_type": "code",
        "colab": {}
      },
      "source": [
        ""
      ],
      "execution_count": 0,
      "outputs": []
    },
    {
      "cell_type": "code",
      "metadata": {
        "id": "-LoetpXdCIyH",
        "colab_type": "code",
        "colab": {}
      },
      "source": [
        ""
      ],
      "execution_count": 0,
      "outputs": []
    },
    {
      "cell_type": "code",
      "metadata": {
        "id": "xsGZ9en0C_Yd",
        "colab_type": "code",
        "colab": {}
      },
      "source": [
        ""
      ],
      "execution_count": 0,
      "outputs": []
    },
    {
      "cell_type": "code",
      "metadata": {
        "id": "sedPGpW3GKk8",
        "colab_type": "code",
        "colab": {}
      },
      "source": [
        ""
      ],
      "execution_count": 0,
      "outputs": []
    }
  ]
}