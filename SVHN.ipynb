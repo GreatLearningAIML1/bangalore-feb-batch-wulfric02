{
  "nbformat": 4,
  "nbformat_minor": 0,
  "metadata": {
    "colab": {
      "name": "SVHN.ipynb",
      "provenance": [],
      "collapsed_sections": []
    },
    "kernelspec": {
      "name": "python3",
      "display_name": "Python 3"
    },
    "accelerator": "GPU"
  },
  "cells": [
    {
      "cell_type": "code",
      "metadata": {
        "id": "FJQUPXsJN_wO",
        "colab_type": "code",
        "colab": {}
      },
      "source": [
        "import h5py\n",
        "import pandas as pd \n",
        "import numpy as np"
      ],
      "execution_count": 0,
      "outputs": []
    },
    {
      "cell_type": "code",
      "metadata": {
        "id": "_RauIgQcOFJM",
        "colab_type": "code",
        "colab": {
          "base_uri": "https://localhost:8080/",
          "height": 122
        },
        "outputId": "ccbc10bf-cfaf-421a-e255-923fe7d7c254"
      },
      "source": [
        "from google.colab import drive\n",
        "drive.mount('/gdrive')\n"
      ],
      "execution_count": 2,
      "outputs": [
        {
          "output_type": "stream",
          "text": [
            "Go to this URL in a browser: https://accounts.google.com/o/oauth2/auth?client_id=947318989803-6bn6qk8qdgf4n4g3pfee6491hc0brc4i.apps.googleusercontent.com&redirect_uri=urn%3Aietf%3Awg%3Aoauth%3A2.0%3Aoob&scope=email%20https%3A%2F%2Fwww.googleapis.com%2Fauth%2Fdocs.test%20https%3A%2F%2Fwww.googleapis.com%2Fauth%2Fdrive%20https%3A%2F%2Fwww.googleapis.com%2Fauth%2Fdrive.photos.readonly%20https%3A%2F%2Fwww.googleapis.com%2Fauth%2Fpeopleapi.readonly&response_type=code\n",
            "\n",
            "Enter your authorization code:\n",
            "··········\n",
            "Mounted at /gdrive\n"
          ],
          "name": "stdout"
        }
      ]
    },
    {
      "cell_type": "code",
      "metadata": {
        "id": "_NsAiCHfOG_k",
        "colab_type": "code",
        "colab": {
          "base_uri": "https://localhost:8080/",
          "height": 34
        },
        "outputId": "c6a30bba-c9ab-4be7-c296-05f17c4823da"
      },
      "source": [
        "%cd /gdrive/My\\ Drive/"
      ],
      "execution_count": 3,
      "outputs": [
        {
          "output_type": "stream",
          "text": [
            "/gdrive/My Drive\n"
          ],
          "name": "stdout"
        }
      ]
    },
    {
      "cell_type": "code",
      "metadata": {
        "id": "xs5VhkCnOH21",
        "colab_type": "code",
        "colab": {}
      },
      "source": [
        "filename = 'SVHN_single_grey1.h5'\n",
        "f = h5py.File(filename, 'r')\n"
      ],
      "execution_count": 0,
      "outputs": []
    },
    {
      "cell_type": "code",
      "metadata": {
        "id": "FTTKBZZROaYx",
        "colab_type": "code",
        "colab": {}
      },
      "source": [
        "X_test = f['X_test'][:]\n",
        "X_train = f['X_train'][:]\n",
        "X_val = f['X_val'][:]\n",
        "y_test = f['y_test'][:]\n",
        "y_train = f['y_train'][:]\n",
        "y_val = f['y_val'][:]"
      ],
      "execution_count": 0,
      "outputs": []
    },
    {
      "cell_type": "code",
      "metadata": {
        "id": "2c9ZJ1xsOdEE",
        "colab_type": "code",
        "colab": {}
      },
      "source": [
        "X_train_1d = X_train.reshape((42000, 1024))\n",
        "X_test_1d = X_test.reshape((18000, 1024))\n",
        "X_val_1d = X_val.reshape((60000, 1024))"
      ],
      "execution_count": 0,
      "outputs": []
    },
    {
      "cell_type": "code",
      "metadata": {
        "id": "bnHXAUV6OesH",
        "colab_type": "code",
        "colab": {}
      },
      "source": [
        "from sklearn.neighbors import KNeighborsClassifier\n",
        "from sklearn.model_selection import GridSearchCV"
      ],
      "execution_count": 0,
      "outputs": []
    },
    {
      "cell_type": "code",
      "metadata": {
        "id": "hFbg1MVmOgOD",
        "colab_type": "code",
        "colab": {}
      },
      "source": [
        "from sklearn import metrics"
      ],
      "execution_count": 0,
      "outputs": []
    },
    {
      "cell_type": "code",
      "metadata": {
        "id": "HA-snjw2OhwS",
        "colab_type": "code",
        "colab": {
          "base_uri": "https://localhost:8080/",
          "height": 68
        },
        "outputId": "cb052f1e-fbed-4143-9011-4bf14bc65eda"
      },
      "source": [
        "knn = KNeighborsClassifier(n_neighbors=3)\n",
        "knn.fit(X_train_1d, y_train)"
      ],
      "execution_count": 9,
      "outputs": [
        {
          "output_type": "execute_result",
          "data": {
            "text/plain": [
              "KNeighborsClassifier(algorithm='auto', leaf_size=30, metric='minkowski',\n",
              "                     metric_params=None, n_jobs=None, n_neighbors=3, p=2,\n",
              "                     weights='uniform')"
            ]
          },
          "metadata": {
            "tags": []
          },
          "execution_count": 9
        }
      ]
    },
    {
      "cell_type": "code",
      "metadata": {
        "id": "6ApQSvNWOnh8",
        "colab_type": "code",
        "colab": {}
      },
      "source": [
        "\n",
        "y_pred = knn.predict(X_test_1d)"
      ],
      "execution_count": 0,
      "outputs": []
    },
    {
      "cell_type": "code",
      "metadata": {
        "id": "0HKvSTqROsS-",
        "colab_type": "code",
        "colab": {
          "base_uri": "https://localhost:8080/",
          "height": 34
        },
        "outputId": "90c77326-587f-447a-ba38-7e9f5a8ff5d5"
      },
      "source": [
        "metrics.accuracy_score(y_pred, y_test)"
      ],
      "execution_count": 11,
      "outputs": [
        {
          "output_type": "execute_result",
          "data": {
            "text/plain": [
              "0.4617777777777778"
            ]
          },
          "metadata": {
            "tags": []
          },
          "execution_count": 11
        }
      ]
    },
    {
      "cell_type": "code",
      "metadata": {
        "id": "Fq20lWS7UKIr",
        "colab_type": "code",
        "colab": {}
      },
      "source": [
        "input_shape=(32, 32, 1)"
      ],
      "execution_count": 0,
      "outputs": []
    },
    {
      "cell_type": "code",
      "metadata": {
        "id": "r9FG7iMoUbUx",
        "colab_type": "code",
        "colab": {}
      },
      "source": [
        "learning_rate = 0.01"
      ],
      "execution_count": 0,
      "outputs": []
    },
    {
      "cell_type": "code",
      "metadata": {
        "id": "g4IrcPShZCXl",
        "colab_type": "code",
        "colab": {}
      },
      "source": [
        "y_train_c = keras.utils.to_categorical(y_train, 10)\n",
        "y_val_c = keras.utils.to_categorical(y_val, 10)\n",
        "y_test_c = keras.utils.to_categorical(y_test, 10)"
      ],
      "execution_count": 0,
      "outputs": []
    },
    {
      "cell_type": "code",
      "metadata": {
        "id": "_CFypTIVTi2f",
        "colab_type": "code",
        "colab": {}
      },
      "source": [
        "import keras\n",
        "from keras.models import Sequential\n",
        "from keras.layers.core import Dense,Dropout,Activation,Flatten, Reshape\n",
        "from keras.layers.convolutional import Conv2D,MaxPooling2D\n",
        "from keras.layers.normalization import BatchNormalization"
      ],
      "execution_count": 0,
      "outputs": []
    },
    {
      "cell_type": "code",
      "metadata": {
        "id": "q2O5JA4xTzzY",
        "colab_type": "code",
        "colab": {}
      },
      "source": [
        "model = Sequential()\n",
        "model.add(Reshape((32,32,1), input_shape=(32,32)))\n",
        "model.add(Conv2D(32,kernel_size=3, input_shape=input_shape, padding=\"same\"))\n",
        "model.add(BatchNormalization())\n",
        "model.add(Activation('relu'))\n",
        "model.add(Conv2D(32, 3, padding=\"same\"))\n",
        "model.add(BatchNormalization())\n",
        "model.add(Activation('relu'))\n",
        "model.add(MaxPooling2D(pool_size=2))\n",
        "model.add(Dropout(0.3))\n",
        "\n",
        "model.add(Conv2D(64, 3))\n",
        "model.add(BatchNormalization())\n",
        "model.add(Activation('relu'))\n",
        "model.add(Conv2D(64, 3, padding=\"same\"))\n",
        "model.add(BatchNormalization())\n",
        "model.add(Activation('relu'))\n",
        "model.add(MaxPooling2D(pool_size=2))\n",
        "model.add(Dropout(0.3))\n",
        "\n",
        "model.add(Conv2D(128, 3))\n",
        "model.add(BatchNormalization())\n",
        "model.add(Activation('relu'))\n",
        "model.add(Conv2D(128, 3, padding=\"same\"))\n",
        "model.add(BatchNormalization())\n",
        "model.add(Activation('relu'))\n",
        "model.add(MaxPooling2D(pool_size=2))\n",
        "model.add(Dropout(0.3))\n",
        "\n",
        "model.add(Flatten())\n",
        "model.add(Dense(512, activation='relu'))\n",
        "model.add(Dropout(0.3))\n",
        "\n",
        "model.add(Dense(10, activation='softmax'))\n",
        "\n",
        "lr = learning_rate\n",
        "optimizers = {\"SGD\": keras.optimizers.SGD(lr=lr)}\n",
        "\n",
        "model.compile(loss=keras.losses.categorical_crossentropy,\n",
        "              optimizer='sgd',\n",
        "              metrics=['accuracy'])"
      ],
      "execution_count": 0,
      "outputs": []
    },
    {
      "cell_type": "code",
      "metadata": {
        "id": "7-G0ptLGUCSc",
        "colab_type": "code",
        "colab": {
          "base_uri": "https://localhost:8080/",
          "height": 1000
        },
        "outputId": "88bb4ec8-17b9-4171-8d55-687036687bc3"
      },
      "source": [
        "model.fit(X_train, y_train_c, batch_size=64, epochs=50, validation_data=(X_val, y_val_c))"
      ],
      "execution_count": 34,
      "outputs": [
        {
          "output_type": "stream",
          "text": [
            "WARNING:tensorflow:From /usr/local/lib/python3.6/dist-packages/tensorflow/python/ops/math_grad.py:1250: add_dispatch_support.<locals>.wrapper (from tensorflow.python.ops.array_ops) is deprecated and will be removed in a future version.\n",
            "Instructions for updating:\n",
            "Use tf.where in 2.0, which has the same broadcast rule as np.where\n",
            "Train on 42000 samples, validate on 60000 samples\n",
            "Epoch 1/50\n",
            "42000/42000 [==============================] - 17s 396us/step - loss: 2.2656 - acc: 0.1892 - val_loss: 1.7030 - val_acc: 0.4207\n",
            "Epoch 2/50\n",
            "42000/42000 [==============================] - 11s 257us/step - loss: 1.1592 - acc: 0.6104 - val_loss: 1.1886 - val_acc: 0.6008\n",
            "Epoch 3/50\n",
            "42000/42000 [==============================] - 11s 257us/step - loss: 0.7310 - acc: 0.7664 - val_loss: 0.5841 - val_acc: 0.8174\n",
            "Epoch 4/50\n",
            "42000/42000 [==============================] - 11s 255us/step - loss: 0.5958 - acc: 0.8127 - val_loss: 0.4073 - val_acc: 0.8754\n",
            "Epoch 5/50\n",
            "42000/42000 [==============================] - 11s 254us/step - loss: 0.5207 - acc: 0.8352 - val_loss: 0.6225 - val_acc: 0.8045\n",
            "Epoch 6/50\n",
            "42000/42000 [==============================] - 11s 256us/step - loss: 0.4727 - acc: 0.8509 - val_loss: 0.3409 - val_acc: 0.8954\n",
            "Epoch 7/50\n",
            "42000/42000 [==============================] - 11s 258us/step - loss: 0.4330 - acc: 0.8653 - val_loss: 0.2954 - val_acc: 0.9100\n",
            "Epoch 8/50\n",
            "42000/42000 [==============================] - 11s 255us/step - loss: 0.4097 - acc: 0.8741 - val_loss: 0.4397 - val_acc: 0.8662\n",
            "Epoch 9/50\n",
            "42000/42000 [==============================] - 11s 257us/step - loss: 0.3898 - acc: 0.8794 - val_loss: 0.2969 - val_acc: 0.9090\n",
            "Epoch 10/50\n",
            "42000/42000 [==============================] - 11s 256us/step - loss: 0.3671 - acc: 0.8852 - val_loss: 0.2823 - val_acc: 0.9139\n",
            "Epoch 11/50\n",
            "42000/42000 [==============================] - 11s 256us/step - loss: 0.3536 - acc: 0.8924 - val_loss: 0.3096 - val_acc: 0.9054\n",
            "Epoch 12/50\n",
            "42000/42000 [==============================] - 11s 256us/step - loss: 0.3369 - acc: 0.8970 - val_loss: 0.4609 - val_acc: 0.8577\n",
            "Epoch 13/50\n",
            "42000/42000 [==============================] - 11s 255us/step - loss: 0.3310 - acc: 0.8992 - val_loss: 0.3141 - val_acc: 0.9041\n",
            "Epoch 14/50\n",
            "42000/42000 [==============================] - 11s 257us/step - loss: 0.3192 - acc: 0.9010 - val_loss: 0.2604 - val_acc: 0.9200\n",
            "Epoch 15/50\n",
            "42000/42000 [==============================] - 11s 256us/step - loss: 0.3071 - acc: 0.9066 - val_loss: 0.6886 - val_acc: 0.7729\n",
            "Epoch 16/50\n",
            "42000/42000 [==============================] - 11s 255us/step - loss: 0.2978 - acc: 0.9088 - val_loss: 0.2165 - val_acc: 0.9352\n",
            "Epoch 17/50\n",
            "42000/42000 [==============================] - 11s 258us/step - loss: 0.2939 - acc: 0.9099 - val_loss: 0.3086 - val_acc: 0.9025\n",
            "Epoch 18/50\n",
            "42000/42000 [==============================] - 11s 255us/step - loss: 0.2804 - acc: 0.9147 - val_loss: 0.4334 - val_acc: 0.8613\n",
            "Epoch 19/50\n",
            "42000/42000 [==============================] - 11s 258us/step - loss: 0.2771 - acc: 0.9144 - val_loss: 0.1992 - val_acc: 0.9420\n",
            "Epoch 20/50\n",
            "42000/42000 [==============================] - 11s 259us/step - loss: 0.2715 - acc: 0.9173 - val_loss: 0.2202 - val_acc: 0.9335\n",
            "Epoch 21/50\n",
            "42000/42000 [==============================] - 11s 259us/step - loss: 0.2639 - acc: 0.9202 - val_loss: 0.2172 - val_acc: 0.9355\n",
            "Epoch 22/50\n",
            "42000/42000 [==============================] - 11s 258us/step - loss: 0.2563 - acc: 0.9220 - val_loss: 0.2365 - val_acc: 0.9306\n",
            "Epoch 23/50\n",
            "42000/42000 [==============================] - 11s 256us/step - loss: 0.2553 - acc: 0.9214 - val_loss: 0.2144 - val_acc: 0.9354\n",
            "Epoch 24/50\n",
            "42000/42000 [==============================] - 11s 257us/step - loss: 0.2472 - acc: 0.9246 - val_loss: 0.2023 - val_acc: 0.9409\n",
            "Epoch 25/50\n",
            "42000/42000 [==============================] - 11s 256us/step - loss: 0.2440 - acc: 0.9254 - val_loss: 0.4170 - val_acc: 0.8678\n",
            "Epoch 26/50\n",
            "42000/42000 [==============================] - 11s 257us/step - loss: 0.2391 - acc: 0.9271 - val_loss: 0.1985 - val_acc: 0.9405\n",
            "Epoch 27/50\n",
            "42000/42000 [==============================] - 11s 257us/step - loss: 0.2364 - acc: 0.9284 - val_loss: 0.2177 - val_acc: 0.9347\n",
            "Epoch 28/50\n",
            "42000/42000 [==============================] - 11s 257us/step - loss: 0.2309 - acc: 0.9295 - val_loss: 0.2288 - val_acc: 0.9303\n",
            "Epoch 29/50\n",
            "42000/42000 [==============================] - 11s 259us/step - loss: 0.2242 - acc: 0.9319 - val_loss: 0.2210 - val_acc: 0.9333\n",
            "Epoch 30/50\n",
            "42000/42000 [==============================] - 11s 256us/step - loss: 0.2233 - acc: 0.9328 - val_loss: 0.1732 - val_acc: 0.9505\n",
            "Epoch 31/50\n",
            "42000/42000 [==============================] - 11s 256us/step - loss: 0.2178 - acc: 0.9335 - val_loss: 0.1809 - val_acc: 0.9469\n",
            "Epoch 32/50\n",
            "42000/42000 [==============================] - 11s 258us/step - loss: 0.2143 - acc: 0.9357 - val_loss: 0.5786 - val_acc: 0.8158\n",
            "Epoch 33/50\n",
            "42000/42000 [==============================] - 11s 257us/step - loss: 0.2145 - acc: 0.9347 - val_loss: 0.2690 - val_acc: 0.9152\n",
            "Epoch 34/50\n",
            "42000/42000 [==============================] - 11s 256us/step - loss: 0.2101 - acc: 0.9364 - val_loss: 0.1500 - val_acc: 0.9582\n",
            "Epoch 35/50\n",
            "42000/42000 [==============================] - 11s 257us/step - loss: 0.2045 - acc: 0.9383 - val_loss: 0.2058 - val_acc: 0.9377\n",
            "Epoch 36/50\n",
            "42000/42000 [==============================] - 11s 255us/step - loss: 0.2051 - acc: 0.9395 - val_loss: 0.1938 - val_acc: 0.9426\n",
            "Epoch 37/50\n",
            "42000/42000 [==============================] - 11s 257us/step - loss: 0.2051 - acc: 0.9389 - val_loss: 0.1951 - val_acc: 0.9433\n",
            "Epoch 38/50\n",
            "42000/42000 [==============================] - 11s 255us/step - loss: 0.1998 - acc: 0.9407 - val_loss: 0.1498 - val_acc: 0.9581\n",
            "Epoch 39/50\n",
            "42000/42000 [==============================] - 11s 256us/step - loss: 0.1951 - acc: 0.9430 - val_loss: 0.1688 - val_acc: 0.9508\n",
            "Epoch 40/50\n",
            "42000/42000 [==============================] - 11s 256us/step - loss: 0.1900 - acc: 0.9426 - val_loss: 0.1829 - val_acc: 0.9459\n",
            "Epoch 41/50\n",
            "42000/42000 [==============================] - 11s 254us/step - loss: 0.1937 - acc: 0.9413 - val_loss: 0.1386 - val_acc: 0.9616\n",
            "Epoch 42/50\n",
            "42000/42000 [==============================] - 11s 256us/step - loss: 0.1847 - acc: 0.9448 - val_loss: 0.1380 - val_acc: 0.9617\n",
            "Epoch 43/50\n",
            "42000/42000 [==============================] - 11s 257us/step - loss: 0.1834 - acc: 0.9460 - val_loss: 0.1471 - val_acc: 0.9580\n",
            "Epoch 44/50\n",
            "42000/42000 [==============================] - 11s 258us/step - loss: 0.1849 - acc: 0.9439 - val_loss: 0.1395 - val_acc: 0.9619\n",
            "Epoch 45/50\n",
            "42000/42000 [==============================] - 11s 258us/step - loss: 0.1809 - acc: 0.9466 - val_loss: 0.1366 - val_acc: 0.9616\n",
            "Epoch 46/50\n",
            "42000/42000 [==============================] - 11s 258us/step - loss: 0.1757 - acc: 0.9470 - val_loss: 0.1556 - val_acc: 0.9562\n",
            "Epoch 47/50\n",
            "42000/42000 [==============================] - 11s 258us/step - loss: 0.1742 - acc: 0.9479 - val_loss: 0.1517 - val_acc: 0.9572\n",
            "Epoch 48/50\n",
            "42000/42000 [==============================] - 11s 256us/step - loss: 0.1744 - acc: 0.9472 - val_loss: 0.1501 - val_acc: 0.9566\n",
            "Epoch 49/50\n",
            "42000/42000 [==============================] - 11s 261us/step - loss: 0.1702 - acc: 0.9482 - val_loss: 0.1382 - val_acc: 0.9616\n",
            "Epoch 50/50\n",
            "42000/42000 [==============================] - 11s 257us/step - loss: 0.1723 - acc: 0.9490 - val_loss: 0.1332 - val_acc: 0.9631\n"
          ],
          "name": "stdout"
        },
        {
          "output_type": "execute_result",
          "data": {
            "text/plain": [
              "<keras.callbacks.History at 0x7f927b26ae48>"
            ]
          },
          "metadata": {
            "tags": []
          },
          "execution_count": 34
        }
      ]
    },
    {
      "cell_type": "code",
      "metadata": {
        "id": "mVhGSnZiWnjD",
        "colab_type": "code",
        "colab": {
          "base_uri": "https://localhost:8080/",
          "height": 51
        },
        "outputId": "675dfff5-9e15-4716-c1ec-862d4a652bc5"
      },
      "source": [
        "model.evaluate(X_test, y_test_c)"
      ],
      "execution_count": 35,
      "outputs": [
        {
          "output_type": "stream",
          "text": [
            "18000/18000 [==============================] - 2s 88us/step\n"
          ],
          "name": "stdout"
        },
        {
          "output_type": "execute_result",
          "data": {
            "text/plain": [
              "[0.1882840118472361, 0.9472222222222222]"
            ]
          },
          "metadata": {
            "tags": []
          },
          "execution_count": 35
        }
      ]
    },
    {
      "cell_type": "code",
      "metadata": {
        "id": "MlBl1zHRb6_h",
        "colab_type": "code",
        "colab": {}
      },
      "source": [
        "y_pred_deep = model.predict_classes(X_test)"
      ],
      "execution_count": 0,
      "outputs": []
    },
    {
      "cell_type": "code",
      "metadata": {
        "id": "EsZP1IXCh7r2",
        "colab_type": "code",
        "colab": {
          "base_uri": "https://localhost:8080/",
          "height": 307
        },
        "outputId": "1427742e-8d2a-459c-a4f2-bc6d85835109"
      },
      "source": [
        ""
      ],
      "execution_count": 39,
      "outputs": [
        {
          "output_type": "error",
          "ename": "ValueError",
          "evalue": "ignored",
          "traceback": [
            "\u001b[0;31m---------------------------------------------------------------------------\u001b[0m",
            "\u001b[0;31mValueError\u001b[0m                                Traceback (most recent call last)",
            "\u001b[0;32m<ipython-input-39-9f71d945b102>\u001b[0m in \u001b[0;36m<module>\u001b[0;34m()\u001b[0m\n\u001b[0;32m----> 1\u001b[0;31m \u001b[0mmetrics\u001b[0m\u001b[0;34m.\u001b[0m\u001b[0mconfusion_matrix\u001b[0m\u001b[0;34m(\u001b[0m\u001b[0my_test_c\u001b[0m\u001b[0;34m,\u001b[0m \u001b[0my_pred_deep\u001b[0m\u001b[0;34m)\u001b[0m\u001b[0;34m\u001b[0m\u001b[0;34m\u001b[0m\u001b[0m\n\u001b[0m",
            "\u001b[0;32m/usr/local/lib/python3.6/dist-packages/sklearn/metrics/classification.py\u001b[0m in \u001b[0;36mconfusion_matrix\u001b[0;34m(y_true, y_pred, labels, sample_weight)\u001b[0m\n\u001b[1;32m    251\u001b[0m \u001b[0;34m\u001b[0m\u001b[0m\n\u001b[1;32m    252\u001b[0m     \"\"\"\n\u001b[0;32m--> 253\u001b[0;31m     \u001b[0my_type\u001b[0m\u001b[0;34m,\u001b[0m \u001b[0my_true\u001b[0m\u001b[0;34m,\u001b[0m \u001b[0my_pred\u001b[0m \u001b[0;34m=\u001b[0m \u001b[0m_check_targets\u001b[0m\u001b[0;34m(\u001b[0m\u001b[0my_true\u001b[0m\u001b[0;34m,\u001b[0m \u001b[0my_pred\u001b[0m\u001b[0;34m)\u001b[0m\u001b[0;34m\u001b[0m\u001b[0;34m\u001b[0m\u001b[0m\n\u001b[0m\u001b[1;32m    254\u001b[0m     \u001b[0;32mif\u001b[0m \u001b[0my_type\u001b[0m \u001b[0;32mnot\u001b[0m \u001b[0;32min\u001b[0m \u001b[0;34m(\u001b[0m\u001b[0;34m\"binary\"\u001b[0m\u001b[0;34m,\u001b[0m \u001b[0;34m\"multiclass\"\u001b[0m\u001b[0;34m)\u001b[0m\u001b[0;34m:\u001b[0m\u001b[0;34m\u001b[0m\u001b[0;34m\u001b[0m\u001b[0m\n\u001b[1;32m    255\u001b[0m         \u001b[0;32mraise\u001b[0m \u001b[0mValueError\u001b[0m\u001b[0;34m(\u001b[0m\u001b[0;34m\"%s is not supported\"\u001b[0m \u001b[0;34m%\u001b[0m \u001b[0my_type\u001b[0m\u001b[0;34m)\u001b[0m\u001b[0;34m\u001b[0m\u001b[0;34m\u001b[0m\u001b[0m\n",
            "\u001b[0;32m/usr/local/lib/python3.6/dist-packages/sklearn/metrics/classification.py\u001b[0m in \u001b[0;36m_check_targets\u001b[0;34m(y_true, y_pred)\u001b[0m\n\u001b[1;32m     79\u001b[0m     \u001b[0;32mif\u001b[0m \u001b[0mlen\u001b[0m\u001b[0;34m(\u001b[0m\u001b[0my_type\u001b[0m\u001b[0;34m)\u001b[0m \u001b[0;34m>\u001b[0m \u001b[0;36m1\u001b[0m\u001b[0;34m:\u001b[0m\u001b[0;34m\u001b[0m\u001b[0;34m\u001b[0m\u001b[0m\n\u001b[1;32m     80\u001b[0m         raise ValueError(\"Classification metrics can't handle a mix of {0} \"\n\u001b[0;32m---> 81\u001b[0;31m                          \"and {1} targets\".format(type_true, type_pred))\n\u001b[0m\u001b[1;32m     82\u001b[0m \u001b[0;34m\u001b[0m\u001b[0m\n\u001b[1;32m     83\u001b[0m     \u001b[0;31m# We can't have more than one value on y_type => The set is no more needed\u001b[0m\u001b[0;34m\u001b[0m\u001b[0;34m\u001b[0m\u001b[0;34m\u001b[0m\u001b[0m\n",
            "\u001b[0;31mValueError\u001b[0m: Classification metrics can't handle a mix of multilabel-indicator and multiclass targets"
          ]
        }
      ]
    },
    {
      "cell_type": "code",
      "metadata": {
        "id": "CGMhIsXDiHzW",
        "colab_type": "code",
        "colab": {}
      },
      "source": [
        ""
      ],
      "execution_count": 0,
      "outputs": []
    }
  ]
}