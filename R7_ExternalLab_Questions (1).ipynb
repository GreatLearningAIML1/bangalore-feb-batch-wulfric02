{
  "nbformat": 4,
  "nbformat_minor": 0,
  "metadata": {
    "colab": {
      "name": "R7_ExternalLab_Questions.ipynb",
      "version": "0.3.2",
      "provenance": [],
      "collapsed_sections": []
    },
    "kernelspec": {
      "name": "python3",
      "display_name": "Python 3"
    },
    "accelerator": "TPU"
  },
  "cells": [
    {
      "cell_type": "markdown",
      "metadata": {
        "id": "4WH1Pr4KQlCh",
        "colab_type": "text"
      },
      "source": [
        "### Build a DNN using Keras with `RELU` and `ADAM`"
      ]
    },
    {
      "cell_type": "markdown",
      "metadata": {
        "id": "TbvI8LqlQlCl",
        "colab_type": "text"
      },
      "source": [
        "#### Load tensorflow"
      ]
    },
    {
      "cell_type": "code",
      "metadata": {
        "id": "SPW-a-qYQlCp",
        "colab_type": "code",
        "colab": {}
      },
      "source": [
        "import tensorflow as tf\n",
        "import numpy as np\n"
      ],
      "execution_count": 0,
      "outputs": []
    },
    {
      "cell_type": "markdown",
      "metadata": {
        "id": "74cQBsi5QlCw",
        "colab_type": "text"
      },
      "source": [
        "#### Collect Fashion mnist data from tf.keras.datasets "
      ]
    },
    {
      "cell_type": "code",
      "metadata": {
        "id": "wVWy0oDTr2Kj",
        "colab_type": "code",
        "colab": {}
      },
      "source": [
        "from keras.datasets import fashion_mnist\n",
        "(x_train, y_train), (x_test, y_test) = fashion_mnist.load_data()"
      ],
      "execution_count": 0,
      "outputs": []
    },
    {
      "cell_type": "markdown",
      "metadata": {
        "id": "no7aWYZyQlC1",
        "colab_type": "text"
      },
      "source": [
        "#### Change train and test labels into one-hot vectors"
      ]
    },
    {
      "cell_type": "code",
      "metadata": {
        "id": "UX6otc4wQlC2",
        "colab_type": "code",
        "colab": {}
      },
      "source": [
        "x_train = (x_train/255).astype('float32')\n",
        "x_test = (x_test/255).astype('float32')\n",
        "\n",
        "\n",
        "y_train = tf.keras.utils.to_categorical(y_train, num_classes=10)\n",
        "y_test = tf.keras.utils.to_categorical(y_test, num_classes=10)"
      ],
      "execution_count": 0,
      "outputs": []
    },
    {
      "cell_type": "code",
      "metadata": {
        "id": "8erhmTsjVqTd",
        "colab_type": "code",
        "colab": {}
      },
      "source": [
        "# xtrain=x_train.reshape(x_train.shape[0],28,28,1).astype('float32')\n",
        "# xtest=x_test.reshape(x_test.shape[0],28,28,1).astype('float32')\n"
      ],
      "execution_count": 0,
      "outputs": []
    },
    {
      "cell_type": "code",
      "metadata": {
        "id": "Lexv6wgiT5vC",
        "colab_type": "code",
        "colab": {
          "base_uri": "https://localhost:8080/",
          "height": 34
        },
        "outputId": "e148238b-5fe2-4159-ae72-66280936e07f"
      },
      "source": [
        "x_train.shape"
      ],
      "execution_count": 26,
      "outputs": [
        {
          "output_type": "execute_result",
          "data": {
            "text/plain": [
              "(60000, 28, 28)"
            ]
          },
          "metadata": {
            "tags": []
          },
          "execution_count": 26
        }
      ]
    },
    {
      "cell_type": "code",
      "metadata": {
        "id": "qHIKz9y_X4Md",
        "colab_type": "code",
        "colab": {
          "base_uri": "https://localhost:8080/",
          "height": 34
        },
        "outputId": "c93c811c-b9e8-4cce-8290-7d81a8cc0ec4"
      },
      "source": [
        "y_train.shape"
      ],
      "execution_count": 27,
      "outputs": [
        {
          "output_type": "execute_result",
          "data": {
            "text/plain": [
              "(60000, 10)"
            ]
          },
          "metadata": {
            "tags": []
          },
          "execution_count": 27
        }
      ]
    },
    {
      "cell_type": "markdown",
      "metadata": {
        "id": "QjNrRTdoQlC5",
        "colab_type": "text"
      },
      "source": [
        "#### Build the Graph"
      ]
    },
    {
      "cell_type": "markdown",
      "metadata": {
        "id": "CDJ9DHVNQlC7",
        "colab_type": "text"
      },
      "source": [
        "#### Initialize model, reshape & normalize data"
      ]
    },
    {
      "cell_type": "code",
      "metadata": {
        "id": "pCDQs_g1QlC8",
        "colab_type": "code",
        "colab": {}
      },
      "source": [
        "model = tf.keras.models.Sequential()\n",
        "\n",
        "model.add(tf.keras.layers.Reshape((28,28,1),input_shape=(28,28,)))\n",
        "\n",
        "\n",
        "#normalize data\n",
        "model.add(tf.keras.layers.BatchNormalization())\n",
        "model.add(tf.keras.layers.Flatten())"
      ],
      "execution_count": 0,
      "outputs": []
    },
    {
      "cell_type": "markdown",
      "metadata": {
        "id": "kBGwTTilQlDD",
        "colab_type": "text"
      },
      "source": [
        "#### Add two fully connected layers with 200 and 100 neurons respectively with `relu` activations. Add a dropout layer with `p=0.25`"
      ]
    },
    {
      "cell_type": "code",
      "metadata": {
        "id": "IXbfpfOzQlDF",
        "colab_type": "code",
        "colab": {}
      },
      "source": [
        "model.add(tf.keras.layers.Dense(200, activation='relu'))\n",
        "model.add(tf.keras.layers.Dense(100, activation='relu'))\n",
        "model.add(tf.keras.layers.Dropout(0.25))\n"
      ],
      "execution_count": 0,
      "outputs": []
    },
    {
      "cell_type": "markdown",
      "metadata": {
        "id": "5I8f5otcQlDJ",
        "colab_type": "text"
      },
      "source": [
        "### Add the output layer with a fully connected layer with 10 neurons with `softmax` activation. Use `categorical_crossentropy` loss and `adam` optimizer and train the network. And, report the final validation."
      ]
    },
    {
      "cell_type": "code",
      "metadata": {
        "id": "JZkvKymSd0Sr",
        "colab_type": "code",
        "colab": {}
      },
      "source": [
        "model.add(tf.keras.layers.Dense(10, activation='softmax'))\n",
        "model.compile(optimizer='adam', \n",
        "              loss='categorical_crossentropy', metrics=['accuracy'])"
      ],
      "execution_count": 0,
      "outputs": []
    },
    {
      "cell_type": "code",
      "metadata": {
        "id": "y0Z4TGN0U_09",
        "colab_type": "code",
        "colab": {
          "base_uri": "https://localhost:8080/",
          "height": 391
        },
        "outputId": "d6cddd41-f15e-4d58-9946-0af2a5e0183a"
      },
      "source": [
        "model.summary()"
      ],
      "execution_count": 35,
      "outputs": [
        {
          "output_type": "stream",
          "text": [
            "Model: \"sequential_3\"\n",
            "_________________________________________________________________\n",
            "Layer (type)                 Output Shape              Param #   \n",
            "=================================================================\n",
            "reshape_3 (Reshape)          (None, 28, 28, 1)         0         \n",
            "_________________________________________________________________\n",
            "batch_normalization_3 (Batch (None, 28, 28, 1)         4         \n",
            "_________________________________________________________________\n",
            "flatten (Flatten)            (None, 784)               0         \n",
            "_________________________________________________________________\n",
            "dense_6 (Dense)              (None, 200)               157000    \n",
            "_________________________________________________________________\n",
            "dense_7 (Dense)              (None, 100)               20100     \n",
            "_________________________________________________________________\n",
            "dropout_2 (Dropout)          (None, 100)               0         \n",
            "_________________________________________________________________\n",
            "dense_8 (Dense)              (None, 10)                1010      \n",
            "=================================================================\n",
            "Total params: 178,114\n",
            "Trainable params: 178,112\n",
            "Non-trainable params: 2\n",
            "_________________________________________________________________\n"
          ],
          "name": "stdout"
        }
      ]
    },
    {
      "cell_type": "code",
      "metadata": {
        "id": "aMUCWmX1VBTh",
        "colab_type": "code",
        "colab": {
          "base_uri": "https://localhost:8080/",
          "height": 1000
        },
        "outputId": "76b33bcc-cfeb-4b29-bf0d-0800daca2f90"
      },
      "source": [
        "model.fit(x_train,y_train,          \n",
        "          validation_data=(x_test,y_test),\n",
        "          epochs=50,\n",
        "          batch_size=32)"
      ],
      "execution_count": 37,
      "outputs": [
        {
          "output_type": "stream",
          "text": [
            "Train on 60000 samples, validate on 10000 samples\n",
            "Epoch 1/50\n",
            "60000/60000 [==============================] - 12s 203us/sample - loss: 0.2255 - acc: 0.9143 - val_loss: 0.3394 - val_acc: 0.8817\n",
            "Epoch 2/50\n",
            "60000/60000 [==============================] - 12s 198us/sample - loss: 0.2161 - acc: 0.9175 - val_loss: 0.3530 - val_acc: 0.8892\n",
            "Epoch 3/50\n",
            "60000/60000 [==============================] - 12s 197us/sample - loss: 0.2091 - acc: 0.9205 - val_loss: 0.3382 - val_acc: 0.8904\n",
            "Epoch 4/50\n",
            "60000/60000 [==============================] - 12s 192us/sample - loss: 0.2020 - acc: 0.9226 - val_loss: 0.3807 - val_acc: 0.8753\n",
            "Epoch 5/50\n",
            "60000/60000 [==============================] - 12s 206us/sample - loss: 0.1958 - acc: 0.9262 - val_loss: 0.3360 - val_acc: 0.8918\n",
            "Epoch 6/50\n",
            "60000/60000 [==============================] - 12s 206us/sample - loss: 0.1897 - acc: 0.9273 - val_loss: 0.3447 - val_acc: 0.8870\n",
            "Epoch 7/50\n",
            "60000/60000 [==============================] - 12s 201us/sample - loss: 0.1817 - acc: 0.9310 - val_loss: 0.3497 - val_acc: 0.8904\n",
            "Epoch 8/50\n",
            "60000/60000 [==============================] - 12s 204us/sample - loss: 0.1747 - acc: 0.9327 - val_loss: 0.3698 - val_acc: 0.8909\n",
            "Epoch 9/50\n",
            "60000/60000 [==============================] - 12s 201us/sample - loss: 0.1737 - acc: 0.9333 - val_loss: 0.3639 - val_acc: 0.8932\n",
            "Epoch 10/50\n",
            "60000/60000 [==============================] - 12s 201us/sample - loss: 0.1671 - acc: 0.9354 - val_loss: 0.3609 - val_acc: 0.8881\n",
            "Epoch 11/50\n",
            "60000/60000 [==============================] - 12s 199us/sample - loss: 0.1627 - acc: 0.9374 - val_loss: 0.3655 - val_acc: 0.8936\n",
            "Epoch 12/50\n",
            "60000/60000 [==============================] - 12s 200us/sample - loss: 0.1598 - acc: 0.9388 - val_loss: 0.3666 - val_acc: 0.8926\n",
            "Epoch 13/50\n",
            "60000/60000 [==============================] - 12s 207us/sample - loss: 0.1565 - acc: 0.9403 - val_loss: 0.3833 - val_acc: 0.8883\n",
            "Epoch 14/50\n",
            "60000/60000 [==============================] - 12s 206us/sample - loss: 0.1540 - acc: 0.9412 - val_loss: 0.3948 - val_acc: 0.8905\n",
            "Epoch 15/50\n",
            "60000/60000 [==============================] - 13s 211us/sample - loss: 0.1495 - acc: 0.9416 - val_loss: 0.3820 - val_acc: 0.8938\n",
            "Epoch 16/50\n",
            "60000/60000 [==============================] - 13s 210us/sample - loss: 0.1439 - acc: 0.9441 - val_loss: 0.4033 - val_acc: 0.8898\n",
            "Epoch 17/50\n",
            "60000/60000 [==============================] - 13s 211us/sample - loss: 0.1420 - acc: 0.9456 - val_loss: 0.4060 - val_acc: 0.8908\n",
            "Epoch 18/50\n",
            "60000/60000 [==============================] - 13s 209us/sample - loss: 0.1398 - acc: 0.9460 - val_loss: 0.4035 - val_acc: 0.8912\n",
            "Epoch 19/50\n",
            "60000/60000 [==============================] - 13s 209us/sample - loss: 0.1349 - acc: 0.9483 - val_loss: 0.4350 - val_acc: 0.8899\n",
            "Epoch 20/50\n",
            "60000/60000 [==============================] - 13s 215us/sample - loss: 0.1320 - acc: 0.9485 - val_loss: 0.4135 - val_acc: 0.8922\n",
            "Epoch 21/50\n",
            "60000/60000 [==============================] - 12s 206us/sample - loss: 0.1308 - acc: 0.9492 - val_loss: 0.4402 - val_acc: 0.8895\n",
            "Epoch 22/50\n",
            "60000/60000 [==============================] - 12s 204us/sample - loss: 0.1289 - acc: 0.9506 - val_loss: 0.4394 - val_acc: 0.8917\n",
            "Epoch 23/50\n",
            "60000/60000 [==============================] - 12s 203us/sample - loss: 0.1247 - acc: 0.9521 - val_loss: 0.4319 - val_acc: 0.8926\n",
            "Epoch 24/50\n",
            "60000/60000 [==============================] - 12s 206us/sample - loss: 0.1209 - acc: 0.9536 - val_loss: 0.4572 - val_acc: 0.8950\n",
            "Epoch 25/50\n",
            "60000/60000 [==============================] - 12s 202us/sample - loss: 0.1201 - acc: 0.9534 - val_loss: 0.4403 - val_acc: 0.8869\n",
            "Epoch 26/50\n",
            "60000/60000 [==============================] - 12s 203us/sample - loss: 0.1175 - acc: 0.9558 - val_loss: 0.4364 - val_acc: 0.8923\n",
            "Epoch 27/50\n",
            "60000/60000 [==============================] - 13s 209us/sample - loss: 0.1155 - acc: 0.9561 - val_loss: 0.4553 - val_acc: 0.8901\n",
            "Epoch 28/50\n",
            "60000/60000 [==============================] - 12s 202us/sample - loss: 0.1121 - acc: 0.9568 - val_loss: 0.5157 - val_acc: 0.8902\n",
            "Epoch 29/50\n",
            "60000/60000 [==============================] - 12s 205us/sample - loss: 0.1140 - acc: 0.9565 - val_loss: 0.4426 - val_acc: 0.8932\n",
            "Epoch 30/50\n",
            "60000/60000 [==============================] - 12s 206us/sample - loss: 0.1096 - acc: 0.9580 - val_loss: 0.4793 - val_acc: 0.8893\n",
            "Epoch 31/50\n",
            "60000/60000 [==============================] - 12s 201us/sample - loss: 0.1085 - acc: 0.9578 - val_loss: 0.4750 - val_acc: 0.8930\n",
            "Epoch 32/50\n",
            "60000/60000 [==============================] - 12s 204us/sample - loss: 0.1058 - acc: 0.9596 - val_loss: 0.5135 - val_acc: 0.8898\n",
            "Epoch 33/50\n",
            "60000/60000 [==============================] - 12s 200us/sample - loss: 0.1038 - acc: 0.9596 - val_loss: 0.4771 - val_acc: 0.8907\n",
            "Epoch 34/50\n",
            "60000/60000 [==============================] - 12s 205us/sample - loss: 0.1033 - acc: 0.9599 - val_loss: 0.4981 - val_acc: 0.8917\n",
            "Epoch 35/50\n",
            "60000/60000 [==============================] - 12s 203us/sample - loss: 0.0995 - acc: 0.9613 - val_loss: 0.5245 - val_acc: 0.8917\n",
            "Epoch 36/50\n",
            "60000/60000 [==============================] - 12s 202us/sample - loss: 0.0987 - acc: 0.9623 - val_loss: 0.5215 - val_acc: 0.8921\n",
            "Epoch 37/50\n",
            "60000/60000 [==============================] - 12s 202us/sample - loss: 0.0974 - acc: 0.9628 - val_loss: 0.5127 - val_acc: 0.8920\n",
            "Epoch 38/50\n",
            "60000/60000 [==============================] - 12s 206us/sample - loss: 0.0972 - acc: 0.9623 - val_loss: 0.4784 - val_acc: 0.8961\n",
            "Epoch 39/50\n",
            "60000/60000 [==============================] - 12s 207us/sample - loss: 0.0942 - acc: 0.9633 - val_loss: 0.5687 - val_acc: 0.8867\n",
            "Epoch 40/50\n",
            "60000/60000 [==============================] - 12s 202us/sample - loss: 0.0934 - acc: 0.9644 - val_loss: 0.5136 - val_acc: 0.8900\n",
            "Epoch 41/50\n",
            "60000/60000 [==============================] - 12s 207us/sample - loss: 0.0925 - acc: 0.9639 - val_loss: 0.5707 - val_acc: 0.8902\n",
            "Epoch 42/50\n",
            "60000/60000 [==============================] - 12s 199us/sample - loss: 0.0890 - acc: 0.9659 - val_loss: 0.5682 - val_acc: 0.8929\n",
            "Epoch 43/50\n",
            "60000/60000 [==============================] - 12s 201us/sample - loss: 0.0875 - acc: 0.9663 - val_loss: 0.5836 - val_acc: 0.8965\n",
            "Epoch 44/50\n",
            "60000/60000 [==============================] - 12s 205us/sample - loss: 0.0868 - acc: 0.9659 - val_loss: 0.5785 - val_acc: 0.8897\n",
            "Epoch 45/50\n",
            "60000/60000 [==============================] - 12s 203us/sample - loss: 0.0861 - acc: 0.9663 - val_loss: 0.5560 - val_acc: 0.8914\n",
            "Epoch 46/50\n",
            "60000/60000 [==============================] - 13s 217us/sample - loss: 0.0869 - acc: 0.9663 - val_loss: 0.5618 - val_acc: 0.8950\n",
            "Epoch 47/50\n",
            "60000/60000 [==============================] - 12s 203us/sample - loss: 0.0826 - acc: 0.9680 - val_loss: 0.6327 - val_acc: 0.8917\n",
            "Epoch 48/50\n",
            "60000/60000 [==============================] - 12s 206us/sample - loss: 0.0836 - acc: 0.9679 - val_loss: 0.5983 - val_acc: 0.8921\n",
            "Epoch 49/50\n",
            "60000/60000 [==============================] - 13s 212us/sample - loss: 0.0813 - acc: 0.9683 - val_loss: 0.6166 - val_acc: 0.8929\n",
            "Epoch 50/50\n",
            "60000/60000 [==============================] - 13s 216us/sample - loss: 0.0824 - acc: 0.9685 - val_loss: 0.6031 - val_acc: 0.8905\n"
          ],
          "name": "stdout"
        },
        {
          "output_type": "execute_result",
          "data": {
            "text/plain": [
              "<tensorflow.python.keras.callbacks.History at 0x7f2397707cc0>"
            ]
          },
          "metadata": {
            "tags": []
          },
          "execution_count": 37
        }
      ]
    },
    {
      "cell_type": "code",
      "metadata": {
        "id": "ijIYF7mYVSUh",
        "colab_type": "code",
        "colab": {}
      },
      "source": [
        "# Train accuracy - 96%\n",
        "# Validation accuracy - 89%"
      ],
      "execution_count": 0,
      "outputs": []
    }
  ]
}