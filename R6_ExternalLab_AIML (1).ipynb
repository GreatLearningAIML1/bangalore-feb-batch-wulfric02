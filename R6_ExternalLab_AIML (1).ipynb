{
  "nbformat": 4,
  "nbformat_minor": 0,
  "metadata": {
    "colab": {
      "name": "R6_ExternalLab_AIML.ipynb",
      "version": "0.3.2",
      "provenance": [],
      "collapsed_sections": []
    },
    "kernelspec": {
      "display_name": "Python 2",
      "language": "python",
      "name": "python2"
    }
  },
  "cells": [
    {
      "cell_type": "markdown",
      "metadata": {
        "id": "YYk8NG3yOIT9",
        "colab_type": "text"
      },
      "source": [
        "### A MNIST-like fashion product database\n",
        "\n",
        "In this, we classify the images into respective classes given in the dataset. We use a Neural Net and a Deep Neural Net in Keras to solve this and check the accuracy scores."
      ]
    },
    {
      "cell_type": "markdown",
      "metadata": {
        "id": "tFO6PuxzOIT_",
        "colab_type": "text"
      },
      "source": [
        "### Load tensorflow"
      ]
    },
    {
      "cell_type": "code",
      "metadata": {
        "id": "efNjNImfOIUC",
        "colab_type": "code",
        "colab": {}
      },
      "source": [
        "import tensorflow as tf\n",
        "tf.set_random_seed(42)"
      ],
      "execution_count": 0,
      "outputs": []
    },
    {
      "cell_type": "code",
      "metadata": {
        "id": "l9C4aAIGOIUH",
        "colab_type": "code",
        "outputId": "b6af0448-0eba-4560-8156-b6d4cbf7dd10",
        "colab": {
          "base_uri": "https://localhost:8080/",
          "height": 34
        }
      },
      "source": [
        "tf.__version__"
      ],
      "execution_count": 0,
      "outputs": [
        {
          "output_type": "execute_result",
          "data": {
            "text/plain": [
              "'1.14.0'"
            ]
          },
          "metadata": {
            "tags": []
          },
          "execution_count": 2
        }
      ]
    },
    {
      "cell_type": "markdown",
      "metadata": {
        "id": "HcoZBStrOIUQ",
        "colab_type": "text"
      },
      "source": [
        "### Collect Data"
      ]
    },
    {
      "cell_type": "code",
      "metadata": {
        "id": "XA1WsFSeOIUS",
        "colab_type": "code",
        "outputId": "8a6c60a1-ab4a-45c3-b853-87042ae70571",
        "colab": {
          "base_uri": "https://localhost:8080/",
          "height": 34
        }
      },
      "source": [
        "import keras"
      ],
      "execution_count": 2,
      "outputs": [
        {
          "output_type": "stream",
          "text": [
            "Using TensorFlow backend.\n"
          ],
          "name": "stderr"
        }
      ]
    },
    {
      "cell_type": "code",
      "metadata": {
        "id": "qnbx7TyQOIUY",
        "colab_type": "code",
        "colab": {}
      },
      "source": [
        "(trainX, trainY), (testX, testY) = keras.datasets.fashion_mnist.load_data()"
      ],
      "execution_count": 0,
      "outputs": []
    },
    {
      "cell_type": "code",
      "metadata": {
        "id": "UbiHj5YPOIUc",
        "colab_type": "code",
        "outputId": "679ef2cb-7b40-4542-8290-e420c99b9f21",
        "colab": {
          "base_uri": "https://localhost:8080/",
          "height": 34
        }
      },
      "source": [
        "print(testY[0:5])"
      ],
      "execution_count": 30,
      "outputs": [
        {
          "output_type": "stream",
          "text": [
            "[9 2 1 1 6]\n"
          ],
          "name": "stdout"
        }
      ]
    },
    {
      "cell_type": "code",
      "metadata": {
        "id": "eSyOPBPYCx0Z",
        "colab_type": "code",
        "colab": {
          "base_uri": "https://localhost:8080/",
          "height": 34
        },
        "outputId": "55a0d241-ca37-4bdc-e2ce-f6c0b5010837"
      },
      "source": [
        "trainX.shape"
      ],
      "execution_count": 56,
      "outputs": [
        {
          "output_type": "execute_result",
          "data": {
            "text/plain": [
              "(60000, 28, 28)"
            ]
          },
          "metadata": {
            "tags": []
          },
          "execution_count": 56
        }
      ]
    },
    {
      "cell_type": "markdown",
      "metadata": {
        "id": "lDAYzkwyOIUj",
        "colab_type": "text"
      },
      "source": [
        "### Convert both training and testing labels into one-hot vectors.\n",
        "\n",
        "**Hint:** check **tf.keras.utils.to_categorical()**"
      ]
    },
    {
      "cell_type": "code",
      "metadata": {
        "id": "vBlfYlANOIUk",
        "colab_type": "code",
        "colab": {}
      },
      "source": [
        "train_labels = tf.keras.utils.to_categorical(trainY,10)\n",
        "test_labels = tf.keras.utils.to_categorical(testY,10)"
      ],
      "execution_count": 0,
      "outputs": []
    },
    {
      "cell_type": "code",
      "metadata": {
        "scrolled": true,
        "id": "RHV3b9mzOIUq",
        "colab_type": "code",
        "outputId": "1ccfcf5f-df9d-4db0-b535-6a8bed49e621",
        "colab": {
          "base_uri": "https://localhost:8080/",
          "height": 51
        }
      },
      "source": [
        "print(trainY.shape)\n",
        "print('First 5 examples now are: ', trainY[0:5])"
      ],
      "execution_count": 48,
      "outputs": [
        {
          "output_type": "stream",
          "text": [
            "(60000,)\n",
            "('First 5 examples now are: ', array([9, 0, 0, 3, 0], dtype=uint8))\n"
          ],
          "name": "stdout"
        }
      ]
    },
    {
      "cell_type": "code",
      "metadata": {
        "id": "MjVbqeMFzomY",
        "colab_type": "code",
        "colab": {
          "base_uri": "https://localhost:8080/",
          "height": 34
        },
        "outputId": "e8dd4194-3cd5-48ec-a1ea-020436a47279"
      },
      "source": [
        "trainY[0]"
      ],
      "execution_count": 49,
      "outputs": [
        {
          "output_type": "execute_result",
          "data": {
            "text/plain": [
              "9"
            ]
          },
          "metadata": {
            "tags": []
          },
          "execution_count": 49
        }
      ]
    },
    {
      "cell_type": "markdown",
      "metadata": {
        "id": "FwhQ8e7VOIUw",
        "colab_type": "text"
      },
      "source": [
        "### Visualize the data\n",
        "\n",
        "Plot first 10 images in the triaining set and their labels."
      ]
    },
    {
      "cell_type": "code",
      "metadata": {
        "id": "AvDML2OoOIUx",
        "colab_type": "code",
        "outputId": "9dafc94e-61a8-4089-be03-d143163d68aa",
        "colab": {}
      },
      "source": [
        ""
      ],
      "execution_count": 0,
      "outputs": [
        {
          "output_type": "display_data",
          "data": {
            "image/png": "[encoded data removed]",
            "text/plain": [
              "<matplotlib.figure.Figure at 0x7f60784a5950>"
            ]
          },
          "metadata": {
            "tags": []
          }
        },
        {
          "output_type": "stream",
          "text": [
            "label for each of the above image:\n",
            "9 0 0 3 0 2 7 2 5 5\n"
          ],
          "name": "stdout"
        }
      ]
    },
    {
      "cell_type": "code",
      "metadata": {
        "id": "ycIhRw_iz9zk",
        "colab_type": "code",
        "outputId": "6d865f79-92ce-4bee-c882-61549beeb43a",
        "colab": {
          "base_uri": "https://localhost:8080/",
          "height": 378
        }
      },
      "source": [
        "import seaborn as sns\n",
        "\n",
        "data = trainX[0:10]\n",
        "import matplotlib.pyplot as plt\n",
        "fig=plt.figure(figsize=(8, 8))\n",
        "ax = []\n",
        "for i in range(10):\n",
        "  ax.append(fig.add_subplot(2, 5, i+1))\n",
        "  ax[i].set_title(\"label:\"+ str(trainY[i]))\n",
        "  plt.imshow(trainX[i])\n",
        "plt.show()"
      ],
      "execution_count": 24,
      "outputs": [
        {
          "output_type": "display_data",
          "data": {
            "image/png": "[encoded data removed]",
            "text/plain": [
              "<Figure size 576x576 with 10 Axes>"
            ]
          },
          "metadata": {
            "tags": []
          }
        }
      ]
    },
    {
      "cell_type": "markdown",
      "metadata": {
        "id": "l4TbJGeSOIU4",
        "colab_type": "text"
      },
      "source": [
        "### Build a neural Network with a cross entropy loss function and sgd optimizer in Keras. The output layer with 10 neurons as we have 10 classes."
      ]
    },
    {
      "cell_type": "code",
      "metadata": {
        "id": "Ac06XZZTOIU6",
        "colab_type": "code",
        "colab": {}
      },
      "source": [
        "x_train = trainX.astype('float32') / 255\n",
        "x_test = testX.astype('float32') / 255\n",
        "(x_train, x_valid) = x_train[5000:], x_train[:5000] \n",
        "(y_train, y_valid) = trainY[5000:], trainY[:5000]\n",
        "\n",
        "# One-hot encode the labels\n",
        "y_train = tf.keras.utils.to_categorical(y_train, 10)\n",
        "y_valid = tf.keras.utils.to_categorical(y_valid, 10)\n",
        "y_test = tf.keras.utils.to_categorical(testY, 10)"
      ],
      "execution_count": 0,
      "outputs": []
    },
    {
      "cell_type": "code",
      "metadata": {
        "id": "Qm4ZzIwBCK_r",
        "colab_type": "code",
        "colab": {
          "base_uri": "https://localhost:8080/",
          "height": 34
        },
        "outputId": "b2a49357-84e5-4b13-b4b4-65cb2152d0a8"
      },
      "source": [
        "x_train.shape"
      ],
      "execution_count": 58,
      "outputs": [
        {
          "output_type": "execute_result",
          "data": {
            "text/plain": [
              "(55000, 28, 28)"
            ]
          },
          "metadata": {
            "tags": []
          },
          "execution_count": 58
        }
      ]
    },
    {
      "cell_type": "code",
      "metadata": {
        "id": "UoFAStmMCNXb",
        "colab_type": "code",
        "colab": {
          "base_uri": "https://localhost:8080/",
          "height": 34
        },
        "outputId": "69b6a190-5327-4724-f9e2-65f78c7b1e52"
      },
      "source": [
        "y_train.shape"
      ],
      "execution_count": 59,
      "outputs": [
        {
          "output_type": "execute_result",
          "data": {
            "text/plain": [
              "(55000, 10)"
            ]
          },
          "metadata": {
            "tags": []
          },
          "execution_count": 59
        }
      ]
    },
    {
      "cell_type": "code",
      "metadata": {
        "id": "h6uRqtKW-wRR",
        "colab_type": "code",
        "colab": {}
      },
      "source": [
        "from keras.models import Sequential\n",
        "from keras.layers import Dense\n",
        "from keras.layers import Flatten\n",
        "model = Sequential()\n",
        "model.add(Flatten())\n",
        "model.add(Dense(256, input_shape=(28,28), activation='sigmoid'))\n",
        "model.add(Dense(10, activation='sigmoid'))\n",
        "# Compile model\n",
        "model.compile(loss='categorical_crossentropy', optimizer='sgd', metrics=['accuracy'])"
      ],
      "execution_count": 0,
      "outputs": []
    },
    {
      "cell_type": "markdown",
      "metadata": {
        "id": "3hQpLv3aOIU_",
        "colab_type": "text"
      },
      "source": [
        "### Execute the model using model.fit()"
      ]
    },
    {
      "cell_type": "code",
      "metadata": {
        "id": "O59C_-IgOIVB",
        "colab_type": "code",
        "colab": {
          "base_uri": "https://localhost:8080/",
          "height": 391
        },
        "outputId": "f25a7605-576b-4377-dbbe-7cb385b88b07"
      },
      "source": [
        "model.fit(x_train, y_train,validation_data=(x_valid,y_valid), epochs=10)"
      ],
      "execution_count": 72,
      "outputs": [
        {
          "output_type": "stream",
          "text": [
            "Train on 55000 samples, validate on 5000 samples\n",
            "Epoch 1/10\n",
            "55000/55000 [==============================] - 7s 124us/step - loss: 1.3689 - acc: 0.6484 - val_loss: 0.8974 - val_acc: 0.7306\n",
            "Epoch 2/10\n",
            "55000/55000 [==============================] - 7s 129us/step - loss: 0.7877 - acc: 0.7488 - val_loss: 0.6955 - val_acc: 0.7698\n",
            "Epoch 3/10\n",
            "55000/55000 [==============================] - 7s 134us/step - loss: 0.6687 - acc: 0.7723 - val_loss: 0.6239 - val_acc: 0.7854\n",
            "Epoch 4/10\n",
            "55000/55000 [==============================] - 7s 125us/step - loss: 0.6115 - acc: 0.7893 - val_loss: 0.5743 - val_acc: 0.8052\n",
            "Epoch 5/10\n",
            "55000/55000 [==============================] - 7s 122us/step - loss: 0.5746 - acc: 0.8009 - val_loss: 0.5469 - val_acc: 0.8156\n",
            "Epoch 6/10\n",
            "55000/55000 [==============================] - 7s 120us/step - loss: 0.5481 - acc: 0.8101 - val_loss: 0.5221 - val_acc: 0.8246\n",
            "Epoch 7/10\n",
            "55000/55000 [==============================] - 7s 118us/step - loss: 0.5285 - acc: 0.8157 - val_loss: 0.5060 - val_acc: 0.8252\n",
            "Epoch 8/10\n",
            "55000/55000 [==============================] - 7s 118us/step - loss: 0.5133 - acc: 0.8207 - val_loss: 0.4917 - val_acc: 0.8338\n",
            "Epoch 9/10\n",
            "55000/55000 [==============================] - 5s 88us/step - loss: 0.5011 - acc: 0.8249 - val_loss: 0.4832 - val_acc: 0.8350\n",
            "Epoch 10/10\n",
            "55000/55000 [==============================] - 5s 97us/step - loss: 0.4906 - acc: 0.8279 - val_loss: 0.4799 - val_acc: 0.8314\n"
          ],
          "name": "stdout"
        },
        {
          "output_type": "execute_result",
          "data": {
            "text/plain": [
              "<keras.callbacks.History at 0x7fa07a48d090>"
            ]
          },
          "metadata": {
            "tags": []
          },
          "execution_count": 72
        }
      ]
    },
    {
      "cell_type": "code",
      "metadata": {
        "id": "fkIzNSI0EY2M",
        "colab_type": "code",
        "colab": {
          "base_uri": "https://localhost:8080/",
          "height": 34
        },
        "outputId": "d7a13b4d-573d-430d-969e-1d1633a36acc"
      },
      "source": [
        "score = model.evaluate(x_test, y_test, verbose=0)\n",
        "\n",
        "# Print test accuracy\n",
        "print('\\n', 'Test accuracy:', score[1])"
      ],
      "execution_count": 73,
      "outputs": [
        {
          "output_type": "stream",
          "text": [
            "('\\n', 'Test accuracy:', 0.8149)\n"
          ],
          "name": "stdout"
        }
      ]
    },
    {
      "cell_type": "markdown",
      "metadata": {
        "id": "JdzDtGwDOIVF",
        "colab_type": "text"
      },
      "source": [
        "### In the above Neural Network model add Batch Normalization layer after the input layer and repeat the steps."
      ]
    },
    {
      "cell_type": "code",
      "metadata": {
        "id": "kndfpdidOIVI",
        "colab_type": "code",
        "colab": {
          "base_uri": "https://localhost:8080/",
          "height": 391
        },
        "outputId": "a103654a-a655-4a18-dce9-57e0a14fdd5f"
      },
      "source": [
        "model.fit(x_train, y_train, validation_data=(x_valid,y_valid), epochs=10, batch_size=64)"
      ],
      "execution_count": 74,
      "outputs": [
        {
          "output_type": "stream",
          "text": [
            "Train on 55000 samples, validate on 5000 samples\n",
            "Epoch 1/10\n",
            "55000/55000 [==============================] - 5s 84us/step - loss: 0.4824 - acc: 0.8314 - val_loss: 0.4691 - val_acc: 0.8378\n",
            "Epoch 2/10\n",
            "55000/55000 [==============================] - 5s 84us/step - loss: 0.4780 - acc: 0.8333 - val_loss: 0.4654 - val_acc: 0.8404\n",
            "Epoch 3/10\n",
            "55000/55000 [==============================] - 4s 77us/step - loss: 0.4744 - acc: 0.8350 - val_loss: 0.4635 - val_acc: 0.8392\n",
            "Epoch 4/10\n",
            "55000/55000 [==============================] - 4s 80us/step - loss: 0.4709 - acc: 0.8352 - val_loss: 0.4598 - val_acc: 0.8382\n",
            "Epoch 5/10\n",
            "55000/55000 [==============================] - 5s 83us/step - loss: 0.4674 - acc: 0.8364 - val_loss: 0.4560 - val_acc: 0.8440\n",
            "Epoch 6/10\n",
            "55000/55000 [==============================] - 5s 85us/step - loss: 0.4642 - acc: 0.8382 - val_loss: 0.4556 - val_acc: 0.8420\n",
            "Epoch 7/10\n",
            "55000/55000 [==============================] - 5s 87us/step - loss: 0.4614 - acc: 0.8389 - val_loss: 0.4518 - val_acc: 0.8448\n",
            "Epoch 8/10\n",
            "55000/55000 [==============================] - 5s 84us/step - loss: 0.4582 - acc: 0.8392 - val_loss: 0.4484 - val_acc: 0.8458\n",
            "Epoch 9/10\n",
            "55000/55000 [==============================] - 5s 86us/step - loss: 0.4557 - acc: 0.8409 - val_loss: 0.4474 - val_acc: 0.8464\n",
            "Epoch 10/10\n",
            "55000/55000 [==============================] - 5s 84us/step - loss: 0.4533 - acc: 0.8409 - val_loss: 0.4459 - val_acc: 0.8472\n"
          ],
          "name": "stdout"
        },
        {
          "output_type": "execute_result",
          "data": {
            "text/plain": [
              "<keras.callbacks.History at 0x7fa07f453810>"
            ]
          },
          "metadata": {
            "tags": []
          },
          "execution_count": 74
        }
      ]
    },
    {
      "cell_type": "markdown",
      "metadata": {
        "id": "mwk3T5LJOIVN",
        "colab_type": "text"
      },
      "source": [
        "### Execute the model"
      ]
    },
    {
      "cell_type": "code",
      "metadata": {
        "id": "JNLR8tcBOIVP",
        "colab_type": "code",
        "colab": {
          "base_uri": "https://localhost:8080/",
          "height": 34
        },
        "outputId": "0ccb728b-3e72-4b39-9fae-d4d460a35f37"
      },
      "source": [
        "score = model.evaluate(x_test, y_test, verbose=0)\n",
        "print('\\n', 'Test accuracy:', score[1])"
      ],
      "execution_count": 76,
      "outputs": [
        {
          "output_type": "stream",
          "text": [
            "('\\n', 'Test accuracy:', 0.8268)\n"
          ],
          "name": "stdout"
        }
      ]
    },
    {
      "cell_type": "markdown",
      "metadata": {
        "id": "Py-KwkmjOIVU",
        "colab_type": "text"
      },
      "source": [
        "### Customize the learning rate to 0.001 in sgd optimizer and run the model"
      ]
    },
    {
      "cell_type": "code",
      "metadata": {
        "id": "yLXUE9jWOIVV",
        "colab_type": "code",
        "colab": {}
      },
      "source": [
        "from keras import optimizers\n",
        "sgd = optimizers.SGD(lr=0.001)\n",
        "model.compile(loss='categorical_crossentropy', optimizer=sgd, metrics=['accuracy'])"
      ],
      "execution_count": 0,
      "outputs": []
    },
    {
      "cell_type": "code",
      "metadata": {
        "id": "pJUqA5T4OIVc",
        "colab_type": "code",
        "colab": {
          "base_uri": "https://localhost:8080/",
          "height": 391
        },
        "outputId": "5b721b56-3f58-47e1-d79f-4e3d6bbbf25e"
      },
      "source": [
        "model.fit(x_train, y_train,validation_data=(x_valid,y_valid), epochs=10)\n"
      ],
      "execution_count": 81,
      "outputs": [
        {
          "output_type": "stream",
          "text": [
            "Train on 55000 samples, validate on 5000 samples\n",
            "Epoch 1/10\n",
            "55000/55000 [==============================] - 7s 121us/step - loss: 0.4505 - acc: 0.8426 - val_loss: 0.4426 - val_acc: 0.8490\n",
            "Epoch 2/10\n",
            "55000/55000 [==============================] - 7s 119us/step - loss: 0.4498 - acc: 0.8434 - val_loss: 0.4426 - val_acc: 0.8480\n",
            "Epoch 3/10\n",
            "55000/55000 [==============================] - 7s 120us/step - loss: 0.4494 - acc: 0.8437 - val_loss: 0.4417 - val_acc: 0.8488\n",
            "Epoch 4/10\n",
            "55000/55000 [==============================] - 7s 122us/step - loss: 0.4489 - acc: 0.8438 - val_loss: 0.4421 - val_acc: 0.8488\n",
            "Epoch 5/10\n",
            "55000/55000 [==============================] - 7s 122us/step - loss: 0.4483 - acc: 0.8434 - val_loss: 0.4412 - val_acc: 0.8508\n",
            "Epoch 6/10\n",
            "55000/55000 [==============================] - 7s 122us/step - loss: 0.4479 - acc: 0.8440 - val_loss: 0.4405 - val_acc: 0.8496\n",
            "Epoch 7/10\n",
            "55000/55000 [==============================] - 7s 122us/step - loss: 0.4474 - acc: 0.8440 - val_loss: 0.4408 - val_acc: 0.8500\n",
            "Epoch 8/10\n",
            "55000/55000 [==============================] - 7s 123us/step - loss: 0.4469 - acc: 0.8443 - val_loss: 0.4396 - val_acc: 0.8514\n",
            "Epoch 9/10\n",
            "55000/55000 [==============================] - 7s 124us/step - loss: 0.4465 - acc: 0.8448 - val_loss: 0.4394 - val_acc: 0.8500\n",
            "Epoch 10/10\n",
            "55000/55000 [==============================] - 7s 123us/step - loss: 0.4461 - acc: 0.8447 - val_loss: 0.4390 - val_acc: 0.8516\n"
          ],
          "name": "stdout"
        },
        {
          "output_type": "execute_result",
          "data": {
            "text/plain": [
              "<keras.callbacks.History at 0x7fa07a0b5210>"
            ]
          },
          "metadata": {
            "tags": []
          },
          "execution_count": 81
        }
      ]
    },
    {
      "cell_type": "code",
      "metadata": {
        "id": "_sq6cldzHkL1",
        "colab_type": "code",
        "colab": {
          "base_uri": "https://localhost:8080/",
          "height": 34
        },
        "outputId": "0e5e358b-5c31-4ed8-9044-cdbe47b59e40"
      },
      "source": [
        "score = model.evaluate(x_test, y_test, verbose=0)\n",
        "score = model.evaluate(x_test, y_test, verbose=0)\n",
        "print('\\n', 'Test accuracy:', score[1])"
      ],
      "execution_count": 84,
      "outputs": [
        {
          "output_type": "stream",
          "text": [
            "('\\n', 'Test accuracy:', 0.8295)\n"
          ],
          "name": "stdout"
        }
      ]
    },
    {
      "cell_type": "markdown",
      "metadata": {
        "id": "j9CSqKvpOIVk",
        "colab_type": "text"
      },
      "source": [
        "### Build the Neural Network model with 3 Dense layers with 100,100,10 neurons respectively in each layer. Use cross entropy loss function and singmoid as activation in the hidden layers and softmax as activation function in the output layer. Use sgd optimizer with learning rate 0.03."
      ]
    },
    {
      "cell_type": "code",
      "metadata": {
        "id": "GGAad54JOIVm",
        "colab_type": "code",
        "colab": {}
      },
      "source": [
        "model = Sequential()\n",
        "model.add(Flatten())\n",
        "model.add(Dense(100, input_shape=(28,28), activation='sigmoid'))\n",
        "model.add(Dense(100, activation='sigmoid'))\n",
        "model.add(Dense(10, activation='softmax'))\n",
        "# Compile model\n",
        "sgd = optimizers.SGD(lr=0.03)\n",
        "model.compile(loss='categorical_crossentropy', optimizer=sgd, metrics=['accuracy'])"
      ],
      "execution_count": 0,
      "outputs": []
    },
    {
      "cell_type": "code",
      "metadata": {
        "id": "MQ7oIymROIVp",
        "colab_type": "code",
        "colab": {
          "base_uri": "https://localhost:8080/",
          "height": 1000
        },
        "outputId": "69557746-b6d2-4d44-91ba-8336b58248d6"
      },
      "source": [
        "model.fit(x_train, y_train,validation_data=(x_valid,y_valid), epochs=100, batch_size=64)"
      ],
      "execution_count": 88,
      "outputs": [
        {
          "output_type": "stream",
          "text": [
            "Train on 55000 samples, validate on 5000 samples\n",
            "Epoch 1/100\n",
            "55000/55000 [==============================] - 3s 57us/step - loss: 0.5158 - acc: 0.8167 - val_loss: 0.4945 - val_acc: 0.8272\n",
            "Epoch 2/100\n",
            "55000/55000 [==============================] - 3s 56us/step - loss: 0.5019 - acc: 0.8219 - val_loss: 0.4812 - val_acc: 0.8366\n",
            "Epoch 3/100\n",
            "55000/55000 [==============================] - 3s 55us/step - loss: 0.4900 - acc: 0.8260 - val_loss: 0.4705 - val_acc: 0.8348\n",
            "Epoch 4/100\n",
            "55000/55000 [==============================] - 3s 51us/step - loss: 0.4796 - acc: 0.8290 - val_loss: 0.4640 - val_acc: 0.8414\n",
            "Epoch 5/100\n",
            "55000/55000 [==============================] - 3s 51us/step - loss: 0.4703 - acc: 0.8334 - val_loss: 0.4533 - val_acc: 0.8446\n",
            "Epoch 6/100\n",
            "55000/55000 [==============================] - 3s 51us/step - loss: 0.4616 - acc: 0.8355 - val_loss: 0.4579 - val_acc: 0.8400\n",
            "Epoch 7/100\n",
            "55000/55000 [==============================] - 3s 51us/step - loss: 0.4544 - acc: 0.8383 - val_loss: 0.4403 - val_acc: 0.8484\n",
            "Epoch 8/100\n",
            "55000/55000 [==============================] - 3s 52us/step - loss: 0.4474 - acc: 0.8406 - val_loss: 0.4377 - val_acc: 0.8494\n",
            "Epoch 9/100\n",
            "55000/55000 [==============================] - 3s 51us/step - loss: 0.4412 - acc: 0.8433 - val_loss: 0.4342 - val_acc: 0.8490\n",
            "Epoch 10/100\n",
            "55000/55000 [==============================] - 3s 52us/step - loss: 0.4350 - acc: 0.8443 - val_loss: 0.4313 - val_acc: 0.8508\n",
            "Epoch 11/100\n",
            "55000/55000 [==============================] - 3s 51us/step - loss: 0.4296 - acc: 0.8469 - val_loss: 0.4222 - val_acc: 0.8552\n",
            "Epoch 12/100\n",
            "55000/55000 [==============================] - 3s 52us/step - loss: 0.4243 - acc: 0.8479 - val_loss: 0.4175 - val_acc: 0.8564\n",
            "Epoch 13/100\n",
            "55000/55000 [==============================] - 3s 51us/step - loss: 0.4194 - acc: 0.8504 - val_loss: 0.4142 - val_acc: 0.8582\n",
            "Epoch 14/100\n",
            "55000/55000 [==============================] - 2s 41us/step - loss: 0.4145 - acc: 0.8516 - val_loss: 0.4131 - val_acc: 0.8560\n",
            "Epoch 15/100\n",
            "55000/55000 [==============================] - 2s 41us/step - loss: 0.4107 - acc: 0.8535 - val_loss: 0.4050 - val_acc: 0.8584\n",
            "Epoch 16/100\n",
            "55000/55000 [==============================] - 2s 41us/step - loss: 0.4063 - acc: 0.8545 - val_loss: 0.4032 - val_acc: 0.8596\n",
            "Epoch 17/100\n",
            "55000/55000 [==============================] - 2s 41us/step - loss: 0.4027 - acc: 0.8556 - val_loss: 0.3983 - val_acc: 0.8624\n",
            "Epoch 18/100\n",
            "55000/55000 [==============================] - 2s 41us/step - loss: 0.3988 - acc: 0.8574 - val_loss: 0.4003 - val_acc: 0.8612\n",
            "Epoch 19/100\n",
            "55000/55000 [==============================] - 2s 41us/step - loss: 0.3952 - acc: 0.8583 - val_loss: 0.3947 - val_acc: 0.8620\n",
            "Epoch 20/100\n",
            "55000/55000 [==============================] - 2s 45us/step - loss: 0.3920 - acc: 0.8601 - val_loss: 0.3928 - val_acc: 0.8620\n",
            "Epoch 21/100\n",
            "55000/55000 [==============================] - 2s 45us/step - loss: 0.3887 - acc: 0.8610 - val_loss: 0.3902 - val_acc: 0.8642\n",
            "Epoch 22/100\n",
            "55000/55000 [==============================] - 2s 40us/step - loss: 0.3853 - acc: 0.8631 - val_loss: 0.3849 - val_acc: 0.8644\n",
            "Epoch 23/100\n",
            "55000/55000 [==============================] - 2s 40us/step - loss: 0.3823 - acc: 0.8631 - val_loss: 0.3844 - val_acc: 0.8662\n",
            "Epoch 24/100\n",
            "55000/55000 [==============================] - 2s 41us/step - loss: 0.3797 - acc: 0.8638 - val_loss: 0.3851 - val_acc: 0.8634\n",
            "Epoch 25/100\n",
            "55000/55000 [==============================] - 2s 41us/step - loss: 0.3765 - acc: 0.8648 - val_loss: 0.3858 - val_acc: 0.8656\n",
            "Epoch 26/100\n",
            "55000/55000 [==============================] - 2s 40us/step - loss: 0.3739 - acc: 0.8653 - val_loss: 0.3770 - val_acc: 0.8662\n",
            "Epoch 27/100\n",
            "55000/55000 [==============================] - 2s 41us/step - loss: 0.3709 - acc: 0.8673 - val_loss: 0.3766 - val_acc: 0.8700\n",
            "Epoch 28/100\n",
            "55000/55000 [==============================] - 2s 40us/step - loss: 0.3684 - acc: 0.8682 - val_loss: 0.3732 - val_acc: 0.8690\n",
            "Epoch 29/100\n",
            "55000/55000 [==============================] - 2s 40us/step - loss: 0.3659 - acc: 0.8680 - val_loss: 0.3731 - val_acc: 0.8678\n",
            "Epoch 30/100\n",
            "55000/55000 [==============================] - 3s 46us/step - loss: 0.3635 - acc: 0.8708 - val_loss: 0.3696 - val_acc: 0.8686\n",
            "Epoch 31/100\n",
            "55000/55000 [==============================] - 2s 45us/step - loss: 0.3610 - acc: 0.8711 - val_loss: 0.3695 - val_acc: 0.8678\n",
            "Epoch 32/100\n",
            "55000/55000 [==============================] - 3s 46us/step - loss: 0.3589 - acc: 0.8713 - val_loss: 0.3657 - val_acc: 0.8688\n",
            "Epoch 33/100\n",
            "55000/55000 [==============================] - 3s 46us/step - loss: 0.3565 - acc: 0.8723 - val_loss: 0.3651 - val_acc: 0.8694\n",
            "Epoch 34/100\n",
            "55000/55000 [==============================] - 3s 46us/step - loss: 0.3548 - acc: 0.8731 - val_loss: 0.3645 - val_acc: 0.8696\n",
            "Epoch 35/100\n",
            "55000/55000 [==============================] - 3s 46us/step - loss: 0.3523 - acc: 0.8741 - val_loss: 0.3620 - val_acc: 0.8702\n",
            "Epoch 36/100\n",
            "55000/55000 [==============================] - 2s 45us/step - loss: 0.3501 - acc: 0.8748 - val_loss: 0.3642 - val_acc: 0.8686\n",
            "Epoch 37/100\n",
            "55000/55000 [==============================] - 2s 45us/step - loss: 0.3485 - acc: 0.8753 - val_loss: 0.3603 - val_acc: 0.8704\n",
            "Epoch 38/100\n",
            "55000/55000 [==============================] - 2s 45us/step - loss: 0.3463 - acc: 0.8763 - val_loss: 0.3638 - val_acc: 0.8696\n",
            "Epoch 39/100\n",
            "55000/55000 [==============================] - 3s 46us/step - loss: 0.3443 - acc: 0.8767 - val_loss: 0.3709 - val_acc: 0.8690\n",
            "Epoch 40/100\n",
            "55000/55000 [==============================] - 3s 45us/step - loss: 0.3424 - acc: 0.8776 - val_loss: 0.3543 - val_acc: 0.8736\n",
            "Epoch 41/100\n",
            "55000/55000 [==============================] - 2s 43us/step - loss: 0.3406 - acc: 0.8785 - val_loss: 0.3535 - val_acc: 0.8722\n",
            "Epoch 42/100\n",
            "55000/55000 [==============================] - 2s 40us/step - loss: 0.3388 - acc: 0.8784 - val_loss: 0.3516 - val_acc: 0.8724\n",
            "Epoch 43/100\n",
            "55000/55000 [==============================] - 2s 41us/step - loss: 0.3370 - acc: 0.8801 - val_loss: 0.3669 - val_acc: 0.8702\n",
            "Epoch 44/100\n",
            "55000/55000 [==============================] - 2s 40us/step - loss: 0.3348 - acc: 0.8801 - val_loss: 0.3647 - val_acc: 0.8704\n",
            "Epoch 45/100\n",
            "55000/55000 [==============================] - 2s 40us/step - loss: 0.3338 - acc: 0.8809 - val_loss: 0.3518 - val_acc: 0.8748\n",
            "Epoch 46/100\n",
            "55000/55000 [==============================] - 2s 40us/step - loss: 0.3319 - acc: 0.8820 - val_loss: 0.3475 - val_acc: 0.8760\n",
            "Epoch 47/100\n",
            "55000/55000 [==============================] - 2s 40us/step - loss: 0.3302 - acc: 0.8817 - val_loss: 0.3489 - val_acc: 0.8726\n",
            "Epoch 48/100\n",
            "55000/55000 [==============================] - 3s 48us/step - loss: 0.3289 - acc: 0.8821 - val_loss: 0.3472 - val_acc: 0.8756\n",
            "Epoch 49/100\n",
            "55000/55000 [==============================] - 3s 51us/step - loss: 0.3270 - acc: 0.8832 - val_loss: 0.3487 - val_acc: 0.8742\n",
            "Epoch 50/100\n",
            "55000/55000 [==============================] - 3s 51us/step - loss: 0.3254 - acc: 0.8833 - val_loss: 0.3461 - val_acc: 0.8768\n",
            "Epoch 51/100\n",
            "55000/55000 [==============================] - 3s 51us/step - loss: 0.3240 - acc: 0.8846 - val_loss: 0.3448 - val_acc: 0.8772\n",
            "Epoch 52/100\n",
            "55000/55000 [==============================] - 3s 52us/step - loss: 0.3224 - acc: 0.8851 - val_loss: 0.3527 - val_acc: 0.8746\n",
            "Epoch 53/100\n",
            "55000/55000 [==============================] - 3s 52us/step - loss: 0.3205 - acc: 0.8852 - val_loss: 0.3472 - val_acc: 0.8768\n",
            "Epoch 54/100\n",
            "55000/55000 [==============================] - 3s 56us/step - loss: 0.3191 - acc: 0.8864 - val_loss: 0.3445 - val_acc: 0.8770\n",
            "Epoch 55/100\n",
            "55000/55000 [==============================] - 3s 57us/step - loss: 0.3181 - acc: 0.8865 - val_loss: 0.3412 - val_acc: 0.8778\n",
            "Epoch 56/100\n",
            "55000/55000 [==============================] - 3s 56us/step - loss: 0.3166 - acc: 0.8868 - val_loss: 0.3415 - val_acc: 0.8796\n",
            "Epoch 57/100\n",
            "55000/55000 [==============================] - 3s 56us/step - loss: 0.3152 - acc: 0.8873 - val_loss: 0.3454 - val_acc: 0.8754\n",
            "Epoch 58/100\n",
            "55000/55000 [==============================] - 3s 56us/step - loss: 0.3132 - acc: 0.8883 - val_loss: 0.3392 - val_acc: 0.8802\n",
            "Epoch 59/100\n",
            "55000/55000 [==============================] - 3s 57us/step - loss: 0.3123 - acc: 0.8890 - val_loss: 0.3378 - val_acc: 0.8800\n",
            "Epoch 60/100\n",
            "55000/55000 [==============================] - 3s 54us/step - loss: 0.3109 - acc: 0.8883 - val_loss: 0.3344 - val_acc: 0.8800\n",
            "Epoch 61/100\n",
            "55000/55000 [==============================] - 3s 53us/step - loss: 0.3096 - acc: 0.8897 - val_loss: 0.3356 - val_acc: 0.8802\n",
            "Epoch 62/100\n",
            "55000/55000 [==============================] - 3s 58us/step - loss: 0.3079 - acc: 0.8903 - val_loss: 0.3354 - val_acc: 0.8822\n",
            "Epoch 63/100\n",
            "55000/55000 [==============================] - 3s 48us/step - loss: 0.3063 - acc: 0.8907 - val_loss: 0.3361 - val_acc: 0.8804\n",
            "Epoch 64/100\n",
            "55000/55000 [==============================] - 3s 48us/step - loss: 0.3052 - acc: 0.8907 - val_loss: 0.3395 - val_acc: 0.8786\n",
            "Epoch 65/100\n",
            "55000/55000 [==============================] - 3s 47us/step - loss: 0.3041 - acc: 0.8911 - val_loss: 0.3342 - val_acc: 0.8812\n",
            "Epoch 66/100\n",
            "55000/55000 [==============================] - 2s 45us/step - loss: 0.3029 - acc: 0.8916 - val_loss: 0.3387 - val_acc: 0.8762\n",
            "Epoch 67/100\n",
            "55000/55000 [==============================] - 2s 43us/step - loss: 0.3016 - acc: 0.8919 - val_loss: 0.3334 - val_acc: 0.8822\n",
            "Epoch 68/100\n",
            "55000/55000 [==============================] - 2s 41us/step - loss: 0.3002 - acc: 0.8921 - val_loss: 0.3317 - val_acc: 0.8794\n",
            "Epoch 69/100\n",
            "55000/55000 [==============================] - 2s 40us/step - loss: 0.2992 - acc: 0.8925 - val_loss: 0.3315 - val_acc: 0.8818\n",
            "Epoch 70/100\n",
            "55000/55000 [==============================] - 2s 40us/step - loss: 0.2978 - acc: 0.8941 - val_loss: 0.3361 - val_acc: 0.8780\n",
            "Epoch 71/100\n",
            "55000/55000 [==============================] - 2s 41us/step - loss: 0.2962 - acc: 0.8935 - val_loss: 0.3308 - val_acc: 0.8812\n",
            "Epoch 72/100\n",
            "55000/55000 [==============================] - 2s 40us/step - loss: 0.2951 - acc: 0.8945 - val_loss: 0.3255 - val_acc: 0.8832\n",
            "Epoch 73/100\n",
            "55000/55000 [==============================] - 2s 40us/step - loss: 0.2941 - acc: 0.8947 - val_loss: 0.3282 - val_acc: 0.8854\n",
            "Epoch 74/100\n",
            "55000/55000 [==============================] - 2s 41us/step - loss: 0.2927 - acc: 0.8951 - val_loss: 0.3337 - val_acc: 0.8814\n",
            "Epoch 75/100\n",
            "55000/55000 [==============================] - 2s 40us/step - loss: 0.2915 - acc: 0.8960 - val_loss: 0.3296 - val_acc: 0.8814\n",
            "Epoch 76/100\n",
            "55000/55000 [==============================] - 2s 40us/step - loss: 0.2910 - acc: 0.8948 - val_loss: 0.3245 - val_acc: 0.8840\n",
            "Epoch 77/100\n",
            "55000/55000 [==============================] - 2s 40us/step - loss: 0.2890 - acc: 0.8965 - val_loss: 0.3284 - val_acc: 0.8832\n",
            "Epoch 78/100\n",
            "55000/55000 [==============================] - 2s 41us/step - loss: 0.2880 - acc: 0.8969 - val_loss: 0.3298 - val_acc: 0.8814\n",
            "Epoch 79/100\n",
            "55000/55000 [==============================] - 2s 40us/step - loss: 0.2875 - acc: 0.8975 - val_loss: 0.3284 - val_acc: 0.8864\n",
            "Epoch 80/100\n",
            "55000/55000 [==============================] - 2s 40us/step - loss: 0.2862 - acc: 0.8979 - val_loss: 0.3269 - val_acc: 0.8846\n",
            "Epoch 81/100\n",
            "55000/55000 [==============================] - 2s 41us/step - loss: 0.2846 - acc: 0.8987 - val_loss: 0.3186 - val_acc: 0.8854\n",
            "Epoch 82/100\n",
            "55000/55000 [==============================] - 2s 40us/step - loss: 0.2836 - acc: 0.8983 - val_loss: 0.3182 - val_acc: 0.8876\n",
            "Epoch 83/100\n",
            "55000/55000 [==============================] - 2s 40us/step - loss: 0.2829 - acc: 0.8986 - val_loss: 0.3211 - val_acc: 0.8866\n",
            "Epoch 84/100\n",
            "55000/55000 [==============================] - 2s 41us/step - loss: 0.2813 - acc: 0.8994 - val_loss: 0.3264 - val_acc: 0.8854\n",
            "Epoch 85/100\n",
            "55000/55000 [==============================] - 2s 40us/step - loss: 0.2810 - acc: 0.8997 - val_loss: 0.3176 - val_acc: 0.8880\n",
            "Epoch 86/100\n",
            "55000/55000 [==============================] - 2s 41us/step - loss: 0.2798 - acc: 0.8998 - val_loss: 0.3162 - val_acc: 0.8860\n",
            "Epoch 87/100\n",
            "55000/55000 [==============================] - 2s 40us/step - loss: 0.2783 - acc: 0.9013 - val_loss: 0.3186 - val_acc: 0.8854\n",
            "Epoch 88/100\n",
            "55000/55000 [==============================] - 2s 40us/step - loss: 0.2771 - acc: 0.9007 - val_loss: 0.3149 - val_acc: 0.8876\n",
            "Epoch 89/100\n",
            "55000/55000 [==============================] - 2s 40us/step - loss: 0.2760 - acc: 0.9010 - val_loss: 0.3160 - val_acc: 0.8886\n",
            "Epoch 90/100\n",
            "55000/55000 [==============================] - 2s 41us/step - loss: 0.2759 - acc: 0.9013 - val_loss: 0.3212 - val_acc: 0.8856\n",
            "Epoch 91/100\n",
            "55000/55000 [==============================] - 2s 40us/step - loss: 0.2744 - acc: 0.9011 - val_loss: 0.3142 - val_acc: 0.8890\n",
            "Epoch 92/100\n",
            "55000/55000 [==============================] - 2s 40us/step - loss: 0.2730 - acc: 0.9018 - val_loss: 0.3106 - val_acc: 0.8892\n",
            "Epoch 93/100\n",
            "55000/55000 [==============================] - 2s 40us/step - loss: 0.2725 - acc: 0.9021 - val_loss: 0.3122 - val_acc: 0.8864\n",
            "Epoch 94/100\n",
            "55000/55000 [==============================] - 2s 40us/step - loss: 0.2718 - acc: 0.9019 - val_loss: 0.3131 - val_acc: 0.8880\n",
            "Epoch 95/100\n",
            "55000/55000 [==============================] - 2s 43us/step - loss: 0.2700 - acc: 0.9035 - val_loss: 0.3189 - val_acc: 0.8866\n",
            "Epoch 96/100\n",
            "55000/55000 [==============================] - 3s 51us/step - loss: 0.2693 - acc: 0.9035 - val_loss: 0.3173 - val_acc: 0.8852\n",
            "Epoch 97/100\n",
            "55000/55000 [==============================] - 3s 51us/step - loss: 0.2684 - acc: 0.9031 - val_loss: 0.3182 - val_acc: 0.8846\n",
            "Epoch 98/100\n",
            "55000/55000 [==============================] - 3s 48us/step - loss: 0.2674 - acc: 0.9043 - val_loss: 0.3132 - val_acc: 0.8884\n",
            "Epoch 99/100\n",
            "55000/55000 [==============================] - 3s 46us/step - loss: 0.2665 - acc: 0.9045 - val_loss: 0.3302 - val_acc: 0.8824\n",
            "Epoch 100/100\n",
            "55000/55000 [==============================] - 3s 46us/step - loss: 0.2651 - acc: 0.9052 - val_loss: 0.3212 - val_acc: 0.8874\n"
          ],
          "name": "stdout"
        },
        {
          "output_type": "execute_result",
          "data": {
            "text/plain": [
              "<keras.callbacks.History at 0x7fa07f7d6ad0>"
            ]
          },
          "metadata": {
            "tags": []
          },
          "execution_count": 88
        }
      ]
    },
    {
      "cell_type": "code",
      "metadata": {
        "id": "X-O-fFxnOIVt",
        "colab_type": "code",
        "colab": {
          "base_uri": "https://localhost:8080/",
          "height": 34
        },
        "outputId": "80c5bcc7-e378-4f32-c8b0-d0fba83ddde1"
      },
      "source": [
        "score = model.evaluate(x_test, y_test, verbose=0)\n",
        "print('\\n', 'Test accuracy:', score[1])"
      ],
      "execution_count": 89,
      "outputs": [
        {
          "output_type": "stream",
          "text": [
            "('\\n', 'Test accuracy:', 0.8716)\n"
          ],
          "name": "stdout"
        }
      ]
    },
    {
      "cell_type": "code",
      "metadata": {
        "id": "BiP7IL52OIVw",
        "colab_type": "code",
        "colab": {}
      },
      "source": [
        ""
      ],
      "execution_count": 0,
      "outputs": []
    },
    {
      "cell_type": "markdown",
      "metadata": {
        "id": "Nr2YsZV0OIV0",
        "colab_type": "text"
      },
      "source": [
        "## Review model"
      ]
    },
    {
      "cell_type": "code",
      "metadata": {
        "id": "h4ojW6-oOIV2",
        "colab_type": "code",
        "colab": {}
      },
      "source": [
        ""
      ],
      "execution_count": 0,
      "outputs": []
    },
    {
      "cell_type": "markdown",
      "metadata": {
        "id": "gfFGmbZLOIV5",
        "colab_type": "text"
      },
      "source": [
        "### Run the model"
      ]
    },
    {
      "cell_type": "code",
      "metadata": {
        "id": "bIkbMEN5OIV7",
        "colab_type": "code",
        "colab": {}
      },
      "source": [
        ""
      ],
      "execution_count": 0,
      "outputs": []
    }
  ]
}