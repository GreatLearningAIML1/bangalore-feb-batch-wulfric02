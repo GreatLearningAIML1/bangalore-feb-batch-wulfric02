{
  "nbformat": 4,
  "nbformat_minor": 0,
  "metadata": {
    "colab": {
      "name": "R6_Internal_Lab_UpdatedTF2_Prices_Iris.ipynb",
      "version": "0.3.2",
      "provenance": [],
      "collapsed_sections": []
    },
    "kernelspec": {
      "display_name": "Python 2",
      "language": "python",
      "name": "python2"
    }
  },
  "cells": [
    {
      "cell_type": "markdown",
      "metadata": {
        "colab_type": "text",
        "id": "84Q8JfvaeZZ6"
      },
      "source": [
        "## Linear Classifier in TensorFlow \n",
        "Using Low Level API in Eager Execution mode"
      ]
    },
    {
      "cell_type": "markdown",
      "metadata": {
        "colab_type": "text",
        "id": "sb7Epo0VOB58"
      },
      "source": [
        "### Load tensorflow"
      ]
    },
    {
      "cell_type": "code",
      "metadata": {
        "colab_type": "code",
        "id": "fHpCNRv1OB5-",
        "colab": {}
      },
      "source": [
        "import tensorflow as tf"
      ],
      "execution_count": 0,
      "outputs": []
    },
    {
      "cell_type": "code",
      "metadata": {
        "colab_type": "code",
        "id": "Mjtb-EMcm5K0",
        "colab": {}
      },
      "source": [
        "#Enable Eager Execution if using tensflow version < 2.0\n",
        "#From tensorflow v2.0 onwards, Eager Execution will be enabled by default\n",
        "# tf.enable_eager_execution()"
      ],
      "execution_count": 0,
      "outputs": []
    },
    {
      "cell_type": "markdown",
      "metadata": {
        "colab_type": "text",
        "id": "DxJDmJqqOB6K"
      },
      "source": [
        "### Collect Data"
      ]
    },
    {
      "cell_type": "code",
      "metadata": {
        "colab_type": "code",
        "id": "FhllFLyKOB6N",
        "outputId": "a20ea86a-3501-4a20-e2b6-7333cc9063f8",
        "colab": {
          "base_uri": "https://localhost:8080/",
          "height": 34
        }
      },
      "source": [
        "from google.colab import drive\n",
        "drive.mount('/gdrive')"
      ],
      "execution_count": 3,
      "outputs": [
        {
          "output_type": "stream",
          "text": [
            "Drive already mounted at /gdrive; to attempt to forcibly remount, call drive.mount(\"/gdrive\", force_remount=True).\n"
          ],
          "name": "stdout"
        }
      ]
    },
    {
      "cell_type": "code",
      "metadata": {
        "id": "mAX-gRQ89fZ1",
        "colab_type": "code",
        "outputId": "484bf3e9-f3cb-43cd-84d6-ed6880df7af3",
        "colab": {
          "base_uri": "https://localhost:8080/",
          "height": 34
        }
      },
      "source": [
        "\n",
        "%cd /gdrive/My\\ Drive/Deeplearning"
      ],
      "execution_count": 2,
      "outputs": [
        {
          "output_type": "stream",
          "text": [
            "/gdrive/My Drive/Deeplearning\n"
          ],
          "name": "stdout"
        }
      ]
    },
    {
      "cell_type": "code",
      "metadata": {
        "colab_type": "code",
        "id": "KiObW4V4SIOz",
        "colab": {}
      },
      "source": [
        "import pandas as pd"
      ],
      "execution_count": 0,
      "outputs": []
    },
    {
      "cell_type": "code",
      "metadata": {
        "colab_type": "code",
        "id": "B4yQKMiJOB6R",
        "colab": {}
      },
      "source": [
        "data = pd.read_csv('prices.csv')"
      ],
      "execution_count": 0,
      "outputs": []
    },
    {
      "cell_type": "code",
      "metadata": {
        "id": "3ovMi_EK94qZ",
        "colab_type": "code",
        "outputId": "17dd7b32-cc71-49d0-fac7-8d61ab05fe37",
        "colab": {
          "base_uri": "https://localhost:8080/",
          "height": 34
        }
      },
      "source": [
        "data.shape"
      ],
      "execution_count": 7,
      "outputs": [
        {
          "output_type": "execute_result",
          "data": {
            "text/plain": [
              "(851264, 7)"
            ]
          },
          "metadata": {
            "tags": []
          },
          "execution_count": 7
        }
      ]
    },
    {
      "cell_type": "markdown",
      "metadata": {
        "colab_type": "text",
        "id": "fgkX6SEqOB6W"
      },
      "source": [
        "### Check all columns in the dataset"
      ]
    },
    {
      "cell_type": "code",
      "metadata": {
        "colab_type": "code",
        "id": "7K8pWsNQOB6X",
        "outputId": "54b123f8-1482-4588-c76e-da35b53a0e97",
        "colab": {
          "base_uri": "https://localhost:8080/",
          "height": 221
        }
      },
      "source": [
        "data.info()"
      ],
      "execution_count": 8,
      "outputs": [
        {
          "output_type": "stream",
          "text": [
            "<class 'pandas.core.frame.DataFrame'>\n",
            "RangeIndex: 851264 entries, 0 to 851263\n",
            "Data columns (total 7 columns):\n",
            "date      851264 non-null object\n",
            "symbol    851264 non-null object\n",
            "open      851264 non-null float64\n",
            "close     851264 non-null float64\n",
            "low       851264 non-null float64\n",
            "high      851264 non-null float64\n",
            "volume    851264 non-null float64\n",
            "dtypes: float64(5), object(2)\n",
            "memory usage: 45.5+ MB\n"
          ],
          "name": "stdout"
        }
      ]
    },
    {
      "cell_type": "code",
      "metadata": {
        "id": "HiWNV9Sl-JQJ",
        "colab_type": "code",
        "outputId": "8fa1f1fb-17ba-4d3d-a3a5-09d77aa402eb",
        "colab": {
          "base_uri": "https://localhost:8080/",
          "height": 204
        }
      },
      "source": [
        "data.head()"
      ],
      "execution_count": 0,
      "outputs": [
        {
          "output_type": "execute_result",
          "data": {
            "text/html": [
              "<div>\n",
              "<style scoped>\n",
              "    .dataframe tbody tr th:only-of-type {\n",
              "        vertical-align: middle;\n",
              "    }\n",
              "\n",
              "    .dataframe tbody tr th {\n",
              "        vertical-align: top;\n",
              "    }\n",
              "\n",
              "    .dataframe thead th {\n",
              "        text-align: right;\n",
              "    }\n",
              "</style>\n",
              "<table border=\"1\" class=\"dataframe\">\n",
              "  <thead>\n",
              "    <tr style=\"text-align: right;\">\n",
              "      <th></th>\n",
              "      <th>date</th>\n",
              "      <th>symbol</th>\n",
              "      <th>open</th>\n",
              "      <th>close</th>\n",
              "      <th>low</th>\n",
              "      <th>high</th>\n",
              "      <th>volume</th>\n",
              "    </tr>\n",
              "  </thead>\n",
              "  <tbody>\n",
              "    <tr>\n",
              "      <th>0</th>\n",
              "      <td>2016-01-05 00:00:00</td>\n",
              "      <td>WLTW</td>\n",
              "      <td>123.430000</td>\n",
              "      <td>125.839996</td>\n",
              "      <td>122.309998</td>\n",
              "      <td>126.250000</td>\n",
              "      <td>2163600.0</td>\n",
              "    </tr>\n",
              "    <tr>\n",
              "      <th>1</th>\n",
              "      <td>2016-01-06 00:00:00</td>\n",
              "      <td>WLTW</td>\n",
              "      <td>125.239998</td>\n",
              "      <td>119.980003</td>\n",
              "      <td>119.940002</td>\n",
              "      <td>125.540001</td>\n",
              "      <td>2386400.0</td>\n",
              "    </tr>\n",
              "    <tr>\n",
              "      <th>2</th>\n",
              "      <td>2016-01-07 00:00:00</td>\n",
              "      <td>WLTW</td>\n",
              "      <td>116.379997</td>\n",
              "      <td>114.949997</td>\n",
              "      <td>114.930000</td>\n",
              "      <td>119.739998</td>\n",
              "      <td>2489500.0</td>\n",
              "    </tr>\n",
              "    <tr>\n",
              "      <th>3</th>\n",
              "      <td>2016-01-08 00:00:00</td>\n",
              "      <td>WLTW</td>\n",
              "      <td>115.480003</td>\n",
              "      <td>116.620003</td>\n",
              "      <td>113.500000</td>\n",
              "      <td>117.440002</td>\n",
              "      <td>2006300.0</td>\n",
              "    </tr>\n",
              "    <tr>\n",
              "      <th>4</th>\n",
              "      <td>2016-01-11 00:00:00</td>\n",
              "      <td>WLTW</td>\n",
              "      <td>117.010002</td>\n",
              "      <td>114.970001</td>\n",
              "      <td>114.089996</td>\n",
              "      <td>117.330002</td>\n",
              "      <td>1408600.0</td>\n",
              "    </tr>\n",
              "  </tbody>\n",
              "</table>\n",
              "</div>"
            ],
            "text/plain": [
              "                  date symbol        open  ...         low        high     volume\n",
              "0  2016-01-05 00:00:00   WLTW  123.430000  ...  122.309998  126.250000  2163600.0\n",
              "1  2016-01-06 00:00:00   WLTW  125.239998  ...  119.940002  125.540001  2386400.0\n",
              "2  2016-01-07 00:00:00   WLTW  116.379997  ...  114.930000  119.739998  2489500.0\n",
              "3  2016-01-08 00:00:00   WLTW  115.480003  ...  113.500000  117.440002  2006300.0\n",
              "4  2016-01-11 00:00:00   WLTW  117.010002  ...  114.089996  117.330002  1408600.0\n",
              "\n",
              "[5 rows x 7 columns]"
            ]
          },
          "metadata": {
            "tags": []
          },
          "execution_count": 16
        }
      ]
    },
    {
      "cell_type": "code",
      "metadata": {
        "id": "Y6kXjW3J9sXq",
        "colab_type": "code",
        "outputId": "d71ff0a8-00cd-4719-a90a-88a92358c8b5",
        "colab": {
          "base_uri": "https://localhost:8080/",
          "height": 297
        }
      },
      "source": [
        "data.describe()"
      ],
      "execution_count": 0,
      "outputs": [
        {
          "output_type": "execute_result",
          "data": {
            "text/html": [
              "<div>\n",
              "<style scoped>\n",
              "    .dataframe tbody tr th:only-of-type {\n",
              "        vertical-align: middle;\n",
              "    }\n",
              "\n",
              "    .dataframe tbody tr th {\n",
              "        vertical-align: top;\n",
              "    }\n",
              "\n",
              "    .dataframe thead th {\n",
              "        text-align: right;\n",
              "    }\n",
              "</style>\n",
              "<table border=\"1\" class=\"dataframe\">\n",
              "  <thead>\n",
              "    <tr style=\"text-align: right;\">\n",
              "      <th></th>\n",
              "      <th>open</th>\n",
              "      <th>close</th>\n",
              "      <th>low</th>\n",
              "      <th>high</th>\n",
              "      <th>volume</th>\n",
              "    </tr>\n",
              "  </thead>\n",
              "  <tbody>\n",
              "    <tr>\n",
              "      <th>count</th>\n",
              "      <td>851264.000000</td>\n",
              "      <td>851264.000000</td>\n",
              "      <td>851264.000000</td>\n",
              "      <td>851264.000000</td>\n",
              "      <td>8.512640e+05</td>\n",
              "    </tr>\n",
              "    <tr>\n",
              "      <th>mean</th>\n",
              "      <td>70.836986</td>\n",
              "      <td>70.857109</td>\n",
              "      <td>70.118414</td>\n",
              "      <td>71.543476</td>\n",
              "      <td>5.415113e+06</td>\n",
              "    </tr>\n",
              "    <tr>\n",
              "      <th>std</th>\n",
              "      <td>83.695876</td>\n",
              "      <td>83.689686</td>\n",
              "      <td>82.877294</td>\n",
              "      <td>84.465504</td>\n",
              "      <td>1.249468e+07</td>\n",
              "    </tr>\n",
              "    <tr>\n",
              "      <th>min</th>\n",
              "      <td>0.850000</td>\n",
              "      <td>0.860000</td>\n",
              "      <td>0.830000</td>\n",
              "      <td>0.880000</td>\n",
              "      <td>0.000000e+00</td>\n",
              "    </tr>\n",
              "    <tr>\n",
              "      <th>25%</th>\n",
              "      <td>33.840000</td>\n",
              "      <td>33.849998</td>\n",
              "      <td>33.480000</td>\n",
              "      <td>34.189999</td>\n",
              "      <td>1.221500e+06</td>\n",
              "    </tr>\n",
              "    <tr>\n",
              "      <th>50%</th>\n",
              "      <td>52.770000</td>\n",
              "      <td>52.799999</td>\n",
              "      <td>52.230000</td>\n",
              "      <td>53.310001</td>\n",
              "      <td>2.476250e+06</td>\n",
              "    </tr>\n",
              "    <tr>\n",
              "      <th>75%</th>\n",
              "      <td>79.879997</td>\n",
              "      <td>79.889999</td>\n",
              "      <td>79.110001</td>\n",
              "      <td>80.610001</td>\n",
              "      <td>5.222500e+06</td>\n",
              "    </tr>\n",
              "    <tr>\n",
              "      <th>max</th>\n",
              "      <td>1584.439941</td>\n",
              "      <td>1578.130005</td>\n",
              "      <td>1549.939941</td>\n",
              "      <td>1600.930054</td>\n",
              "      <td>8.596434e+08</td>\n",
              "    </tr>\n",
              "  </tbody>\n",
              "</table>\n",
              "</div>"
            ],
            "text/plain": [
              "                open          close            low           high        volume\n",
              "count  851264.000000  851264.000000  851264.000000  851264.000000  8.512640e+05\n",
              "mean       70.836986      70.857109      70.118414      71.543476  5.415113e+06\n",
              "std        83.695876      83.689686      82.877294      84.465504  1.249468e+07\n",
              "min         0.850000       0.860000       0.830000       0.880000  0.000000e+00\n",
              "25%        33.840000      33.849998      33.480000      34.189999  1.221500e+06\n",
              "50%        52.770000      52.799999      52.230000      53.310001  2.476250e+06\n",
              "75%        79.879997      79.889999      79.110001      80.610001  5.222500e+06\n",
              "max      1584.439941    1578.130005    1549.939941    1600.930054  8.596434e+08"
            ]
          },
          "metadata": {
            "tags": []
          },
          "execution_count": 15
        }
      ]
    },
    {
      "cell_type": "code",
      "metadata": {
        "id": "WU1d7kYU92Ns",
        "colab_type": "code",
        "colab": {}
      },
      "source": [
        ""
      ],
      "execution_count": 0,
      "outputs": []
    },
    {
      "cell_type": "markdown",
      "metadata": {
        "colab_type": "text",
        "id": "7dU6X7MpOB6c"
      },
      "source": [
        "### Drop columns `date` and  `symbol`"
      ]
    },
    {
      "cell_type": "code",
      "metadata": {
        "colab_type": "code",
        "id": "lh_6spSKOB6e",
        "colab": {}
      },
      "source": [
        "data.drop(['date','symbol'], axis =1, inplace=True)"
      ],
      "execution_count": 0,
      "outputs": []
    },
    {
      "cell_type": "code",
      "metadata": {
        "colab_type": "code",
        "id": "xlwbUgTwOB6i",
        "outputId": "9d944d2c-0c6e-407e-ce7b-274a8cf9e3ac",
        "colab": {
          "base_uri": "https://localhost:8080/",
          "height": 204
        }
      },
      "source": [
        "data.head()"
      ],
      "execution_count": 0,
      "outputs": [
        {
          "output_type": "execute_result",
          "data": {
            "text/html": [
              "<div>\n",
              "<style scoped>\n",
              "    .dataframe tbody tr th:only-of-type {\n",
              "        vertical-align: middle;\n",
              "    }\n",
              "\n",
              "    .dataframe tbody tr th {\n",
              "        vertical-align: top;\n",
              "    }\n",
              "\n",
              "    .dataframe thead th {\n",
              "        text-align: right;\n",
              "    }\n",
              "</style>\n",
              "<table border=\"1\" class=\"dataframe\">\n",
              "  <thead>\n",
              "    <tr style=\"text-align: right;\">\n",
              "      <th></th>\n",
              "      <th>open</th>\n",
              "      <th>close</th>\n",
              "      <th>low</th>\n",
              "      <th>high</th>\n",
              "      <th>volume</th>\n",
              "    </tr>\n",
              "  </thead>\n",
              "  <tbody>\n",
              "    <tr>\n",
              "      <th>0</th>\n",
              "      <td>123.430000</td>\n",
              "      <td>125.839996</td>\n",
              "      <td>122.309998</td>\n",
              "      <td>126.250000</td>\n",
              "      <td>2163600.0</td>\n",
              "    </tr>\n",
              "    <tr>\n",
              "      <th>1</th>\n",
              "      <td>125.239998</td>\n",
              "      <td>119.980003</td>\n",
              "      <td>119.940002</td>\n",
              "      <td>125.540001</td>\n",
              "      <td>2386400.0</td>\n",
              "    </tr>\n",
              "    <tr>\n",
              "      <th>2</th>\n",
              "      <td>116.379997</td>\n",
              "      <td>114.949997</td>\n",
              "      <td>114.930000</td>\n",
              "      <td>119.739998</td>\n",
              "      <td>2489500.0</td>\n",
              "    </tr>\n",
              "    <tr>\n",
              "      <th>3</th>\n",
              "      <td>115.480003</td>\n",
              "      <td>116.620003</td>\n",
              "      <td>113.500000</td>\n",
              "      <td>117.440002</td>\n",
              "      <td>2006300.0</td>\n",
              "    </tr>\n",
              "    <tr>\n",
              "      <th>4</th>\n",
              "      <td>117.010002</td>\n",
              "      <td>114.970001</td>\n",
              "      <td>114.089996</td>\n",
              "      <td>117.330002</td>\n",
              "      <td>1408600.0</td>\n",
              "    </tr>\n",
              "  </tbody>\n",
              "</table>\n",
              "</div>"
            ],
            "text/plain": [
              "         open       close         low        high     volume\n",
              "0  123.430000  125.839996  122.309998  126.250000  2163600.0\n",
              "1  125.239998  119.980003  119.940002  125.540001  2386400.0\n",
              "2  116.379997  114.949997  114.930000  119.739998  2489500.0\n",
              "3  115.480003  116.620003  113.500000  117.440002  2006300.0\n",
              "4  117.010002  114.970001  114.089996  117.330002  1408600.0"
            ]
          },
          "metadata": {
            "tags": []
          },
          "execution_count": 18
        }
      ]
    },
    {
      "cell_type": "markdown",
      "metadata": {
        "colab_type": "text",
        "id": "3DBv3WWYOB6q"
      },
      "source": [
        "### Consider only first 1000 rows in the dataset for building feature set and target set\n",
        "Target 'Volume' has very high values. Divide 'Volume' by 1000,000"
      ]
    },
    {
      "cell_type": "code",
      "metadata": {
        "colab_type": "code",
        "id": "Z_hG9rGBOB6s",
        "colab": {}
      },
      "source": [
        "data_df = data.loc[0:999,:]"
      ],
      "execution_count": 0,
      "outputs": []
    },
    {
      "cell_type": "code",
      "metadata": {
        "id": "orwwjTxK-3cj",
        "colab_type": "code",
        "outputId": "71757f33-bfed-4333-c075-0f23090d977a",
        "colab": {
          "base_uri": "https://localhost:8080/",
          "height": 34
        }
      },
      "source": [
        "data_df.shape"
      ],
      "execution_count": 11,
      "outputs": [
        {
          "output_type": "execute_result",
          "data": {
            "text/plain": [
              "(1000, 5)"
            ]
          },
          "metadata": {
            "tags": []
          },
          "execution_count": 11
        }
      ]
    },
    {
      "cell_type": "code",
      "metadata": {
        "id": "WNok8jKU-us2",
        "colab_type": "code",
        "colab": {
          "base_uri": "https://localhost:8080/",
          "height": 119
        },
        "outputId": "a1b635e9-0ac4-46d2-c406-6947406686fb"
      },
      "source": [
        "data_df['volume'] = data_df['volume']/1000000\n",
        "# data_df.loc[:, 'volume'] =  data_df['volume']*1000000"
      ],
      "execution_count": 8,
      "outputs": [
        {
          "output_type": "stream",
          "text": [
            "/usr/local/lib/python2.7/dist-packages/ipykernel_launcher.py:1: SettingWithCopyWarning: \n",
            "A value is trying to be set on a copy of a slice from a DataFrame.\n",
            "Try using .loc[row_indexer,col_indexer] = value instead\n",
            "\n",
            "See the caveats in the documentation: http://pandas.pydata.org/pandas-docs/stable/indexing.html#indexing-view-versus-copy\n",
            "  \"\"\"Entry point for launching an IPython kernel.\n"
          ],
          "name": "stderr"
        }
      ]
    },
    {
      "cell_type": "code",
      "metadata": {
        "id": "4-6xYq-R_Jtv",
        "colab_type": "code",
        "outputId": "1f5920e2-bdc8-47c1-eefa-8a608b8a8fbd",
        "colab": {
          "base_uri": "https://localhost:8080/",
          "height": 204
        }
      },
      "source": [
        "data_df.head()"
      ],
      "execution_count": 9,
      "outputs": [
        {
          "output_type": "execute_result",
          "data": {
            "text/html": [
              "<div>\n",
              "<style scoped>\n",
              "    .dataframe tbody tr th:only-of-type {\n",
              "        vertical-align: middle;\n",
              "    }\n",
              "\n",
              "    .dataframe tbody tr th {\n",
              "        vertical-align: top;\n",
              "    }\n",
              "\n",
              "    .dataframe thead th {\n",
              "        text-align: right;\n",
              "    }\n",
              "</style>\n",
              "<table border=\"1\" class=\"dataframe\">\n",
              "  <thead>\n",
              "    <tr style=\"text-align: right;\">\n",
              "      <th></th>\n",
              "      <th>open</th>\n",
              "      <th>close</th>\n",
              "      <th>low</th>\n",
              "      <th>high</th>\n",
              "      <th>volume</th>\n",
              "    </tr>\n",
              "  </thead>\n",
              "  <tbody>\n",
              "    <tr>\n",
              "      <th>0</th>\n",
              "      <td>123.430000</td>\n",
              "      <td>125.839996</td>\n",
              "      <td>122.309998</td>\n",
              "      <td>126.250000</td>\n",
              "      <td>2.1636</td>\n",
              "    </tr>\n",
              "    <tr>\n",
              "      <th>1</th>\n",
              "      <td>125.239998</td>\n",
              "      <td>119.980003</td>\n",
              "      <td>119.940002</td>\n",
              "      <td>125.540001</td>\n",
              "      <td>2.3864</td>\n",
              "    </tr>\n",
              "    <tr>\n",
              "      <th>2</th>\n",
              "      <td>116.379997</td>\n",
              "      <td>114.949997</td>\n",
              "      <td>114.930000</td>\n",
              "      <td>119.739998</td>\n",
              "      <td>2.4895</td>\n",
              "    </tr>\n",
              "    <tr>\n",
              "      <th>3</th>\n",
              "      <td>115.480003</td>\n",
              "      <td>116.620003</td>\n",
              "      <td>113.500000</td>\n",
              "      <td>117.440002</td>\n",
              "      <td>2.0063</td>\n",
              "    </tr>\n",
              "    <tr>\n",
              "      <th>4</th>\n",
              "      <td>117.010002</td>\n",
              "      <td>114.970001</td>\n",
              "      <td>114.089996</td>\n",
              "      <td>117.330002</td>\n",
              "      <td>1.4086</td>\n",
              "    </tr>\n",
              "  </tbody>\n",
              "</table>\n",
              "</div>"
            ],
            "text/plain": [
              "         open       close         low        high  volume\n",
              "0  123.430000  125.839996  122.309998  126.250000  2.1636\n",
              "1  125.239998  119.980003  119.940002  125.540001  2.3864\n",
              "2  116.379997  114.949997  114.930000  119.739998  2.4895\n",
              "3  115.480003  116.620003  113.500000  117.440002  2.0063\n",
              "4  117.010002  114.970001  114.089996  117.330002  1.4086"
            ]
          },
          "metadata": {
            "tags": []
          },
          "execution_count": 9
        }
      ]
    },
    {
      "cell_type": "markdown",
      "metadata": {
        "colab_type": "text",
        "id": "M3UaApqYOB6x"
      },
      "source": [
        "### Divide the data into train and test sets"
      ]
    },
    {
      "cell_type": "code",
      "metadata": {
        "colab_type": "code",
        "id": "4LE4U8lTdQJq",
        "colab": {}
      },
      "source": [
        "\n",
        "import numpy as np\n",
        "from sklearn.preprocessing import normalize\n",
        "from sklearn.model_selection import train_test_split\n",
        "\n",
        "X = data_df.drop(['volume'], axis =1)\n",
        "Y = data_df['volume']\n",
        "\n",
        "# Convert X, Y to ndarray of type float \n",
        "X = np.array(X, dtype=np.float32)\n",
        "Y = np.array(Y, dtype=np.float32)\n",
        "\n",
        "# L2 norm on axis 1 \n",
        "X_normal = normalize(X)\n",
        "\n",
        "Xtrain,Xtest,ytrain,ytest=train_test_split(X_normal,Y,test_size=0.3,random_state=7)"
      ],
      "execution_count": 0,
      "outputs": []
    },
    {
      "cell_type": "code",
      "metadata": {
        "id": "CSVbqNWGBpkv",
        "colab_type": "code",
        "colab": {}
      },
      "source": [
        ""
      ],
      "execution_count": 0,
      "outputs": []
    },
    {
      "cell_type": "markdown",
      "metadata": {
        "colab_type": "text",
        "id": "oYK-aUuLbrz2"
      },
      "source": [
        "#### Convert Training and Test Data to numpy float32 arrays\n"
      ]
    },
    {
      "cell_type": "code",
      "metadata": {
        "colab_type": "code",
        "id": "Ao-S0tQGcncz",
        "outputId": "9b26725c-fcbd-450e-9fb2-2e8a9bdc981d",
        "colab": {
          "base_uri": "https://localhost:8080/",
          "height": 34
        }
      },
      "source": [
        "type(Xtrain)"
      ],
      "execution_count": 0,
      "outputs": [
        {
          "output_type": "execute_result",
          "data": {
            "text/plain": [
              "numpy.ndarray"
            ]
          },
          "metadata": {
            "tags": []
          },
          "execution_count": 46
        }
      ]
    },
    {
      "cell_type": "markdown",
      "metadata": {
        "colab_type": "text",
        "id": "im1ZegbDdKgv"
      },
      "source": [
        "### Normalize the data\n",
        "You can use Normalizer from sklearn.preprocessing"
      ]
    },
    {
      "cell_type": "code",
      "metadata": {
        "colab_type": "code",
        "id": "2EkKAy7fOB6y",
        "outputId": "ce58bba5-e7b0-4a59-ca5f-35d49b41ce09",
        "colab": {
          "base_uri": "https://localhost:8080/",
          "height": 136
        }
      },
      "source": [
        "Xtrain"
      ],
      "execution_count": 0,
      "outputs": [
        {
          "output_type": "execute_result",
          "data": {
            "text/plain": [
              "array([[0.50021227, 0.50035977, 0.49549329, 0.50389898],\n",
              "       [0.5023256 , 0.50103615, 0.4931476 , 0.50342548],\n",
              "       [0.50043012, 0.49899534, 0.49628512, 0.50425631],\n",
              "       ...,\n",
              "       [0.50019286, 0.49977148, 0.49766452, 0.50236003],\n",
              "       [0.50253592, 0.49852157, 0.49633898, 0.50257488],\n",
              "       [0.50121458, 0.49876764, 0.49595365, 0.50402853]])"
            ]
          },
          "metadata": {
            "tags": []
          },
          "execution_count": 51
        }
      ]
    },
    {
      "cell_type": "markdown",
      "metadata": {
        "colab_type": "text",
        "id": "v6vE4eYCOB62"
      },
      "source": [
        "## Building the Model in tensorflow"
      ]
    },
    {
      "cell_type": "markdown",
      "metadata": {
        "colab_type": "text",
        "id": "297_qja4OB7A"
      },
      "source": [
        "1.Define Weights and Bias, use tf.zeros to initialize weights and Bias"
      ]
    },
    {
      "cell_type": "code",
      "metadata": {
        "id": "tBAN_nPlFjYv",
        "colab_type": "code",
        "colab": {}
      },
      "source": [
        "x = tf.placeholder(shape=[None,4],dtype=tf.float32, name='x-input')\n",
        "\n",
        "#Normalize the data\n",
        "# x_n = tf.nn.l2_normalize(x,1)\n",
        "\n",
        "#Actual Prices\n",
        "y_ = tf.placeholder(shape=[None],dtype=tf.float32, name='y-input')"
      ],
      "execution_count": 0,
      "outputs": []
    },
    {
      "cell_type": "code",
      "metadata": {
        "colab_type": "code",
        "id": "L205qPeQOB7B",
        "colab": {}
      },
      "source": [
        "# W = tf.Variable(tf.zeros(shape=[4,1]), name=\"Weights\")\n",
        "# b = tf.Variable(tf.zeros(shape=[1]),name=\"Bias\")\n",
        "\n",
        "w = tf.random.uniform(shape=[4,1], dtype=tf.float32)\n",
        "b = tf.zeros(shape=[1], dtype=tf.float32)"
      ],
      "execution_count": 0,
      "outputs": []
    },
    {
      "cell_type": "markdown",
      "metadata": {
        "colab_type": "text",
        "id": "HgtWA-UIOB7F"
      },
      "source": [
        "2.Define a function to calculate prediction"
      ]
    },
    {
      "cell_type": "code",
      "metadata": {
        "colab_type": "code",
        "id": "JveGlx25OB7H",
        "colab": {}
      },
      "source": [
        ""
      ],
      "execution_count": 0,
      "outputs": []
    },
    {
      "cell_type": "code",
      "metadata": {
        "id": "7K4e4MMaOpVZ",
        "colab_type": "code",
        "outputId": "835425a6-d021-467e-fcd1-c0cce794b650",
        "colab": {
          "base_uri": "https://localhost:8080/",
          "height": 34
        }
      },
      "source": [
        "w"
      ],
      "execution_count": 0,
      "outputs": [
        {
          "output_type": "execute_result",
          "data": {
            "text/plain": [
              "<tf.Tensor 'zeros_10:0' shape=(4, 1) dtype=float32>"
            ]
          },
          "metadata": {
            "tags": []
          },
          "execution_count": 97
        }
      ]
    },
    {
      "cell_type": "markdown",
      "metadata": {
        "colab_type": "text",
        "id": "TL1hIwf_OB7M"
      },
      "source": [
        "3.Loss (Cost) Function [Mean square error]"
      ]
    },
    {
      "cell_type": "code",
      "metadata": {
        "colab_type": "code",
        "id": "8VSWPiGXOB7P",
        "colab": {}
      },
      "source": [
        "# loss = tf.reduce_mean(tf.square(y-y_),name='Loss')"
      ],
      "execution_count": 0,
      "outputs": []
    },
    {
      "cell_type": "code",
      "metadata": {
        "id": "ebPAy0w_IQzl",
        "colab_type": "code",
        "colab": {}
      },
      "source": [
        "def prediction(x,w,b):\n",
        "  mx = tf.matmul(x,w)\n",
        "  y = tf.add(mx,b)\n",
        "  return y\n",
        "\n",
        "def loss (y, predict):\n",
        "  return tf.reduce_mean(tf.square(y-predict))\n",
        "\n",
        "def train(x,y_actual, w,b, learning_rate=0.01):\n",
        "  with tf.GradientTape() as t:\n",
        "    t.watch([w,b])\n",
        "    current_prediction = prediction(x,w,b)\n",
        "    current_loss = loss(y_actual, current_prediction)\n",
        "  dw,db = t.gradient(current_loss, [w,b])\n",
        "#   print(dw.eval(session=sess), 'dwwww', db.eval(session=sess))\n",
        "  w = w-learning_rate*dw\n",
        "  b = b-learning_rate*db\n",
        "  return w,b\n",
        "    "
      ],
      "execution_count": 0,
      "outputs": []
    },
    {
      "cell_type": "markdown",
      "metadata": {
        "colab_type": "text",
        "id": "jzG85FUlOB7U"
      },
      "source": [
        "4.Function to train the Model\n",
        "\n",
        "1.   Record all the mathematical steps to calculate Loss\n",
        "2.   Calculate Gradients of Loss w.r.t weights and bias\n",
        "3.   Update Weights and Bias based on gradients and learning rate to minimize loss"
      ]
    },
    {
      "cell_type": "code",
      "metadata": {
        "colab_type": "code",
        "id": "cj802w-3OB7X",
        "colab": {}
      },
      "source": [
        "# train_op = tf.train.GradientDescentOptimizer(0.03).minimize(loss)"
      ],
      "execution_count": 0,
      "outputs": []
    },
    {
      "cell_type": "code",
      "metadata": {
        "id": "9DXwaIdbI2VY",
        "colab_type": "code",
        "colab": {}
      },
      "source": [
        "sess = tf.Session()\n",
        "\n",
        "# variables need to be initialized before we can use them\n",
        "sess.run(tf.global_variables_initializer())\n",
        "\n",
        "#how many times data need to be shown to model\n",
        "training_epochs = 100\n"
      ],
      "execution_count": 0,
      "outputs": []
    },
    {
      "cell_type": "markdown",
      "metadata": {
        "colab_type": "text",
        "id": "xSypb_u8OB7e"
      },
      "source": [
        "## Train the model for 100 epochs \n",
        "1. Observe the training loss at every iteration\n",
        "2. Observe Train loss at every 5th iteration"
      ]
    },
    {
      "cell_type": "code",
      "metadata": {
        "id": "uf3jWoTbXmfY",
        "colab_type": "code",
        "colab": {}
      },
      "source": [
        ""
      ],
      "execution_count": 0,
      "outputs": []
    },
    {
      "cell_type": "code",
      "metadata": {
        "colab_type": "code",
        "id": "DVvgj7eQOB7f",
        "outputId": "f6395b0e-5bcc-4b93-ef63-9e8ad0f427cd",
        "colab": {
          "base_uri": "https://localhost:8080/",
          "height": 357
        }
      },
      "source": [
        "with sess.as_default():\n",
        "  for i in range(100):\n",
        "    w,b = train(Xtrain, ytrain,w,b)\n",
        "    train_loss = loss(ytrain, prediction(Xtrain, w,b))\n",
        "    if i%5 == 0:\n",
        "      print ('Training loss at step: ', i, ' is ', train_loss.eval())"
      ],
      "execution_count": 38,
      "outputs": [
        {
          "output_type": "stream",
          "text": [
            "('Training loss at step: ', 0, ' is ', 292.04886)\n",
            "('Training loss at step: ', 5, ' is ', 293.7989)\n",
            "('Training loss at step: ', 10, ' is ', 294.01932)\n",
            "('Training loss at step: ', 15, ' is ', 289.2111)\n",
            "('Training loss at step: ', 20, ' is ', 297.1347)\n",
            "('Training loss at step: ', 25, ' is ', 293.64703)\n",
            "('Training loss at step: ', 30, ' is ', 294.67657)\n",
            "('Training loss at step: ', 35, ' is ', 287.07358)\n",
            "('Training loss at step: ', 40, ' is ', 298.78482)\n",
            "('Training loss at step: ', 45, ' is ', 297.18073)\n",
            "('Training loss at step: ', 50, ' is ', 296.2932)\n",
            "('Training loss at step: ', 55, ' is ', 298.7561)\n",
            "('Training loss at step: ', 60, ' is ', 294.25693)\n",
            "('Training loss at step: ', 65, ' is ', 294.63757)\n",
            "('Training loss at step: ', 70, ' is ', 292.61478)\n",
            "('Training loss at step: ', 75, ' is ', 294.96304)\n",
            "('Training loss at step: ', 80, ' is ', 294.88748)\n",
            "('Training loss at step: ', 85, ' is ', 294.95145)\n",
            "('Training loss at step: ', 90, ' is ', 290.8941)\n",
            "('Training loss at step: ', 95, ' is ', 293.85553)\n"
          ],
          "name": "stdout"
        }
      ]
    },
    {
      "cell_type": "code",
      "metadata": {
        "id": "dNyRqDB1YYS7",
        "colab_type": "code",
        "colab": {
          "base_uri": "https://localhost:8080/",
          "height": 85
        },
        "outputId": "84cb8466-8136-4718-8d94-a3dd85bd7d2c"
      },
      "source": [
        "w.eval(session=sess)"
      ],
      "execution_count": 39,
      "outputs": [
        {
          "output_type": "execute_result",
          "data": {
            "text/plain": [
              "array([[0.9886594 ],\n",
              "       [0.6902971 ],\n",
              "       [0.55058527],\n",
              "       [0.6236739 ]], dtype=float32)"
            ]
          },
          "metadata": {
            "tags": []
          },
          "execution_count": 39
        }
      ]
    },
    {
      "cell_type": "code",
      "metadata": {
        "id": "VpA14QMAYaea",
        "colab_type": "code",
        "colab": {
          "base_uri": "https://localhost:8080/",
          "height": 34
        },
        "outputId": "33b7a70a-a963-4ea4-d78a-58b49b8af01b"
      },
      "source": [
        "b.eval(session=sess)"
      ],
      "execution_count": 40,
      "outputs": [
        {
          "output_type": "execute_result",
          "data": {
            "text/plain": [
              "array([0.03572178], dtype=float32)"
            ]
          },
          "metadata": {
            "tags": []
          },
          "execution_count": 40
        }
      ]
    },
    {
      "cell_type": "code",
      "metadata": {
        "id": "SBcaEZkUfuAB",
        "colab_type": "code",
        "colab": {
          "base_uri": "https://localhost:8080/",
          "height": 34
        },
        "outputId": "470292c0-4c2d-49ca-9d77-e8b211115f67"
      },
      "source": [
        "w.shape"
      ],
      "execution_count": 87,
      "outputs": [
        {
          "output_type": "execute_result",
          "data": {
            "text/plain": [
              "TensorShape([Dimension(4), Dimension(1)])"
            ]
          },
          "metadata": {
            "tags": []
          },
          "execution_count": 87
        }
      ]
    },
    {
      "cell_type": "code",
      "metadata": {
        "id": "hW2FnR55fxgm",
        "colab_type": "code",
        "colab": {
          "base_uri": "https://localhost:8080/",
          "height": 34
        },
        "outputId": "6a173869-4022-483d-865f-c6dc1565adad"
      },
      "source": [
        "b.shape"
      ],
      "execution_count": 88,
      "outputs": [
        {
          "output_type": "execute_result",
          "data": {
            "text/plain": [
              "TensorShape([Dimension(1)])"
            ]
          },
          "metadata": {
            "tags": []
          },
          "execution_count": 88
        }
      ]
    },
    {
      "cell_type": "code",
      "metadata": {
        "id": "XCgJ16SuYK31",
        "colab_type": "code",
        "colab": {}
      },
      "source": [
        "# loss = tf.reduce_mean(tf.square(y-y_),name='Loss')\n",
        "# train_op = tf.train.GradientDescentOptimizer(0.03).minimize(loss)\n",
        "# for epoch in range(training_epochs):\n",
        "            \n",
        "#     #Calculate train_op and loss\n",
        "#     _, train_loss = sess.run([train_op,loss],feed_dict={x:features, y_:actual_prices})\n",
        "    \n",
        "#     if epoch % 10 == 0:\n",
        "#         print ('Training loss at step: ', epoch, ' is ', train_loss.eval())\n",
        "        "
      ],
      "execution_count": 0,
      "outputs": []
    },
    {
      "cell_type": "code",
      "metadata": {
        "id": "0Rjl4ZwGfwbr",
        "colab_type": "code",
        "colab": {}
      },
      "source": [
        ""
      ],
      "execution_count": 0,
      "outputs": []
    },
    {
      "cell_type": "markdown",
      "metadata": {
        "colab_type": "text",
        "id": "DOL2ncA1OB7q"
      },
      "source": [
        "### Get the shapes and values of W and b"
      ]
    },
    {
      "cell_type": "code",
      "metadata": {
        "id": "0CqoFVXVXkXv",
        "colab_type": "code",
        "colab": {}
      },
      "source": [
        ""
      ],
      "execution_count": 0,
      "outputs": []
    },
    {
      "cell_type": "code",
      "metadata": {
        "colab_type": "code",
        "id": "ZGvtyTeuOB7r",
        "outputId": "1a5d2666-2259-4d34-dc0d-ed092a89b7bb",
        "colab": {
          "base_uri": "https://localhost:8080/",
          "height": 85
        }
      },
      "source": [
        "w.eval(session=sess)"
      ],
      "execution_count": 25,
      "outputs": [
        {
          "output_type": "execute_result",
          "data": {
            "text/plain": [
              "array([[0.29808223],\n",
              "       [0.25640762],\n",
              "       [0.20740473],\n",
              "       [0.40695703]], dtype=float32)"
            ]
          },
          "metadata": {
            "tags": []
          },
          "execution_count": 25
        }
      ]
    },
    {
      "cell_type": "code",
      "metadata": {
        "colab_type": "code",
        "id": "vhDtOv5UOB7x",
        "colab": {
          "base_uri": "https://localhost:8080/",
          "height": 34
        },
        "outputId": "757ae9e3-511f-437c-8577-1a94d934ba48"
      },
      "source": [
        "b.eval(session=sess)"
      ],
      "execution_count": 26,
      "outputs": [
        {
          "output_type": "execute_result",
          "data": {
            "text/plain": [
              "array([0.], dtype=float32)"
            ]
          },
          "metadata": {
            "tags": []
          },
          "execution_count": 26
        }
      ]
    },
    {
      "cell_type": "code",
      "metadata": {
        "id": "icDFEh1Ah8Ux",
        "colab_type": "code",
        "colab": {}
      },
      "source": [
        ""
      ],
      "execution_count": 0,
      "outputs": []
    },
    {
      "cell_type": "code",
      "metadata": {
        "id": "v7ufgupNiOHE",
        "colab_type": "code",
        "colab": {}
      },
      "source": [
        ""
      ],
      "execution_count": 0,
      "outputs": []
    },
    {
      "cell_type": "markdown",
      "metadata": {
        "colab_type": "text",
        "id": "ERq9GOKKciho"
      },
      "source": [
        "### Model Prediction on 1st Examples in Test Dataset"
      ]
    },
    {
      "cell_type": "code",
      "metadata": {
        "colab_type": "code",
        "id": "gKGvUWahcihp",
        "colab": {}
      },
      "source": [
        "y_pred=prediction(Xtest,w,b)\n",
        "\n",
        "# prediction(Xtest,w,b).eval(session=sess)"
      ],
      "execution_count": 0,
      "outputs": []
    },
    {
      "cell_type": "code",
      "metadata": {
        "id": "VB0ni9UbgU0j",
        "colab_type": "code",
        "colab": {
          "base_uri": "https://localhost:8080/",
          "height": 34
        },
        "outputId": "0116ab9c-232b-44f3-ed42-bf764aede548"
      },
      "source": [
        "loss(y_pred,ytest).eval(session=sess)\n",
        "\n"
      ],
      "execution_count": 101,
      "outputs": [
        {
          "output_type": "execute_result",
          "data": {
            "text/plain": [
              "20948.188"
            ]
          },
          "metadata": {
            "tags": []
          },
          "execution_count": 101
        }
      ]
    },
    {
      "cell_type": "markdown",
      "metadata": {
        "colab_type": "text",
        "id": "YJRBuqXhOB7_"
      },
      "source": [
        "## Classification using tf.Keras\n",
        "\n",
        "In this exercise, we will build a Deep Neural Network using tf.Keras. We will use Iris Dataset for this exercise."
      ]
    },
    {
      "cell_type": "markdown",
      "metadata": {
        "colab_type": "text",
        "id": "O0g6lorycihf"
      },
      "source": [
        "### Load the given Iris data using pandas (Iris.csv)"
      ]
    },
    {
      "cell_type": "code",
      "metadata": {
        "colab_type": "code",
        "id": "6xFvb5sRcihg",
        "colab": {}
      },
      "source": [
        "iris_df = pd.read_csv('11_Iris.csv')"
      ],
      "execution_count": 0,
      "outputs": []
    },
    {
      "cell_type": "markdown",
      "metadata": {
        "colab_type": "text",
        "id": "SAB--Qdwcihm"
      },
      "source": [
        "### Target set has different categories. So, Label encode them. And convert into one-hot vectors using get_dummies in pandas."
      ]
    },
    {
      "cell_type": "code",
      "metadata": {
        "colab_type": "code",
        "id": "IJr5dYnocihm",
        "colab": {
          "base_uri": "https://localhost:8080/",
          "height": 204
        },
        "outputId": "d4f4b5cc-7bbe-4d2d-9404-30bb1307ba57"
      },
      "source": [
        "iris_df.head()"
      ],
      "execution_count": 44,
      "outputs": [
        {
          "output_type": "execute_result",
          "data": {
            "text/html": [
              "<div>\n",
              "<style scoped>\n",
              "    .dataframe tbody tr th:only-of-type {\n",
              "        vertical-align: middle;\n",
              "    }\n",
              "\n",
              "    .dataframe tbody tr th {\n",
              "        vertical-align: top;\n",
              "    }\n",
              "\n",
              "    .dataframe thead th {\n",
              "        text-align: right;\n",
              "    }\n",
              "</style>\n",
              "<table border=\"1\" class=\"dataframe\">\n",
              "  <thead>\n",
              "    <tr style=\"text-align: right;\">\n",
              "      <th></th>\n",
              "      <th>Id</th>\n",
              "      <th>SepalLengthCm</th>\n",
              "      <th>SepalWidthCm</th>\n",
              "      <th>PetalLengthCm</th>\n",
              "      <th>PetalWidthCm</th>\n",
              "      <th>Species</th>\n",
              "    </tr>\n",
              "  </thead>\n",
              "  <tbody>\n",
              "    <tr>\n",
              "      <th>0</th>\n",
              "      <td>1</td>\n",
              "      <td>5.1</td>\n",
              "      <td>3.5</td>\n",
              "      <td>1.4</td>\n",
              "      <td>0.2</td>\n",
              "      <td>Iris-setosa</td>\n",
              "    </tr>\n",
              "    <tr>\n",
              "      <th>1</th>\n",
              "      <td>2</td>\n",
              "      <td>4.9</td>\n",
              "      <td>3.0</td>\n",
              "      <td>1.4</td>\n",
              "      <td>0.2</td>\n",
              "      <td>Iris-setosa</td>\n",
              "    </tr>\n",
              "    <tr>\n",
              "      <th>2</th>\n",
              "      <td>3</td>\n",
              "      <td>4.7</td>\n",
              "      <td>3.2</td>\n",
              "      <td>1.3</td>\n",
              "      <td>0.2</td>\n",
              "      <td>Iris-setosa</td>\n",
              "    </tr>\n",
              "    <tr>\n",
              "      <th>3</th>\n",
              "      <td>4</td>\n",
              "      <td>4.6</td>\n",
              "      <td>3.1</td>\n",
              "      <td>1.5</td>\n",
              "      <td>0.2</td>\n",
              "      <td>Iris-setosa</td>\n",
              "    </tr>\n",
              "    <tr>\n",
              "      <th>4</th>\n",
              "      <td>5</td>\n",
              "      <td>5.0</td>\n",
              "      <td>3.6</td>\n",
              "      <td>1.4</td>\n",
              "      <td>0.2</td>\n",
              "      <td>Iris-setosa</td>\n",
              "    </tr>\n",
              "  </tbody>\n",
              "</table>\n",
              "</div>"
            ],
            "text/plain": [
              "   Id  SepalLengthCm  SepalWidthCm  PetalLengthCm  PetalWidthCm      Species\n",
              "0   1            5.1           3.5            1.4           0.2  Iris-setosa\n",
              "1   2            4.9           3.0            1.4           0.2  Iris-setosa\n",
              "2   3            4.7           3.2            1.3           0.2  Iris-setosa\n",
              "3   4            4.6           3.1            1.5           0.2  Iris-setosa\n",
              "4   5            5.0           3.6            1.4           0.2  Iris-setosa"
            ]
          },
          "metadata": {
            "tags": []
          },
          "execution_count": 44
        }
      ]
    },
    {
      "cell_type": "code",
      "metadata": {
        "id": "tT-dDvn-aQ19",
        "colab_type": "code",
        "colab": {}
      },
      "source": [
        "# from sklearn.preprocessing import OneHotEncoder\n",
        "# iris_df_copy = OneHotEncoder().fit_transform(iris_df)\n",
        "\n",
        "iris_df_new = pd.get_dummies(iris_df)"
      ],
      "execution_count": 0,
      "outputs": []
    },
    {
      "cell_type": "code",
      "metadata": {
        "id": "cc-q_9Cpam4U",
        "colab_type": "code",
        "colab": {
          "base_uri": "https://localhost:8080/",
          "height": 204
        },
        "outputId": "195ace06-3f2a-4587-eac7-4a3730cff079"
      },
      "source": [
        "iris_df_new.head()"
      ],
      "execution_count": 80,
      "outputs": [
        {
          "output_type": "execute_result",
          "data": {
            "text/html": [
              "<div>\n",
              "<style scoped>\n",
              "    .dataframe tbody tr th:only-of-type {\n",
              "        vertical-align: middle;\n",
              "    }\n",
              "\n",
              "    .dataframe tbody tr th {\n",
              "        vertical-align: top;\n",
              "    }\n",
              "\n",
              "    .dataframe thead th {\n",
              "        text-align: right;\n",
              "    }\n",
              "</style>\n",
              "<table border=\"1\" class=\"dataframe\">\n",
              "  <thead>\n",
              "    <tr style=\"text-align: right;\">\n",
              "      <th></th>\n",
              "      <th>Id</th>\n",
              "      <th>SepalLengthCm</th>\n",
              "      <th>SepalWidthCm</th>\n",
              "      <th>PetalLengthCm</th>\n",
              "      <th>PetalWidthCm</th>\n",
              "      <th>Species_Iris-setosa</th>\n",
              "      <th>Species_Iris-versicolor</th>\n",
              "      <th>Species_Iris-virginica</th>\n",
              "    </tr>\n",
              "  </thead>\n",
              "  <tbody>\n",
              "    <tr>\n",
              "      <th>0</th>\n",
              "      <td>1</td>\n",
              "      <td>5.1</td>\n",
              "      <td>3.5</td>\n",
              "      <td>1.4</td>\n",
              "      <td>0.2</td>\n",
              "      <td>1</td>\n",
              "      <td>0</td>\n",
              "      <td>0</td>\n",
              "    </tr>\n",
              "    <tr>\n",
              "      <th>1</th>\n",
              "      <td>2</td>\n",
              "      <td>4.9</td>\n",
              "      <td>3.0</td>\n",
              "      <td>1.4</td>\n",
              "      <td>0.2</td>\n",
              "      <td>1</td>\n",
              "      <td>0</td>\n",
              "      <td>0</td>\n",
              "    </tr>\n",
              "    <tr>\n",
              "      <th>2</th>\n",
              "      <td>3</td>\n",
              "      <td>4.7</td>\n",
              "      <td>3.2</td>\n",
              "      <td>1.3</td>\n",
              "      <td>0.2</td>\n",
              "      <td>1</td>\n",
              "      <td>0</td>\n",
              "      <td>0</td>\n",
              "    </tr>\n",
              "    <tr>\n",
              "      <th>3</th>\n",
              "      <td>4</td>\n",
              "      <td>4.6</td>\n",
              "      <td>3.1</td>\n",
              "      <td>1.5</td>\n",
              "      <td>0.2</td>\n",
              "      <td>1</td>\n",
              "      <td>0</td>\n",
              "      <td>0</td>\n",
              "    </tr>\n",
              "    <tr>\n",
              "      <th>4</th>\n",
              "      <td>5</td>\n",
              "      <td>5.0</td>\n",
              "      <td>3.6</td>\n",
              "      <td>1.4</td>\n",
              "      <td>0.2</td>\n",
              "      <td>1</td>\n",
              "      <td>0</td>\n",
              "      <td>0</td>\n",
              "    </tr>\n",
              "  </tbody>\n",
              "</table>\n",
              "</div>"
            ],
            "text/plain": [
              "   Id  SepalLengthCm  ...  Species_Iris-versicolor  Species_Iris-virginica\n",
              "0   1            5.1  ...                        0                       0\n",
              "1   2            4.9  ...                        0                       0\n",
              "2   3            4.7  ...                        0                       0\n",
              "3   4            4.6  ...                        0                       0\n",
              "4   5            5.0  ...                        0                       0\n",
              "\n",
              "[5 rows x 8 columns]"
            ]
          },
          "metadata": {
            "tags": []
          },
          "execution_count": 80
        }
      ]
    },
    {
      "cell_type": "code",
      "metadata": {
        "id": "ym1NsYzWcpih",
        "colab_type": "code",
        "colab": {}
      },
      "source": [
        ""
      ],
      "execution_count": 0,
      "outputs": []
    },
    {
      "cell_type": "markdown",
      "metadata": {
        "colab_type": "text",
        "id": "D95nY5ILcihj"
      },
      "source": [
        "### Splitting the data into feature set and target set"
      ]
    },
    {
      "cell_type": "code",
      "metadata": {
        "colab_type": "code",
        "id": "RyMQoLMucihj",
        "colab": {}
      },
      "source": [
        "X = iris_df_new.drop(['Species_Iris-versicolor', 'Species_Iris-virginica','Species_Iris-setosa'\t, 'Id'], axis=1)\n",
        "Y = iris_df_new[['Species_Iris-versicolor', 'Species_Iris-virginica','Species_Iris-setosa']]"
      ],
      "execution_count": 0,
      "outputs": []
    },
    {
      "cell_type": "code",
      "metadata": {
        "id": "yRPLr5iSeb4v",
        "colab_type": "code",
        "colab": {}
      },
      "source": [
        ""
      ],
      "execution_count": 0,
      "outputs": []
    },
    {
      "cell_type": "markdown",
      "metadata": {
        "colab_type": "text",
        "id": "b22qpC5xcihr"
      },
      "source": [
        "###  Building Model in tf.keras\n",
        "\n",
        "Build a Linear Classifier model  <br>\n",
        "1.  Use Dense Layer  with input shape of 4 (according to the feature set) and number of outputs set to 3<br> \n",
        "2. Apply Softmax on Dense Layer outputs <br>\n",
        "3. Use SGD as Optimizer\n",
        "4. Use categorical_crossentropy as loss function "
      ]
    },
    {
      "cell_type": "code",
      "metadata": {
        "colab_type": "code",
        "id": "Hov_UFnUciht",
        "colab": {}
      },
      "source": [
        "from keras.models import Sequential\n",
        "from keras.layers import Dense\n",
        "\n",
        "\n",
        "model = Sequential()\n",
        "model.add(Dense(12, input_dim=4, activation='relu'))\n",
        "model.add(Dense(8, activation='relu'))\n",
        "model.add(Dense(3, activation='sigmoid'))\n",
        "# Compile model\n",
        "model.compile(loss='categorical_crossentropy', optimizer='sgd', metrics=['accuracy'])\n"
      ],
      "execution_count": 0,
      "outputs": []
    },
    {
      "cell_type": "markdown",
      "metadata": {
        "colab_type": "text",
        "id": "T5FdzqIKcihw"
      },
      "source": [
        "### Model Training "
      ]
    },
    {
      "cell_type": "code",
      "metadata": {
        "colab_type": "code",
        "id": "4qLEdHPscihx",
        "colab": {
          "base_uri": "https://localhost:8080/",
          "height": 1000
        },
        "outputId": "05dfe8fe-3cc5-415c-ef71-8b9eead08755"
      },
      "source": [
        "model.fit(X, Y, epochs=100, batch_size=10)"
      ],
      "execution_count": 85,
      "outputs": [
        {
          "output_type": "stream",
          "text": [
            "Epoch 1/100\n",
            "150/150 [==============================] - 4s 24ms/step - loss: 1.0011 - acc: 0.4800\n",
            "Epoch 2/100\n",
            "150/150 [==============================] - 0s 146us/step - loss: 0.9698 - acc: 0.4333\n",
            "Epoch 3/100\n",
            "150/150 [==============================] - 0s 138us/step - loss: 0.9462 - acc: 0.4133\n",
            "Epoch 4/100\n",
            "150/150 [==============================] - 0s 142us/step - loss: 0.9223 - acc: 0.4800\n",
            "Epoch 5/100\n",
            "150/150 [==============================] - 0s 135us/step - loss: 0.8944 - acc: 0.3933\n",
            "Epoch 6/100\n",
            "150/150 [==============================] - 0s 135us/step - loss: 0.8763 - acc: 0.5067\n",
            "Epoch 7/100\n",
            "150/150 [==============================] - 0s 137us/step - loss: 0.8519 - acc: 0.4533\n",
            "Epoch 8/100\n",
            "150/150 [==============================] - 0s 139us/step - loss: 0.8286 - acc: 0.5400\n",
            "Epoch 9/100\n",
            "150/150 [==============================] - 0s 143us/step - loss: 0.8141 - acc: 0.4933\n",
            "Epoch 10/100\n",
            "150/150 [==============================] - 0s 154us/step - loss: 0.7940 - acc: 0.5067\n",
            "Epoch 11/100\n",
            "150/150 [==============================] - 0s 147us/step - loss: 0.7695 - acc: 0.5733\n",
            "Epoch 12/100\n",
            "150/150 [==============================] - 0s 149us/step - loss: 0.7504 - acc: 0.4800\n",
            "Epoch 13/100\n",
            "150/150 [==============================] - 0s 144us/step - loss: 0.7205 - acc: 0.5733\n",
            "Epoch 14/100\n",
            "150/150 [==============================] - 0s 139us/step - loss: 0.7068 - acc: 0.5800\n",
            "Epoch 15/100\n",
            "150/150 [==============================] - 0s 145us/step - loss: 0.6799 - acc: 0.6533\n",
            "Epoch 16/100\n",
            "150/150 [==============================] - 0s 145us/step - loss: 0.6583 - acc: 0.6933\n",
            "Epoch 17/100\n",
            "150/150 [==============================] - 0s 152us/step - loss: 0.6284 - acc: 0.7267\n",
            "Epoch 18/100\n",
            "150/150 [==============================] - 0s 155us/step - loss: 0.6114 - acc: 0.8200\n",
            "Epoch 19/100\n",
            "150/150 [==============================] - 0s 148us/step - loss: 0.5882 - acc: 0.8933\n",
            "Epoch 20/100\n",
            "150/150 [==============================] - 0s 162us/step - loss: 0.5792 - acc: 0.9000\n",
            "Epoch 21/100\n",
            "150/150 [==============================] - 0s 172us/step - loss: 0.5389 - acc: 0.9333\n",
            "Epoch 22/100\n",
            "150/150 [==============================] - 0s 168us/step - loss: 0.5667 - acc: 0.8467\n",
            "Epoch 23/100\n",
            "150/150 [==============================] - 0s 151us/step - loss: 0.4883 - acc: 0.8933\n",
            "Epoch 24/100\n",
            "150/150 [==============================] - 0s 144us/step - loss: 0.4911 - acc: 0.9000\n",
            "Epoch 25/100\n",
            "150/150 [==============================] - 0s 157us/step - loss: 0.5087 - acc: 0.8600\n",
            "Epoch 26/100\n",
            "150/150 [==============================] - 0s 141us/step - loss: 0.4662 - acc: 0.8800\n",
            "Epoch 27/100\n",
            "150/150 [==============================] - 0s 160us/step - loss: 0.4273 - acc: 0.8467\n",
            "Epoch 28/100\n",
            "150/150 [==============================] - 0s 142us/step - loss: 0.3942 - acc: 0.9067\n",
            "Epoch 29/100\n",
            "150/150 [==============================] - 0s 162us/step - loss: 0.3746 - acc: 0.9067\n",
            "Epoch 30/100\n",
            "150/150 [==============================] - 0s 168us/step - loss: 0.3543 - acc: 0.9200\n",
            "Epoch 31/100\n",
            "150/150 [==============================] - 0s 150us/step - loss: 0.3744 - acc: 0.8667\n",
            "Epoch 32/100\n",
            "150/150 [==============================] - 0s 149us/step - loss: 0.3237 - acc: 0.9400\n",
            "Epoch 33/100\n",
            "150/150 [==============================] - 0s 138us/step - loss: 0.3396 - acc: 0.8600\n",
            "Epoch 34/100\n",
            "150/150 [==============================] - 0s 176us/step - loss: 0.3184 - acc: 0.9133\n",
            "Epoch 35/100\n",
            "150/150 [==============================] - 0s 139us/step - loss: 0.3522 - acc: 0.8867\n",
            "Epoch 36/100\n",
            "150/150 [==============================] - 0s 171us/step - loss: 0.2967 - acc: 0.9200\n",
            "Epoch 37/100\n",
            "150/150 [==============================] - 0s 142us/step - loss: 0.3605 - acc: 0.8133\n",
            "Epoch 38/100\n",
            "150/150 [==============================] - 0s 154us/step - loss: 0.2976 - acc: 0.9067\n",
            "Epoch 39/100\n",
            "150/150 [==============================] - 0s 163us/step - loss: 0.3268 - acc: 0.8733\n",
            "Epoch 40/100\n",
            "150/150 [==============================] - 0s 128us/step - loss: 0.2508 - acc: 0.9067\n",
            "Epoch 41/100\n",
            "150/150 [==============================] - 0s 154us/step - loss: 0.3580 - acc: 0.8400\n",
            "Epoch 42/100\n",
            "150/150 [==============================] - 0s 159us/step - loss: 0.2237 - acc: 0.9733\n",
            "Epoch 43/100\n",
            "150/150 [==============================] - 0s 187us/step - loss: 0.2750 - acc: 0.9133\n",
            "Epoch 44/100\n",
            "150/150 [==============================] - 0s 152us/step - loss: 0.3357 - acc: 0.8467\n",
            "Epoch 45/100\n",
            "150/150 [==============================] - 0s 171us/step - loss: 0.2437 - acc: 0.9000\n",
            "Epoch 46/100\n",
            "150/150 [==============================] - 0s 165us/step - loss: 0.2433 - acc: 0.9200\n",
            "Epoch 47/100\n",
            "150/150 [==============================] - 0s 149us/step - loss: 0.2643 - acc: 0.9067\n",
            "Epoch 48/100\n",
            "150/150 [==============================] - 0s 188us/step - loss: 0.2262 - acc: 0.9133\n",
            "Epoch 49/100\n",
            "150/150 [==============================] - 0s 144us/step - loss: 0.2519 - acc: 0.8867\n",
            "Epoch 50/100\n",
            "150/150 [==============================] - 0s 150us/step - loss: 0.2073 - acc: 0.9333\n",
            "Epoch 51/100\n",
            "150/150 [==============================] - 0s 155us/step - loss: 0.2329 - acc: 0.9267\n",
            "Epoch 52/100\n",
            "150/150 [==============================] - 0s 152us/step - loss: 0.2789 - acc: 0.9133\n",
            "Epoch 53/100\n",
            "150/150 [==============================] - 0s 146us/step - loss: 0.4403 - acc: 0.8600\n",
            "Epoch 54/100\n",
            "150/150 [==============================] - 0s 143us/step - loss: 0.2216 - acc: 0.9067\n",
            "Epoch 55/100\n",
            "150/150 [==============================] - 0s 171us/step - loss: 0.1889 - acc: 0.9467\n",
            "Epoch 56/100\n",
            "150/150 [==============================] - 0s 156us/step - loss: 0.1968 - acc: 0.9333\n",
            "Epoch 57/100\n",
            "150/150 [==============================] - 0s 145us/step - loss: 0.2186 - acc: 0.9000\n",
            "Epoch 58/100\n",
            "150/150 [==============================] - 0s 150us/step - loss: 0.2642 - acc: 0.8867\n",
            "Epoch 59/100\n",
            "150/150 [==============================] - 0s 202us/step - loss: 0.1686 - acc: 0.9533\n",
            "Epoch 60/100\n",
            "150/150 [==============================] - 0s 190us/step - loss: 0.2404 - acc: 0.9200\n",
            "Epoch 61/100\n",
            "150/150 [==============================] - 0s 147us/step - loss: 0.1534 - acc: 0.9400\n",
            "Epoch 62/100\n",
            "150/150 [==============================] - 0s 150us/step - loss: 0.1672 - acc: 0.9667\n",
            "Epoch 63/100\n",
            "150/150 [==============================] - 0s 162us/step - loss: 0.1592 - acc: 0.9400\n",
            "Epoch 64/100\n",
            "150/150 [==============================] - 0s 192us/step - loss: 0.1993 - acc: 0.9133\n",
            "Epoch 65/100\n",
            "150/150 [==============================] - 0s 171us/step - loss: 0.1980 - acc: 0.9133\n",
            "Epoch 66/100\n",
            "150/150 [==============================] - 0s 166us/step - loss: 0.3524 - acc: 0.8200\n",
            "Epoch 67/100\n",
            "150/150 [==============================] - 0s 150us/step - loss: 0.1382 - acc: 0.9467\n",
            "Epoch 68/100\n",
            "150/150 [==============================] - 0s 155us/step - loss: 0.1623 - acc: 0.9200\n",
            "Epoch 69/100\n",
            "150/150 [==============================] - 0s 147us/step - loss: 0.2968 - acc: 0.8667\n",
            "Epoch 70/100\n",
            "150/150 [==============================] - 0s 152us/step - loss: 0.1290 - acc: 0.9600\n",
            "Epoch 71/100\n",
            "150/150 [==============================] - 0s 140us/step - loss: 0.1658 - acc: 0.9467\n",
            "Epoch 72/100\n",
            "150/150 [==============================] - 0s 141us/step - loss: 0.1687 - acc: 0.9200\n",
            "Epoch 73/100\n",
            "150/150 [==============================] - 0s 156us/step - loss: 0.1453 - acc: 0.9600\n",
            "Epoch 74/100\n",
            "150/150 [==============================] - 0s 140us/step - loss: 0.2466 - acc: 0.8933\n",
            "Epoch 75/100\n",
            "150/150 [==============================] - 0s 142us/step - loss: 0.2082 - acc: 0.9200\n",
            "Epoch 76/100\n",
            "150/150 [==============================] - 0s 140us/step - loss: 0.1200 - acc: 0.9733\n",
            "Epoch 77/100\n",
            "150/150 [==============================] - 0s 148us/step - loss: 0.1300 - acc: 0.9667\n",
            "Epoch 78/100\n",
            "150/150 [==============================] - 0s 139us/step - loss: 0.1951 - acc: 0.9200\n",
            "Epoch 79/100\n",
            "150/150 [==============================] - 0s 146us/step - loss: 0.1349 - acc: 0.9667\n",
            "Epoch 80/100\n",
            "150/150 [==============================] - 0s 144us/step - loss: 0.1398 - acc: 0.9600\n",
            "Epoch 81/100\n",
            "150/150 [==============================] - 0s 142us/step - loss: 0.1100 - acc: 0.9667\n",
            "Epoch 82/100\n",
            "150/150 [==============================] - 0s 148us/step - loss: 0.1501 - acc: 0.9333\n",
            "Epoch 83/100\n",
            "150/150 [==============================] - 0s 138us/step - loss: 0.1670 - acc: 0.9200\n",
            "Epoch 84/100\n",
            "150/150 [==============================] - 0s 148us/step - loss: 0.1252 - acc: 0.9600\n",
            "Epoch 85/100\n",
            "150/150 [==============================] - 0s 174us/step - loss: 0.1096 - acc: 0.9667\n",
            "Epoch 86/100\n",
            "150/150 [==============================] - 0s 138us/step - loss: 0.1276 - acc: 0.9400\n",
            "Epoch 87/100\n",
            "150/150 [==============================] - 0s 161us/step - loss: 0.2207 - acc: 0.9133\n",
            "Epoch 88/100\n",
            "150/150 [==============================] - 0s 164us/step - loss: 0.1419 - acc: 0.9467\n",
            "Epoch 89/100\n",
            "150/150 [==============================] - 0s 142us/step - loss: 0.2185 - acc: 0.9333\n",
            "Epoch 90/100\n",
            "150/150 [==============================] - 0s 150us/step - loss: 0.1223 - acc: 0.9467\n",
            "Epoch 91/100\n",
            "150/150 [==============================] - 0s 140us/step - loss: 0.1546 - acc: 0.9533\n",
            "Epoch 92/100\n",
            "150/150 [==============================] - 0s 149us/step - loss: 0.1039 - acc: 0.9600\n",
            "Epoch 93/100\n",
            "150/150 [==============================] - 0s 141us/step - loss: 0.2084 - acc: 0.9133\n",
            "Epoch 94/100\n",
            "150/150 [==============================] - 0s 181us/step - loss: 0.1295 - acc: 0.9600\n",
            "Epoch 95/100\n",
            "150/150 [==============================] - 0s 152us/step - loss: 0.1008 - acc: 0.9733\n",
            "Epoch 96/100\n",
            "150/150 [==============================] - 0s 133us/step - loss: 0.1712 - acc: 0.9467\n",
            "Epoch 97/100\n",
            "150/150 [==============================] - 0s 207us/step - loss: 0.1441 - acc: 0.9333\n",
            "Epoch 98/100\n",
            "150/150 [==============================] - 0s 148us/step - loss: 0.3325 - acc: 0.8933\n",
            "Epoch 99/100\n",
            "150/150 [==============================] - 0s 145us/step - loss: 0.1086 - acc: 0.9600\n",
            "Epoch 100/100\n",
            "150/150 [==============================] - 0s 169us/step - loss: 0.1776 - acc: 0.9200\n"
          ],
          "name": "stdout"
        },
        {
          "output_type": "execute_result",
          "data": {
            "text/plain": [
              "<keras.callbacks.History at 0x7fc79649f8d0>"
            ]
          },
          "metadata": {
            "tags": []
          },
          "execution_count": 85
        }
      ]
    },
    {
      "cell_type": "markdown",
      "metadata": {
        "colab_type": "text",
        "id": "y-SgSSdRcih5"
      },
      "source": [
        "### Model Prediction"
      ]
    },
    {
      "cell_type": "code",
      "metadata": {
        "colab_type": "code",
        "id": "GBgKZkhkcih6",
        "colab": {
          "base_uri": "https://localhost:8080/",
          "height": 51
        },
        "outputId": "be5cef2a-f75a-4784-872c-917bb3c1aa45"
      },
      "source": [
        "# evaluate the model\n",
        "scores = model.evaluate(X, Y)\n",
        "scores[1]*100"
      ],
      "execution_count": 86,
      "outputs": [
        {
          "output_type": "stream",
          "text": [
            "150/150 [==============================] - 2s 10ms/step\n"
          ],
          "name": "stdout"
        },
        {
          "output_type": "execute_result",
          "data": {
            "text/plain": [
              "96.6666668256124"
            ]
          },
          "metadata": {
            "tags": []
          },
          "execution_count": 86
        }
      ]
    },
    {
      "cell_type": "markdown",
      "metadata": {
        "colab_type": "text",
        "id": "P32ASP1Vjt0a"
      },
      "source": [
        "### Save the Model"
      ]
    },
    {
      "cell_type": "code",
      "metadata": {
        "colab_type": "code",
        "id": "n8rd0jjAjyTR",
        "colab": {}
      },
      "source": [
        ""
      ],
      "execution_count": 0,
      "outputs": []
    },
    {
      "cell_type": "markdown",
      "metadata": {
        "colab_type": "text",
        "id": "XiipRpe7rbVh"
      },
      "source": [
        "### Build and Train a Deep Neural network with 2 hidden layer  - Optional - For Practice\n",
        "\n",
        "Does it perform better than Linear Classifier? What could be the reason for difference in performance?"
      ]
    },
    {
      "cell_type": "code",
      "metadata": {
        "colab_type": "code",
        "id": "v5Du3lubr4sA",
        "colab": {}
      },
      "source": [
        ""
      ],
      "execution_count": 0,
      "outputs": []
    }
  ]
}