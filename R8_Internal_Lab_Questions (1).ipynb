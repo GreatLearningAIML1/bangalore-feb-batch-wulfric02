{
  "nbformat": 4,
  "nbformat_minor": 0,
  "metadata": {
    "accelerator": "GPU",
    "colab": {
      "name": "R8_Internal_Lab_Questions.ipynb",
      "version": "0.3.2",
      "provenance": [],
      "collapsed_sections": []
    },
    "kernelspec": {
      "display_name": "Python 3",
      "language": "python",
      "name": "python3"
    },
    "language_info": {
      "codemirror_mode": {
        "name": "ipython",
        "version": 3
      },
      "file_extension": ".py",
      "mimetype": "text/x-python",
      "name": "python",
      "nbconvert_exporter": "python",
      "pygments_lexer": "ipython3",
      "version": "3.7.1"
    }
  },
  "cells": [
    {
      "cell_type": "markdown",
      "metadata": {
        "colab_type": "text",
        "id": "NFfDTfhlaEI_"
      },
      "source": [
        "# Transfer Learning MNIST"
      ]
    },
    {
      "cell_type": "markdown",
      "metadata": {
        "colab_type": "text",
        "id": "rNwbqCFRaEJC"
      },
      "source": [
        "* Train a simple convnet on the MNIST dataset the first 5 digits [0-4].\n",
        "* Freeze convolutional layers and fine-tune dense layers for the classification of digits [5-9]."
      ]
    },
    {
      "cell_type": "markdown",
      "metadata": {
        "id": "5Dnzaw1i5sXF",
        "colab_type": "text"
      },
      "source": [
        "## MNIST Dataset\n",
        "The MNIST database contains 60,000 training images and 10,000 testing images taken from American Census Bureau employees and American high school students. The MNIST dataset is one of the most common datasets used for image classification and accessible from many different sources. In fact, even Tensorflow and Keras allow us to import and download the MNIST dataset directly from their API."
      ]
    },
    {
      "cell_type": "markdown",
      "metadata": {
        "id": "bpUULy1Z5sXF",
        "colab_type": "text"
      },
      "source": [
        "Let's import keras and load MNIST dataset"
      ]
    },
    {
      "cell_type": "code",
      "metadata": {
        "id": "KiG7IPhm5sXG",
        "colab_type": "code",
        "colab": {}
      },
      "source": [
        "# Initialize the random number generator\n",
        "import random\n",
        "random.seed(0)\n",
        "\n",
        "import warnings\n",
        "warnings.filterwarnings(\"ignore\")"
      ],
      "execution_count": 0,
      "outputs": []
    },
    {
      "cell_type": "code",
      "metadata": {
        "id": "ZqUiJM_Z5sXL",
        "colab_type": "code",
        "colab": {}
      },
      "source": [
        "from keras.backend import backend\n",
        "from keras.datasets import mnist\n",
        "\n",
        "# the data, shuffled and split between train and test sets\n",
        "(X_train, y_train), (X_test, y_test) = mnist.load_data()"
      ],
      "execution_count": 0,
      "outputs": []
    },
    {
      "cell_type": "markdown",
      "metadata": {
        "id": "RVw4wsuW5sXO",
        "colab_type": "text"
      },
      "source": [
        "X_train and X_test contain greyscale RGB codes (from 0 to 255) while y_train and y_test contains labels from 0 to 9 which represents which number they actually are."
      ]
    },
    {
      "cell_type": "markdown",
      "metadata": {
        "id": "xgQ86Vhw5sXP",
        "colab_type": "text"
      },
      "source": [
        "Let's visualize some numbers using matplotlib"
      ]
    },
    {
      "cell_type": "code",
      "metadata": {
        "id": "VZwg00gO5sXQ",
        "colab_type": "code",
        "outputId": "97bbeec8-2f30-4c69-88e4-ebe907cf53b4",
        "colab": {
          "base_uri": "https://localhost:8080/",
          "height": 303
        }
      },
      "source": [
        "import matplotlib.pyplot as plt\n",
        "%matplotlib inline\n",
        "print(\"Label: {}\".format(y_train[1000]))\n",
        "plt.imshow(X_train[1000], cmap='gray')"
      ],
      "execution_count": 3,
      "outputs": [
        {
          "output_type": "stream",
          "text": [
            "Label: 0\n"
          ],
          "name": "stdout"
        },
        {
          "output_type": "execute_result",
          "data": {
            "text/plain": [
              "<matplotlib.image.AxesImage at 0x7f7c774af198>"
            ]
          },
          "metadata": {
            "tags": []
          },
          "execution_count": 3
        },
        {
          "output_type": "display_data",
          "data": {
            "image/png": "[encoded data removed]",
            "text/plain": [
              "<Figure size 432x288 with 1 Axes>"
            ]
          },
          "metadata": {
            "tags": []
          }
        }
      ]
    },
    {
      "cell_type": "markdown",
      "metadata": {
        "id": "p64mhwp95sXS",
        "colab_type": "text"
      },
      "source": [
        "## Question 1"
      ]
    },
    {
      "cell_type": "markdown",
      "metadata": {
        "id": "XxNAiWYd5sXT",
        "colab_type": "text"
      },
      "source": [
        "### Create two datasets\n",
        "- First having digits from 0 to 4\n",
        "- Second having digits from 5 to 9\n",
        "\n",
        "Hint: use labels to separate data"
      ]
    },
    {
      "cell_type": "code",
      "metadata": {
        "id": "clWFfZABH8ik",
        "colab_type": "code",
        "colab": {}
      },
      "source": [
        "import pandas as pd\n",
        "import numpy as np\n",
        "from keras.utils import np_utils"
      ],
      "execution_count": 0,
      "outputs": []
    },
    {
      "cell_type": "code",
      "metadata": {
        "id": "vY6RuEhRIZL_",
        "colab_type": "code",
        "colab": {}
      },
      "source": [
        "X_train_lt5 = X_train[y_train < 5]\n",
        "X_train_gt5 = X_train[y_train >= 5]\n",
        "y_train_lt5 = y_train[y_train < 5]\n",
        "y_train_gt5 = y_train[y_train >= 5] - 5\n",
        "X_test_lt5 = X_test[y_test < 5]\n",
        "X_test_gt5 = X_test[y_test >= 5]\n",
        "y_test_lt5 = y_test[y_test < 5]\n",
        "y_test_gt5 = y_test[y_test >= 5] - 5 \n"
      ],
      "execution_count": 0,
      "outputs": []
    },
    {
      "cell_type": "code",
      "metadata": {
        "id": "g49hMqnQKMr8",
        "colab_type": "code",
        "colab": {
          "base_uri": "https://localhost:8080/",
          "height": 34
        },
        "outputId": "c3f111a9-f29a-47fd-c61d-436341a55a03"
      },
      "source": [
        "X_train.shape"
      ],
      "execution_count": 14,
      "outputs": [
        {
          "output_type": "execute_result",
          "data": {
            "text/plain": [
              "(60000, 28, 28)"
            ]
          },
          "metadata": {
            "tags": []
          },
          "execution_count": 14
        }
      ]
    },
    {
      "cell_type": "code",
      "metadata": {
        "id": "1807m1CL5sXT",
        "colab_type": "code",
        "colab": {
          "base_uri": "https://localhost:8080/",
          "height": 34
        },
        "outputId": "5369a8b3-b2e9-4ef0-f073-bbd61867c433"
      },
      "source": [
        "X_test.shape"
      ],
      "execution_count": 19,
      "outputs": [
        {
          "output_type": "execute_result",
          "data": {
            "text/plain": [
              "(10000, 28, 28)"
            ]
          },
          "metadata": {
            "tags": []
          },
          "execution_count": 19
        }
      ]
    },
    {
      "cell_type": "code",
      "metadata": {
        "id": "h1l4HRqHMLWv",
        "colab_type": "code",
        "colab": {
          "base_uri": "https://localhost:8080/",
          "height": 34
        },
        "outputId": "e14e7aba-b598-4c95-845d-14f604469795"
      },
      "source": [
        "y_train.shape"
      ],
      "execution_count": 22,
      "outputs": [
        {
          "output_type": "execute_result",
          "data": {
            "text/plain": [
              "(60000,)"
            ]
          },
          "metadata": {
            "tags": []
          },
          "execution_count": 22
        }
      ]
    },
    {
      "cell_type": "code",
      "metadata": {
        "id": "EqXr-a6cMLaY",
        "colab_type": "code",
        "colab": {
          "base_uri": "https://localhost:8080/",
          "height": 34
        },
        "outputId": "cf072d48-78fd-41ac-fb30-d1a2325c5f02"
      },
      "source": [
        "y_test.shape"
      ],
      "execution_count": 23,
      "outputs": [
        {
          "output_type": "execute_result",
          "data": {
            "text/plain": [
              "(10000,)"
            ]
          },
          "metadata": {
            "tags": []
          },
          "execution_count": 23
        }
      ]
    },
    {
      "cell_type": "markdown",
      "metadata": {
        "id": "M9jKcF1z5sXV",
        "colab_type": "text"
      },
      "source": [
        "## Question 2"
      ]
    },
    {
      "cell_type": "markdown",
      "metadata": {
        "id": "NMo7lvwQ5sXW",
        "colab_type": "text"
      },
      "source": [
        "### Print shape of the data\n",
        "- print shape of all variables of both the datasets you created"
      ]
    },
    {
      "cell_type": "code",
      "metadata": {
        "id": "kH7ZjEoH5sXW",
        "colab_type": "code",
        "colab": {
          "base_uri": "https://localhost:8080/",
          "height": 34
        },
        "outputId": "fcd0efb8-28a7-47c1-b76e-57ef0cce4732"
      },
      "source": [
        "X_train_gt5.shape"
      ],
      "execution_count": 16,
      "outputs": [
        {
          "output_type": "execute_result",
          "data": {
            "text/plain": [
              "(29404, 28, 28)"
            ]
          },
          "metadata": {
            "tags": []
          },
          "execution_count": 16
        }
      ]
    },
    {
      "cell_type": "code",
      "metadata": {
        "id": "bIyyjsIqLHDX",
        "colab_type": "code",
        "colab": {
          "base_uri": "https://localhost:8080/",
          "height": 34
        },
        "outputId": "887e2a2d-4678-4f86-807d-f48492a2d7d7"
      },
      "source": [
        "X_train_lt5.shape"
      ],
      "execution_count": 17,
      "outputs": [
        {
          "output_type": "execute_result",
          "data": {
            "text/plain": [
              "(30596, 28, 28)"
            ]
          },
          "metadata": {
            "tags": []
          },
          "execution_count": 17
        }
      ]
    },
    {
      "cell_type": "code",
      "metadata": {
        "id": "_2rSLzVNMDdx",
        "colab_type": "code",
        "colab": {
          "base_uri": "https://localhost:8080/",
          "height": 34
        },
        "outputId": "114cd2ff-65f1-4fe1-a6b5-ed3d6d391780"
      },
      "source": [
        "X_test_gt5.shape"
      ],
      "execution_count": 20,
      "outputs": [
        {
          "output_type": "execute_result",
          "data": {
            "text/plain": [
              "(4861, 28, 28)"
            ]
          },
          "metadata": {
            "tags": []
          },
          "execution_count": 20
        }
      ]
    },
    {
      "cell_type": "code",
      "metadata": {
        "id": "7WVDecGkMDhc",
        "colab_type": "code",
        "colab": {
          "base_uri": "https://localhost:8080/",
          "height": 34
        },
        "outputId": "8052d8a4-139c-42a2-8523-c1e8484c80da"
      },
      "source": [
        "X_test_lt5.shape"
      ],
      "execution_count": 21,
      "outputs": [
        {
          "output_type": "execute_result",
          "data": {
            "text/plain": [
              "(5139, 28, 28)"
            ]
          },
          "metadata": {
            "tags": []
          },
          "execution_count": 21
        }
      ]
    },
    {
      "cell_type": "markdown",
      "metadata": {
        "id": "IUU4PkKU5sXY",
        "colab_type": "text"
      },
      "source": [
        "## Question 3"
      ]
    },
    {
      "cell_type": "markdown",
      "metadata": {
        "id": "4I8ajqdt5sXY",
        "colab_type": "text"
      },
      "source": [
        "### Reshape data\n",
        "- reshape first dataset\n",
        "- To be able to use the dataset in Keras, we need 4-dims numpy arrays. \n",
        "- reshape features to pass it to a Conv2D layer\n",
        "- channel = 1\n",
        "- reshape features of first dataset only\n",
        "- do not reshape labels"
      ]
    },
    {
      "cell_type": "code",
      "metadata": {
        "id": "38wgBEcz5sXa",
        "colab_type": "code",
        "colab": {}
      },
      "source": [
        "X_train_lt5=X_train_lt5.reshape(X_train_lt5.shape[0],28,28,1).astype('float32')\n",
        "X_test_lt5=X_test_lt5.reshape(X_test_lt5.shape[0],28,28,1).astype('float32')"
      ],
      "execution_count": 0,
      "outputs": []
    },
    {
      "cell_type": "code",
      "metadata": {
        "id": "nCrcXTcVOjzx",
        "colab_type": "code",
        "colab": {
          "base_uri": "https://localhost:8080/",
          "height": 34
        },
        "outputId": "027bfa62-e99e-4e72-aaa2-00e2f08c05fd"
      },
      "source": [
        "type(X_train_lt5)"
      ],
      "execution_count": 28,
      "outputs": [
        {
          "output_type": "execute_result",
          "data": {
            "text/plain": [
              "numpy.ndarray"
            ]
          },
          "metadata": {
            "tags": []
          },
          "execution_count": 28
        }
      ]
    },
    {
      "cell_type": "code",
      "metadata": {
        "id": "Jvldp_D8PUao",
        "colab_type": "code",
        "colab": {}
      },
      "source": [
        ""
      ],
      "execution_count": 0,
      "outputs": []
    },
    {
      "cell_type": "markdown",
      "metadata": {
        "id": "_5H-BtNm5sXg",
        "colab_type": "text"
      },
      "source": [
        "## Question 4"
      ]
    },
    {
      "cell_type": "markdown",
      "metadata": {
        "id": "2ahCMtCl5sXh",
        "colab_type": "text"
      },
      "source": [
        "### Normalize data\n",
        "- normalize first dataset\n",
        "- we must normalize our data as it is always required in neural network models\n",
        "- we can achieve this by dividing the RGB codes to 255 (which is the maximum RGB code minus the minimum RGB code)\n",
        "- normalize X_train and X_test\n",
        "- make sure that the values are float so that we can get decimal points after division"
      ]
    },
    {
      "cell_type": "code",
      "metadata": {
        "id": "z4mti7pg5sXj",
        "colab_type": "code",
        "colab": {}
      },
      "source": [
        "X_train_lt5 = X_train_lt5/255\n",
        "X_test_lt5 = X_test_lt5/255"
      ],
      "execution_count": 0,
      "outputs": []
    },
    {
      "cell_type": "code",
      "metadata": {
        "id": "rl3l9ilLP79x",
        "colab_type": "code",
        "colab": {}
      },
      "source": [
        ""
      ],
      "execution_count": 0,
      "outputs": []
    },
    {
      "cell_type": "markdown",
      "metadata": {
        "id": "TfQ6545D5sXp",
        "colab_type": "text"
      },
      "source": [
        "### Print shape of data and number of images\n",
        "- for first dataset\n",
        "- print shape of X_train\n",
        "- print number of images in X_train\n",
        "- print number of images in X_test"
      ]
    },
    {
      "cell_type": "code",
      "metadata": {
        "id": "uQfQXZMo5sXp",
        "colab_type": "code",
        "colab": {
          "base_uri": "https://localhost:8080/",
          "height": 34
        },
        "outputId": "e02439a4-783e-422d-afab-e6ec1d2f4996"
      },
      "source": [
        "X_train_lt5.shape"
      ],
      "execution_count": 37,
      "outputs": [
        {
          "output_type": "execute_result",
          "data": {
            "text/plain": [
              "(30596, 28, 28, 1)"
            ]
          },
          "metadata": {
            "tags": []
          },
          "execution_count": 37
        }
      ]
    },
    {
      "cell_type": "code",
      "metadata": {
        "id": "JwZcLE8bQdxw",
        "colab_type": "code",
        "colab": {
          "base_uri": "https://localhost:8080/",
          "height": 34
        },
        "outputId": "04591c87-1b92-45c1-e791-1585cb3f22af"
      },
      "source": [
        "X_train_lt5.shape[0]"
      ],
      "execution_count": 38,
      "outputs": [
        {
          "output_type": "execute_result",
          "data": {
            "text/plain": [
              "30596"
            ]
          },
          "metadata": {
            "tags": []
          },
          "execution_count": 38
        }
      ]
    },
    {
      "cell_type": "code",
      "metadata": {
        "id": "J949sOqwQd0s",
        "colab_type": "code",
        "colab": {
          "base_uri": "https://localhost:8080/",
          "height": 34
        },
        "outputId": "5e2971d7-2174-4f3b-9b0d-5df020329ea5"
      },
      "source": [
        "X_test_lt5.shape[0]"
      ],
      "execution_count": 39,
      "outputs": [
        {
          "output_type": "execute_result",
          "data": {
            "text/plain": [
              "5139"
            ]
          },
          "metadata": {
            "tags": []
          },
          "execution_count": 39
        }
      ]
    },
    {
      "cell_type": "markdown",
      "metadata": {
        "id": "9oFjomSh5sXu",
        "colab_type": "text"
      },
      "source": [
        "## Question 5"
      ]
    },
    {
      "cell_type": "markdown",
      "metadata": {
        "id": "2lEFQQNk5sXu",
        "colab_type": "text"
      },
      "source": [
        "### One-hot encode the class vector\n",
        "- encode labels of first dataset\n",
        "- convert class vectors (integers) to binary class matrix\n",
        "- convert y_train and y_test\n",
        "- number of classes: 5\n",
        "- we are doing this to use categorical_crossentropy as loss\n",
        "\n",
        "Hint: you can use keras.utils.to_categorical"
      ]
    },
    {
      "cell_type": "code",
      "metadata": {
        "id": "aejx3Zb35sXv",
        "colab_type": "code",
        "colab": {}
      },
      "source": [
        "y_train_lt5=np_utils.to_categorical(y_train_lt5,5)\n",
        "y_test_lt5=np_utils.to_categorical(y_test_lt5,5)\n"
      ],
      "execution_count": 0,
      "outputs": []
    },
    {
      "cell_type": "markdown",
      "metadata": {
        "id": "PlkiipRA5sXw",
        "colab_type": "text"
      },
      "source": [
        "## Question 6\n",
        "We will build our model by using high level Keras."
      ]
    },
    {
      "cell_type": "markdown",
      "metadata": {
        "id": "KzYMC_xm5sXx",
        "colab_type": "text"
      },
      "source": [
        "### Initialize a sequential model\n",
        "- define a sequential model\n",
        "- add 2 convolutional layers\n",
        "    - no of filters: 32\n",
        "    - kernel size: 3x3\n",
        "    - activation: \"relu\"\n",
        "    - input shape: (28, 28, 1) for first layer\n",
        "- add a max pooling layer of size 2x2\n",
        "- add a dropout layer\n",
        "    - dropout layers fight with the overfitting by disregarding some of the neurons while training\n",
        "    - use dropout rate 0.2"
      ]
    },
    {
      "cell_type": "code",
      "metadata": {
        "id": "mDr-HKl-5sXx",
        "colab_type": "code",
        "colab": {}
      },
      "source": [
        "from keras.models import Sequential\n",
        "from keras.layers.core import Dense,Dropout,Activation,Flatten\n",
        "from keras.layers.convolutional import Conv2D,MaxPooling2D\n"
      ],
      "execution_count": 0,
      "outputs": []
    },
    {
      "cell_type": "code",
      "metadata": {
        "id": "g3wnR77QRBe9",
        "colab_type": "code",
        "colab": {}
      },
      "source": [
        "model = Sequential()\n",
        "model.add(Conv2D(32,(3,3),input_shape=(28,28,1),activation='relu'))\n",
        "model.add(Conv2D(32,(3,3),activation='relu'))\n",
        "model.add(MaxPooling2D(pool_size=(2,2)))\n",
        "model.add(Dropout(rate=0.2))"
      ],
      "execution_count": 0,
      "outputs": []
    },
    {
      "cell_type": "markdown",
      "metadata": {
        "id": "k2RaPWiP5sXz",
        "colab_type": "text"
      },
      "source": [
        "## Question 7"
      ]
    },
    {
      "cell_type": "markdown",
      "metadata": {
        "id": "4ajGIM6t5sXz",
        "colab_type": "text"
      },
      "source": [
        "### Add classification layers\n",
        "- do this after doing question 6\n",
        "- flatten the data\n",
        "    - add Flatten later\n",
        "    - flatten layers flatten 2D arrays to 1D array before building the fully connected layers\n",
        "- add 2 dense layers\n",
        "    - number of neurons in first layer: 128\n",
        "    - number of neurons in last layer: number of classes\n",
        "    - activation function in first layer: relu\n",
        "    - activation function in last layer: softmax\n",
        "    - we may experiment with any number of neurons for the first Dense layer; however, the final Dense layer must have neurons equal to the number of output classes\n",
        "- you can add a dropout layer in between, if necessary"
      ]
    },
    {
      "cell_type": "code",
      "metadata": {
        "id": "jBxWAN265sX0",
        "colab_type": "code",
        "colab": {}
      },
      "source": [
        "model.add(Flatten())\n",
        "model.add(Dense(128, activation=\"relu\"))\n",
        "model.add(Dropout(rate=0.5))\n",
        "model.add(Dense(5, activation=\"softmax\"))"
      ],
      "execution_count": 0,
      "outputs": []
    },
    {
      "cell_type": "markdown",
      "metadata": {
        "id": "Lhtm4d5K5sX1",
        "colab_type": "text"
      },
      "source": [
        "## Question 8"
      ]
    },
    {
      "cell_type": "markdown",
      "metadata": {
        "id": "SmXg8EaF5sX2",
        "colab_type": "text"
      },
      "source": [
        "### Compile and fit the model\n",
        "- compile your model\n",
        "    - loss: \"categorical_crossentropy\"\n",
        "    - metrics: \"accuracy\"\n",
        "    - optimizer: \"sgd\"\n",
        "- fit your model\n",
        "    - give train data - features and labels\n",
        "    - batch size: 128\n",
        "    - epochs: 10\n",
        "    - give validation data - features and labels"
      ]
    },
    {
      "cell_type": "code",
      "metadata": {
        "id": "cgclxC8s5sX4",
        "colab_type": "code",
        "colab": {}
      },
      "source": [
        "model.compile(loss='categorical_crossentropy',optimizer='sgd',metrics=['accuracy'])"
      ],
      "execution_count": 0,
      "outputs": []
    },
    {
      "cell_type": "code",
      "metadata": {
        "id": "L17PkC8xSMyA",
        "colab_type": "code",
        "colab": {
          "base_uri": "https://localhost:8080/",
          "height": 391
        },
        "outputId": "1d0767e2-a733-45ae-e45b-3f82ed98b1e3"
      },
      "source": [
        "model.fit(X_train_lt5, y_train_lt5, batch_size=128, epochs=10, validation_data=(X_test_lt5, y_test_lt5))"
      ],
      "execution_count": 99,
      "outputs": [
        {
          "output_type": "stream",
          "text": [
            "Train on 30596 samples, validate on 5139 samples\n",
            "Epoch 1/10\n",
            "30596/30596 [==============================] - 2s 70us/step - loss: 0.7062 - acc: 0.7675 - val_loss: 0.1319 - val_acc: 0.9619\n",
            "Epoch 2/10\n",
            "30596/30596 [==============================] - 2s 56us/step - loss: 0.1963 - acc: 0.9388 - val_loss: 0.0886 - val_acc: 0.9749\n",
            "Epoch 3/10\n",
            "30596/30596 [==============================] - 2s 55us/step - loss: 0.1571 - acc: 0.9520 - val_loss: 0.0734 - val_acc: 0.9784\n",
            "Epoch 4/10\n",
            "30596/30596 [==============================] - 2s 56us/step - loss: 0.1441 - acc: 0.9563 - val_loss: 0.0628 - val_acc: 0.9811\n",
            "Epoch 5/10\n",
            "30596/30596 [==============================] - 2s 54us/step - loss: 0.1287 - acc: 0.9601 - val_loss: 0.0576 - val_acc: 0.9823\n",
            "Epoch 6/10\n",
            "30596/30596 [==============================] - 2s 56us/step - loss: 0.1159 - acc: 0.9644 - val_loss: 0.0540 - val_acc: 0.9838\n",
            "Epoch 7/10\n",
            "30596/30596 [==============================] - 2s 55us/step - loss: 0.1135 - acc: 0.9653 - val_loss: 0.0499 - val_acc: 0.9854\n",
            "Epoch 8/10\n",
            "30596/30596 [==============================] - 2s 54us/step - loss: 0.1049 - acc: 0.9690 - val_loss: 0.0800 - val_acc: 0.9763\n",
            "Epoch 9/10\n",
            "30596/30596 [==============================] - 2s 56us/step - loss: 0.1031 - acc: 0.9685 - val_loss: 0.0835 - val_acc: 0.9743\n",
            "Epoch 10/10\n",
            "30596/30596 [==============================] - 2s 55us/step - loss: 0.0993 - acc: 0.9707 - val_loss: 0.0482 - val_acc: 0.9837\n"
          ],
          "name": "stdout"
        },
        {
          "output_type": "execute_result",
          "data": {
            "text/plain": [
              "<keras.callbacks.History at 0x7f7c604d4f28>"
            ]
          },
          "metadata": {
            "tags": []
          },
          "execution_count": 99
        }
      ]
    },
    {
      "cell_type": "markdown",
      "metadata": {
        "id": "oSVZUu3p5sX5",
        "colab_type": "text"
      },
      "source": [
        "## Question 9"
      ]
    },
    {
      "cell_type": "markdown",
      "metadata": {
        "id": "Y5TQ3yLV5sX6",
        "colab_type": "text"
      },
      "source": [
        "### Evaluate model\n",
        "- evaluate your model and get accuracy\n",
        "- use test features and labels"
      ]
    },
    {
      "cell_type": "code",
      "metadata": {
        "id": "bBvuD3ba5sX7",
        "colab_type": "code",
        "colab": {
          "base_uri": "https://localhost:8080/",
          "height": 51
        },
        "outputId": "799b5cbf-9013-4a57-d99c-8f3ce0e0bee5"
      },
      "source": [
        "model.evaluate(X_test_lt5, y_test_lt5)"
      ],
      "execution_count": 100,
      "outputs": [
        {
          "output_type": "stream",
          "text": [
            "5139/5139 [==============================] - 0s 62us/step\n"
          ],
          "name": "stdout"
        },
        {
          "output_type": "execute_result",
          "data": {
            "text/plain": [
              "[0.048240780453477655, 0.9836544075534603]"
            ]
          },
          "metadata": {
            "tags": []
          },
          "execution_count": 100
        }
      ]
    },
    {
      "cell_type": "code",
      "metadata": {
        "id": "dD91RqtLSyoW",
        "colab_type": "code",
        "colab": {}
      },
      "source": [
        "# 98.92% accuracy"
      ],
      "execution_count": 0,
      "outputs": []
    },
    {
      "cell_type": "code",
      "metadata": {
        "id": "hI37C650TIh5",
        "colab_type": "code",
        "colab": {
          "base_uri": "https://localhost:8080/",
          "height": 391
        },
        "outputId": "0c3a941d-0375-4217-e8b7-2e31dd104793"
      },
      "source": [
        "model.summary()"
      ],
      "execution_count": 65,
      "outputs": [
        {
          "output_type": "stream",
          "text": [
            "Model: \"sequential_3\"\n",
            "_________________________________________________________________\n",
            "Layer (type)                 Output Shape              Param #   \n",
            "=================================================================\n",
            "conv2d_3 (Conv2D)            (None, 26, 26, 32)        320       \n",
            "_________________________________________________________________\n",
            "conv2d_4 (Conv2D)            (None, 24, 24, 32)        9248      \n",
            "_________________________________________________________________\n",
            "max_pooling2d_2 (MaxPooling2 (None, 12, 12, 32)        0         \n",
            "_________________________________________________________________\n",
            "dropout_2 (Dropout)          (None, 12, 12, 32)        0         \n",
            "_________________________________________________________________\n",
            "flatten_2 (Flatten)          (None, 4608)              0         \n",
            "_________________________________________________________________\n",
            "dense_3 (Dense)              (None, 128)               589952    \n",
            "_________________________________________________________________\n",
            "dense_4 (Dense)              (None, 5)                 645       \n",
            "=================================================================\n",
            "Total params: 600,165\n",
            "Trainable params: 600,165\n",
            "Non-trainable params: 0\n",
            "_________________________________________________________________\n"
          ],
          "name": "stdout"
        }
      ]
    },
    {
      "cell_type": "code",
      "metadata": {
        "id": "Rl9U3D5CVuzt",
        "colab_type": "code",
        "colab": {
          "base_uri": "https://localhost:8080/",
          "height": 153
        },
        "outputId": "9f75de4f-b891-4615-e979-50e61de63911"
      },
      "source": [
        "model.layers"
      ],
      "execution_count": 101,
      "outputs": [
        {
          "output_type": "execute_result",
          "data": {
            "text/plain": [
              "[<keras.layers.convolutional.Conv2D at 0x7f7c604d4a20>,\n",
              " <keras.layers.convolutional.Conv2D at 0x7f7c604c5080>,\n",
              " <keras.layers.pooling.MaxPooling2D at 0x7f7c604c59e8>,\n",
              " <keras.layers.core.Dropout at 0x7f7c604c5240>,\n",
              " <keras.layers.core.Flatten at 0x7f7c604d4978>,\n",
              " <keras.layers.core.Dense at 0x7f7c604d4d68>,\n",
              " <keras.layers.core.Dropout at 0x7f7c604d4e10>,\n",
              " <keras.layers.core.Dense at 0x7f7c604a5ef0>]"
            ]
          },
          "metadata": {
            "tags": []
          },
          "execution_count": 101
        }
      ]
    },
    {
      "cell_type": "code",
      "metadata": {
        "id": "Nzrgft00U6Zk",
        "colab_type": "code",
        "colab": {
          "base_uri": "https://localhost:8080/",
          "height": 1000
        },
        "outputId": "2e62ca43-e684-43d1-c7dc-6d165662f657"
      },
      "source": [
        "model.layers[0].get_weights()"
      ],
      "execution_count": 106,
      "outputs": [
        {
          "output_type": "execute_result",
          "data": {
            "text/plain": [
              "[array([[[[-0.00258868, -0.06943049, -0.079698  , -0.02203253,\n",
              "            0.13000764,  0.12442918,  0.1395651 ,  0.21411699,\n",
              "            0.17700541, -0.02869526,  0.1392438 , -0.08209536,\n",
              "           -0.08916358,  0.08693843, -0.08226339,  0.13966517,\n",
              "           -0.10632244, -0.10306098,  0.09405261,  0.12846516,\n",
              "           -0.05690842,  0.1456746 ,  0.06667147,  0.22835967,\n",
              "           -0.02514123,  0.062362  , -0.05249999,  0.12674096,\n",
              "            0.07298052,  0.13065633,  0.15114099,  0.10232779]],\n",
              " \n",
              "         [[ 0.04379883, -0.08124046,  0.10414547, -0.06741589,\n",
              "           -0.09811769,  0.12002835,  0.17713097,  0.28862596,\n",
              "            0.17716579,  0.03730034,  0.11989107, -0.12478664,\n",
              "            0.13451968,  0.14863646, -0.13863286,  0.08216467,\n",
              "           -0.05323103,  0.04033852,  0.28921786,  0.18410037,\n",
              "           -0.05266639, -0.07175807,  0.04514154,  0.09381949,\n",
              "            0.03107549,  0.1500138 , -0.05970117,  0.19295004,\n",
              "           -0.00485726,  0.21189852,  0.05520834,  0.10937061]],\n",
              " \n",
              "         [[-0.13610816, -0.08783226, -0.04197501,  0.01864096,\n",
              "            0.06823816,  0.07408042,  0.20272443,  0.15846984,\n",
              "            0.00876716,  0.0756321 ,  0.02841296, -0.07808314,\n",
              "           -0.05007605,  0.02969705, -0.08457214,  0.02242243,\n",
              "            0.00228019,  0.09024336,  0.252502  , -0.04343969,\n",
              "           -0.03948807,  0.0343725 , -0.04271231,  0.05647775,\n",
              "           -0.0875662 ,  0.14977694, -0.13679506,  0.09825338,\n",
              "           -0.03476376,  0.17082858,  0.03220067,  0.0841839 ]]],\n",
              " \n",
              " \n",
              "        [[[-0.13504551,  0.12596205,  0.1471743 , -0.03071528,\n",
              "           -0.1288522 ,  0.11108635,  0.1933499 ,  0.2772634 ,\n",
              "            0.1866865 , -0.13171549, -0.06016263, -0.01434451,\n",
              "           -0.02004886,  0.22324471, -0.07836833,  0.2591933 ,\n",
              "            0.0979673 , -0.13177525,  0.31871134,  0.20793264,\n",
              "            0.05042023,  0.15739065,  0.03226631,  0.11766957,\n",
              "           -0.0796015 ,  0.11038704, -0.03902259,  0.00425616,\n",
              "           -0.00399235, -0.04684642,  0.06301838, -0.04314194]],\n",
              " \n",
              "         [[ 0.13492303,  0.13109264, -0.12279558,  0.11794448,\n",
              "            0.0301572 ,  0.07454392,  0.24249633,  0.30068776,\n",
              "           -0.02380424, -0.0066443 ,  0.07643553,  0.09725846,\n",
              "           -0.09271898,  0.11180756, -0.04788048, -0.03469746,\n",
              "           -0.12629847,  0.08730562,  0.21967937,  0.07577907,\n",
              "           -0.0331142 ,  0.05359022, -0.02022404,  0.20306633,\n",
              "            0.10768602,  0.11871903, -0.02400616,  0.18507521,\n",
              "            0.16339539,  0.0135166 ,  0.06699063,  0.03490994]],\n",
              " \n",
              "         [[ 0.13651043, -0.02710363,  0.00702386, -0.07787663,\n",
              "           -0.12027793, -0.02631294, -0.00487343,  0.26396313,\n",
              "           -0.0609544 , -0.09091035,  0.07761175,  0.03660608,\n",
              "            0.07400417,  0.07294837,  0.02541865,  0.11754081,\n",
              "           -0.0968383 , -0.1010002 ,  0.05199606,  0.23462342,\n",
              "           -0.03131666,  0.06093748, -0.02562681, -0.01876932,\n",
              "            0.08435804,  0.16627583, -0.06121169, -0.08079223,\n",
              "            0.10742877,  0.16528958, -0.10526718, -0.02491981]]],\n",
              " \n",
              " \n",
              "        [[[-0.13606076,  0.13798185,  0.02851788,  0.01678356,\n",
              "           -0.01932882,  0.17448133,  0.05998909,  0.08820123,\n",
              "            0.1514096 ,  0.11409506,  0.1434043 , -0.00877679,\n",
              "            0.15917188,  0.1398757 , -0.05477566,  0.07157359,\n",
              "           -0.13569465, -0.11329333,  0.19985674,  0.17572212,\n",
              "           -0.14093322, -0.06023521, -0.09392781, -0.08197103,\n",
              "           -0.10977395, -0.07167578,  0.1018381 ,  0.04187424,\n",
              "            0.03419526,  0.02464188,  0.11508596, -0.13763595]],\n",
              " \n",
              "         [[-0.13780591, -0.02927113, -0.02615645, -0.06003132,\n",
              "           -0.04641815, -0.10614458, -0.01997355,  0.06871244,\n",
              "            0.22677514, -0.02849187,  0.01359189,  0.01129328,\n",
              "            0.1848683 , -0.02184342,  0.0905852 ,  0.18686679,\n",
              "            0.02547079,  0.13569996, -0.00714039,  0.23020692,\n",
              "            0.04470804,  0.05469643, -0.09333163,  0.09034213,\n",
              "           -0.00422317, -0.04218081,  0.00343113,  0.1874995 ,\n",
              "            0.11514656,  0.03766261, -0.08245075, -0.03924289]],\n",
              " \n",
              "         [[ 0.04405204, -0.09611801, -0.07829319, -0.09013957,\n",
              "            0.10535193, -0.03780995,  0.16444708,  0.15693845,\n",
              "            0.11921111, -0.09210849,  0.00518736,  0.08240818,\n",
              "           -0.01265345,  0.12077741, -0.00524739, -0.00321923,\n",
              "           -0.04883773,  0.08070455,  0.1433982 ,  0.04757391,\n",
              "            0.04326436, -0.07290938, -0.12222048,  0.01563269,\n",
              "           -0.02004037,  0.085993  ,  0.02949233,  0.1502339 ,\n",
              "            0.16926134,  0.09487666, -0.06816378,  0.10592626]]]],\n",
              "       dtype=float32),\n",
              " array([-1.0551558e-02,  2.3558619e-02,  2.9747590e-02, -5.0597475e-05,\n",
              "        -1.7582430e-04,  1.9973158e-03, -2.9605408e-03, -4.6665017e-03,\n",
              "        -2.2833701e-03, -1.7308857e-02,  5.7413505e-04,  9.9921405e-02,\n",
              "         1.4785878e-02, -4.0336885e-04, -3.8512566e-03, -3.3257395e-04,\n",
              "         3.2987900e-02,  2.7876008e-02, -2.6586666e-03, -2.3555667e-03,\n",
              "         1.5504942e-04,  1.6658183e-02,  6.2112702e-04,  5.4236744e-03,\n",
              "        -6.1260830e-03,  6.9197384e-03, -1.5474376e-02, -5.8997155e-04,\n",
              "        -7.1301369e-04, -1.8617793e-03,  1.3828713e-02,  1.3189115e-02],\n",
              "       dtype=float32)]"
            ]
          },
          "metadata": {
            "tags": []
          },
          "execution_count": 106
        }
      ]
    },
    {
      "cell_type": "markdown",
      "metadata": {
        "id": "8aUzOh9m5sX-",
        "colab_type": "text"
      },
      "source": [
        "## Question 10"
      ]
    },
    {
      "cell_type": "markdown",
      "metadata": {
        "id": "srd-YYNH5sX-",
        "colab_type": "text"
      },
      "source": [
        "## Transfer learning\n",
        "Now we will apply this model on second dataset (5-9 digits)\n",
        "\n",
        "- fix the first convolution layers so that the weights in the convolution layers dont get updated in the process of training\n",
        "- get the second dataset\n",
        "- train the last 2 dense layers\n",
        "- predict the accuracy and loss"
      ]
    },
    {
      "cell_type": "markdown",
      "metadata": {
        "id": "KvhdH7D55sYA",
        "colab_type": "text"
      },
      "source": [
        "### Make only dense layers trainable\n",
        "- set trainalble = False for all layers other than Dense layers"
      ]
    },
    {
      "cell_type": "code",
      "metadata": {
        "colab_type": "code",
        "id": "brN7VZHFaEJ4",
        "colab": {
          "base_uri": "https://localhost:8080/",
          "height": 102
        },
        "outputId": "d2ec0afb-d4aa-41ea-877e-95e337a2cefe"
      },
      "source": [
        "for layer in model.layers[:5]:\n",
        "    layer.trainable = False\n",
        "    print(layer.trainable, layer)"
      ],
      "execution_count": 107,
      "outputs": [
        {
          "output_type": "stream",
          "text": [
            "False <keras.layers.convolutional.Conv2D object at 0x7f7c604d4a20>\n",
            "False <keras.layers.convolutional.Conv2D object at 0x7f7c604c5080>\n",
            "False <keras.layers.pooling.MaxPooling2D object at 0x7f7c604c59e8>\n",
            "False <keras.layers.core.Dropout object at 0x7f7c604c5240>\n",
            "False <keras.layers.core.Flatten object at 0x7f7c604d4978>\n"
          ],
          "name": "stdout"
        }
      ]
    },
    {
      "cell_type": "markdown",
      "metadata": {
        "id": "FYR9VGzO5sYE",
        "colab_type": "text"
      },
      "source": [
        "### Modify data\n",
        "- in your second data, class labels will start from 5 to 9 but for keras.utils.to_categorical the labels should start from 0\n",
        "- so you need to subtract 5 from train and test labels"
      ]
    },
    {
      "cell_type": "code",
      "metadata": {
        "id": "lC5W75L35sYF",
        "colab_type": "code",
        "colab": {
          "base_uri": "https://localhost:8080/",
          "height": 136
        },
        "outputId": "081b5d26-e85e-46a6-adcb-8ffe8a6e0441"
      },
      "source": [
        "y_train_gt5"
      ],
      "execution_count": 74,
      "outputs": [
        {
          "output_type": "execute_result",
          "data": {
            "text/plain": [
              "array([[1., 0., 0., 0., 0.],\n",
              "       [0., 0., 0., 0., 1.],\n",
              "       [1., 0., 0., 0., 0.],\n",
              "       ...,\n",
              "       [1., 0., 0., 0., 0.],\n",
              "       [0., 1., 0., 0., 0.],\n",
              "       [0., 0., 0., 1., 0.]], dtype=float32)"
            ]
          },
          "metadata": {
            "tags": []
          },
          "execution_count": 74
        }
      ]
    },
    {
      "cell_type": "code",
      "metadata": {
        "id": "tPkqSbLfYRhw",
        "colab_type": "code",
        "colab": {}
      },
      "source": [
        ""
      ],
      "execution_count": 0,
      "outputs": []
    },
    {
      "cell_type": "markdown",
      "metadata": {
        "id": "YGY3OTBt5sYG",
        "colab_type": "text"
      },
      "source": [
        "### Reshape data\n",
        "- reshape second dataset\n",
        "- To be able to use the dataset in Keras, we need 4-dims numpy arrays. \n",
        "- reshape features to pass it to a Conv2D layer\n",
        "- channel = 1\n",
        "- reshape features of first dataset only\n",
        "- do not reshape labels"
      ]
    },
    {
      "cell_type": "code",
      "metadata": {
        "id": "0V7RUlRD5sYH",
        "colab_type": "code",
        "colab": {}
      },
      "source": [
        "X_train_gt5=X_train_gt5.reshape(X_train_gt5.shape[0],28,28,1).astype('float32')\n",
        "X_test_gt5=X_test_gt5.reshape(X_test_gt5.shape[0],28,28,1).astype('float32')"
      ],
      "execution_count": 0,
      "outputs": []
    },
    {
      "cell_type": "markdown",
      "metadata": {
        "id": "c7omqMQH5sYJ",
        "colab_type": "text"
      },
      "source": [
        "### Normalize data\n",
        "- normalize second data\n",
        "- we must normalize our data as it is always required in neural network models\n",
        "- we can achieve this by dividing the RGB codes to 255 (which is the maximum RGB code minus the minimum RGB code)\n",
        "- normalize X_train and X_test\n",
        "- make sure that the values are float so that we can get decimal points after division"
      ]
    },
    {
      "cell_type": "code",
      "metadata": {
        "id": "PEFYNHRp5sYJ",
        "colab_type": "code",
        "colab": {}
      },
      "source": [
        "X_train_gt5 = X_train_gt5/255\n",
        "X_test_gt5 = X_test_gt5/255"
      ],
      "execution_count": 0,
      "outputs": []
    },
    {
      "cell_type": "markdown",
      "metadata": {
        "id": "0OfdlF655sYM",
        "colab_type": "text"
      },
      "source": [
        "### Print shape of data and number of images\n",
        "- print shape of X_train\n",
        "- print number of images in X_train\n",
        "- print number of images in X_test"
      ]
    },
    {
      "cell_type": "code",
      "metadata": {
        "id": "bZEkCQ-P5sYO",
        "colab_type": "code",
        "colab": {
          "base_uri": "https://localhost:8080/",
          "height": 34
        },
        "outputId": "83fc8f40-6297-4c3c-b916-a672f0e8a4c8"
      },
      "source": [
        "X_train_gt5.shape"
      ],
      "execution_count": 57,
      "outputs": [
        {
          "output_type": "execute_result",
          "data": {
            "text/plain": [
              "(29404, 28, 28, 1)"
            ]
          },
          "metadata": {
            "tags": []
          },
          "execution_count": 57
        }
      ]
    },
    {
      "cell_type": "code",
      "metadata": {
        "id": "xwBJ4I8EVLQ6",
        "colab_type": "code",
        "colab": {
          "base_uri": "https://localhost:8080/",
          "height": 34
        },
        "outputId": "f1dc3c9c-a1d5-467b-c344-08eac7133f58"
      },
      "source": [
        "X_train_gt5.shape[0]"
      ],
      "execution_count": 58,
      "outputs": [
        {
          "output_type": "execute_result",
          "data": {
            "text/plain": [
              "29404"
            ]
          },
          "metadata": {
            "tags": []
          },
          "execution_count": 58
        }
      ]
    },
    {
      "cell_type": "code",
      "metadata": {
        "id": "8Ch9-gXDVLUr",
        "colab_type": "code",
        "colab": {
          "base_uri": "https://localhost:8080/",
          "height": 34
        },
        "outputId": "e22d6e7f-a3c6-4566-8f88-4a2b511fdd96"
      },
      "source": [
        "X_test_gt5.shape[0]"
      ],
      "execution_count": 59,
      "outputs": [
        {
          "output_type": "execute_result",
          "data": {
            "text/plain": [
              "4861"
            ]
          },
          "metadata": {
            "tags": []
          },
          "execution_count": 59
        }
      ]
    },
    {
      "cell_type": "markdown",
      "metadata": {
        "id": "c_3-0Qwo5sYQ",
        "colab_type": "text"
      },
      "source": [
        "### One-hot encode the class vector\n",
        "- convert class vectors (integers) to binary class matrix\n",
        "- convert y_train and y_test\n",
        "- number of classes: 5\n",
        "- we are doing this to use categorical_crossentropy as loss\n",
        "\n",
        "Hint: you can use keras.utils.to_categorical"
      ]
    },
    {
      "cell_type": "code",
      "metadata": {
        "id": "k46Me5Re5sYR",
        "colab_type": "code",
        "colab": {}
      },
      "source": [
        "y_train_gt5=np_utils.to_categorical(y_train_gt5,5)\n",
        "y_test_gt5=np_utils.to_categorical(y_test_gt5,5)\n"
      ],
      "execution_count": 0,
      "outputs": []
    },
    {
      "cell_type": "code",
      "metadata": {
        "id": "LngMYvZ0Xng0",
        "colab_type": "code",
        "colab": {
          "base_uri": "https://localhost:8080/",
          "height": 425
        },
        "outputId": "8875d3ab-69ce-488c-fb20-543bc95bcb1f"
      },
      "source": [
        "model.summary()"
      ],
      "execution_count": 89,
      "outputs": [
        {
          "output_type": "stream",
          "text": [
            "Model: \"sequential_4\"\n",
            "_________________________________________________________________\n",
            "Layer (type)                 Output Shape              Param #   \n",
            "=================================================================\n",
            "conv2d_5 (Conv2D)            (None, 26, 26, 32)        320       \n",
            "_________________________________________________________________\n",
            "conv2d_6 (Conv2D)            (None, 24, 24, 32)        9248      \n",
            "_________________________________________________________________\n",
            "max_pooling2d_3 (MaxPooling2 (None, 12, 12, 32)        0         \n",
            "_________________________________________________________________\n",
            "dropout_3 (Dropout)          (None, 12, 12, 32)        0         \n",
            "_________________________________________________________________\n",
            "flatten_3 (Flatten)          (None, 4608)              0         \n",
            "_________________________________________________________________\n",
            "dense_5 (Dense)              (None, 128)               589952    \n",
            "_________________________________________________________________\n",
            "dropout_4 (Dropout)          (None, 128)               0         \n",
            "_________________________________________________________________\n",
            "dense_6 (Dense)              (None, 5)                 645       \n",
            "=================================================================\n",
            "Total params: 609,733\n",
            "Trainable params: 600,165\n",
            "Non-trainable params: 9,568\n",
            "_________________________________________________________________\n"
          ],
          "name": "stdout"
        }
      ]
    },
    {
      "cell_type": "markdown",
      "metadata": {
        "id": "D9xEoW515sYS",
        "colab_type": "text"
      },
      "source": [
        "### Fit the model\n",
        "- give train data - features and labels\n",
        "- batch size: 128\n",
        "- epochs: 10\n",
        "- give validation data - features and labels"
      ]
    },
    {
      "cell_type": "code",
      "metadata": {
        "id": "B6f-XAc-5sYT",
        "colab_type": "code",
        "colab": {
          "base_uri": "https://localhost:8080/",
          "height": 391
        },
        "outputId": "5123d20f-2f12-4cdd-a7f2-14e3c1bea7b9"
      },
      "source": [
        "model.fit(X_train_gt5, y_train_gt5, batch_size=128, epochs=10, validation_data=(X_test_gt5, y_test_gt5))"
      ],
      "execution_count": 111,
      "outputs": [
        {
          "output_type": "stream",
          "text": [
            "Train on 29404 samples, validate on 4861 samples\n",
            "Epoch 1/10\n",
            "29404/29404 [==============================] - 2s 58us/step - loss: 0.5887 - acc: 0.8061 - val_loss: 0.2188 - val_acc: 0.9294\n",
            "Epoch 2/10\n",
            "29404/29404 [==============================] - 2s 55us/step - loss: 0.3066 - acc: 0.9004 - val_loss: 0.1568 - val_acc: 0.9488\n",
            "Epoch 3/10\n",
            "29404/29404 [==============================] - 2s 55us/step - loss: 0.2476 - acc: 0.9226 - val_loss: 0.1300 - val_acc: 0.9593\n",
            "Epoch 4/10\n",
            "29404/29404 [==============================] - 2s 55us/step - loss: 0.2197 - acc: 0.9308 - val_loss: 0.1164 - val_acc: 0.9634\n",
            "Epoch 5/10\n",
            "29404/29404 [==============================] - 2s 54us/step - loss: 0.2005 - acc: 0.9382 - val_loss: 0.1069 - val_acc: 0.9656\n",
            "Epoch 6/10\n",
            "29404/29404 [==============================] - 2s 55us/step - loss: 0.1913 - acc: 0.9374 - val_loss: 0.0984 - val_acc: 0.9691\n",
            "Epoch 7/10\n",
            "29404/29404 [==============================] - 2s 55us/step - loss: 0.1772 - acc: 0.9426 - val_loss: 0.0950 - val_acc: 0.9673\n",
            "Epoch 8/10\n",
            "29404/29404 [==============================] - 2s 55us/step - loss: 0.1692 - acc: 0.9463 - val_loss: 0.0862 - val_acc: 0.9718\n",
            "Epoch 9/10\n",
            "29404/29404 [==============================] - 2s 55us/step - loss: 0.1581 - acc: 0.9480 - val_loss: 0.0861 - val_acc: 0.9704\n",
            "Epoch 10/10\n",
            "29404/29404 [==============================] - 2s 56us/step - loss: 0.1526 - acc: 0.9499 - val_loss: 0.0800 - val_acc: 0.9722\n"
          ],
          "name": "stdout"
        },
        {
          "output_type": "execute_result",
          "data": {
            "text/plain": [
              "<keras.callbacks.History at 0x7f7c60157400>"
            ]
          },
          "metadata": {
            "tags": []
          },
          "execution_count": 111
        }
      ]
    },
    {
      "cell_type": "code",
      "metadata": {
        "id": "HdweHf4jWffd",
        "colab_type": "code",
        "colab": {
          "base_uri": "https://localhost:8080/",
          "height": 1000
        },
        "outputId": "c9058a1b-c73f-4909-b93c-82cf89e2efec"
      },
      "source": [
        "model.layers[0].get_weights()"
      ],
      "execution_count": 112,
      "outputs": [
        {
          "output_type": "execute_result",
          "data": {
            "text/plain": [
              "[array([[[[-7.56528834e-03, -5.67685142e-02, -7.65949860e-02,\n",
              "           -2.15947516e-02,  1.23291194e-01,  1.53095469e-01,\n",
              "            1.66187391e-01,  2.19608784e-01,  1.75294280e-01,\n",
              "           -3.23137082e-02,  1.47448927e-01, -1.00125223e-01,\n",
              "           -9.67667401e-02,  8.27471316e-02, -8.20889175e-02,\n",
              "            1.64112329e-01, -1.06667265e-01, -1.04043677e-01,\n",
              "            1.13266774e-01,  1.21108860e-01, -5.68667389e-02,\n",
              "            1.55881956e-01,  6.78322911e-02,  2.49520898e-01,\n",
              "           -2.85131820e-02,  8.00692365e-02, -5.20151332e-02,\n",
              "            1.36613235e-01,  5.81712611e-02,  1.29039720e-01,\n",
              "            1.64624572e-01,  9.55307558e-02]],\n",
              " \n",
              "         [[ 4.45355065e-02, -7.92976916e-02,  1.05872869e-01,\n",
              "           -6.53787777e-02, -1.03486672e-01,  1.51663184e-01,\n",
              "            2.21634671e-01,  3.34758550e-01,  1.92736760e-01,\n",
              "            3.28399874e-02,  1.44203246e-01, -1.57147333e-01,\n",
              "            1.37918591e-01,  1.64463490e-01, -1.38506517e-01,\n",
              "            1.13000214e-01, -5.35245650e-02,  3.86562459e-02,\n",
              "            3.42318565e-01,  2.00418621e-01, -5.26811220e-02,\n",
              "           -5.80240823e-02,  5.00760861e-02,  1.25574142e-01,\n",
              "            2.72209086e-02,  1.84396863e-01, -5.95971309e-02,\n",
              "            2.11844444e-01, -1.83202047e-02,  2.27657095e-01,\n",
              "            7.25582838e-02,  1.15218759e-01]],\n",
              " \n",
              "         [[-1.28265977e-01, -9.23918039e-02, -4.36518788e-02,\n",
              "            2.00321618e-02,  6.46583810e-02,  9.92224738e-02,\n",
              "            2.47090295e-01,  2.17420205e-01,  1.98475756e-02,\n",
              "            6.95689917e-02,  5.06404787e-02, -1.08299658e-01,\n",
              "           -4.28353474e-02,  5.23406863e-02, -8.03067759e-02,\n",
              "            4.89346944e-02,  1.10388338e-03,  9.28890780e-02,\n",
              "            3.08340192e-01, -2.07319614e-02, -3.97464074e-02,\n",
              "            4.30583283e-02, -3.70969735e-02,  8.81887749e-02,\n",
              "           -9.03368443e-02,  1.87166423e-01, -1.36931077e-01,\n",
              "            1.15843244e-01, -4.76812162e-02,  1.95755392e-01,\n",
              "            3.98450494e-02,  9.97274518e-02]]],\n",
              " \n",
              " \n",
              "        [[[-1.36477277e-01,  1.28275603e-01,  1.51352659e-01,\n",
              "           -2.76123472e-02, -1.30140558e-01,  1.46381617e-01,\n",
              "            2.35444605e-01,  3.19899589e-01,  2.06447095e-01,\n",
              "           -1.31795183e-01, -4.46114838e-02, -1.48160877e-02,\n",
              "           -7.07103219e-03,  2.36478388e-01, -7.85382465e-02,\n",
              "            3.06653917e-01,  9.68076885e-02, -1.32873997e-01,\n",
              "            3.77340317e-01,  2.50548422e-01,  5.08968048e-02,\n",
              "            1.74889311e-01,  3.20107229e-02,  1.51757061e-01,\n",
              "           -8.35041106e-02,  1.42100811e-01, -3.15470286e-02,\n",
              "            2.57903915e-02,  1.10297669e-02, -3.67806219e-02,\n",
              "            7.96770230e-02, -4.99924682e-02]],\n",
              " \n",
              "         [[ 1.38478830e-01,  1.24059014e-01, -1.21601425e-01,\n",
              "            1.22448005e-01,  2.94557512e-02,  1.04461245e-01,\n",
              "            2.94487804e-01,  3.82678598e-01,  3.94140882e-03,\n",
              "           -5.02480054e-03,  1.00662224e-01,  8.45713913e-02,\n",
              "           -7.54007027e-02,  1.43171772e-01, -4.58097532e-02,\n",
              "            1.73452273e-02, -1.26387119e-01,  8.61538574e-02,\n",
              "            2.99836606e-01,  1.40336260e-01, -3.28794271e-02,\n",
              "            7.60924742e-02, -1.92912351e-02,  2.42042482e-01,\n",
              "            1.02640025e-01,  1.63236320e-01, -2.06757654e-02,\n",
              "            2.11156487e-01,  1.77316353e-01,  4.41140272e-02,\n",
              "            8.30146819e-02,  3.38438228e-02]],\n",
              " \n",
              "         [[ 1.44140661e-01, -3.48648764e-02,  5.41858096e-03,\n",
              "           -7.64015689e-02, -1.18406117e-01,  1.46812272e-05,\n",
              "            4.22991328e-02,  3.40406716e-01, -4.58387956e-02,\n",
              "           -9.13404077e-02,  8.89448449e-02,  2.93755401e-02,\n",
              "            8.51743817e-02,  1.03402689e-01,  3.62746604e-02,\n",
              "            1.59493670e-01, -9.69608203e-02, -9.68792886e-02,\n",
              "            1.18961528e-01,  2.91838706e-01, -3.24586369e-02,\n",
              "            8.07532892e-02, -2.36925986e-02,  1.30625721e-02,\n",
              "            7.70476460e-02,  2.08459958e-01, -6.20096177e-02,\n",
              "           -5.77793531e-02,  1.14884861e-01,  2.03442410e-01,\n",
              "           -1.05770461e-01, -2.17424985e-02]]],\n",
              " \n",
              " \n",
              "        [[[-1.36007816e-01,  1.31725833e-01,  2.97594275e-02,\n",
              "            1.62145831e-02, -2.10272558e-02,  1.79724127e-01,\n",
              "            5.83046190e-02,  1.01982318e-01,  1.61638290e-01,\n",
              "            1.12655804e-01,  1.46711528e-01,  1.90065354e-02,\n",
              "            1.87700316e-01,  1.46404639e-01, -5.39155267e-02,\n",
              "            9.13006142e-02, -1.35832310e-01, -1.12802848e-01,\n",
              "            2.18664527e-01,  2.15031028e-01, -1.40886083e-01,\n",
              "           -4.99152504e-02, -9.30254608e-02, -6.56671897e-02,\n",
              "           -1.10567130e-01, -5.35711497e-02,  1.14141084e-01,\n",
              "            3.92188057e-02,  7.44579881e-02,  2.56546121e-02,\n",
              "            1.13277674e-01, -1.48102313e-01]],\n",
              " \n",
              "         [[-1.36066824e-01, -3.67224813e-02, -2.58802399e-02,\n",
              "           -5.85098341e-02, -4.97336239e-02, -1.08824536e-01,\n",
              "           -1.98111683e-02,  9.57988873e-02,  2.35290319e-01,\n",
              "           -2.75923684e-02,  1.59112364e-02,  3.58417518e-02,\n",
              "            2.10164815e-01, -6.46299776e-03,  9.76724476e-02,\n",
              "            2.02102140e-01,  2.57015768e-02,  1.36952087e-01,\n",
              "            1.18895015e-02,  2.80807287e-01,  4.41657305e-02,\n",
              "            6.22963198e-02, -9.32735503e-02,  9.71151069e-02,\n",
              "           -5.28250542e-03, -2.09721401e-02,  1.08856251e-02,\n",
              "            1.85891747e-01,  1.46568596e-01,  4.74836305e-02,\n",
              "           -8.62505361e-02, -4.56380099e-02]],\n",
              " \n",
              "         [[ 4.82325219e-02, -1.02050938e-01, -7.95985386e-02,\n",
              "           -9.00199041e-02,  1.04100257e-01, -3.74556780e-02,\n",
              "            1.64653271e-01,  1.70710683e-01,  1.21521138e-01,\n",
              "           -9.21867415e-02, -2.54764338e-03,  1.04717895e-01,\n",
              "            3.24783335e-03,  1.30541682e-01,  8.75970814e-03,\n",
              "            5.34421951e-03, -4.78647128e-02,  8.60491768e-02,\n",
              "            1.49878010e-01,  8.50763544e-02,  4.04407047e-02,\n",
              "           -6.10259511e-02, -1.21795073e-01,  1.42149832e-02,\n",
              "           -2.34979782e-02,  9.99777243e-02,  3.08765806e-02,\n",
              "            1.48955926e-01,  1.90279707e-01,  1.06221125e-01,\n",
              "           -8.10918957e-02,  9.91525576e-02]]]], dtype=float32),\n",
              " array([-1.85513214e-04,  2.75038369e-02,  2.61070710e-02,  4.07848274e-04,\n",
              "        -1.22469664e-02, -1.30390181e-05, -9.92725231e-03, -3.14446650e-02,\n",
              "        -2.88584679e-02, -3.03490553e-02, -1.19611071e-02,  1.37726218e-01,\n",
              "         4.91570355e-03, -1.29419984e-02,  1.57212699e-03, -9.14749596e-03,\n",
              "         3.67441289e-02,  4.73929308e-02, -2.39612628e-02, -1.26252696e-02,\n",
              "        -5.75668178e-03,  5.82154235e-03,  2.87558674e-03, -3.00777843e-04,\n",
              "        -1.23156346e-02, -9.81394551e-05, -2.50024372e-03, -1.35643175e-02,\n",
              "        -1.08423468e-04, -1.90936923e-02,  4.73614316e-03,  5.92752767e-04],\n",
              "       dtype=float32)]"
            ]
          },
          "metadata": {
            "tags": []
          },
          "execution_count": 112
        }
      ]
    },
    {
      "cell_type": "markdown",
      "metadata": {
        "id": "85ginrII5sYV",
        "colab_type": "text"
      },
      "source": [
        "### Evaluate model\n",
        "- evaluate your model and get accuracy\n",
        "- use test features and labels"
      ]
    },
    {
      "cell_type": "code",
      "metadata": {
        "id": "k11-vrsm5sYW",
        "colab_type": "code",
        "colab": {
          "base_uri": "https://localhost:8080/",
          "height": 51
        },
        "outputId": "43b57344-fd6b-4677-c17e-84fc0e6d5ab6"
      },
      "source": [
        "model.evaluate(X_test_gt5, y_test_gt5)"
      ],
      "execution_count": 113,
      "outputs": [
        {
          "output_type": "stream",
          "text": [
            "4861/4861 [==============================] - 0s 62us/step\n"
          ],
          "name": "stdout"
        },
        {
          "output_type": "execute_result",
          "data": {
            "text/plain": [
              "[0.07996574751810512, 0.9722279365281955]"
            ]
          },
          "metadata": {
            "tags": []
          },
          "execution_count": 113
        }
      ]
    },
    {
      "cell_type": "markdown",
      "metadata": {
        "id": "dTNhSDqn5sYY",
        "colab_type": "text"
      },
      "source": [
        "-----------------------------------------------------------------------------"
      ]
    },
    {
      "cell_type": "markdown",
      "metadata": {
        "colab_type": "text",
        "id": "FU-HwvIdH0M-"
      },
      "source": [
        "# Sentiment analysis \n",
        "\n",
        "The objective of the second problem is to perform Sentiment analysis from the tweets collected from the users targeted at various mobile devices.\n",
        "Based on the tweet posted by a user (text), we will classify if the sentiment of the user targeted at a particular mobile device is positive or not."
      ]
    },
    {
      "cell_type": "markdown",
      "metadata": {
        "id": "aIWWfNks5sYa",
        "colab_type": "text"
      },
      "source": [
        "## Question 1"
      ]
    },
    {
      "cell_type": "code",
      "metadata": {
        "id": "4NR-jvrEaLcd",
        "colab_type": "code",
        "colab": {
          "base_uri": "https://localhost:8080/",
          "height": 139
        },
        "outputId": "8003b2a9-b942-40c2-f548-3502b5c6d5fa"
      },
      "source": [
        "from google.colab import drive\n",
        "drive.mount('/gdrive')\n",
        "%cd /gdrive/My\\ Drive/Deeplearning"
      ],
      "execution_count": 114,
      "outputs": [
        {
          "output_type": "stream",
          "text": [
            "Go to this URL in a browser: https://accounts.google.com/o/oauth2/auth?client_id=947318989803-6bn6qk8qdgf4n4g3pfee6491hc0brc4i.apps.googleusercontent.com&redirect_uri=urn%3Aietf%3Awg%3Aoauth%3A2.0%3Aoob&scope=email%20https%3A%2F%2Fwww.googleapis.com%2Fauth%2Fdocs.test%20https%3A%2F%2Fwww.googleapis.com%2Fauth%2Fdrive%20https%3A%2F%2Fwww.googleapis.com%2Fauth%2Fdrive.photos.readonly%20https%3A%2F%2Fwww.googleapis.com%2Fauth%2Fpeopleapi.readonly&response_type=code\n",
            "\n",
            "Enter your authorization code:\n",
            "··········\n",
            "Mounted at /gdrive\n",
            "/gdrive/My Drive/Deeplearning\n"
          ],
          "name": "stdout"
        }
      ]
    },
    {
      "cell_type": "markdown",
      "metadata": {
        "colab_type": "text",
        "id": "nAQDiZHRH0M_"
      },
      "source": [
        "### Read the data\n",
        "- read tweets.csv\n",
        "- use latin encoding if it gives encoding error while loading"
      ]
    },
    {
      "cell_type": "code",
      "metadata": {
        "colab_type": "code",
        "id": "3eXGIe-SH0NA",
        "colab": {
          "base_uri": "https://localhost:8080/",
          "height": 204
        },
        "outputId": "01dc0dff-848e-48dd-ee71-e2623fb1d0ac"
      },
      "source": [
        "tweets = pd.read_csv('tweets.csv', encoding='latin')\n",
        "tweets.head()"
      ],
      "execution_count": 116,
      "outputs": [
        {
          "output_type": "execute_result",
          "data": {
            "text/html": [
              "<div>\n",
              "<style scoped>\n",
              "    .dataframe tbody tr th:only-of-type {\n",
              "        vertical-align: middle;\n",
              "    }\n",
              "\n",
              "    .dataframe tbody tr th {\n",
              "        vertical-align: top;\n",
              "    }\n",
              "\n",
              "    .dataframe thead th {\n",
              "        text-align: right;\n",
              "    }\n",
              "</style>\n",
              "<table border=\"1\" class=\"dataframe\">\n",
              "  <thead>\n",
              "    <tr style=\"text-align: right;\">\n",
              "      <th></th>\n",
              "      <th>tweet_text</th>\n",
              "      <th>emotion_in_tweet_is_directed_at</th>\n",
              "      <th>is_there_an_emotion_directed_at_a_brand_or_product</th>\n",
              "    </tr>\n",
              "  </thead>\n",
              "  <tbody>\n",
              "    <tr>\n",
              "      <th>0</th>\n",
              "      <td>.@wesley83 I have a 3G iPhone. After 3 hrs twe...</td>\n",
              "      <td>iPhone</td>\n",
              "      <td>Negative emotion</td>\n",
              "    </tr>\n",
              "    <tr>\n",
              "      <th>1</th>\n",
              "      <td>@jessedee Know about @fludapp ? Awesome iPad/i...</td>\n",
              "      <td>iPad or iPhone App</td>\n",
              "      <td>Positive emotion</td>\n",
              "    </tr>\n",
              "    <tr>\n",
              "      <th>2</th>\n",
              "      <td>@swonderlin Can not wait for #iPad 2 also. The...</td>\n",
              "      <td>iPad</td>\n",
              "      <td>Positive emotion</td>\n",
              "    </tr>\n",
              "    <tr>\n",
              "      <th>3</th>\n",
              "      <td>@sxsw I hope this year's festival isn't as cra...</td>\n",
              "      <td>iPad or iPhone App</td>\n",
              "      <td>Negative emotion</td>\n",
              "    </tr>\n",
              "    <tr>\n",
              "      <th>4</th>\n",
              "      <td>@sxtxstate great stuff on Fri #SXSW: Marissa M...</td>\n",
              "      <td>Google</td>\n",
              "      <td>Positive emotion</td>\n",
              "    </tr>\n",
              "  </tbody>\n",
              "</table>\n",
              "</div>"
            ],
            "text/plain": [
              "                                          tweet_text  ... is_there_an_emotion_directed_at_a_brand_or_product\n",
              "0  .@wesley83 I have a 3G iPhone. After 3 hrs twe...  ...                                   Negative emotion\n",
              "1  @jessedee Know about @fludapp ? Awesome iPad/i...  ...                                   Positive emotion\n",
              "2  @swonderlin Can not wait for #iPad 2 also. The...  ...                                   Positive emotion\n",
              "3  @sxsw I hope this year's festival isn't as cra...  ...                                   Negative emotion\n",
              "4  @sxtxstate great stuff on Fri #SXSW: Marissa M...  ...                                   Positive emotion\n",
              "\n",
              "[5 rows x 3 columns]"
            ]
          },
          "metadata": {
            "tags": []
          },
          "execution_count": 116
        }
      ]
    },
    {
      "cell_type": "markdown",
      "metadata": {
        "id": "39pqw0aE5sYe",
        "colab_type": "text"
      },
      "source": [
        "### Drop null values\n",
        "- drop all the rows with null values"
      ]
    },
    {
      "cell_type": "code",
      "metadata": {
        "id": "BF_69oyI5sYf",
        "colab_type": "code",
        "colab": {
          "base_uri": "https://localhost:8080/",
          "height": 85
        },
        "outputId": "5094bcb4-40b5-4eac-ea00-6818c08f40b1"
      },
      "source": [
        "tweets.isna().sum()"
      ],
      "execution_count": 120,
      "outputs": [
        {
          "output_type": "execute_result",
          "data": {
            "text/plain": [
              "tweet_text                                               1\n",
              "emotion_in_tweet_is_directed_at                       5802\n",
              "is_there_an_emotion_directed_at_a_brand_or_product       0\n",
              "dtype: int64"
            ]
          },
          "metadata": {
            "tags": []
          },
          "execution_count": 120
        }
      ]
    },
    {
      "cell_type": "code",
      "metadata": {
        "id": "hr00OzcOa2wO",
        "colab_type": "code",
        "colab": {
          "base_uri": "https://localhost:8080/",
          "height": 153
        },
        "outputId": "80ca8572-bea0-4a78-ce8a-369c1d3b5a73"
      },
      "source": [
        "tweets.info()"
      ],
      "execution_count": 119,
      "outputs": [
        {
          "output_type": "stream",
          "text": [
            "<class 'pandas.core.frame.DataFrame'>\n",
            "RangeIndex: 9093 entries, 0 to 9092\n",
            "Data columns (total 3 columns):\n",
            "tweet_text                                            9092 non-null object\n",
            "emotion_in_tweet_is_directed_at                       3291 non-null object\n",
            "is_there_an_emotion_directed_at_a_brand_or_product    9093 non-null object\n",
            "dtypes: object(3)\n",
            "memory usage: 213.2+ KB\n"
          ],
          "name": "stdout"
        }
      ]
    },
    {
      "cell_type": "code",
      "metadata": {
        "id": "RDS5whQZbNvZ",
        "colab_type": "code",
        "colab": {
          "base_uri": "https://localhost:8080/",
          "height": 80
        },
        "outputId": "6fb7c314-7e93-4a15-f29c-080ad6df4ea9"
      },
      "source": [
        "tweets.loc[tweets['tweet_text'].isna()]"
      ],
      "execution_count": 123,
      "outputs": [
        {
          "output_type": "execute_result",
          "data": {
            "text/html": [
              "<div>\n",
              "<style scoped>\n",
              "    .dataframe tbody tr th:only-of-type {\n",
              "        vertical-align: middle;\n",
              "    }\n",
              "\n",
              "    .dataframe tbody tr th {\n",
              "        vertical-align: top;\n",
              "    }\n",
              "\n",
              "    .dataframe thead th {\n",
              "        text-align: right;\n",
              "    }\n",
              "</style>\n",
              "<table border=\"1\" class=\"dataframe\">\n",
              "  <thead>\n",
              "    <tr style=\"text-align: right;\">\n",
              "      <th></th>\n",
              "      <th>tweet_text</th>\n",
              "      <th>emotion_in_tweet_is_directed_at</th>\n",
              "      <th>is_there_an_emotion_directed_at_a_brand_or_product</th>\n",
              "    </tr>\n",
              "  </thead>\n",
              "  <tbody>\n",
              "    <tr>\n",
              "      <th>6</th>\n",
              "      <td>NaN</td>\n",
              "      <td>NaN</td>\n",
              "      <td>No emotion toward brand or product</td>\n",
              "    </tr>\n",
              "  </tbody>\n",
              "</table>\n",
              "</div>"
            ],
            "text/plain": [
              "  tweet_text  ... is_there_an_emotion_directed_at_a_brand_or_product\n",
              "6        NaN  ...                 No emotion toward brand or product\n",
              "\n",
              "[1 rows x 3 columns]"
            ]
          },
          "metadata": {
            "tags": []
          },
          "execution_count": 123
        }
      ]
    },
    {
      "cell_type": "code",
      "metadata": {
        "id": "7vAZ6Q4nbpE6",
        "colab_type": "code",
        "colab": {}
      },
      "source": [
        "tweets_df = tweets.dropna()"
      ],
      "execution_count": 0,
      "outputs": []
    },
    {
      "cell_type": "code",
      "metadata": {
        "id": "AEGwALg9b7yx",
        "colab_type": "code",
        "colab": {
          "base_uri": "https://localhost:8080/",
          "height": 85
        },
        "outputId": "fb2bc44a-b6c3-4081-c127-ffb1099d0e45"
      },
      "source": [
        "tweets_df.isna().sum()"
      ],
      "execution_count": 126,
      "outputs": [
        {
          "output_type": "execute_result",
          "data": {
            "text/plain": [
              "tweet_text                                            0\n",
              "emotion_in_tweet_is_directed_at                       0\n",
              "is_there_an_emotion_directed_at_a_brand_or_product    0\n",
              "dtype: int64"
            ]
          },
          "metadata": {
            "tags": []
          },
          "execution_count": 126
        }
      ]
    },
    {
      "cell_type": "markdown",
      "metadata": {
        "id": "0bm4bDiy5sYg",
        "colab_type": "text"
      },
      "source": [
        "### Print the dataframe\n",
        "- print initial 5 rows of the data\n",
        "- use df.head()"
      ]
    },
    {
      "cell_type": "code",
      "metadata": {
        "scrolled": true,
        "id": "ceSlvAVa5sYh",
        "colab_type": "code",
        "colab": {
          "base_uri": "https://localhost:8080/",
          "height": 204
        },
        "outputId": "b2cd248d-80d8-44c4-8ad7-78995dbd09c2"
      },
      "source": [
        "tweets_df.head()"
      ],
      "execution_count": 125,
      "outputs": [
        {
          "output_type": "execute_result",
          "data": {
            "text/html": [
              "<div>\n",
              "<style scoped>\n",
              "    .dataframe tbody tr th:only-of-type {\n",
              "        vertical-align: middle;\n",
              "    }\n",
              "\n",
              "    .dataframe tbody tr th {\n",
              "        vertical-align: top;\n",
              "    }\n",
              "\n",
              "    .dataframe thead th {\n",
              "        text-align: right;\n",
              "    }\n",
              "</style>\n",
              "<table border=\"1\" class=\"dataframe\">\n",
              "  <thead>\n",
              "    <tr style=\"text-align: right;\">\n",
              "      <th></th>\n",
              "      <th>tweet_text</th>\n",
              "      <th>emotion_in_tweet_is_directed_at</th>\n",
              "      <th>is_there_an_emotion_directed_at_a_brand_or_product</th>\n",
              "    </tr>\n",
              "  </thead>\n",
              "  <tbody>\n",
              "    <tr>\n",
              "      <th>0</th>\n",
              "      <td>.@wesley83 I have a 3G iPhone. After 3 hrs twe...</td>\n",
              "      <td>iPhone</td>\n",
              "      <td>Negative emotion</td>\n",
              "    </tr>\n",
              "    <tr>\n",
              "      <th>1</th>\n",
              "      <td>@jessedee Know about @fludapp ? Awesome iPad/i...</td>\n",
              "      <td>iPad or iPhone App</td>\n",
              "      <td>Positive emotion</td>\n",
              "    </tr>\n",
              "    <tr>\n",
              "      <th>2</th>\n",
              "      <td>@swonderlin Can not wait for #iPad 2 also. The...</td>\n",
              "      <td>iPad</td>\n",
              "      <td>Positive emotion</td>\n",
              "    </tr>\n",
              "    <tr>\n",
              "      <th>3</th>\n",
              "      <td>@sxsw I hope this year's festival isn't as cra...</td>\n",
              "      <td>iPad or iPhone App</td>\n",
              "      <td>Negative emotion</td>\n",
              "    </tr>\n",
              "    <tr>\n",
              "      <th>4</th>\n",
              "      <td>@sxtxstate great stuff on Fri #SXSW: Marissa M...</td>\n",
              "      <td>Google</td>\n",
              "      <td>Positive emotion</td>\n",
              "    </tr>\n",
              "  </tbody>\n",
              "</table>\n",
              "</div>"
            ],
            "text/plain": [
              "                                          tweet_text  ... is_there_an_emotion_directed_at_a_brand_or_product\n",
              "0  .@wesley83 I have a 3G iPhone. After 3 hrs twe...  ...                                   Negative emotion\n",
              "1  @jessedee Know about @fludapp ? Awesome iPad/i...  ...                                   Positive emotion\n",
              "2  @swonderlin Can not wait for #iPad 2 also. The...  ...                                   Positive emotion\n",
              "3  @sxsw I hope this year's festival isn't as cra...  ...                                   Negative emotion\n",
              "4  @sxtxstate great stuff on Fri #SXSW: Marissa M...  ...                                   Positive emotion\n",
              "\n",
              "[5 rows x 3 columns]"
            ]
          },
          "metadata": {
            "tags": []
          },
          "execution_count": 125
        }
      ]
    },
    {
      "cell_type": "code",
      "metadata": {
        "id": "fAAVpF-fcAtn",
        "colab_type": "code",
        "colab": {
          "base_uri": "https://localhost:8080/",
          "height": 34
        },
        "outputId": "669acfd9-72d4-4433-c266-23256782ea93"
      },
      "source": [
        "tweets_df.shape"
      ],
      "execution_count": 127,
      "outputs": [
        {
          "output_type": "execute_result",
          "data": {
            "text/plain": [
              "(3291, 3)"
            ]
          },
          "metadata": {
            "tags": []
          },
          "execution_count": 127
        }
      ]
    },
    {
      "cell_type": "markdown",
      "metadata": {
        "id": "jcWfPVqG5sYi",
        "colab_type": "text"
      },
      "source": [
        "## Question 2"
      ]
    },
    {
      "cell_type": "markdown",
      "metadata": {
        "id": "JBbAeip_5sYj",
        "colab_type": "text"
      },
      "source": [
        "### Preprocess data\n",
        "- convert all text to lowercase - use .lower()\n",
        "- select only numbers, alphabets, and #+_ from text - use re.sub()\n",
        "- strip all the text - use .strip()\n",
        "    - this is for removing extra spaces"
      ]
    },
    {
      "cell_type": "code",
      "metadata": {
        "id": "PE4Bn_YT5sYj",
        "colab_type": "code",
        "colab": {}
      },
      "source": [
        "tweets_df['tweet_text'] = tweets_df['tweet_text'].str.lower()"
      ],
      "execution_count": 0,
      "outputs": []
    },
    {
      "cell_type": "markdown",
      "metadata": {
        "id": "QlMvbtrK5sYl",
        "colab_type": "text"
      },
      "source": [
        "print dataframe"
      ]
    },
    {
      "cell_type": "code",
      "metadata": {
        "id": "afocjaUn5sYm",
        "colab_type": "code",
        "colab": {
          "base_uri": "https://localhost:8080/",
          "height": 1000
        },
        "outputId": "e9f7fdca-ebb5-41d1-d0ac-ef537e9f1111"
      },
      "source": [
        "tweets_df"
      ],
      "execution_count": 133,
      "outputs": [
        {
          "output_type": "execute_result",
          "data": {
            "text/html": [
              "<div>\n",
              "<style scoped>\n",
              "    .dataframe tbody tr th:only-of-type {\n",
              "        vertical-align: middle;\n",
              "    }\n",
              "\n",
              "    .dataframe tbody tr th {\n",
              "        vertical-align: top;\n",
              "    }\n",
              "\n",
              "    .dataframe thead th {\n",
              "        text-align: right;\n",
              "    }\n",
              "</style>\n",
              "<table border=\"1\" class=\"dataframe\">\n",
              "  <thead>\n",
              "    <tr style=\"text-align: right;\">\n",
              "      <th></th>\n",
              "      <th>tweet_text</th>\n",
              "      <th>emotion_in_tweet_is_directed_at</th>\n",
              "      <th>is_there_an_emotion_directed_at_a_brand_or_product</th>\n",
              "    </tr>\n",
              "  </thead>\n",
              "  <tbody>\n",
              "    <tr>\n",
              "      <th>0</th>\n",
              "      <td>.@wesley83 i have a 3g iphone. after 3 hrs twe...</td>\n",
              "      <td>iPhone</td>\n",
              "      <td>Negative emotion</td>\n",
              "    </tr>\n",
              "    <tr>\n",
              "      <th>1</th>\n",
              "      <td>@jessedee know about @fludapp ? awesome ipad/i...</td>\n",
              "      <td>iPad or iPhone App</td>\n",
              "      <td>Positive emotion</td>\n",
              "    </tr>\n",
              "    <tr>\n",
              "      <th>2</th>\n",
              "      <td>@swonderlin can not wait for #ipad 2 also. the...</td>\n",
              "      <td>iPad</td>\n",
              "      <td>Positive emotion</td>\n",
              "    </tr>\n",
              "    <tr>\n",
              "      <th>3</th>\n",
              "      <td>@sxsw i hope this year's festival isn't as cra...</td>\n",
              "      <td>iPad or iPhone App</td>\n",
              "      <td>Negative emotion</td>\n",
              "    </tr>\n",
              "    <tr>\n",
              "      <th>4</th>\n",
              "      <td>@sxtxstate great stuff on fri #sxsw: marissa m...</td>\n",
              "      <td>Google</td>\n",
              "      <td>Positive emotion</td>\n",
              "    </tr>\n",
              "    <tr>\n",
              "      <th>7</th>\n",
              "      <td>#sxsw is just starting, #ctia is around the co...</td>\n",
              "      <td>Android</td>\n",
              "      <td>Positive emotion</td>\n",
              "    </tr>\n",
              "    <tr>\n",
              "      <th>8</th>\n",
              "      <td>beautifully smart and simple idea rt @madebyma...</td>\n",
              "      <td>iPad or iPhone App</td>\n",
              "      <td>Positive emotion</td>\n",
              "    </tr>\n",
              "    <tr>\n",
              "      <th>9</th>\n",
              "      <td>counting down the days to #sxsw plus strong ca...</td>\n",
              "      <td>Apple</td>\n",
              "      <td>Positive emotion</td>\n",
              "    </tr>\n",
              "    <tr>\n",
              "      <th>10</th>\n",
              "      <td>excited to meet the @samsungmobileus at #sxsw ...</td>\n",
              "      <td>Android</td>\n",
              "      <td>Positive emotion</td>\n",
              "    </tr>\n",
              "    <tr>\n",
              "      <th>11</th>\n",
              "      <td>find &amp;amp; start impromptu parties at #sxsw wi...</td>\n",
              "      <td>Android App</td>\n",
              "      <td>Positive emotion</td>\n",
              "    </tr>\n",
              "    <tr>\n",
              "      <th>12</th>\n",
              "      <td>foursquare ups the game, just in time for #sxs...</td>\n",
              "      <td>Android App</td>\n",
              "      <td>Positive emotion</td>\n",
              "    </tr>\n",
              "    <tr>\n",
              "      <th>13</th>\n",
              "      <td>gotta love this #sxsw google calendar featurin...</td>\n",
              "      <td>Other Google product or service</td>\n",
              "      <td>Positive emotion</td>\n",
              "    </tr>\n",
              "    <tr>\n",
              "      <th>14</th>\n",
              "      <td>great #sxsw ipad app from @madebymany: http://...</td>\n",
              "      <td>iPad or iPhone App</td>\n",
              "      <td>Positive emotion</td>\n",
              "    </tr>\n",
              "    <tr>\n",
              "      <th>15</th>\n",
              "      <td>haha, awesomely rad ipad app by @madebymany ht...</td>\n",
              "      <td>iPad or iPhone App</td>\n",
              "      <td>Positive emotion</td>\n",
              "    </tr>\n",
              "    <tr>\n",
              "      <th>17</th>\n",
              "      <td>i just noticed dst is coming this weekend. how...</td>\n",
              "      <td>iPhone</td>\n",
              "      <td>Negative emotion</td>\n",
              "    </tr>\n",
              "    <tr>\n",
              "      <th>18</th>\n",
              "      <td>just added my #sxsw flights to @planely. match...</td>\n",
              "      <td>iPad or iPhone App</td>\n",
              "      <td>Positive emotion</td>\n",
              "    </tr>\n",
              "    <tr>\n",
              "      <th>19</th>\n",
              "      <td>must have #sxsw app! rt @malbonster: lovely re...</td>\n",
              "      <td>iPad or iPhone App</td>\n",
              "      <td>Positive emotion</td>\n",
              "    </tr>\n",
              "    <tr>\n",
              "      <th>20</th>\n",
              "      <td>need to buy an ipad2 while i'm in austin at #s...</td>\n",
              "      <td>iPad</td>\n",
              "      <td>Positive emotion</td>\n",
              "    </tr>\n",
              "    <tr>\n",
              "      <th>21</th>\n",
              "      <td>oh. my. god. the #sxsw app for ipad is pure, u...</td>\n",
              "      <td>iPad or iPhone App</td>\n",
              "      <td>Positive emotion</td>\n",
              "    </tr>\n",
              "    <tr>\n",
              "      <th>22</th>\n",
              "      <td>okay, this is really it: yay new @foursquare f...</td>\n",
              "      <td>Android App</td>\n",
              "      <td>Positive emotion</td>\n",
              "    </tr>\n",
              "    <tr>\n",
              "      <th>23</th>\n",
              "      <td>photo: just installed the #sxsw iphone app, wh...</td>\n",
              "      <td>iPad or iPhone App</td>\n",
              "      <td>Positive emotion</td>\n",
              "    </tr>\n",
              "    <tr>\n",
              "      <th>24</th>\n",
              "      <td>really enjoying the changes in gowalla 3.0 for...</td>\n",
              "      <td>Android App</td>\n",
              "      <td>Positive emotion</td>\n",
              "    </tr>\n",
              "    <tr>\n",
              "      <th>25</th>\n",
              "      <td>rt @laurieshook: i'm looking forward to the #s...</td>\n",
              "      <td>iPad</td>\n",
              "      <td>Positive emotion</td>\n",
              "    </tr>\n",
              "    <tr>\n",
              "      <th>26</th>\n",
              "      <td>rt haha, awesomely rad ipad app by @madebymany...</td>\n",
              "      <td>iPad or iPhone App</td>\n",
              "      <td>Positive emotion</td>\n",
              "    </tr>\n",
              "    <tr>\n",
              "      <th>27</th>\n",
              "      <td>someone started an #austin @partnerhub group i...</td>\n",
              "      <td>Other Google product or service</td>\n",
              "      <td>Positive emotion</td>\n",
              "    </tr>\n",
              "    <tr>\n",
              "      <th>28</th>\n",
              "      <td>the new #4sq3 looks like it is going to rock. ...</td>\n",
              "      <td>iPad or iPhone App</td>\n",
              "      <td>Positive emotion</td>\n",
              "    </tr>\n",
              "    <tr>\n",
              "      <th>29</th>\n",
              "      <td>they were right, the @gowalla 3 app on #androi...</td>\n",
              "      <td>Android App</td>\n",
              "      <td>Positive emotion</td>\n",
              "    </tr>\n",
              "    <tr>\n",
              "      <th>30</th>\n",
              "      <td>very smart from @madebymany #hollergram ipad a...</td>\n",
              "      <td>iPad or iPhone App</td>\n",
              "      <td>Positive emotion</td>\n",
              "    </tr>\n",
              "    <tr>\n",
              "      <th>31</th>\n",
              "      <td>you must have this app for your ipad if you ar...</td>\n",
              "      <td>iPad or iPhone App</td>\n",
              "      <td>Positive emotion</td>\n",
              "    </tr>\n",
              "    <tr>\n",
              "      <th>36</th>\n",
              "      <td>the best!  rt @mention ha! first in line for #...</td>\n",
              "      <td>iPad</td>\n",
              "      <td>Positive emotion</td>\n",
              "    </tr>\n",
              "    <tr>\n",
              "      <th>...</th>\n",
              "      <td>...</td>\n",
              "      <td>...</td>\n",
              "      <td>...</td>\n",
              "    </tr>\n",
              "    <tr>\n",
              "      <th>9008</th>\n",
              "      <td>i'm pretty sure the panelist that thinks &amp;quot...</td>\n",
              "      <td>Apple</td>\n",
              "      <td>Negative emotion</td>\n",
              "    </tr>\n",
              "    <tr>\n",
              "      <th>9009</th>\n",
              "      <td>very happy that discovr has been named as one ...</td>\n",
              "      <td>iPad or iPhone App</td>\n",
              "      <td>Positive emotion</td>\n",
              "    </tr>\n",
              "    <tr>\n",
              "      <th>9012</th>\n",
              "      <td>apparently there is an ipad and iphone app to ...</td>\n",
              "      <td>iPad or iPhone App</td>\n",
              "      <td>Positive emotion</td>\n",
              "    </tr>\n",
              "    <tr>\n",
              "      <th>9013</th>\n",
              "      <td>on the way to #sxsw, see you all tonight! hope...</td>\n",
              "      <td>iPad</td>\n",
              "      <td>Positive emotion</td>\n",
              "    </tr>\n",
              "    <tr>\n",
              "      <th>9017</th>\n",
              "      <td>stopped by tron legacy lounge at  #sxsw. audio...</td>\n",
              "      <td>iPad</td>\n",
              "      <td>Positive emotion</td>\n",
              "    </tr>\n",
              "    <tr>\n",
              "      <th>9018</th>\n",
              "      <td>second day using my apple ipad2 at #sxsw and i...</td>\n",
              "      <td>iPad</td>\n",
              "      <td>Positive emotion</td>\n",
              "    </tr>\n",
              "    <tr>\n",
              "      <th>9022</th>\n",
              "      <td>by the way, i love that y'all are so down to d...</td>\n",
              "      <td>Apple</td>\n",
              "      <td>Positive emotion</td>\n",
              "    </tr>\n",
              "    <tr>\n",
              "      <th>9025</th>\n",
              "      <td>absolutely!  rt @mention timely good schtuff f...</td>\n",
              "      <td>Other Google product or service</td>\n",
              "      <td>Positive emotion</td>\n",
              "    </tr>\n",
              "    <tr>\n",
              "      <th>9027</th>\n",
              "      <td>good job y'all!  rt @mention yes! gowalla wins...</td>\n",
              "      <td>Android App</td>\n",
              "      <td>Positive emotion</td>\n",
              "    </tr>\n",
              "    <tr>\n",
              "      <th>9029</th>\n",
              "      <td>[top story] at #sxsw, apple schools the market...</td>\n",
              "      <td>Apple</td>\n",
              "      <td>Positive emotion</td>\n",
              "    </tr>\n",
              "    <tr>\n",
              "      <th>9033</th>\n",
              "      <td>@mention yep! i can't believe they set up a po...</td>\n",
              "      <td>Apple</td>\n",
              "      <td>Positive emotion</td>\n",
              "    </tr>\n",
              "    <tr>\n",
              "      <th>9035</th>\n",
              "      <td>@mention yes, i picked up the ipad 2 at #sxsw....</td>\n",
              "      <td>iPad</td>\n",
              "      <td>Positive emotion</td>\n",
              "    </tr>\n",
              "    <tr>\n",
              "      <th>9036</th>\n",
              "      <td>@mention yes, that's why i favorited it! i wan...</td>\n",
              "      <td>iPad</td>\n",
              "      <td>Positive emotion</td>\n",
              "    </tr>\n",
              "    <tr>\n",
              "      <th>9044</th>\n",
              "      <td>look everyone! zomg @mention got an ipad 2 on ...</td>\n",
              "      <td>iPad</td>\n",
              "      <td>Positive emotion</td>\n",
              "    </tr>\n",
              "    <tr>\n",
              "      <th>9045</th>\n",
              "      <td>@mention you are my favorite-- thanks for comi...</td>\n",
              "      <td>iPhone</td>\n",
              "      <td>Positive emotion</td>\n",
              "    </tr>\n",
              "    <tr>\n",
              "      <th>9048</th>\n",
              "      <td>@mention you bet man! kindle and apple for sur...</td>\n",
              "      <td>Apple</td>\n",
              "      <td>Positive emotion</td>\n",
              "    </tr>\n",
              "    <tr>\n",
              "      <th>9051</th>\n",
              "      <td>@mention you can get an ipad 1 for under $350 ...</td>\n",
              "      <td>iPad</td>\n",
              "      <td>No emotion toward brand or product</td>\n",
              "    </tr>\n",
              "    <tr>\n",
              "      <th>9060</th>\n",
              "      <td>@mention you might also appreciate new iphone ...</td>\n",
              "      <td>iPad or iPhone App</td>\n",
              "      <td>Positive emotion</td>\n",
              "    </tr>\n",
              "    <tr>\n",
              "      <th>9061</th>\n",
              "      <td>@mention you realize i'm still padless? i just...</td>\n",
              "      <td>iPad</td>\n",
              "      <td>Positive emotion</td>\n",
              "    </tr>\n",
              "    <tr>\n",
              "      <th>9063</th>\n",
              "      <td>@mention you should get the ipad 2  to save yo...</td>\n",
              "      <td>iPad</td>\n",
              "      <td>Positive emotion</td>\n",
              "    </tr>\n",
              "    <tr>\n",
              "      <th>9064</th>\n",
              "      <td>@mention you should see the line here at #sxsw...</td>\n",
              "      <td>Apple</td>\n",
              "      <td>Positive emotion</td>\n",
              "    </tr>\n",
              "    <tr>\n",
              "      <th>9066</th>\n",
              "      <td>how much you want to bet apple is disproportio...</td>\n",
              "      <td>Apple</td>\n",
              "      <td>I can't tell</td>\n",
              "    </tr>\n",
              "    <tr>\n",
              "      <th>9070</th>\n",
              "      <td>you know you've made it to #sxsw when you see ...</td>\n",
              "      <td>iPad</td>\n",
              "      <td>Positive emotion</td>\n",
              "    </tr>\n",
              "    <tr>\n",
              "      <th>9071</th>\n",
              "      <td>what are your essentials for #sxsw?  mine? poc...</td>\n",
              "      <td>iPad</td>\n",
              "      <td>Positive emotion</td>\n",
              "    </tr>\n",
              "    <tr>\n",
              "      <th>9072</th>\n",
              "      <td>@mention your iphone 4 cases are rad and ready...</td>\n",
              "      <td>iPhone</td>\n",
              "      <td>Positive emotion</td>\n",
              "    </tr>\n",
              "    <tr>\n",
              "      <th>9077</th>\n",
              "      <td>@mention your pr guy just convinced me to swit...</td>\n",
              "      <td>iPhone</td>\n",
              "      <td>Positive emotion</td>\n",
              "    </tr>\n",
              "    <tr>\n",
              "      <th>9079</th>\n",
              "      <td>&amp;quot;papyrus...sort of like the ipad&amp;quot; - ...</td>\n",
              "      <td>iPad</td>\n",
              "      <td>Positive emotion</td>\n",
              "    </tr>\n",
              "    <tr>\n",
              "      <th>9080</th>\n",
              "      <td>diller says google tv &amp;quot;might be run over ...</td>\n",
              "      <td>Other Google product or service</td>\n",
              "      <td>Negative emotion</td>\n",
              "    </tr>\n",
              "    <tr>\n",
              "      <th>9085</th>\n",
              "      <td>i've always used camera+ for my iphone b/c it ...</td>\n",
              "      <td>iPad or iPhone App</td>\n",
              "      <td>Positive emotion</td>\n",
              "    </tr>\n",
              "    <tr>\n",
              "      <th>9088</th>\n",
              "      <td>ipad everywhere. #sxsw {link}</td>\n",
              "      <td>iPad</td>\n",
              "      <td>Positive emotion</td>\n",
              "    </tr>\n",
              "  </tbody>\n",
              "</table>\n",
              "<p>3291 rows × 3 columns</p>\n",
              "</div>"
            ],
            "text/plain": [
              "                                             tweet_text  ... is_there_an_emotion_directed_at_a_brand_or_product\n",
              "0     .@wesley83 i have a 3g iphone. after 3 hrs twe...  ...                                   Negative emotion\n",
              "1     @jessedee know about @fludapp ? awesome ipad/i...  ...                                   Positive emotion\n",
              "2     @swonderlin can not wait for #ipad 2 also. the...  ...                                   Positive emotion\n",
              "3     @sxsw i hope this year's festival isn't as cra...  ...                                   Negative emotion\n",
              "4     @sxtxstate great stuff on fri #sxsw: marissa m...  ...                                   Positive emotion\n",
              "7     #sxsw is just starting, #ctia is around the co...  ...                                   Positive emotion\n",
              "8     beautifully smart and simple idea rt @madebyma...  ...                                   Positive emotion\n",
              "9     counting down the days to #sxsw plus strong ca...  ...                                   Positive emotion\n",
              "10    excited to meet the @samsungmobileus at #sxsw ...  ...                                   Positive emotion\n",
              "11    find &amp; start impromptu parties at #sxsw wi...  ...                                   Positive emotion\n",
              "12    foursquare ups the game, just in time for #sxs...  ...                                   Positive emotion\n",
              "13    gotta love this #sxsw google calendar featurin...  ...                                   Positive emotion\n",
              "14    great #sxsw ipad app from @madebymany: http://...  ...                                   Positive emotion\n",
              "15    haha, awesomely rad ipad app by @madebymany ht...  ...                                   Positive emotion\n",
              "17    i just noticed dst is coming this weekend. how...  ...                                   Negative emotion\n",
              "18    just added my #sxsw flights to @planely. match...  ...                                   Positive emotion\n",
              "19    must have #sxsw app! rt @malbonster: lovely re...  ...                                   Positive emotion\n",
              "20    need to buy an ipad2 while i'm in austin at #s...  ...                                   Positive emotion\n",
              "21    oh. my. god. the #sxsw app for ipad is pure, u...  ...                                   Positive emotion\n",
              "22    okay, this is really it: yay new @foursquare f...  ...                                   Positive emotion\n",
              "23    photo: just installed the #sxsw iphone app, wh...  ...                                   Positive emotion\n",
              "24    really enjoying the changes in gowalla 3.0 for...  ...                                   Positive emotion\n",
              "25    rt @laurieshook: i'm looking forward to the #s...  ...                                   Positive emotion\n",
              "26    rt haha, awesomely rad ipad app by @madebymany...  ...                                   Positive emotion\n",
              "27    someone started an #austin @partnerhub group i...  ...                                   Positive emotion\n",
              "28    the new #4sq3 looks like it is going to rock. ...  ...                                   Positive emotion\n",
              "29    they were right, the @gowalla 3 app on #androi...  ...                                   Positive emotion\n",
              "30    very smart from @madebymany #hollergram ipad a...  ...                                   Positive emotion\n",
              "31    you must have this app for your ipad if you ar...  ...                                   Positive emotion\n",
              "36    the best!  rt @mention ha! first in line for #...  ...                                   Positive emotion\n",
              "...                                                 ...  ...                                                ...\n",
              "9008  i'm pretty sure the panelist that thinks &quot...  ...                                   Negative emotion\n",
              "9009  very happy that discovr has been named as one ...  ...                                   Positive emotion\n",
              "9012  apparently there is an ipad and iphone app to ...  ...                                   Positive emotion\n",
              "9013  on the way to #sxsw, see you all tonight! hope...  ...                                   Positive emotion\n",
              "9017  stopped by tron legacy lounge at  #sxsw. audio...  ...                                   Positive emotion\n",
              "9018  second day using my apple ipad2 at #sxsw and i...  ...                                   Positive emotion\n",
              "9022  by the way, i love that y'all are so down to d...  ...                                   Positive emotion\n",
              "9025  absolutely!  rt @mention timely good schtuff f...  ...                                   Positive emotion\n",
              "9027  good job y'all!  rt @mention yes! gowalla wins...  ...                                   Positive emotion\n",
              "9029  [top story] at #sxsw, apple schools the market...  ...                                   Positive emotion\n",
              "9033  @mention yep! i can't believe they set up a po...  ...                                   Positive emotion\n",
              "9035  @mention yes, i picked up the ipad 2 at #sxsw....  ...                                   Positive emotion\n",
              "9036  @mention yes, that's why i favorited it! i wan...  ...                                   Positive emotion\n",
              "9044  look everyone! zomg @mention got an ipad 2 on ...  ...                                   Positive emotion\n",
              "9045  @mention you are my favorite-- thanks for comi...  ...                                   Positive emotion\n",
              "9048  @mention you bet man! kindle and apple for sur...  ...                                   Positive emotion\n",
              "9051  @mention you can get an ipad 1 for under $350 ...  ...                 No emotion toward brand or product\n",
              "9060  @mention you might also appreciate new iphone ...  ...                                   Positive emotion\n",
              "9061  @mention you realize i'm still padless? i just...  ...                                   Positive emotion\n",
              "9063  @mention you should get the ipad 2  to save yo...  ...                                   Positive emotion\n",
              "9064  @mention you should see the line here at #sxsw...  ...                                   Positive emotion\n",
              "9066  how much you want to bet apple is disproportio...  ...                                       I can't tell\n",
              "9070  you know you've made it to #sxsw when you see ...  ...                                   Positive emotion\n",
              "9071  what are your essentials for #sxsw?  mine? poc...  ...                                   Positive emotion\n",
              "9072  @mention your iphone 4 cases are rad and ready...  ...                                   Positive emotion\n",
              "9077  @mention your pr guy just convinced me to swit...  ...                                   Positive emotion\n",
              "9079  &quot;papyrus...sort of like the ipad&quot; - ...  ...                                   Positive emotion\n",
              "9080  diller says google tv &quot;might be run over ...  ...                                   Negative emotion\n",
              "9085  i've always used camera+ for my iphone b/c it ...  ...                                   Positive emotion\n",
              "9088                      ipad everywhere. #sxsw {link}  ...                                   Positive emotion\n",
              "\n",
              "[3291 rows x 3 columns]"
            ]
          },
          "metadata": {
            "tags": []
          },
          "execution_count": 133
        }
      ]
    },
    {
      "cell_type": "markdown",
      "metadata": {
        "id": "bcTUnvtg5sYn",
        "colab_type": "text"
      },
      "source": [
        "## Question 3"
      ]
    },
    {
      "cell_type": "markdown",
      "metadata": {
        "id": "4gnaeSXZ5sYo",
        "colab_type": "text"
      },
      "source": [
        "### Preprocess data\n",
        "- in column \"is_there_an_emotion_directed_at_a_brand_or_product\"\n",
        "    - select only those rows where value equal to \"positive emotion\" or \"negative emotion\"\n",
        "- find the value counts of \"positive emotion\" and \"negative emotion\""
      ]
    },
    {
      "cell_type": "code",
      "metadata": {
        "id": "nLewJh_35sYp",
        "colab_type": "code",
        "colab": {}
      },
      "source": [
        "tweets_new_df = tweets_df.loc[np.where((tweets_df['is_there_an_emotion_directed_at_a_brand_or_product'] == \"Positive emotion\") |\n",
        "      (tweets_df['is_there_an_emotion_directed_at_a_brand_or_product'] == \"Negative emotion\"))]\n"
      ],
      "execution_count": 0,
      "outputs": []
    },
    {
      "cell_type": "code",
      "metadata": {
        "id": "3VFYB4eh5sYr",
        "colab_type": "code",
        "colab": {}
      },
      "source": [
        "tweets_new_df.dropna(inplace=True)"
      ],
      "execution_count": 0,
      "outputs": []
    },
    {
      "cell_type": "markdown",
      "metadata": {
        "id": "6icGcVTE5sYz",
        "colab_type": "text"
      },
      "source": [
        "## Question 4"
      ]
    },
    {
      "cell_type": "markdown",
      "metadata": {
        "id": "Rg0rSepj5sYz",
        "colab_type": "text"
      },
      "source": [
        "### Encode labels\n",
        "- in column \"is_there_an_emotion_directed_at_a_brand_or_product\"\n",
        "    - change \"positive emotion\" to 1\n",
        "    - change \"negative emotion\" to 0\n",
        "- use map function to replace values"
      ]
    },
    {
      "cell_type": "code",
      "metadata": {
        "id": "TZu9AvRbf-cj",
        "colab_type": "code",
        "colab": {}
      },
      "source": [
        "def encode_labels(tweet):\n",
        "  # print(tweet)\n",
        "  if(tweet == 'Positive emotion'):\n",
        "    return 1\n",
        "  else:\n",
        "    return 0"
      ],
      "execution_count": 0,
      "outputs": []
    },
    {
      "cell_type": "code",
      "metadata": {
        "colab_type": "code",
        "id": "YftKwFv7H0N9",
        "colab": {}
      },
      "source": [
        "tweets_new_df['is_there_an_emotion_directed_at_a_brand_or_product'] = tweets_new_df['is_there_an_emotion_directed_at_a_brand_or_product'].apply(lambda tweet: encode_labels(tweet))"
      ],
      "execution_count": 0,
      "outputs": []
    },
    {
      "cell_type": "code",
      "metadata": {
        "id": "kjAaUjSIiBEb",
        "colab_type": "code",
        "colab": {
          "base_uri": "https://localhost:8080/",
          "height": 204
        },
        "outputId": "7814b9f6-5cdf-4869-9624-690f8068caff"
      },
      "source": [
        "tweets_new_df.head()"
      ],
      "execution_count": 158,
      "outputs": [
        {
          "output_type": "execute_result",
          "data": {
            "text/html": [
              "<div>\n",
              "<style scoped>\n",
              "    .dataframe tbody tr th:only-of-type {\n",
              "        vertical-align: middle;\n",
              "    }\n",
              "\n",
              "    .dataframe tbody tr th {\n",
              "        vertical-align: top;\n",
              "    }\n",
              "\n",
              "    .dataframe thead th {\n",
              "        text-align: right;\n",
              "    }\n",
              "</style>\n",
              "<table border=\"1\" class=\"dataframe\">\n",
              "  <thead>\n",
              "    <tr style=\"text-align: right;\">\n",
              "      <th></th>\n",
              "      <th>tweet_text</th>\n",
              "      <th>emotion_in_tweet_is_directed_at</th>\n",
              "      <th>is_there_an_emotion_directed_at_a_brand_or_product</th>\n",
              "    </tr>\n",
              "  </thead>\n",
              "  <tbody>\n",
              "    <tr>\n",
              "      <th>0</th>\n",
              "      <td>.@wesley83 i have a 3g iphone. after 3 hrs twe...</td>\n",
              "      <td>iPhone</td>\n",
              "      <td>0</td>\n",
              "    </tr>\n",
              "    <tr>\n",
              "      <th>1</th>\n",
              "      <td>@jessedee know about @fludapp ? awesome ipad/i...</td>\n",
              "      <td>iPad or iPhone App</td>\n",
              "      <td>1</td>\n",
              "    </tr>\n",
              "    <tr>\n",
              "      <th>2</th>\n",
              "      <td>@swonderlin can not wait for #ipad 2 also. the...</td>\n",
              "      <td>iPad</td>\n",
              "      <td>1</td>\n",
              "    </tr>\n",
              "    <tr>\n",
              "      <th>3</th>\n",
              "      <td>@sxsw i hope this year's festival isn't as cra...</td>\n",
              "      <td>iPad or iPhone App</td>\n",
              "      <td>0</td>\n",
              "    </tr>\n",
              "    <tr>\n",
              "      <th>4</th>\n",
              "      <td>@sxtxstate great stuff on fri #sxsw: marissa m...</td>\n",
              "      <td>Google</td>\n",
              "      <td>1</td>\n",
              "    </tr>\n",
              "  </tbody>\n",
              "</table>\n",
              "</div>"
            ],
            "text/plain": [
              "                                          tweet_text  ... is_there_an_emotion_directed_at_a_brand_or_product\n",
              "0  .@wesley83 i have a 3g iphone. after 3 hrs twe...  ...                                                  0\n",
              "1  @jessedee know about @fludapp ? awesome ipad/i...  ...                                                  1\n",
              "2  @swonderlin can not wait for #ipad 2 also. the...  ...                                                  1\n",
              "3  @sxsw i hope this year's festival isn't as cra...  ...                                                  0\n",
              "4  @sxtxstate great stuff on fri #sxsw: marissa m...  ...                                                  1\n",
              "\n",
              "[5 rows x 3 columns]"
            ]
          },
          "metadata": {
            "tags": []
          },
          "execution_count": 158
        }
      ]
    },
    {
      "cell_type": "markdown",
      "metadata": {
        "id": "sC1qSe3h5sY2",
        "colab_type": "text"
      },
      "source": [
        "## Question 5"
      ]
    },
    {
      "cell_type": "markdown",
      "metadata": {
        "id": "aWlAN_Ts5sY2",
        "colab_type": "text"
      },
      "source": [
        "### Get feature and label\n",
        "- get column \"tweet_text\" as feature\n",
        "- get column \"is_there_an_emotion_directed_at_a_brand_or_product\" as label"
      ]
    },
    {
      "cell_type": "code",
      "metadata": {
        "id": "9A3sOZzR5sY4",
        "colab_type": "code",
        "colab": {}
      },
      "source": [
        "X = tweets_new_df['tweet_text']\n",
        "y = tweets_new_df['is_there_an_emotion_directed_at_a_brand_or_product']"
      ],
      "execution_count": 0,
      "outputs": []
    },
    {
      "cell_type": "markdown",
      "metadata": {
        "colab_type": "text",
        "id": "3YErwYLCH0N_"
      },
      "source": [
        "### Create train and test data\n",
        "- use train_test_split to get train and test set\n",
        "- set a random_state\n",
        "- test_size: 0.25"
      ]
    },
    {
      "cell_type": "code",
      "metadata": {
        "colab_type": "code",
        "id": "lNkwrGgEH0OA",
        "colab": {}
      },
      "source": [
        "\n",
        "from sklearn.model_selection import train_test_split\n"
      ],
      "execution_count": 0,
      "outputs": []
    },
    {
      "cell_type": "code",
      "metadata": {
        "id": "X_bw5bucirgX",
        "colab_type": "code",
        "colab": {}
      },
      "source": [
        "X_train, X_test, y_train, y_test = train_test_split(X, y, random_state=2, test_size=0.25)"
      ],
      "execution_count": 0,
      "outputs": []
    },
    {
      "cell_type": "markdown",
      "metadata": {
        "id": "gMok2IX35sY8",
        "colab_type": "text"
      },
      "source": [
        "## Question 6"
      ]
    },
    {
      "cell_type": "markdown",
      "metadata": {
        "id": "dSqYjPuT5sY8",
        "colab_type": "text"
      },
      "source": [
        "### Vectorize data\n",
        "- create document-term matrix\n",
        "- use CountVectorizer()\n",
        "    - ngram_range: (1, 2)\n",
        "    - stop_words: 'english'\n",
        "    - min_df: 2   \n",
        "- do fit_transform on X_train\n",
        "- do transform on X_test"
      ]
    },
    {
      "cell_type": "code",
      "metadata": {
        "id": "bb9PnnqT5sY8",
        "colab_type": "code",
        "colab": {}
      },
      "source": [
        "from sklearn.feature_extraction.text import CountVectorizer\n",
        "vect = CountVectorizer(stop_words = 'english', ngram_range=(1, 2), min_df=2)"
      ],
      "execution_count": 0,
      "outputs": []
    },
    {
      "cell_type": "code",
      "metadata": {
        "id": "Vn3pl0J3jPWr",
        "colab_type": "code",
        "colab": {}
      },
      "source": [
        "x_train_dtm = vect.fit_transform(X_train)\n",
        "x_test_dtm = vect.transform(X_test)"
      ],
      "execution_count": 0,
      "outputs": []
    },
    {
      "cell_type": "code",
      "metadata": {
        "id": "dWPmKWdZjPHD",
        "colab_type": "code",
        "colab": {}
      },
      "source": [
        "# vect.get_feature_names()"
      ],
      "execution_count": 0,
      "outputs": []
    },
    {
      "cell_type": "markdown",
      "metadata": {
        "id": "qanDXve15sY_",
        "colab_type": "text"
      },
      "source": [
        "## Question 7"
      ]
    },
    {
      "cell_type": "markdown",
      "metadata": {
        "id": "uMaRNFkV5sY_",
        "colab_type": "text"
      },
      "source": [
        "### Select classifier logistic regression\n",
        "- use logistic regression for predicting sentiment of the given tweet\n",
        "- initialize classifier"
      ]
    },
    {
      "cell_type": "code",
      "metadata": {
        "id": "GT3dNgB55sZA",
        "colab_type": "code",
        "colab": {}
      },
      "source": [
        "from sklearn.linear_model import LogisticRegression\n",
        "logreg = LogisticRegression()"
      ],
      "execution_count": 0,
      "outputs": []
    },
    {
      "cell_type": "markdown",
      "metadata": {
        "id": "pqQ6_HX35sZD",
        "colab_type": "text"
      },
      "source": [
        "### Fit the classifer\n",
        "- fit logistic regression classifier"
      ]
    },
    {
      "cell_type": "code",
      "metadata": {
        "id": "EIzvnNkq5sZD",
        "colab_type": "code",
        "colab": {
          "base_uri": "https://localhost:8080/",
          "height": 102
        },
        "outputId": "7d1d101e-d422-4998-f5f2-64da493e6081"
      },
      "source": [
        "logreg.fit(x_train_dtm, y_train)"
      ],
      "execution_count": 185,
      "outputs": [
        {
          "output_type": "execute_result",
          "data": {
            "text/plain": [
              "LogisticRegression(C=1.0, class_weight=None, dual=False, fit_intercept=True,\n",
              "                   intercept_scaling=1, l1_ratio=None, max_iter=100,\n",
              "                   multi_class='warn', n_jobs=None, penalty='l2',\n",
              "                   random_state=None, solver='warn', tol=0.0001, verbose=0,\n",
              "                   warm_start=False)"
            ]
          },
          "metadata": {
            "tags": []
          },
          "execution_count": 185
        }
      ]
    },
    {
      "cell_type": "markdown",
      "metadata": {
        "id": "SZpMsYQF5sZF",
        "colab_type": "text"
      },
      "source": [
        "## Question 8"
      ]
    },
    {
      "cell_type": "markdown",
      "metadata": {
        "id": "KGnQnUww5sZF",
        "colab_type": "text"
      },
      "source": [
        "### Select classifier naive bayes\n",
        "- use naive bayes for predicting sentiment of the given tweet\n",
        "- initialize classifier\n",
        "- use MultinomialNB"
      ]
    },
    {
      "cell_type": "code",
      "metadata": {
        "colab_type": "code",
        "id": "2AbVYssaH0OE",
        "colab": {}
      },
      "source": [
        "# import and instantiate a Multinomial Naive Bayes model\n",
        "from sklearn.naive_bayes import MultinomialNB\n",
        "nb = MultinomialNB()"
      ],
      "execution_count": 0,
      "outputs": []
    },
    {
      "cell_type": "markdown",
      "metadata": {
        "id": "QEaG942m5sZI",
        "colab_type": "text"
      },
      "source": [
        "### Fit the classifer\n",
        "- fit naive bayes classifier"
      ]
    },
    {
      "cell_type": "code",
      "metadata": {
        "id": "rLwRBj1R5sZI",
        "colab_type": "code",
        "colab": {
          "base_uri": "https://localhost:8080/",
          "height": 34
        },
        "outputId": "1e575825-b438-4a72-87bf-fb78c0b2302e"
      },
      "source": [
        "nb.fit(x_train_dtm, y_train)"
      ],
      "execution_count": 187,
      "outputs": [
        {
          "output_type": "execute_result",
          "data": {
            "text/plain": [
              "MultinomialNB(alpha=1.0, class_prior=None, fit_prior=True)"
            ]
          },
          "metadata": {
            "tags": []
          },
          "execution_count": 187
        }
      ]
    },
    {
      "cell_type": "markdown",
      "metadata": {
        "id": "A7mgwYDJ5sZM",
        "colab_type": "text"
      },
      "source": [
        "## Question 9"
      ]
    },
    {
      "cell_type": "markdown",
      "metadata": {
        "id": "sZkA3tce5sZN",
        "colab_type": "text"
      },
      "source": [
        "### Make predictions on logistic regression\n",
        "- use your trained logistic regression model to make predictions on X_test"
      ]
    },
    {
      "cell_type": "code",
      "metadata": {
        "id": "l3f0M1ch5sZO",
        "colab_type": "code",
        "colab": {}
      },
      "source": [
        "y_pred = logreg.predict(x_test_dtm)"
      ],
      "execution_count": 0,
      "outputs": []
    },
    {
      "cell_type": "markdown",
      "metadata": {
        "id": "lrIxjMUB5sZQ",
        "colab_type": "text"
      },
      "source": [
        "### Make predictions on naive bayes\n",
        "- use your trained naive bayes model to make predictions on X_test\n",
        "- use a different variable name to store predictions so that they are kept separately"
      ]
    },
    {
      "cell_type": "code",
      "metadata": {
        "id": "ZSQnwyLU5sZQ",
        "colab_type": "code",
        "colab": {}
      },
      "source": [
        "y_pred_nb = nb.predict(x_test_dtm)"
      ],
      "execution_count": 0,
      "outputs": []
    },
    {
      "cell_type": "markdown",
      "metadata": {
        "id": "rwXQUE7b5sZS",
        "colab_type": "text"
      },
      "source": [
        "## Question 10"
      ]
    },
    {
      "cell_type": "markdown",
      "metadata": {
        "id": "E6SITIE75sZT",
        "colab_type": "text"
      },
      "source": [
        "### Calculate accuracy of logistic regression\n",
        "- check accuracy of logistic regression classifer\n",
        "- use sklearn.metrics.accuracy_score"
      ]
    },
    {
      "cell_type": "code",
      "metadata": {
        "id": "4EpLjDLJknD3",
        "colab_type": "code",
        "colab": {}
      },
      "source": [
        "from sklearn import metrics"
      ],
      "execution_count": 0,
      "outputs": []
    },
    {
      "cell_type": "code",
      "metadata": {
        "colab_type": "code",
        "id": "clv2X0kKH0Ok",
        "colab": {
          "base_uri": "https://localhost:8080/",
          "height": 34
        },
        "outputId": "0e59ba5d-7813-49a7-ade4-cc2d45096233"
      },
      "source": [
        "metrics.accuracy_score(y_test, y_pred)"
      ],
      "execution_count": 191,
      "outputs": [
        {
          "output_type": "execute_result",
          "data": {
            "text/plain": [
              "0.858085808580858"
            ]
          },
          "metadata": {
            "tags": []
          },
          "execution_count": 191
        }
      ]
    },
    {
      "cell_type": "code",
      "metadata": {
        "id": "_NMed9mikw0N",
        "colab_type": "code",
        "colab": {
          "base_uri": "https://localhost:8080/",
          "height": 34
        },
        "outputId": "5d6395da-70c8-4fa1-a733-0f2aba8c97b4"
      },
      "source": [
        "metrics.accuracy_score(y_test, y_pred_nb)"
      ],
      "execution_count": 192,
      "outputs": [
        {
          "output_type": "execute_result",
          "data": {
            "text/plain": [
              "0.8382838283828383"
            ]
          },
          "metadata": {
            "tags": []
          },
          "execution_count": 192
        }
      ]
    },
    {
      "cell_type": "markdown",
      "metadata": {
        "id": "1Fd_Gnd05sZV",
        "colab_type": "text"
      },
      "source": [
        "### Calculate accuracy of naive bayes\n",
        "- check accuracy of naive bayes classifer\n",
        "- use sklearn.metrics.accuracy_score"
      ]
    },
    {
      "cell_type": "code",
      "metadata": {
        "colab_type": "code",
        "id": "d32uBpHi5sZW",
        "colab": {}
      },
      "source": [
        "# Null accuracy\n"
      ],
      "execution_count": 0,
      "outputs": []
    }
  ]
}