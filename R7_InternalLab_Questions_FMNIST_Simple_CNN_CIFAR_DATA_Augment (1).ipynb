{
  "nbformat": 4,
  "nbformat_minor": 0,
  "metadata": {
    "colab": {
      "name": "R7_InternalLab_Questions_FMNIST_Simple_CNN_CIFAR_DATA_Augment.ipynb",
      "version": "0.3.2",
      "provenance": [],
      "collapsed_sections": []
    },
    "kernelspec": {
      "name": "python3",
      "display_name": "Python 3"
    },
    "accelerator": "GPU"
  },
  "cells": [
    {
      "cell_type": "markdown",
      "metadata": {
        "id": "MyfMmMnPJjvn",
        "colab_type": "text"
      },
      "source": [
        "## Train a simple convnet on the Fashion MNIST dataset"
      ]
    },
    {
      "cell_type": "markdown",
      "metadata": {
        "id": "zjcGOJhcJjvp",
        "colab_type": "text"
      },
      "source": [
        "In this, we will see how to deal with image data and train a convnet for image classification task."
      ]
    },
    {
      "cell_type": "markdown",
      "metadata": {
        "id": "jR0Pl2XjJjvq",
        "colab_type": "text"
      },
      "source": [
        "### Load the  `fashion_mnist`  dataset\n",
        "\n",
        "** Use keras.datasets to load the dataset **"
      ]
    },
    {
      "cell_type": "code",
      "metadata": {
        "id": "l77UUnio5bsJ",
        "colab_type": "code",
        "colab": {}
      },
      "source": [
        "import numpy as np\n",
        "import tensorflow as tf\n",
        "from keras.models import Sequential\n",
        "from keras.layers.core import Dense,Dropout,Activation,Flatten\n",
        "from keras.layers.convolutional import Conv2D,MaxPooling2D\n",
        "from keras.utils import np_utils\n",
        "from sklearn import metrics\n",
        "import matplotlib.pyplot as plt\n",
        "%matplotlib inline"
      ],
      "execution_count": 0,
      "outputs": []
    },
    {
      "cell_type": "code",
      "metadata": {
        "id": "Qr75v_UYJjvs",
        "colab_type": "code",
        "colab": {}
      },
      "source": [
        "from keras.datasets import fashion_mnist\n",
        "(x_train, y_train), (x_test, y_test) = fashion_mnist.load_data()"
      ],
      "execution_count": 0,
      "outputs": []
    },
    {
      "cell_type": "markdown",
      "metadata": {
        "id": "hTI42-0qJjvw",
        "colab_type": "text"
      },
      "source": [
        "### Find no.of samples are there in training and test datasets"
      ]
    },
    {
      "cell_type": "code",
      "metadata": {
        "id": "g2sf67VoJjvx",
        "colab_type": "code",
        "colab": {
          "base_uri": "https://localhost:8080/",
          "height": 34
        },
        "outputId": "3fcc05ff-f417-4e77-e9fa-1e993471b576"
      },
      "source": [
        "x_train.shape\n",
        "# 60000 samples are available in train "
      ],
      "execution_count": 2,
      "outputs": [
        {
          "output_type": "execute_result",
          "data": {
            "text/plain": [
              "(60000, 28, 28)"
            ]
          },
          "metadata": {
            "tags": []
          },
          "execution_count": 2
        }
      ]
    },
    {
      "cell_type": "code",
      "metadata": {
        "id": "_qD-JcPB3PhK",
        "colab_type": "code",
        "colab": {
          "base_uri": "https://localhost:8080/",
          "height": 34
        },
        "outputId": "a7ed468e-1d7f-4a5c-a859-acec9cf75ba7"
      },
      "source": [
        "x_test.shape\n",
        "# 10000 samples are available in test "
      ],
      "execution_count": 3,
      "outputs": [
        {
          "output_type": "execute_result",
          "data": {
            "text/plain": [
              "(10000, 28, 28)"
            ]
          },
          "metadata": {
            "tags": []
          },
          "execution_count": 3
        }
      ]
    },
    {
      "cell_type": "code",
      "metadata": {
        "id": "zewyDcBlJjv1",
        "colab_type": "code",
        "colab": {}
      },
      "source": [
        "\"\""
      ],
      "execution_count": 0,
      "outputs": []
    },
    {
      "cell_type": "markdown",
      "metadata": {
        "id": "WytT2eRnJjv4",
        "colab_type": "text"
      },
      "source": [
        "### Find dimensions of an image in the dataset"
      ]
    },
    {
      "cell_type": "code",
      "metadata": {
        "id": "XycQGBSGJjv5",
        "colab_type": "code",
        "colab": {
          "base_uri": "https://localhost:8080/",
          "height": 34
        },
        "outputId": "7ce9bdd0-427e-49f2-9a28-201f9e25a58a"
      },
      "source": [
        "x_train[0].shape\n",
        "\n",
        "# 28x28 is the dimension"
      ],
      "execution_count": 5,
      "outputs": [
        {
          "output_type": "execute_result",
          "data": {
            "text/plain": [
              "(28, 28)"
            ]
          },
          "metadata": {
            "tags": []
          },
          "execution_count": 5
        }
      ]
    },
    {
      "cell_type": "code",
      "metadata": {
        "id": "AAKW4S2E4qDh",
        "colab_type": "code",
        "colab": {}
      },
      "source": [
        "u,counts = np.unique(y_train, return_counts=True)"
      ],
      "execution_count": 0,
      "outputs": []
    },
    {
      "cell_type": "code",
      "metadata": {
        "id": "b9o3Aw6L6ArA",
        "colab_type": "code",
        "colab": {
          "base_uri": "https://localhost:8080/",
          "height": 34
        },
        "outputId": "9428c6e6-356a-455e-c225-5091a637c34a"
      },
      "source": [
        "counts"
      ],
      "execution_count": 24,
      "outputs": [
        {
          "output_type": "execute_result",
          "data": {
            "text/plain": [
              "array([6000, 6000, 6000, 6000, 6000, 6000, 6000, 6000, 6000, 6000])"
            ]
          },
          "metadata": {
            "tags": []
          },
          "execution_count": 24
        }
      ]
    },
    {
      "cell_type": "markdown",
      "metadata": {
        "id": "5jtdZ7RqJjv8",
        "colab_type": "text"
      },
      "source": [
        "### Convert train and test labels to one hot vectors\n",
        "\n",
        "** check `keras.utils.to_categorical()` **"
      ]
    },
    {
      "cell_type": "code",
      "metadata": {
        "id": "sAD3q5I6Jjv9",
        "colab_type": "code",
        "colab": {}
      },
      "source": [
        "Ytrain = tf.keras.utils.to_categorical(y_train, num_classes=10)"
      ],
      "execution_count": 0,
      "outputs": []
    },
    {
      "cell_type": "code",
      "metadata": {
        "id": "mgHSCXy3JjwA",
        "colab_type": "code",
        "colab": {}
      },
      "source": [
        "Ytest = tf.keras.utils.to_categorical(y_test, num_classes=10)"
      ],
      "execution_count": 0,
      "outputs": []
    },
    {
      "cell_type": "markdown",
      "metadata": {
        "id": "xO5BRBzBJjwD",
        "colab_type": "text"
      },
      "source": [
        "### Normalize both the train and test image data from 0-255 to 0-1"
      ]
    },
    {
      "cell_type": "code",
      "metadata": {
        "id": "3fUQpMHxJjwE",
        "colab_type": "code",
        "colab": {}
      },
      "source": [
        "x_train = x_train/255\n",
        "x_test = x_test/255"
      ],
      "execution_count": 0,
      "outputs": []
    },
    {
      "cell_type": "code",
      "metadata": {
        "id": "Okwo_SB5JjwI",
        "colab_type": "code",
        "colab": {}
      },
      "source": [
        ""
      ],
      "execution_count": 0,
      "outputs": []
    },
    {
      "cell_type": "markdown",
      "metadata": {
        "id": "da5-DwgrJjwM",
        "colab_type": "text"
      },
      "source": [
        "### Reshape the data from 28x28 to 28x28x1 to match input dimensions in Conv2D layer in keras"
      ]
    },
    {
      "cell_type": "code",
      "metadata": {
        "id": "LPGVQ-JJJjwN",
        "colab_type": "code",
        "colab": {}
      },
      "source": [
        "\n",
        "x_train=x_train.reshape(x_train.shape[0],28,28,1).astype('float32')\n",
        "x_test=x_test.reshape(x_test.shape[0],28,28,1).astype('float32')\n"
      ],
      "execution_count": 0,
      "outputs": []
    },
    {
      "cell_type": "code",
      "metadata": {
        "id": "fVhRBqsc8ISh",
        "colab_type": "code",
        "colab": {}
      },
      "source": [
        ""
      ],
      "execution_count": 0,
      "outputs": []
    },
    {
      "cell_type": "markdown",
      "metadata": {
        "id": "OFRRTJq8JjwQ",
        "colab_type": "text"
      },
      "source": [
        "### Import the necessary layers from keras to build the model"
      ]
    },
    {
      "cell_type": "code",
      "metadata": {
        "id": "dWTZYnKSJjwR",
        "colab_type": "code",
        "colab": {}
      },
      "source": [
        ""
      ],
      "execution_count": 0,
      "outputs": []
    },
    {
      "cell_type": "markdown",
      "metadata": {
        "id": "C18AoS7eJjwU",
        "colab_type": "text"
      },
      "source": [
        "### Build a model \n",
        "\n",
        "** with 2 Conv layers having `32 3x3 filters` in both convolutions with `relu activations` and `flatten` before passing the feature map into 2 fully connected layers (or Dense Layers) having 128 and 10 neurons with `relu` and `softmax` activations respectively. Now, using `categorical_crossentropy` loss with `adam` optimizer train the model with early stopping `patience=5` and no.of `epochs=10`. **"
      ]
    },
    {
      "cell_type": "code",
      "metadata": {
        "id": "DORCLgSwJjwV",
        "colab_type": "code",
        "colab": {
          "base_uri": "https://localhost:8080/",
          "height": 289
        },
        "outputId": "dc9d8f22-3feb-4e4e-f185-20ab3b62ba1a"
      },
      "source": [
        "model = tf.keras.models.Sequential()\n",
        "\n",
        "model.add(tf.keras.layers.Conv2D(32,(3,3),input_shape=(28,28,1),activation='relu'))\n",
        "model.add(tf.keras.layers.Conv2D(32,(3,3),activation='relu'))\n",
        "model.add(tf.keras.layers.Flatten())\n",
        "model.add(tf.keras.layers.Dense(128, activation='relu'))\n",
        "model.add(tf.keras.layers.Dense(10, activation='softmax'))\n",
        "model.compile(loss='categorical_crossentropy',optimizer='adam',metrics=['accuracy'])\n",
        "\n",
        "cb = tf.keras.callbacks.EarlyStopping(monitor='val_loss', patience=5)\n",
        "\n",
        "model.fit(x_train,Ytrain,epochs=10,verbose=1,validation_data=(x_test,Ytest),callbacks=[cb])"
      ],
      "execution_count": 74,
      "outputs": [
        {
          "output_type": "stream",
          "text": [
            "Train on 60000 samples, validate on 10000 samples\n",
            "Epoch 1/10\n",
            "60000/60000 [==============================] - 9s 149us/sample - loss: 0.3745 - acc: 0.8649 - val_loss: 0.3070 - val_acc: 0.8918\n",
            "Epoch 2/10\n",
            "60000/60000 [==============================] - 8s 137us/sample - loss: 0.2356 - acc: 0.9135 - val_loss: 0.2553 - val_acc: 0.9052\n",
            "Epoch 3/10\n",
            "60000/60000 [==============================] - 8s 136us/sample - loss: 0.1717 - acc: 0.9356 - val_loss: 0.2675 - val_acc: 0.9059\n",
            "Epoch 4/10\n",
            "60000/60000 [==============================] - 8s 136us/sample - loss: 0.1212 - acc: 0.9555 - val_loss: 0.2611 - val_acc: 0.9130\n",
            "Epoch 5/10\n",
            "60000/60000 [==============================] - 8s 137us/sample - loss: 0.0823 - acc: 0.9695 - val_loss: 0.3187 - val_acc: 0.9076\n",
            "Epoch 6/10\n",
            "60000/60000 [==============================] - 8s 138us/sample - loss: 0.0549 - acc: 0.9800 - val_loss: 0.3543 - val_acc: 0.9079\n",
            "Epoch 7/10\n",
            "60000/60000 [==============================] - 8s 137us/sample - loss: 0.0398 - acc: 0.9855 - val_loss: 0.3705 - val_acc: 0.9107\n"
          ],
          "name": "stdout"
        },
        {
          "output_type": "execute_result",
          "data": {
            "text/plain": [
              "<tensorflow.python.keras.callbacks.History at 0x7f4a800df198>"
            ]
          },
          "metadata": {
            "tags": []
          },
          "execution_count": 74
        }
      ]
    },
    {
      "cell_type": "markdown",
      "metadata": {
        "id": "ju69vKdIJjwX",
        "colab_type": "text"
      },
      "source": [
        "### Now, to the above model add `max` pooling layer of `filter size 2x2` and `dropout` layer with `p=0.25` after the 2 conv layers and run the model"
      ]
    },
    {
      "cell_type": "code",
      "metadata": {
        "id": "L2hAP94vJjwY",
        "colab_type": "code",
        "colab": {
          "base_uri": "https://localhost:8080/",
          "height": 357
        },
        "outputId": "6f2f3f33-ee17-4705-fb32-936506410f0e"
      },
      "source": [
        "model = tf.keras.models.Sequential()\n",
        "\n",
        "model.add(tf.keras.layers.Conv2D(32,(3,3),input_shape=(28,28,1),activation='relu'))\n",
        "model.add(tf.keras.layers.Conv2D(32,(3,3),activation='relu'))\n",
        "model.add(tf.keras.layers.MaxPool2D(pool_size=(2, 2)))\n",
        "model.add(tf.keras.layers.Dropout(0.25))\n",
        "model.add(tf.keras.layers.Flatten())\n",
        "model.add(tf.keras.layers.Dense(128, activation='relu'))\n",
        "model.add(tf.keras.layers.Dense(10, activation='softmax'))\n",
        "model.compile(loss='categorical_crossentropy',optimizer='adam',metrics=['accuracy'])\n",
        "\n",
        "cb = tf.keras.callbacks.EarlyStopping(monitor='val_loss', patience=5)\n",
        "\n",
        "model.fit(x_train,Ytrain,epochs=10,verbose=1,validation_data=(x_test,Ytest),callbacks=[cb])"
      ],
      "execution_count": 75,
      "outputs": [
        {
          "output_type": "stream",
          "text": [
            "Train on 60000 samples, validate on 10000 samples\n",
            "Epoch 1/10\n",
            "60000/60000 [==============================] - 8s 129us/sample - loss: 0.3911 - acc: 0.8586 - val_loss: 0.3100 - val_acc: 0.8878\n",
            "Epoch 2/10\n",
            "60000/60000 [==============================] - 8s 127us/sample - loss: 0.2628 - acc: 0.9042 - val_loss: 0.2558 - val_acc: 0.9052\n",
            "Epoch 3/10\n",
            "60000/60000 [==============================] - 8s 128us/sample - loss: 0.2131 - acc: 0.9214 - val_loss: 0.2280 - val_acc: 0.9172\n",
            "Epoch 4/10\n",
            "60000/60000 [==============================] - 8s 128us/sample - loss: 0.1803 - acc: 0.9323 - val_loss: 0.2178 - val_acc: 0.9209\n",
            "Epoch 5/10\n",
            "60000/60000 [==============================] - 8s 128us/sample - loss: 0.1522 - acc: 0.9425 - val_loss: 0.2287 - val_acc: 0.9206\n",
            "Epoch 6/10\n",
            "60000/60000 [==============================] - 8s 127us/sample - loss: 0.1289 - acc: 0.9506 - val_loss: 0.2288 - val_acc: 0.9201\n",
            "Epoch 7/10\n",
            "60000/60000 [==============================] - 8s 127us/sample - loss: 0.1095 - acc: 0.9583 - val_loss: 0.2417 - val_acc: 0.9244\n",
            "Epoch 8/10\n",
            "60000/60000 [==============================] - 8s 127us/sample - loss: 0.0945 - acc: 0.9640 - val_loss: 0.2347 - val_acc: 0.9272\n",
            "Epoch 9/10\n",
            "60000/60000 [==============================] - 8s 133us/sample - loss: 0.0800 - acc: 0.9692 - val_loss: 0.2501 - val_acc: 0.9263\n"
          ],
          "name": "stdout"
        },
        {
          "output_type": "execute_result",
          "data": {
            "text/plain": [
              "<tensorflow.python.keras.callbacks.History at 0x7f4a813f1898>"
            ]
          },
          "metadata": {
            "tags": []
          },
          "execution_count": 75
        }
      ]
    },
    {
      "cell_type": "markdown",
      "metadata": {
        "id": "lGTA3bfEJjwa",
        "colab_type": "text"
      },
      "source": [
        "### Now, to the above model, lets add Data Augmentation "
      ]
    },
    {
      "cell_type": "markdown",
      "metadata": {
        "id": "F6gX8n5SJjwb",
        "colab_type": "text"
      },
      "source": [
        "### Import the ImageDataGenrator from keras and fit the training images"
      ]
    },
    {
      "cell_type": "code",
      "metadata": {
        "id": "Cbz4uHBuJjwc",
        "colab_type": "code",
        "colab": {}
      },
      "source": [
        "import keras\n",
        "\n",
        "from keras.preprocessing.image import ImageDataGenerator\n",
        "\n",
        "datagen = ImageDataGenerator(rotation_range=20,\n",
        "    width_shift_range=0.2,\n",
        "    height_shift_range=0.2,\n",
        "    horizontal_flip=True)\n",
        "datagen.fit(x_train)"
      ],
      "execution_count": 0,
      "outputs": []
    },
    {
      "cell_type": "markdown",
      "metadata": {
        "id": "pl-8dOo7Jjwf",
        "colab_type": "text"
      },
      "source": [
        "#### Showing 5 versions of the first image in training dataset using image datagenerator.flow()"
      ]
    },
    {
      "cell_type": "code",
      "metadata": {
        "scrolled": true,
        "id": "DpI1_McYJjwg",
        "colab_type": "code",
        "outputId": "814a8240-73da-4782-944b-30de71a37638",
        "colab": {
          "base_uri": "https://localhost:8080/",
          "height": 109
        }
      },
      "source": [
        "from matplotlib import pyplot as plt\n",
        "gen = datagen.flow(x_train[0:1], batch_size=1)\n",
        "for i in range(1, 6):\n",
        "    plt.subplot(1,5,i)\n",
        "    plt.axis(\"off\")\n",
        "    plt.imshow(gen.next().squeeze(), cmap='gray')\n",
        "    plt.plot()\n",
        "plt.show()"
      ],
      "execution_count": 77,
      "outputs": [
        {
          "output_type": "display_data",
          "data": {
            "image/png": "[encoded data removed]",
            "text/plain": [
              "<Figure size 432x288 with 5 Axes>"
            ]
          },
          "metadata": {
            "tags": []
          }
        }
      ]
    },
    {
      "cell_type": "markdown",
      "metadata": {
        "id": "dmPl5yE8Jjwm",
        "colab_type": "text"
      },
      "source": [
        "### Run the above model using fit_generator()"
      ]
    },
    {
      "cell_type": "code",
      "metadata": {
        "id": "44ZnDdJYJjwn",
        "colab_type": "code",
        "colab": {
          "base_uri": "https://localhost:8080/",
          "height": 1000
        },
        "outputId": "eb494263-2307-4e4d-a338-6e270dedcd91"
      },
      "source": [
        "model.fit_generator(datagen.flow(x_train, Ytrain, batch_size=32),\n",
        "                    steps_per_epoch=len(x_train) / 32, epochs=50,validation_data=(x_test,Ytest))"
      ],
      "execution_count": 78,
      "outputs": [
        {
          "output_type": "stream",
          "text": [
            "Epoch 1/50\n",
            "1875/1875 [==============================] - 20s 11ms/step - loss: 0.7438 - acc: 0.7245 - val_loss: 0.3541 - val_acc: 0.8758\n",
            "Epoch 2/50\n",
            "1875/1875 [==============================] - 20s 10ms/step - loss: 0.5502 - acc: 0.7952 - val_loss: 0.3564 - val_acc: 0.8720\n",
            "Epoch 3/50\n",
            "1875/1875 [==============================] - 20s 10ms/step - loss: 0.5033 - acc: 0.8141 - val_loss: 0.3338 - val_acc: 0.8795\n",
            "Epoch 4/50\n",
            "1875/1875 [==============================] - 20s 11ms/step - loss: 0.4696 - acc: 0.8252 - val_loss: 0.3308 - val_acc: 0.8797\n",
            "Epoch 5/50\n",
            "1875/1875 [==============================] - 20s 10ms/step - loss: 0.4497 - acc: 0.8326 - val_loss: 0.3217 - val_acc: 0.8864\n",
            "Epoch 6/50\n",
            "1875/1875 [==============================] - 20s 10ms/step - loss: 0.4323 - acc: 0.8394 - val_loss: 0.3260 - val_acc: 0.8879\n",
            "Epoch 7/50\n",
            "1875/1875 [==============================] - 20s 10ms/step - loss: 0.4204 - acc: 0.8431 - val_loss: 0.3070 - val_acc: 0.8906\n",
            "Epoch 8/50\n",
            "1875/1875 [==============================] - 20s 10ms/step - loss: 0.4137 - acc: 0.8451 - val_loss: 0.3268 - val_acc: 0.8816\n",
            "Epoch 9/50\n",
            "1875/1875 [==============================] - 20s 11ms/step - loss: 0.4040 - acc: 0.8501 - val_loss: 0.3592 - val_acc: 0.8679\n",
            "Epoch 10/50\n",
            "1875/1875 [==============================] - 20s 11ms/step - loss: 0.4026 - acc: 0.8505 - val_loss: 0.3507 - val_acc: 0.8767\n",
            "Epoch 11/50\n",
            "1875/1875 [==============================] - 20s 10ms/step - loss: 0.3954 - acc: 0.8542 - val_loss: 0.3221 - val_acc: 0.8881\n",
            "Epoch 12/50\n",
            "1875/1875 [==============================] - 20s 10ms/step - loss: 0.3879 - acc: 0.8565 - val_loss: 0.3386 - val_acc: 0.8780\n",
            "Epoch 13/50\n",
            "1875/1875 [==============================] - 20s 10ms/step - loss: 0.3822 - acc: 0.8580 - val_loss: 0.3279 - val_acc: 0.8846\n",
            "Epoch 14/50\n",
            "1875/1875 [==============================] - 20s 10ms/step - loss: 0.3802 - acc: 0.8590 - val_loss: 0.3214 - val_acc: 0.8862\n",
            "Epoch 15/50\n",
            "1875/1875 [==============================] - 20s 10ms/step - loss: 0.3753 - acc: 0.8614 - val_loss: 0.3227 - val_acc: 0.8850\n",
            "Epoch 16/50\n",
            "1875/1875 [==============================] - 20s 11ms/step - loss: 0.3733 - acc: 0.8609 - val_loss: 0.3195 - val_acc: 0.8877\n",
            "Epoch 17/50\n",
            "1875/1875 [==============================] - 20s 11ms/step - loss: 0.3674 - acc: 0.8634 - val_loss: 0.3159 - val_acc: 0.8927\n",
            "Epoch 18/50\n",
            "1875/1875 [==============================] - 20s 10ms/step - loss: 0.3627 - acc: 0.8667 - val_loss: 0.3129 - val_acc: 0.8907\n",
            "Epoch 19/50\n",
            "1875/1875 [==============================] - 20s 11ms/step - loss: 0.3606 - acc: 0.8666 - val_loss: 0.3040 - val_acc: 0.8955\n",
            "Epoch 20/50\n",
            "1875/1875 [==============================] - 20s 10ms/step - loss: 0.3625 - acc: 0.8655 - val_loss: 0.3029 - val_acc: 0.8928\n",
            "Epoch 21/50\n",
            "1875/1875 [==============================] - 20s 11ms/step - loss: 0.3576 - acc: 0.8692 - val_loss: 0.3041 - val_acc: 0.8923\n",
            "Epoch 22/50\n",
            "1875/1875 [==============================] - 20s 10ms/step - loss: 0.3533 - acc: 0.8681 - val_loss: 0.3032 - val_acc: 0.8926\n",
            "Epoch 23/50\n",
            "1875/1875 [==============================] - 20s 10ms/step - loss: 0.3510 - acc: 0.8705 - val_loss: 0.3245 - val_acc: 0.8851\n",
            "Epoch 24/50\n",
            "1875/1875 [==============================] - 20s 10ms/step - loss: 0.3486 - acc: 0.8709 - val_loss: 0.3106 - val_acc: 0.8943\n",
            "Epoch 25/50\n",
            "1875/1875 [==============================] - 20s 11ms/step - loss: 0.3504 - acc: 0.8705 - val_loss: 0.3030 - val_acc: 0.8924\n",
            "Epoch 26/50\n",
            "1875/1875 [==============================] - 20s 11ms/step - loss: 0.3469 - acc: 0.8716 - val_loss: 0.2987 - val_acc: 0.8956\n",
            "Epoch 27/50\n",
            "1875/1875 [==============================] - 20s 10ms/step - loss: 0.3464 - acc: 0.8720 - val_loss: 0.3244 - val_acc: 0.8884\n",
            "Epoch 28/50\n",
            "1875/1875 [==============================] - 20s 10ms/step - loss: 0.3433 - acc: 0.8735 - val_loss: 0.3133 - val_acc: 0.8920\n",
            "Epoch 29/50\n",
            "1875/1875 [==============================] - 20s 11ms/step - loss: 0.3422 - acc: 0.8742 - val_loss: 0.2972 - val_acc: 0.8936\n",
            "Epoch 30/50\n",
            "1875/1875 [==============================] - 20s 11ms/step - loss: 0.3407 - acc: 0.8739 - val_loss: 0.3057 - val_acc: 0.8950\n",
            "Epoch 31/50\n",
            "1875/1875 [==============================] - 20s 11ms/step - loss: 0.3421 - acc: 0.8755 - val_loss: 0.3036 - val_acc: 0.8940\n",
            "Epoch 32/50\n",
            "1875/1875 [==============================] - 20s 11ms/step - loss: 0.3372 - acc: 0.8749 - val_loss: 0.3023 - val_acc: 0.8910\n",
            "Epoch 33/50\n",
            "1875/1875 [==============================] - 20s 11ms/step - loss: 0.3371 - acc: 0.8765 - val_loss: 0.3156 - val_acc: 0.8898\n",
            "Epoch 34/50\n",
            "1875/1875 [==============================] - 20s 10ms/step - loss: 0.3340 - acc: 0.8770 - val_loss: 0.3319 - val_acc: 0.8888\n",
            "Epoch 35/50\n",
            "1875/1875 [==============================] - 20s 11ms/step - loss: 0.3340 - acc: 0.8774 - val_loss: 0.3036 - val_acc: 0.8950\n",
            "Epoch 36/50\n",
            "1875/1875 [==============================] - 20s 10ms/step - loss: 0.3360 - acc: 0.8774 - val_loss: 0.3058 - val_acc: 0.8915\n",
            "Epoch 37/50\n",
            "1875/1875 [==============================] - 20s 11ms/step - loss: 0.3328 - acc: 0.8774 - val_loss: 0.3037 - val_acc: 0.8966\n",
            "Epoch 38/50\n",
            "1875/1875 [==============================] - 20s 10ms/step - loss: 0.3313 - acc: 0.8783 - val_loss: 0.3043 - val_acc: 0.8962\n",
            "Epoch 39/50\n",
            "1875/1875 [==============================] - 20s 10ms/step - loss: 0.3322 - acc: 0.8767 - val_loss: 0.2986 - val_acc: 0.8978\n",
            "Epoch 40/50\n",
            "1875/1875 [==============================] - 20s 10ms/step - loss: 0.3306 - acc: 0.8778 - val_loss: 0.3214 - val_acc: 0.8952\n",
            "Epoch 41/50\n",
            "1875/1875 [==============================] - 20s 11ms/step - loss: 0.3293 - acc: 0.8793 - val_loss: 0.2983 - val_acc: 0.8969\n",
            "Epoch 42/50\n",
            "1875/1875 [==============================] - 20s 10ms/step - loss: 0.3270 - acc: 0.8793 - val_loss: 0.2861 - val_acc: 0.8999\n",
            "Epoch 43/50\n",
            "1875/1875 [==============================] - 20s 10ms/step - loss: 0.3272 - acc: 0.8794 - val_loss: 0.3131 - val_acc: 0.8896\n",
            "Epoch 44/50\n",
            "1875/1875 [==============================] - 20s 10ms/step - loss: 0.3252 - acc: 0.8811 - val_loss: 0.2974 - val_acc: 0.8949\n",
            "Epoch 45/50\n",
            "1875/1875 [==============================] - 20s 10ms/step - loss: 0.3249 - acc: 0.8807 - val_loss: 0.3108 - val_acc: 0.8923\n",
            "Epoch 46/50\n",
            "1875/1875 [==============================] - 19s 10ms/step - loss: 0.3257 - acc: 0.8789 - val_loss: 0.3104 - val_acc: 0.8941\n",
            "Epoch 47/50\n",
            "1875/1875 [==============================] - 20s 10ms/step - loss: 0.3226 - acc: 0.8800 - val_loss: 0.3010 - val_acc: 0.8939\n",
            "Epoch 48/50\n",
            "1875/1875 [==============================] - 20s 10ms/step - loss: 0.3244 - acc: 0.8810 - val_loss: 0.3146 - val_acc: 0.8939\n",
            "Epoch 49/50\n",
            "1875/1875 [==============================] - 20s 11ms/step - loss: 0.3246 - acc: 0.8804 - val_loss: 0.3072 - val_acc: 0.8936\n",
            "Epoch 50/50\n",
            "1875/1875 [==============================] - 20s 10ms/step - loss: 0.3224 - acc: 0.8818 - val_loss: 0.3168 - val_acc: 0.8923\n"
          ],
          "name": "stdout"
        },
        {
          "output_type": "execute_result",
          "data": {
            "text/plain": [
              "<tensorflow.python.keras.callbacks.History at 0x7f4a80605198>"
            ]
          },
          "metadata": {
            "tags": []
          },
          "execution_count": 78
        }
      ]
    },
    {
      "cell_type": "markdown",
      "metadata": {
        "id": "MwQQW5iOJjwq",
        "colab_type": "text"
      },
      "source": [
        "###  Report the final train and validation accuracy"
      ]
    },
    {
      "cell_type": "code",
      "metadata": {
        "id": "c1SrtBEPJjwq",
        "colab_type": "code",
        "colab": {}
      },
      "source": [
        "# Train Accuracy - 88%\n",
        "# Validation Accuracy - 89%"
      ],
      "execution_count": 0,
      "outputs": []
    },
    {
      "cell_type": "code",
      "metadata": {
        "id": "ZBwVWNQC2qZD",
        "colab_type": "code",
        "colab": {}
      },
      "source": [
        ""
      ],
      "execution_count": 0,
      "outputs": []
    },
    {
      "cell_type": "markdown",
      "metadata": {
        "id": "8KXqmUDW2rM1",
        "colab_type": "text"
      },
      "source": [
        "## **DATA AUGMENTATION ON CIFAR10 DATASET**"
      ]
    },
    {
      "cell_type": "markdown",
      "metadata": {
        "id": "8mja6OgQ3L18",
        "colab_type": "text"
      },
      "source": [
        "One of the best ways to improve the performance of a Deep Learning model is to add more data to the training set. Aside from gathering more instances from the wild that are representative of the distinction task, we want to develop a set of methods that enhance the data we already have. There are many ways to augment existing datasets and produce more robust models. In the image domain, these are done to utilize the full power of the convolutional neural network, which is able to capture translational invariance. This translational invariance is what makes image recognition such a difficult task in the first place. You want the dataset to be representative of the many different positions, angles, lightings, and miscellaneous distortions that are of interest to the vision task."
      ]
    },
    {
      "cell_type": "markdown",
      "metadata": {
        "id": "6HzVTPUM3WZJ",
        "colab_type": "text"
      },
      "source": [
        "### **Import neessary libraries for data augmentation**"
      ]
    },
    {
      "cell_type": "code",
      "metadata": {
        "id": "PPM558TX4KMb",
        "colab_type": "code",
        "colab": {}
      },
      "source": [
        "from keras.datasets import cifar10"
      ],
      "execution_count": 0,
      "outputs": []
    },
    {
      "cell_type": "markdown",
      "metadata": {
        "id": "W6hicLwP4SqY",
        "colab_type": "text"
      },
      "source": [
        "### **Load CIFAR10 dataset**"
      ]
    },
    {
      "cell_type": "code",
      "metadata": {
        "id": "NQ1WzrXd4WNk",
        "colab_type": "code",
        "colab": {
          "base_uri": "https://localhost:8080/",
          "height": 68
        },
        "outputId": "55cb4750-4e4c-4603-be0b-d6d7164628cc"
      },
      "source": [
        "(xtrain, ytrain), (xtest, ytest) = cifar10.load_data()\n",
        "print('x_train shape:', xtrain.shape)\n",
        "print(xtrain.shape[0], 'train samples')\n",
        "print(xtest.shape[0], 'test samples')\n",
        "\n"
      ],
      "execution_count": 80,
      "outputs": [
        {
          "output_type": "stream",
          "text": [
            "x_train shape: (50000, 32, 32, 3)\n",
            "50000 train samples\n",
            "10000 test samples\n"
          ],
          "name": "stdout"
        }
      ]
    },
    {
      "cell_type": "code",
      "metadata": {
        "id": "LJL8GXNqHk_I",
        "colab_type": "code",
        "colab": {
          "base_uri": "https://localhost:8080/",
          "height": 34
        },
        "outputId": "12fdc756-2dde-451f-8c12-fee4b5acd49d"
      },
      "source": [
        "xtrain.dtype"
      ],
      "execution_count": 81,
      "outputs": [
        {
          "output_type": "execute_result",
          "data": {
            "text/plain": [
              "dtype('uint8')"
            ]
          },
          "metadata": {
            "tags": []
          },
          "execution_count": 81
        }
      ]
    },
    {
      "cell_type": "code",
      "metadata": {
        "id": "0215S5KjIeAJ",
        "colab_type": "code",
        "colab": {}
      },
      "source": [
        "xtrain = (xtrain/255).astype('float32')\n",
        "xtest = (xtest/255).astype('float32')"
      ],
      "execution_count": 0,
      "outputs": []
    },
    {
      "cell_type": "code",
      "metadata": {
        "id": "R9Pht1ggHuiT",
        "colab_type": "code",
        "colab": {}
      },
      "source": [
        "\n",
        "ytrain = keras.utils.to_categorical(ytrain, num_classes=10)\n",
        "ytest = keras.utils.to_categorical(ytest, num_classes=10)"
      ],
      "execution_count": 0,
      "outputs": []
    },
    {
      "cell_type": "code",
      "metadata": {
        "id": "3n28ccU6Hp6s",
        "colab_type": "code",
        "colab": {}
      },
      "source": [
        ""
      ],
      "execution_count": 0,
      "outputs": []
    },
    {
      "cell_type": "markdown",
      "metadata": {
        "id": "JN3vYYhK4W0u",
        "colab_type": "text"
      },
      "source": [
        "### **Create a data_gen funtion to genererator with image rotation,shifting image horizontally and vertically with random flip horizontally.**"
      ]
    },
    {
      "cell_type": "code",
      "metadata": {
        "id": "JJbekTKi4cmM",
        "colab_type": "code",
        "colab": {}
      },
      "source": [
        "cifarDatagen = ImageDataGenerator(rotation_range=20,\n",
        "    width_shift_range=0.1,\n",
        "    height_shift_range=0.1,\n",
        "    horizontal_flip=True)\n",
        "cifarDatagen.fit(xtrain)"
      ],
      "execution_count": 0,
      "outputs": []
    },
    {
      "cell_type": "markdown",
      "metadata": {
        "id": "e-SLtUhC4dK2",
        "colab_type": "text"
      },
      "source": [
        "### **Prepare/fit the generator.**"
      ]
    },
    {
      "cell_type": "code",
      "metadata": {
        "id": "CSw8Bv2_4hb0",
        "colab_type": "code",
        "colab": {
          "base_uri": "https://localhost:8080/",
          "height": 1000
        },
        "outputId": "6169e4d9-a132-401b-f06c-875f4e6c522d"
      },
      "source": [
        "model = Sequential()\n",
        "model.add(Conv2D(32, (3, 3), padding='same',\n",
        "                 input_shape=xtrain.shape[1:],activation='relu'))\n",
        "\n",
        "model.add(Conv2D(32, (3, 3), activation = 'relu'))\n",
        "model.add(MaxPooling2D(pool_size=(2, 2)))\n",
        "model.add(Dropout(0.25))\n",
        "\n",
        "model.add(Conv2D(64, (3, 3), padding='same', activation='relu'))\n",
        "model.add(Conv2D(64, (3, 3), activation = 'relu'))\n",
        "\n",
        "model.add(MaxPooling2D(pool_size=(2, 2)))\n",
        "model.add(Dropout(0.25))\n",
        "\n",
        "model.add(Flatten())\n",
        "model.add(Dense(512, activation='relu'))\n",
        "model.add(Dropout(0.5))\n",
        "model.add(Dense(10, activation='softmax'))\n",
        "model.compile(loss='categorical_crossentropy',\n",
        "              optimizer='adam',\n",
        "              metrics=['accuracy'])\n",
        "\n",
        "model.fit_generator(datagen.flow(xtrain, ytrain, batch_size=32),\n",
        "                    steps_per_epoch=len(xtrain) / 32, epochs=100,validation_data=(xtest,ytest))"
      ],
      "execution_count": 93,
      "outputs": [
        {
          "output_type": "stream",
          "text": [
            "Epoch 1/100\n",
            "1563/1562 [==============================] - 30s 19ms/step - loss: 1.7636 - acc: 0.3435 - val_loss: 1.5232 - val_acc: 0.4371\n",
            "Epoch 2/100\n",
            "1563/1562 [==============================] - 30s 19ms/step - loss: 1.4786 - acc: 0.4598 - val_loss: 1.2403 - val_acc: 0.5447\n",
            "Epoch 3/100\n",
            "1563/1562 [==============================] - 29s 19ms/step - loss: 1.3712 - acc: 0.5033 - val_loss: 1.2272 - val_acc: 0.5638\n",
            "Epoch 4/100\n",
            "1563/1562 [==============================] - 29s 19ms/step - loss: 1.2990 - acc: 0.5320 - val_loss: 1.1375 - val_acc: 0.5865\n",
            "Epoch 5/100\n",
            "1563/1562 [==============================] - 29s 19ms/step - loss: 1.2476 - acc: 0.5544 - val_loss: 1.0700 - val_acc: 0.6142\n",
            "Epoch 6/100\n",
            "1563/1562 [==============================] - 30s 19ms/step - loss: 1.2111 - acc: 0.5705 - val_loss: 1.1149 - val_acc: 0.6056\n",
            "Epoch 7/100\n",
            "1563/1562 [==============================] - 29s 19ms/step - loss: 1.1842 - acc: 0.5765 - val_loss: 0.9849 - val_acc: 0.6525\n",
            "Epoch 8/100\n",
            "1563/1562 [==============================] - 30s 19ms/step - loss: 1.1600 - acc: 0.5864 - val_loss: 1.0698 - val_acc: 0.6201\n",
            "Epoch 9/100\n",
            "1563/1562 [==============================] - 30s 19ms/step - loss: 1.1387 - acc: 0.5952 - val_loss: 0.9870 - val_acc: 0.6546\n",
            "Epoch 10/100\n",
            "1563/1562 [==============================] - 30s 19ms/step - loss: 1.1278 - acc: 0.5981 - val_loss: 0.9774 - val_acc: 0.6567\n",
            "Epoch 11/100\n",
            "1563/1562 [==============================] - 30s 19ms/step - loss: 1.1062 - acc: 0.6071 - val_loss: 1.0052 - val_acc: 0.6443\n",
            "Epoch 12/100\n",
            "1563/1562 [==============================] - 29s 19ms/step - loss: 1.0896 - acc: 0.6146 - val_loss: 1.0399 - val_acc: 0.6409\n",
            "Epoch 13/100\n",
            "1563/1562 [==============================] - 29s 19ms/step - loss: 1.0784 - acc: 0.6175 - val_loss: 0.9286 - val_acc: 0.6749\n",
            "Epoch 14/100\n",
            "1563/1562 [==============================] - 30s 19ms/step - loss: 1.0693 - acc: 0.6221 - val_loss: 0.9782 - val_acc: 0.6667\n",
            "Epoch 15/100\n",
            "1563/1562 [==============================] - 30s 19ms/step - loss: 1.0635 - acc: 0.6244 - val_loss: 0.9091 - val_acc: 0.6804\n",
            "Epoch 16/100\n",
            "1563/1562 [==============================] - 29s 19ms/step - loss: 1.0527 - acc: 0.6281 - val_loss: 0.8952 - val_acc: 0.6822\n",
            "Epoch 17/100\n",
            "1563/1562 [==============================] - 30s 19ms/step - loss: 1.0455 - acc: 0.6319 - val_loss: 0.9069 - val_acc: 0.6797\n",
            "Epoch 18/100\n",
            "1563/1562 [==============================] - 29s 19ms/step - loss: 1.0376 - acc: 0.6357 - val_loss: 0.8720 - val_acc: 0.6981\n",
            "Epoch 19/100\n",
            "1563/1562 [==============================] - 29s 19ms/step - loss: 1.0270 - acc: 0.6408 - val_loss: 0.8779 - val_acc: 0.6900\n",
            "Epoch 20/100\n",
            "1563/1562 [==============================] - 30s 19ms/step - loss: 1.0205 - acc: 0.6437 - val_loss: 0.8853 - val_acc: 0.6925\n",
            "Epoch 21/100\n",
            "1563/1562 [==============================] - 29s 19ms/step - loss: 1.0139 - acc: 0.6438 - val_loss: 0.8111 - val_acc: 0.7175\n",
            "Epoch 22/100\n",
            "1563/1562 [==============================] - 30s 19ms/step - loss: 1.0158 - acc: 0.6443 - val_loss: 0.8960 - val_acc: 0.6859\n",
            "Epoch 23/100\n",
            "1563/1562 [==============================] - 30s 19ms/step - loss: 1.0128 - acc: 0.6452 - val_loss: 0.8144 - val_acc: 0.7179\n",
            "Epoch 24/100\n",
            "1563/1562 [==============================] - 29s 19ms/step - loss: 1.0013 - acc: 0.6504 - val_loss: 0.8653 - val_acc: 0.7006\n",
            "Epoch 25/100\n",
            "1563/1562 [==============================] - 29s 19ms/step - loss: 1.0015 - acc: 0.6486 - val_loss: 0.9106 - val_acc: 0.6895\n",
            "Epoch 26/100\n",
            "1563/1562 [==============================] - 29s 19ms/step - loss: 0.9907 - acc: 0.6545 - val_loss: 0.9277 - val_acc: 0.6869\n",
            "Epoch 27/100\n",
            "1563/1562 [==============================] - 30s 19ms/step - loss: 0.9924 - acc: 0.6520 - val_loss: 0.8402 - val_acc: 0.7108\n",
            "Epoch 28/100\n",
            "1563/1562 [==============================] - 30s 19ms/step - loss: 0.9898 - acc: 0.6552 - val_loss: 0.8538 - val_acc: 0.7062\n",
            "Epoch 29/100\n",
            "1563/1562 [==============================] - 30s 19ms/step - loss: 0.9856 - acc: 0.6547 - val_loss: 0.8591 - val_acc: 0.7060\n",
            "Epoch 30/100\n",
            "1563/1562 [==============================] - 30s 19ms/step - loss: 0.9792 - acc: 0.6617 - val_loss: 0.9601 - val_acc: 0.6760\n",
            "Epoch 31/100\n",
            "1563/1562 [==============================] - 29s 19ms/step - loss: 0.9748 - acc: 0.6615 - val_loss: 0.8175 - val_acc: 0.7192\n",
            "Epoch 32/100\n",
            "1563/1562 [==============================] - 29s 19ms/step - loss: 0.9819 - acc: 0.6579 - val_loss: 0.8181 - val_acc: 0.7190\n",
            "Epoch 33/100\n",
            "1563/1562 [==============================] - 30s 19ms/step - loss: 0.9688 - acc: 0.6630 - val_loss: 0.7958 - val_acc: 0.7217\n",
            "Epoch 34/100\n",
            "1563/1562 [==============================] - 29s 19ms/step - loss: 0.9715 - acc: 0.6623 - val_loss: 0.8138 - val_acc: 0.7209\n",
            "Epoch 35/100\n",
            "1563/1562 [==============================] - 30s 19ms/step - loss: 0.9640 - acc: 0.6636 - val_loss: 0.8044 - val_acc: 0.7227\n",
            "Epoch 36/100\n",
            "1563/1562 [==============================] - 30s 19ms/step - loss: 0.9664 - acc: 0.6632 - val_loss: 0.7980 - val_acc: 0.7275\n",
            "Epoch 37/100\n",
            "1563/1562 [==============================] - 30s 19ms/step - loss: 0.9641 - acc: 0.6657 - val_loss: 0.7805 - val_acc: 0.7296\n",
            "Epoch 38/100\n",
            "1563/1562 [==============================] - 30s 19ms/step - loss: 0.9577 - acc: 0.6685 - val_loss: 0.8894 - val_acc: 0.6983\n",
            "Epoch 39/100\n",
            "1563/1562 [==============================] - 30s 19ms/step - loss: 0.9629 - acc: 0.6661 - val_loss: 0.9348 - val_acc: 0.6872\n",
            "Epoch 40/100\n",
            "1563/1562 [==============================] - 30s 19ms/step - loss: 0.9561 - acc: 0.6690 - val_loss: 0.8235 - val_acc: 0.7174\n",
            "Epoch 41/100\n",
            "1563/1562 [==============================] - 30s 19ms/step - loss: 0.9492 - acc: 0.6717 - val_loss: 0.7937 - val_acc: 0.7272\n",
            "Epoch 42/100\n",
            "1563/1562 [==============================] - 30s 19ms/step - loss: 0.9441 - acc: 0.6742 - val_loss: 0.8203 - val_acc: 0.7245\n",
            "Epoch 43/100\n",
            "1563/1562 [==============================] - 30s 19ms/step - loss: 0.9456 - acc: 0.6730 - val_loss: 0.7826 - val_acc: 0.7289\n",
            "Epoch 44/100\n",
            "1563/1562 [==============================] - 30s 19ms/step - loss: 0.9491 - acc: 0.6706 - val_loss: 0.8629 - val_acc: 0.7036\n",
            "Epoch 45/100\n",
            "1563/1562 [==============================] - 29s 19ms/step - loss: 0.9481 - acc: 0.6718 - val_loss: 0.8185 - val_acc: 0.7202\n",
            "Epoch 46/100\n",
            "1563/1562 [==============================] - 29s 19ms/step - loss: 0.9448 - acc: 0.6744 - val_loss: 0.9048 - val_acc: 0.6894\n",
            "Epoch 47/100\n",
            "1563/1562 [==============================] - 29s 19ms/step - loss: 0.9384 - acc: 0.6761 - val_loss: 0.8228 - val_acc: 0.7208\n",
            "Epoch 48/100\n",
            "1563/1562 [==============================] - 30s 19ms/step - loss: 0.9378 - acc: 0.6735 - val_loss: 0.8136 - val_acc: 0.7246\n",
            "Epoch 49/100\n",
            "1563/1562 [==============================] - 29s 19ms/step - loss: 0.9419 - acc: 0.6732 - val_loss: 0.8200 - val_acc: 0.7154\n",
            "Epoch 50/100\n",
            "1563/1562 [==============================] - 29s 19ms/step - loss: 0.9393 - acc: 0.6750 - val_loss: 0.7797 - val_acc: 0.7327\n",
            "Epoch 51/100\n",
            "1563/1562 [==============================] - 30s 19ms/step - loss: 0.9406 - acc: 0.6761 - val_loss: 0.7825 - val_acc: 0.7346\n",
            "Epoch 52/100\n",
            "1563/1562 [==============================] - 29s 19ms/step - loss: 0.9302 - acc: 0.6771 - val_loss: 0.8448 - val_acc: 0.7127\n",
            "Epoch 53/100\n",
            "1563/1562 [==============================] - 29s 19ms/step - loss: 0.9328 - acc: 0.6776 - val_loss: 0.9684 - val_acc: 0.6743\n",
            "Epoch 54/100\n",
            "1563/1562 [==============================] - 29s 19ms/step - loss: 0.9355 - acc: 0.6772 - val_loss: 0.8129 - val_acc: 0.7258\n",
            "Epoch 55/100\n",
            "1563/1562 [==============================] - 29s 19ms/step - loss: 0.9301 - acc: 0.6787 - val_loss: 0.7740 - val_acc: 0.7387\n",
            "Epoch 56/100\n",
            "1563/1562 [==============================] - 29s 19ms/step - loss: 0.9384 - acc: 0.6741 - val_loss: 0.8021 - val_acc: 0.7326\n",
            "Epoch 57/100\n",
            "1563/1562 [==============================] - 29s 19ms/step - loss: 0.9233 - acc: 0.6791 - val_loss: 0.8654 - val_acc: 0.7152\n",
            "Epoch 58/100\n",
            "1563/1562 [==============================] - 29s 19ms/step - loss: 0.9333 - acc: 0.6772 - val_loss: 0.8057 - val_acc: 0.7230\n",
            "Epoch 59/100\n",
            "1563/1562 [==============================] - 29s 19ms/step - loss: 0.9292 - acc: 0.6780 - val_loss: 0.8560 - val_acc: 0.7090\n",
            "Epoch 60/100\n",
            "1563/1562 [==============================] - 29s 19ms/step - loss: 0.9241 - acc: 0.6816 - val_loss: 0.8782 - val_acc: 0.7034\n",
            "Epoch 61/100\n",
            "1563/1562 [==============================] - 29s 19ms/step - loss: 0.9267 - acc: 0.6795 - val_loss: 0.7725 - val_acc: 0.7383\n",
            "Epoch 62/100\n",
            "1563/1562 [==============================] - 30s 19ms/step - loss: 0.9242 - acc: 0.6801 - val_loss: 0.7700 - val_acc: 0.7367\n",
            "Epoch 63/100\n",
            "1563/1562 [==============================] - 29s 19ms/step - loss: 0.9208 - acc: 0.6803 - val_loss: 0.8479 - val_acc: 0.7092\n",
            "Epoch 64/100\n",
            "1563/1562 [==============================] - 29s 19ms/step - loss: 0.9188 - acc: 0.6814 - val_loss: 0.8732 - val_acc: 0.7147\n",
            "Epoch 65/100\n",
            "1563/1562 [==============================] - 29s 19ms/step - loss: 0.9284 - acc: 0.6791 - val_loss: 0.8476 - val_acc: 0.7193\n",
            "Epoch 66/100\n",
            "1563/1562 [==============================] - 29s 19ms/step - loss: 0.9233 - acc: 0.6808 - val_loss: 0.7933 - val_acc: 0.7253\n",
            "Epoch 67/100\n",
            "1563/1562 [==============================] - 29s 19ms/step - loss: 0.9308 - acc: 0.6822 - val_loss: 0.7790 - val_acc: 0.7372\n",
            "Epoch 68/100\n",
            "1563/1562 [==============================] - 29s 19ms/step - loss: 0.9184 - acc: 0.6836 - val_loss: 0.8188 - val_acc: 0.7273\n",
            "Epoch 69/100\n",
            "1563/1562 [==============================] - 29s 19ms/step - loss: 0.9250 - acc: 0.6801 - val_loss: 0.8302 - val_acc: 0.7145\n",
            "Epoch 70/100\n",
            "1563/1562 [==============================] - 29s 19ms/step - loss: 0.9080 - acc: 0.6885 - val_loss: 0.8080 - val_acc: 0.7336\n",
            "Epoch 71/100\n",
            "1563/1562 [==============================] - 30s 19ms/step - loss: 0.9210 - acc: 0.6819 - val_loss: 0.8668 - val_acc: 0.7288\n",
            "Epoch 72/100\n",
            "1563/1562 [==============================] - 29s 19ms/step - loss: 0.9177 - acc: 0.6851 - val_loss: 0.7192 - val_acc: 0.7542\n",
            "Epoch 73/100\n",
            "1563/1562 [==============================] - 29s 19ms/step - loss: 0.9188 - acc: 0.6833 - val_loss: 0.7821 - val_acc: 0.7308\n",
            "Epoch 74/100\n",
            "1563/1562 [==============================] - 30s 19ms/step - loss: 0.9206 - acc: 0.6822 - val_loss: 0.8382 - val_acc: 0.7143\n",
            "Epoch 75/100\n",
            "1563/1562 [==============================] - 29s 19ms/step - loss: 0.9156 - acc: 0.6844 - val_loss: 0.7959 - val_acc: 0.7300\n",
            "Epoch 76/100\n",
            "1563/1562 [==============================] - 29s 19ms/step - loss: 0.9162 - acc: 0.6838 - val_loss: 0.8036 - val_acc: 0.7274\n",
            "Epoch 77/100\n",
            "1563/1562 [==============================] - 29s 19ms/step - loss: 0.9171 - acc: 0.6842 - val_loss: 0.8970 - val_acc: 0.7173\n",
            "Epoch 78/100\n",
            "1563/1562 [==============================] - 29s 19ms/step - loss: 0.9194 - acc: 0.6837 - val_loss: 0.7634 - val_acc: 0.7455\n",
            "Epoch 79/100\n",
            "1563/1562 [==============================] - 29s 19ms/step - loss: 0.9170 - acc: 0.6843 - val_loss: 0.8007 - val_acc: 0.7295\n",
            "Epoch 80/100\n",
            "1563/1562 [==============================] - 29s 19ms/step - loss: 0.9173 - acc: 0.6830 - val_loss: 0.8712 - val_acc: 0.7034\n",
            "Epoch 81/100\n",
            "1563/1562 [==============================] - 29s 19ms/step - loss: 0.9097 - acc: 0.6871 - val_loss: 0.7412 - val_acc: 0.7540\n",
            "Epoch 82/100\n",
            "1563/1562 [==============================] - 30s 19ms/step - loss: 0.9120 - acc: 0.6841 - val_loss: 0.7845 - val_acc: 0.7395\n",
            "Epoch 83/100\n",
            "1563/1562 [==============================] - 30s 19ms/step - loss: 0.9134 - acc: 0.6845 - val_loss: 0.7790 - val_acc: 0.7379\n",
            "Epoch 84/100\n",
            "1563/1562 [==============================] - 30s 19ms/step - loss: 0.9146 - acc: 0.6824 - val_loss: 0.7722 - val_acc: 0.7461\n",
            "Epoch 85/100\n",
            "1563/1562 [==============================] - 30s 19ms/step - loss: 0.9089 - acc: 0.6881 - val_loss: 0.7791 - val_acc: 0.7433\n",
            "Epoch 86/100\n",
            "1563/1562 [==============================] - 29s 19ms/step - loss: 0.9073 - acc: 0.6894 - val_loss: 0.8440 - val_acc: 0.7231\n",
            "Epoch 87/100\n",
            "1563/1562 [==============================] - 30s 19ms/step - loss: 0.9120 - acc: 0.6888 - val_loss: 0.8081 - val_acc: 0.7318\n",
            "Epoch 88/100\n",
            "1563/1562 [==============================] - 29s 19ms/step - loss: 0.9025 - acc: 0.6906 - val_loss: 0.8204 - val_acc: 0.7229\n",
            "Epoch 89/100\n",
            "1563/1562 [==============================] - 29s 19ms/step - loss: 0.9113 - acc: 0.6879 - val_loss: 0.8159 - val_acc: 0.7285\n",
            "Epoch 90/100\n",
            "1563/1562 [==============================] - 30s 19ms/step - loss: 0.9072 - acc: 0.6879 - val_loss: 0.7888 - val_acc: 0.7310\n",
            "Epoch 91/100\n",
            "1563/1562 [==============================] - 29s 19ms/step - loss: 0.9046 - acc: 0.6892 - val_loss: 0.8503 - val_acc: 0.7116\n",
            "Epoch 92/100\n",
            "1563/1562 [==============================] - 29s 19ms/step - loss: 0.9043 - acc: 0.6889 - val_loss: 0.8105 - val_acc: 0.7247\n",
            "Epoch 93/100\n",
            "1563/1562 [==============================] - 30s 19ms/step - loss: 0.9012 - acc: 0.6906 - val_loss: 0.8157 - val_acc: 0.7270\n",
            "Epoch 94/100\n",
            "1563/1562 [==============================] - 30s 19ms/step - loss: 0.9101 - acc: 0.6885 - val_loss: 0.8391 - val_acc: 0.7294\n",
            "Epoch 95/100\n",
            "1563/1562 [==============================] - 30s 19ms/step - loss: 0.9089 - acc: 0.6867 - val_loss: 0.8304 - val_acc: 0.7222\n",
            "Epoch 96/100\n",
            "1563/1562 [==============================] - 30s 19ms/step - loss: 0.9066 - acc: 0.6869 - val_loss: 0.8272 - val_acc: 0.7217\n",
            "Epoch 97/100\n",
            "1563/1562 [==============================] - 29s 19ms/step - loss: 0.9042 - acc: 0.6879 - val_loss: 0.7522 - val_acc: 0.7481\n",
            "Epoch 98/100\n",
            "1563/1562 [==============================] - 30s 19ms/step - loss: 0.9094 - acc: 0.6876 - val_loss: 0.7514 - val_acc: 0.7447\n",
            "Epoch 99/100\n",
            "1563/1562 [==============================] - 30s 19ms/step - loss: 0.9021 - acc: 0.6889 - val_loss: 0.7976 - val_acc: 0.7353\n",
            "Epoch 100/100\n",
            "1563/1562 [==============================] - 30s 19ms/step - loss: 0.9124 - acc: 0.6859 - val_loss: 0.7512 - val_acc: 0.7453\n"
          ],
          "name": "stdout"
        },
        {
          "output_type": "execute_result",
          "data": {
            "text/plain": [
              "<keras.callbacks.History at 0x7f4a0ae43908>"
            ]
          },
          "metadata": {
            "tags": []
          },
          "execution_count": 93
        }
      ]
    },
    {
      "cell_type": "code",
      "metadata": {
        "id": "qQMOkHN_ZYAb",
        "colab_type": "code",
        "colab": {}
      },
      "source": [
        "# Training accuracy - 68%\n",
        "# Validation accuracy - 74%"
      ],
      "execution_count": 0,
      "outputs": []
    },
    {
      "cell_type": "markdown",
      "metadata": {
        "id": "gYyF-P8O4jQ8",
        "colab_type": "text"
      },
      "source": [
        "### **Generate 5 images for 1 of the image of CIFAR10 train dataset.**"
      ]
    },
    {
      "cell_type": "code",
      "metadata": {
        "id": "mXug4z234mwQ",
        "colab_type": "code",
        "colab": {
          "base_uri": "https://localhost:8080/",
          "height": 109
        },
        "outputId": "88038fdc-414d-441e-f3f3-dccaaf2cde4f"
      },
      "source": [
        "from matplotlib import pyplot as plt\n",
        "gen = datagen.flow(xtrain[0:1], batch_size=1)\n",
        "for i in range(1, 6):\n",
        "    plt.subplot(1,5,i)\n",
        "    plt.axis(\"off\")\n",
        "    plt.imshow(gen.next().squeeze())\n",
        "    plt.plot()\n",
        "plt.show()"
      ],
      "execution_count": 92,
      "outputs": [
        {
          "output_type": "display_data",
          "data": {
            "image/png": "[encoded data removed]",
            "text/plain": [
              "<Figure size 432x288 with 5 Axes>"
            ]
          },
          "metadata": {
            "tags": []
          }
        }
      ]
    },
    {
      "cell_type": "code",
      "metadata": {
        "id": "BcioRTwpLbJd",
        "colab_type": "code",
        "colab": {}
      },
      "source": [
        ""
      ],
      "execution_count": 0,
      "outputs": []
    }
  ]
}