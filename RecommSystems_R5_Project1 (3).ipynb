{
  "nbformat": 4,
  "nbformat_minor": 0,
  "metadata": {
    "kernelspec": {
      "display_name": "Python 3",
      "language": "python",
      "name": "python3"
    },
    "language_info": {
      "codemirror_mode": {
        "name": "ipython",
        "version": 3
      },
      "file_extension": ".py",
      "mimetype": "text/x-python",
      "name": "python",
      "nbconvert_exporter": "python",
      "pygments_lexer": "ipython3",
      "version": "3.7.3"
    },
    "colab": {
      "name": "RecommSystems_R5_Project1.ipynb",
      "version": "0.3.2",
      "provenance": [],
      "collapsed_sections": []
    }
  },
  "cells": [
    {
      "cell_type": "code",
      "metadata": {
        "id": "FvL2CnTKEYSP",
        "colab_type": "code",
        "colab": {}
      },
      "source": [
        "import pandas as pd \n",
        "import numpy as np\n",
        "import seaborn as sns\n",
        "import matplotlib.pyplot as plt"
      ],
      "execution_count": 0,
      "outputs": []
    },
    {
      "cell_type": "code",
      "metadata": {
        "id": "kzq9dboAFBe5",
        "colab_type": "code",
        "outputId": "3ccd0130-a6c0-48ba-ba51-5040a79f221b",
        "colab": {
          "base_uri": "https://localhost:8080/",
          "height": 122
        }
      },
      "source": [
        "from google.colab import drive\n",
        "drive.mount('/gdrive')\n"
      ],
      "execution_count": 0,
      "outputs": [
        {
          "output_type": "stream",
          "text": [
            "Go to this URL in a browser: https://accounts.google.com/o/oauth2/auth?client_id=947318989803-6bn6qk8qdgf4n4g3pfee6491hc0brc4i.apps.googleusercontent.com&redirect_uri=urn%3Aietf%3Awg%3Aoauth%3A2.0%3Aoob&scope=email%20https%3A%2F%2Fwww.googleapis.com%2Fauth%2Fdocs.test%20https%3A%2F%2Fwww.googleapis.com%2Fauth%2Fdrive%20https%3A%2F%2Fwww.googleapis.com%2Fauth%2Fdrive.photos.readonly%20https%3A%2F%2Fwww.googleapis.com%2Fauth%2Fpeopleapi.readonly&response_type=code\n",
            "\n",
            "Enter your authorization code:\n",
            "··········\n",
            "Mounted at /gdrive\n"
          ],
          "name": "stdout"
        }
      ]
    },
    {
      "cell_type": "code",
      "metadata": {
        "id": "5WihrPZiFRNG",
        "colab_type": "code",
        "outputId": "cc8ac0d0-b7a1-40b3-cc96-b14efa9e1a67",
        "colab": {
          "base_uri": "https://localhost:8080/",
          "height": 34
        }
      },
      "source": [
        "%cd /gdrive/My\\ Drive/data"
      ],
      "execution_count": 24,
      "outputs": [
        {
          "output_type": "stream",
          "text": [
            "/gdrive/My Drive/data\n"
          ],
          "name": "stdout"
        }
      ]
    },
    {
      "cell_type": "code",
      "metadata": {
        "id": "fgrroJEtEYSR",
        "colab_type": "code",
        "colab": {}
      },
      "source": [
        "data = pd.read_csv(\"ratings_Electronics.csv\", header=None)"
      ],
      "execution_count": 0,
      "outputs": []
    },
    {
      "cell_type": "code",
      "metadata": {
        "id": "2jO7aodeEYST",
        "colab_type": "code",
        "colab": {}
      },
      "source": [
        "data.columns = [\"userID\", \"itemID\",\"rating\", \"timestamp\"]"
      ],
      "execution_count": 0,
      "outputs": []
    },
    {
      "cell_type": "code",
      "metadata": {
        "id": "gjmIVtkOEYSV",
        "colab_type": "code",
        "outputId": "11f0408a-96e2-43ff-b90b-9563937b2b88",
        "colab": {
          "base_uri": "https://localhost:8080/",
          "height": 204
        }
      },
      "source": [
        "data.head()"
      ],
      "execution_count": 102,
      "outputs": [
        {
          "output_type": "execute_result",
          "data": {
            "text/html": [
              "<div>\n",
              "<style scoped>\n",
              "    .dataframe tbody tr th:only-of-type {\n",
              "        vertical-align: middle;\n",
              "    }\n",
              "\n",
              "    .dataframe tbody tr th {\n",
              "        vertical-align: top;\n",
              "    }\n",
              "\n",
              "    .dataframe thead th {\n",
              "        text-align: right;\n",
              "    }\n",
              "</style>\n",
              "<table border=\"1\" class=\"dataframe\">\n",
              "  <thead>\n",
              "    <tr style=\"text-align: right;\">\n",
              "      <th></th>\n",
              "      <th>userID</th>\n",
              "      <th>itemID</th>\n",
              "      <th>rating</th>\n",
              "      <th>timestamp</th>\n",
              "    </tr>\n",
              "  </thead>\n",
              "  <tbody>\n",
              "    <tr>\n",
              "      <th>0</th>\n",
              "      <td>AKM1MP6P0OYPR</td>\n",
              "      <td>0132793040</td>\n",
              "      <td>5.0</td>\n",
              "      <td>1365811200</td>\n",
              "    </tr>\n",
              "    <tr>\n",
              "      <th>1</th>\n",
              "      <td>A2CX7LUOHB2NDG</td>\n",
              "      <td>0321732944</td>\n",
              "      <td>5.0</td>\n",
              "      <td>1341100800</td>\n",
              "    </tr>\n",
              "    <tr>\n",
              "      <th>2</th>\n",
              "      <td>A2NWSAGRHCP8N5</td>\n",
              "      <td>0439886341</td>\n",
              "      <td>1.0</td>\n",
              "      <td>1367193600</td>\n",
              "    </tr>\n",
              "    <tr>\n",
              "      <th>3</th>\n",
              "      <td>A2WNBOD3WNDNKT</td>\n",
              "      <td>0439886341</td>\n",
              "      <td>3.0</td>\n",
              "      <td>1374451200</td>\n",
              "    </tr>\n",
              "    <tr>\n",
              "      <th>4</th>\n",
              "      <td>A1GI0U4ZRJA8WN</td>\n",
              "      <td>0439886341</td>\n",
              "      <td>1.0</td>\n",
              "      <td>1334707200</td>\n",
              "    </tr>\n",
              "  </tbody>\n",
              "</table>\n",
              "</div>"
            ],
            "text/plain": [
              "           userID      itemID  rating   timestamp\n",
              "0   AKM1MP6P0OYPR  0132793040     5.0  1365811200\n",
              "1  A2CX7LUOHB2NDG  0321732944     5.0  1341100800\n",
              "2  A2NWSAGRHCP8N5  0439886341     1.0  1367193600\n",
              "3  A2WNBOD3WNDNKT  0439886341     3.0  1374451200\n",
              "4  A1GI0U4ZRJA8WN  0439886341     1.0  1334707200"
            ]
          },
          "metadata": {
            "tags": []
          },
          "execution_count": 102
        }
      ]
    },
    {
      "cell_type": "code",
      "metadata": {
        "id": "179U7uT1EYSX",
        "colab_type": "code",
        "outputId": "57548b5b-6466-43a6-8676-3a41a9bdb679",
        "colab": {}
      },
      "source": [
        "data.shape"
      ],
      "execution_count": 0,
      "outputs": [
        {
          "output_type": "execute_result",
          "data": {
            "text/plain": [
              "(7824482, 4)"
            ]
          },
          "metadata": {
            "tags": []
          },
          "execution_count": 6
        }
      ]
    },
    {
      "cell_type": "code",
      "metadata": {
        "id": "hdgwIa40EYSZ",
        "colab_type": "code",
        "outputId": "b0bac8cd-ef65-4574-a997-956b0432384e",
        "colab": {}
      },
      "source": [
        "data.info()"
      ],
      "execution_count": 0,
      "outputs": [
        {
          "output_type": "stream",
          "text": [
            "<class 'pandas.core.frame.DataFrame'>\n",
            "RangeIndex: 7824482 entries, 0 to 7824481\n",
            "Data columns (total 4 columns):\n",
            "userId       object\n",
            "productId    object\n",
            "ratings      float64\n",
            "timestamp    int64\n",
            "dtypes: float64(1), int64(1), object(2)\n",
            "memory usage: 238.8+ MB\n"
          ],
          "name": "stdout"
        }
      ]
    },
    {
      "cell_type": "code",
      "metadata": {
        "id": "Kzi8iXIREYSb",
        "colab_type": "code",
        "colab": {}
      },
      "source": [
        ""
      ],
      "execution_count": 0,
      "outputs": []
    },
    {
      "cell_type": "code",
      "metadata": {
        "id": "z4Xn0EndEYSd",
        "colab_type": "code",
        "outputId": "02c13aa4-72c5-4d32-969a-2a1ab332c2c3",
        "colab": {}
      },
      "source": [
        "data.describe()"
      ],
      "execution_count": 0,
      "outputs": [
        {
          "output_type": "execute_result",
          "data": {
            "text/html": [
              "<div>\n",
              "<style scoped>\n",
              "    .dataframe tbody tr th:only-of-type {\n",
              "        vertical-align: middle;\n",
              "    }\n",
              "\n",
              "    .dataframe tbody tr th {\n",
              "        vertical-align: top;\n",
              "    }\n",
              "\n",
              "    .dataframe thead th {\n",
              "        text-align: right;\n",
              "    }\n",
              "</style>\n",
              "<table border=\"1\" class=\"dataframe\">\n",
              "  <thead>\n",
              "    <tr style=\"text-align: right;\">\n",
              "      <th></th>\n",
              "      <th>ratings</th>\n",
              "      <th>timestamp</th>\n",
              "    </tr>\n",
              "  </thead>\n",
              "  <tbody>\n",
              "    <tr>\n",
              "      <th>count</th>\n",
              "      <td>7.824482e+06</td>\n",
              "      <td>7.824482e+06</td>\n",
              "    </tr>\n",
              "    <tr>\n",
              "      <th>mean</th>\n",
              "      <td>4.012337e+00</td>\n",
              "      <td>1.338178e+09</td>\n",
              "    </tr>\n",
              "    <tr>\n",
              "      <th>std</th>\n",
              "      <td>1.380910e+00</td>\n",
              "      <td>6.900426e+07</td>\n",
              "    </tr>\n",
              "    <tr>\n",
              "      <th>min</th>\n",
              "      <td>1.000000e+00</td>\n",
              "      <td>9.127296e+08</td>\n",
              "    </tr>\n",
              "    <tr>\n",
              "      <th>25%</th>\n",
              "      <td>3.000000e+00</td>\n",
              "      <td>1.315354e+09</td>\n",
              "    </tr>\n",
              "    <tr>\n",
              "      <th>50%</th>\n",
              "      <td>5.000000e+00</td>\n",
              "      <td>1.361059e+09</td>\n",
              "    </tr>\n",
              "    <tr>\n",
              "      <th>75%</th>\n",
              "      <td>5.000000e+00</td>\n",
              "      <td>1.386115e+09</td>\n",
              "    </tr>\n",
              "    <tr>\n",
              "      <th>max</th>\n",
              "      <td>5.000000e+00</td>\n",
              "      <td>1.406074e+09</td>\n",
              "    </tr>\n",
              "  </tbody>\n",
              "</table>\n",
              "</div>"
            ],
            "text/plain": [
              "            ratings     timestamp\n",
              "count  7.824482e+06  7.824482e+06\n",
              "mean   4.012337e+00  1.338178e+09\n",
              "std    1.380910e+00  6.900426e+07\n",
              "min    1.000000e+00  9.127296e+08\n",
              "25%    3.000000e+00  1.315354e+09\n",
              "50%    5.000000e+00  1.361059e+09\n",
              "75%    5.000000e+00  1.386115e+09\n",
              "max    5.000000e+00  1.406074e+09"
            ]
          },
          "metadata": {
            "tags": []
          },
          "execution_count": 8
        }
      ]
    },
    {
      "cell_type": "code",
      "metadata": {
        "id": "BZ-hUa6-EYSf",
        "colab_type": "code",
        "colab": {}
      },
      "source": [
        "# More than 50% of the products have been rated 5. "
      ],
      "execution_count": 0,
      "outputs": []
    },
    {
      "cell_type": "code",
      "metadata": {
        "id": "0JfQ9oCMEYSh",
        "colab_type": "code",
        "outputId": "19b28a8d-0379-4d30-cc84-8dd7ee454abb",
        "colab": {}
      },
      "source": [
        "sns.distplot(data['rating'], hist = True)"
      ],
      "execution_count": 0,
      "outputs": [
        {
          "output_type": "execute_result",
          "data": {
            "text/plain": [
              "<matplotlib.axes._subplots.AxesSubplot at 0x10fffe908>"
            ]
          },
          "metadata": {
            "tags": []
          },
          "execution_count": 8
        },
        {
          "output_type": "display_data",
          "data": {
            "image/png": "[encoded data removed]",
            "text/plain": [
              "<Figure size 432x288 with 1 Axes>"
            ]
          },
          "metadata": {
            "tags": [],
            "needs_background": "light"
          }
        }
      ]
    },
    {
      "cell_type": "code",
      "metadata": {
        "id": "EGbNsKf9EYSj",
        "colab_type": "code",
        "colab": {}
      },
      "source": [
        "userData = data.groupby([\"userID\"]).count().reset_index()\n",
        "\n",
        "# 4201696 rows × 3 columns\n",
        "# data.groupby(\"userId\").count()\n"
      ],
      "execution_count": 0,
      "outputs": []
    },
    {
      "cell_type": "code",
      "metadata": {
        "id": "ZIvb5eq8EYSk",
        "colab_type": "code",
        "outputId": "62b79b31-076c-46bd-b4ef-518a1a5de665",
        "colab": {
          "base_uri": "https://localhost:8080/",
          "height": 34
        }
      },
      "source": [
        "userData.shape"
      ],
      "execution_count": 0,
      "outputs": [
        {
          "output_type": "execute_result",
          "data": {
            "text/plain": [
              "(4201696, 4)"
            ]
          },
          "metadata": {
            "tags": []
          },
          "execution_count": 8
        }
      ]
    },
    {
      "cell_type": "code",
      "metadata": {
        "id": "vDFoxJsaEYSm",
        "colab_type": "code",
        "colab": {}
      },
      "source": [
        "users = userData.loc[userData['rating']>5]\n",
        "users = users.loc[:,'userID']"
      ],
      "execution_count": 0,
      "outputs": []
    },
    {
      "cell_type": "code",
      "metadata": {
        "id": "oJbfLLogEYSo",
        "colab_type": "code",
        "colab": {}
      },
      "source": [
        "temp_df = data[data['userID'].isin(users)]"
      ],
      "execution_count": 0,
      "outputs": []
    },
    {
      "cell_type": "code",
      "metadata": {
        "id": "MM4Spg5JmfOa",
        "colab_type": "code",
        "colab": {}
      },
      "source": [
        "# temp_df.groupby(['userId']).count()"
      ],
      "execution_count": 0,
      "outputs": []
    },
    {
      "cell_type": "code",
      "metadata": {
        "id": "IMAuIBqTEYSq",
        "colab_type": "code",
        "outputId": "cf4203dc-d487-434e-debb-52d5cfbe079a",
        "colab": {
          "base_uri": "https://localhost:8080/",
          "height": 34
        }
      },
      "source": [
        "temp_df.shape"
      ],
      "execution_count": 33,
      "outputs": [
        {
          "output_type": "execute_result",
          "data": {
            "text/plain": [
              "(1904153, 4)"
            ]
          },
          "metadata": {
            "tags": []
          },
          "execution_count": 33
        }
      ]
    },
    {
      "cell_type": "code",
      "metadata": {
        "id": "X2Z7ter1EYSr",
        "colab_type": "code",
        "colab": {}
      },
      "source": [
        "from sklearn.model_selection import train_test_split"
      ],
      "execution_count": 0,
      "outputs": []
    },
    {
      "cell_type": "code",
      "metadata": {
        "id": "VWqy57EqEYSt",
        "colab_type": "code",
        "colab": {}
      },
      "source": [
        "train_data, test_data = train_test_split(temp_df, test_size = 0.30, random_state=7)"
      ],
      "execution_count": 0,
      "outputs": []
    },
    {
      "cell_type": "code",
      "metadata": {
        "id": "p0tokNdqEYSv",
        "colab_type": "code",
        "colab": {
          "base_uri": "https://localhost:8080/",
          "height": 34
        },
        "outputId": "06b72da1-c19e-4126-eb04-71163b363822"
      },
      "source": [
        "train_data.shape"
      ],
      "execution_count": 36,
      "outputs": [
        {
          "output_type": "execute_result",
          "data": {
            "text/plain": [
              "(1332907, 4)"
            ]
          },
          "metadata": {
            "tags": []
          },
          "execution_count": 36
        }
      ]
    },
    {
      "cell_type": "code",
      "metadata": {
        "id": "Xc8canGYEYSx",
        "colab_type": "code",
        "outputId": "ba2d94fb-6406-49a2-910a-8fa8cabe008e",
        "colab": {
          "base_uri": "https://localhost:8080/",
          "height": 235
        }
      },
      "source": [
        "productGroup = temp_df.groupby('itemID')[['rating']].sum()\n",
        "productGroup.sort_values(['rating'], ascending = [0]).head()"
      ],
      "execution_count": 108,
      "outputs": [
        {
          "output_type": "execute_result",
          "data": {
            "text/html": [
              "<div>\n",
              "<style scoped>\n",
              "    .dataframe tbody tr th:only-of-type {\n",
              "        vertical-align: middle;\n",
              "    }\n",
              "\n",
              "    .dataframe tbody tr th {\n",
              "        vertical-align: top;\n",
              "    }\n",
              "\n",
              "    .dataframe thead th {\n",
              "        text-align: right;\n",
              "    }\n",
              "</style>\n",
              "<table border=\"1\" class=\"dataframe\">\n",
              "  <thead>\n",
              "    <tr style=\"text-align: right;\">\n",
              "      <th></th>\n",
              "      <th>rating</th>\n",
              "    </tr>\n",
              "    <tr>\n",
              "      <th>itemID</th>\n",
              "      <th></th>\n",
              "    </tr>\n",
              "  </thead>\n",
              "  <tbody>\n",
              "    <tr>\n",
              "      <th>B007WTAJTO</th>\n",
              "      <td>20953.0</td>\n",
              "    </tr>\n",
              "    <tr>\n",
              "      <th>B003ES5ZUU</th>\n",
              "      <td>18042.0</td>\n",
              "    </tr>\n",
              "    <tr>\n",
              "      <th>B0019EHU8G</th>\n",
              "      <td>15237.0</td>\n",
              "    </tr>\n",
              "    <tr>\n",
              "      <th>B00DR0PDNE</th>\n",
              "      <td>13731.0</td>\n",
              "    </tr>\n",
              "    <tr>\n",
              "      <th>B002WE6D44</th>\n",
              "      <td>12016.0</td>\n",
              "    </tr>\n",
              "  </tbody>\n",
              "</table>\n",
              "</div>"
            ],
            "text/plain": [
              "             rating\n",
              "itemID             \n",
              "B007WTAJTO  20953.0\n",
              "B003ES5ZUU  18042.0\n",
              "B0019EHU8G  15237.0\n",
              "B00DR0PDNE  13731.0\n",
              "B002WE6D44  12016.0"
            ]
          },
          "metadata": {
            "tags": []
          },
          "execution_count": 108
        }
      ]
    },
    {
      "cell_type": "code",
      "metadata": {
        "id": "fzNf0ulbEYSz",
        "colab_type": "code",
        "colab": {}
      },
      "source": [
        "# Popularity based recommendations.\n",
        "def create(train_data):\n",
        "    train_data_grouped = train_data.groupby(['itemID']).agg({'userID': 'count'}).reset_index()\n",
        "    train_data_grouped.rename(columns = {'userID': 'score'},inplace=True)\n",
        "    train_data_sort = train_data_grouped.sort_values(['score', 'itemID'], ascending = [0,1])\n",
        "    train_data_sort['Rank'] = train_data_sort['score'].rank(ascending=0, method='first')\n",
        "    return train_data_sort.head(10)"
      ],
      "execution_count": 0,
      "outputs": []
    },
    {
      "cell_type": "code",
      "metadata": {
        "id": "bex3E4yVEYS1",
        "colab_type": "code",
        "colab": {}
      },
      "source": [
        "def recommend(popularity_recommendations, user_id):    \n",
        "    user_recommendations = popularity_recommendations\n",
        "        \n",
        "    #Add user_id column for which the recommendations are being generated\n",
        "    user_recommendations['user_id'] = user_id\n",
        "\n",
        "    #Bring user_id column to the front\n",
        "    cols = user_recommendations.columns.tolist()\n",
        "    cols = cols[-1:] + cols[:-1]\n",
        "    user_recommendations = user_recommendations[cols]\n",
        "\n",
        "    return user_recommendations"
      ],
      "execution_count": 0,
      "outputs": []
    },
    {
      "cell_type": "code",
      "metadata": {
        "id": "sUcteHHREYS4",
        "colab_type": "code",
        "colab": {}
      },
      "source": [
        "popularity_recommendations = create(train_data)"
      ],
      "execution_count": 0,
      "outputs": []
    },
    {
      "cell_type": "code",
      "metadata": {
        "id": "AIkDNdMcEYS9",
        "colab_type": "code",
        "colab": {}
      },
      "source": [
        "recommendations = recommend(popularity_recommendations, 'A000715434M800HLCENK9')"
      ],
      "execution_count": 0,
      "outputs": []
    },
    {
      "cell_type": "code",
      "metadata": {
        "id": "TgaqA8PdEYS_",
        "colab_type": "code",
        "outputId": "acb5b434-0e6e-4dc3-a308-c69d62ada0cc",
        "colab": {
          "base_uri": "https://localhost:8080/",
          "height": 359
        }
      },
      "source": [
        "recommendations"
      ],
      "execution_count": 113,
      "outputs": [
        {
          "output_type": "execute_result",
          "data": {
            "text/html": [
              "<div>\n",
              "<style scoped>\n",
              "    .dataframe tbody tr th:only-of-type {\n",
              "        vertical-align: middle;\n",
              "    }\n",
              "\n",
              "    .dataframe tbody tr th {\n",
              "        vertical-align: top;\n",
              "    }\n",
              "\n",
              "    .dataframe thead th {\n",
              "        text-align: right;\n",
              "    }\n",
              "</style>\n",
              "<table border=\"1\" class=\"dataframe\">\n",
              "  <thead>\n",
              "    <tr style=\"text-align: right;\">\n",
              "      <th></th>\n",
              "      <th>user_id</th>\n",
              "      <th>itemID</th>\n",
              "      <th>score</th>\n",
              "      <th>Rank</th>\n",
              "    </tr>\n",
              "  </thead>\n",
              "  <tbody>\n",
              "    <tr>\n",
              "      <th>161412</th>\n",
              "      <td>A000715434M800HLCENK9</td>\n",
              "      <td>B007WTAJTO</td>\n",
              "      <td>3159</td>\n",
              "      <td>1.0</td>\n",
              "    </tr>\n",
              "    <tr>\n",
              "      <th>94200</th>\n",
              "      <td>A000715434M800HLCENK9</td>\n",
              "      <td>B003ES5ZUU</td>\n",
              "      <td>2664</td>\n",
              "      <td>2.0</td>\n",
              "    </tr>\n",
              "    <tr>\n",
              "      <th>202201</th>\n",
              "      <td>A000715434M800HLCENK9</td>\n",
              "      <td>B00DR0PDNE</td>\n",
              "      <td>2380</td>\n",
              "      <td>3.0</td>\n",
              "    </tr>\n",
              "    <tr>\n",
              "      <th>55610</th>\n",
              "      <td>A000715434M800HLCENK9</td>\n",
              "      <td>B0019EHU8G</td>\n",
              "      <td>2189</td>\n",
              "      <td>4.0</td>\n",
              "    </tr>\n",
              "    <tr>\n",
              "      <th>84287</th>\n",
              "      <td>A000715434M800HLCENK9</td>\n",
              "      <td>B002WE6D44</td>\n",
              "      <td>1794</td>\n",
              "      <td>5.0</td>\n",
              "    </tr>\n",
              "    <tr>\n",
              "      <th>94097</th>\n",
              "      <td>A000715434M800HLCENK9</td>\n",
              "      <td>B003ELYQGG</td>\n",
              "      <td>1659</td>\n",
              "      <td>6.0</td>\n",
              "    </tr>\n",
              "    <tr>\n",
              "      <th>16625</th>\n",
              "      <td>A000715434M800HLCENK9</td>\n",
              "      <td>B0002L5R78</td>\n",
              "      <td>1645</td>\n",
              "      <td>7.0</td>\n",
              "    </tr>\n",
              "    <tr>\n",
              "      <th>180581</th>\n",
              "      <td>A000715434M800HLCENK9</td>\n",
              "      <td>B009SYZ8OC</td>\n",
              "      <td>1605</td>\n",
              "      <td>8.0</td>\n",
              "    </tr>\n",
              "    <tr>\n",
              "      <th>191536</th>\n",
              "      <td>A000715434M800HLCENK9</td>\n",
              "      <td>B00BGGDVOO</td>\n",
              "      <td>1380</td>\n",
              "      <td>9.0</td>\n",
              "    </tr>\n",
              "    <tr>\n",
              "      <th>83728</th>\n",
              "      <td>A000715434M800HLCENK9</td>\n",
              "      <td>B002V88HFE</td>\n",
              "      <td>1370</td>\n",
              "      <td>10.0</td>\n",
              "    </tr>\n",
              "  </tbody>\n",
              "</table>\n",
              "</div>"
            ],
            "text/plain": [
              "                      user_id      itemID  score  Rank\n",
              "161412  A000715434M800HLCENK9  B007WTAJTO   3159   1.0\n",
              "94200   A000715434M800HLCENK9  B003ES5ZUU   2664   2.0\n",
              "202201  A000715434M800HLCENK9  B00DR0PDNE   2380   3.0\n",
              "55610   A000715434M800HLCENK9  B0019EHU8G   2189   4.0\n",
              "84287   A000715434M800HLCENK9  B002WE6D44   1794   5.0\n",
              "94097   A000715434M800HLCENK9  B003ELYQGG   1659   6.0\n",
              "16625   A000715434M800HLCENK9  B0002L5R78   1645   7.0\n",
              "180581  A000715434M800HLCENK9  B009SYZ8OC   1605   8.0\n",
              "191536  A000715434M800HLCENK9  B00BGGDVOO   1380   9.0\n",
              "83728   A000715434M800HLCENK9  B002V88HFE   1370  10.0"
            ]
          },
          "metadata": {
            "tags": []
          },
          "execution_count": 113
        }
      ]
    },
    {
      "cell_type": "code",
      "metadata": {
        "id": "YFNWIKq0KdBC",
        "colab_type": "code",
        "colab": {}
      },
      "source": [
        "train_data_subset = train_data.iloc[1:50000]"
      ],
      "execution_count": 0,
      "outputs": []
    },
    {
      "cell_type": "code",
      "metadata": {
        "id": "NmjMeyeLEYTB",
        "colab_type": "code",
        "colab": {}
      },
      "source": [
        "class item_similarity_recommender_py():\n",
        "    def __init__(self):\n",
        "        self.train_data = None\n",
        "        self.user_id = None\n",
        "        self.item_id = None\n",
        "        self.cooccurence_matrix = None\n",
        "        self.item_similarity_recommendations = None\n",
        "        \n",
        "    #Get unique items corresponding to a given user\n",
        "    def get_user_items(self, user):\n",
        "        user_data = self.train_data[self.train_data[self.user_id] == user]\n",
        "        user_items = list(user_data[self.item_id].unique())\n",
        "        \n",
        "        return user_items\n",
        "        \n",
        "    #Get unique users for a given item\n",
        "    def get_item_users(self, item):\n",
        "        item_data = self.train_data[self.train_data[self.item_id] == item]\n",
        "        item_users = set(item_data[self.user_id].unique())\n",
        "            \n",
        "        return item_users\n",
        "        \n",
        "    #Get unique items in the training data\n",
        "    def get_all_items_train_data(self):\n",
        "        all_items = list(self.train_data[self.item_id].unique())\n",
        "            \n",
        "        return all_items\n",
        "        \n",
        "    #Construct cooccurence matrix\n",
        "    def construct_cooccurence_matrix(self, user_products, all_products):\n",
        "            \n",
        "        user_products_users = []        \n",
        "        for i in range(0, len(user_products)):\n",
        "            user_products_users.append(self.get_item_users(user_products[i]))\n",
        "            \n",
        "        ###############################################\n",
        "        #Initialize the item cooccurence matrix of size \n",
        "        #len(user_products) X len(products)\n",
        "        ###############################################\n",
        "        cooccurence_matrix = np.matrix(np.zeros(shape=(len(user_products), len(all_products))), float)\n",
        "           \n",
        "        #############################################################\n",
        "        #Calculate similarity between user songs and all unique songs\n",
        "        #in the training data\n",
        "        #############################################################\n",
        "        for i in range(0,len(all_products)):\n",
        "            #Calculate unique users of products (item) i\n",
        "            products_i_data = self.train_data[self.train_data[self.item_id] == all_products[i]]\n",
        "            users_i = set(products_i_data[self.user_id].unique())\n",
        "            \n",
        "            for j in range(0,len(user_products)):       \n",
        "                    \n",
        "                users_j = user_products_users[j]\n",
        "                users_intersection = users_i.intersection(users_j)\n",
        "                \n",
        "                #Calculate cooccurence_matrix[i,j] as Jaccard Index\n",
        "                if len(users_intersection) != 0:\n",
        "                    #Calculate union of listeners of songs i and j\n",
        "                    users_union = users_i.union(users_j)\n",
        "                    \n",
        "                    cooccurence_matrix[j,i] = float(len(users_intersection))/float(len(users_union))\n",
        "                else:\n",
        "                    cooccurence_matrix[j,i] = 0\n",
        "                    \n",
        "        \n",
        "        return cooccurence_matrix\n",
        "\n",
        "    \n",
        "    #Use the cooccurence matrix to make top recommendations\n",
        "    def generate_top_recommendations(self, user, cooccurence_matrix, all_products, user_products):\n",
        "        print(\"Non zero values in cooccurence_matrix :%d\" % np.count_nonzero(cooccurence_matrix))\n",
        "        \n",
        "        #Calculate a weighted average of the scores in cooccurence matrix for all user products.\n",
        "        user_sim_scores = cooccurence_matrix.sum(axis=0)/float(cooccurence_matrix.shape[0])\n",
        "        user_sim_scores = np.array(user_sim_scores)[0].tolist()\n",
        " \n",
        "        #Sort the indices of user_sim_scores based upon their value\n",
        "        #Also maintain the corresponding score\n",
        "        sort_index = sorted(((e,i) for i,e in enumerate(list(user_sim_scores))), reverse=True)\n",
        "    \n",
        "        #Create a dataframe from the following\n",
        "        columns = ['userId', 'productId', 'score', 'rank']\n",
        "        #index = np.arange(1) # array of numbers for the number of samples\n",
        "        df = pd.DataFrame(columns=columns)\n",
        "         \n",
        "        #Fill the dataframe with top 10 item based recommendations\n",
        "        rank = 1 \n",
        "        for i in range(0,len(sort_index)):\n",
        "            if ~np.isnan(sort_index[i][0]) and all_products[sort_index[i][1]] not in user_products and rank <= 10:\n",
        "                df.loc[len(df)]=[user,all_products[sort_index[i][1]],sort_index[i][0],rank]\n",
        "                rank = rank+1\n",
        "        \n",
        "        #Handle the case where there are no recommendations\n",
        "        if df.shape[0] == 0:\n",
        "            print(\"The current user has no products for training the item similarity based recommendation model.\")\n",
        "            return -1\n",
        "        else:\n",
        "            return df\n",
        " \n",
        "    #Create the item similarity based recommender system model\n",
        "    def create(self, train_data, user_id, item_id):\n",
        "        self.train_data = train_data\n",
        "        self.user_id = user_id\n",
        "        self.item_id = item_id\n",
        "\n",
        "    #Use the item similarity based recommender system model to\n",
        "    #make recommendations\n",
        "    def recommend(self, user):\n",
        "        \n",
        "        ########################################\n",
        "        #A. Get all unique products for this user\n",
        "        ########################################\n",
        "        user_products = self.get_user_items(user)    \n",
        "            \n",
        "        print(\"No. of unique products for the user: %d\" % len(user_products))\n",
        "        \n",
        "        ######################################################\n",
        "        #B. Get all unique items (products) in the training data\n",
        "        ######################################################\n",
        "        all_products = self.get_all_items_train_data()\n",
        "        \n",
        "        print(\"no. of unique products in the training set: %d\" % len(all_products))\n",
        "         \n",
        "        ###############################################\n",
        "        #C. Construct item cooccurence matrix of size \n",
        "        #len(user_products) X len(products)\n",
        "        ###############################################\n",
        "        cooccurence_matrix = self.construct_cooccurence_matrix(user_products, all_products)\n",
        "        \n",
        "        #######################################################\n",
        "        #D. Use the cooccurence matrix to make recommendations\n",
        "        #######################################################\n",
        "        df_recommendations = self.generate_top_recommendations(user, cooccurence_matrix, all_products, user_products)\n",
        "                \n",
        "        return df_recommendations\n",
        "    \n",
        "    #Get similar items to given items\n",
        "    def get_similar_items(self, item_list):\n",
        "        \n",
        "        user_products = item_list\n",
        "        \n",
        "        ######################################################\n",
        "        #B. Get all unique items in the training data\n",
        "        ######################################################\n",
        "        all_products = self.get_all_items_train_data()\n",
        "        \n",
        "        print(\"no. of unique products in the training set: %d\" % len(all_products))\n",
        "         \n",
        "        ###############################################\n",
        "        #C. Construct item cooccurence matrix of size \n",
        "        #len(user_products) X len(products)\n",
        "        ###############################################\n",
        "        cooccurence_matrix = self.construct_cooccurence_matrix(user_products, all_products)\n",
        "        \n",
        "        #######################################################\n",
        "        #D. Use the cooccurence matrix to make recommendations\n",
        "        #######################################################\n",
        "        user = \"\"\n",
        "        df_recommendations = self.generate_top_recommendations(user, cooccurence_matrix, all_products, user_products)\n",
        "         \n",
        "        return df_recommendations"
      ],
      "execution_count": 0,
      "outputs": []
    },
    {
      "cell_type": "code",
      "metadata": {
        "id": "3LpU_PeuEYTE",
        "colab_type": "code",
        "colab": {}
      },
      "source": [
        "is_model = item_similarity_recommender_py()\n",
        "is_model.create(train_data_subset, 'userID', 'itemID')"
      ],
      "execution_count": 0,
      "outputs": []
    },
    {
      "cell_type": "code",
      "metadata": {
        "id": "-ueVkcTjmNdt",
        "colab_type": "code",
        "colab": {
          "base_uri": "https://localhost:8080/",
          "height": 204
        },
        "outputId": "50dae0b6-a6c9-4bf4-e62c-f021d0607330"
      },
      "source": [
        "train_data_subset.head()"
      ],
      "execution_count": 117,
      "outputs": [
        {
          "output_type": "execute_result",
          "data": {
            "text/html": [
              "<div>\n",
              "<style scoped>\n",
              "    .dataframe tbody tr th:only-of-type {\n",
              "        vertical-align: middle;\n",
              "    }\n",
              "\n",
              "    .dataframe tbody tr th {\n",
              "        vertical-align: top;\n",
              "    }\n",
              "\n",
              "    .dataframe thead th {\n",
              "        text-align: right;\n",
              "    }\n",
              "</style>\n",
              "<table border=\"1\" class=\"dataframe\">\n",
              "  <thead>\n",
              "    <tr style=\"text-align: right;\">\n",
              "      <th></th>\n",
              "      <th>userID</th>\n",
              "      <th>itemID</th>\n",
              "      <th>rating</th>\n",
              "      <th>timestamp</th>\n",
              "    </tr>\n",
              "  </thead>\n",
              "  <tbody>\n",
              "    <tr>\n",
              "      <th>6512814</th>\n",
              "      <td>A1UEPQTQMKS52C</td>\n",
              "      <td>B0097BEECI</td>\n",
              "      <td>5.0</td>\n",
              "      <td>1370044800</td>\n",
              "    </tr>\n",
              "    <tr>\n",
              "      <th>2281685</th>\n",
              "      <td>A1VDK3E3HBWUCF</td>\n",
              "      <td>B001SEL326</td>\n",
              "      <td>5.0</td>\n",
              "      <td>1398211200</td>\n",
              "    </tr>\n",
              "    <tr>\n",
              "      <th>7629310</th>\n",
              "      <td>A3CW41T1M0N5KC</td>\n",
              "      <td>B00FF2NDW0</td>\n",
              "      <td>5.0</td>\n",
              "      <td>1400198400</td>\n",
              "    </tr>\n",
              "    <tr>\n",
              "      <th>6075366</th>\n",
              "      <td>A3M9ABRW2VB84J</td>\n",
              "      <td>B0085HHKMG</td>\n",
              "      <td>5.0</td>\n",
              "      <td>1357171200</td>\n",
              "    </tr>\n",
              "    <tr>\n",
              "      <th>1357719</th>\n",
              "      <td>AXVVWAQT72TTY</td>\n",
              "      <td>B000SLNNG4</td>\n",
              "      <td>5.0</td>\n",
              "      <td>1206835200</td>\n",
              "    </tr>\n",
              "  </tbody>\n",
              "</table>\n",
              "</div>"
            ],
            "text/plain": [
              "                 userID      itemID  rating   timestamp\n",
              "6512814  A1UEPQTQMKS52C  B0097BEECI     5.0  1370044800\n",
              "2281685  A1VDK3E3HBWUCF  B001SEL326     5.0  1398211200\n",
              "7629310  A3CW41T1M0N5KC  B00FF2NDW0     5.0  1400198400\n",
              "6075366  A3M9ABRW2VB84J  B0085HHKMG     5.0  1357171200\n",
              "1357719   AXVVWAQT72TTY  B000SLNNG4     5.0  1206835200"
            ]
          },
          "metadata": {
            "tags": []
          },
          "execution_count": 117
        }
      ]
    },
    {
      "cell_type": "code",
      "metadata": {
        "id": "uBay3xbtrcdv",
        "colab_type": "code",
        "colab": {
          "base_uri": "https://localhost:8080/",
          "height": 102
        },
        "outputId": "c98c67f8-0518-4785-aeb9-4c144f047b2c"
      },
      "source": [
        "!pip install scikit-surprise\n",
        "from surprise import SVD"
      ],
      "execution_count": 118,
      "outputs": [
        {
          "output_type": "stream",
          "text": [
            "Requirement already satisfied: scikit-surprise in /usr/local/lib/python3.6/dist-packages (1.0.6)\n",
            "Requirement already satisfied: numpy>=1.11.2 in /usr/local/lib/python3.6/dist-packages (from scikit-surprise) (1.16.4)\n",
            "Requirement already satisfied: six>=1.10.0 in /usr/local/lib/python3.6/dist-packages (from scikit-surprise) (1.12.0)\n",
            "Requirement already satisfied: joblib>=0.11 in /usr/local/lib/python3.6/dist-packages (from scikit-surprise) (0.13.2)\n",
            "Requirement already satisfied: scipy>=1.0.0 in /usr/local/lib/python3.6/dist-packages (from scikit-surprise) (1.3.0)\n"
          ],
          "name": "stdout"
        }
      ]
    },
    {
      "cell_type": "code",
      "metadata": {
        "id": "DIEbqulIsiTn",
        "colab_type": "code",
        "colab": {}
      },
      "source": [
        "# from surprise.model_selection import cross_validate"
      ],
      "execution_count": 0,
      "outputs": []
    },
    {
      "cell_type": "code",
      "metadata": {
        "id": "M6ZMl9wPsXUw",
        "colab_type": "code",
        "colab": {}
      },
      "source": [
        "# algo = SVD()\n",
        "# cross_validate(algo, train_data_subset, measures=['RMSE', 'MAE'], cv=5, verbose=True)"
      ],
      "execution_count": 0,
      "outputs": []
    },
    {
      "cell_type": "code",
      "metadata": {
        "id": "CWXg94aZEYTG",
        "colab_type": "code",
        "outputId": "87fcc834-410c-4740-9512-157d0bde641a",
        "colab": {
          "base_uri": "https://localhost:8080/",
          "height": 529
        }
      },
      "source": [
        "# user_id = 'A0284208PB0CNSHI1OC6'\n",
        "user_id = 'A1UEPQTQMKS52C'\n",
        "user_items = is_model.get_user_items(user_id)\n",
        "#\n",
        "print(\"------------------------------------------------------------------------------------\")\n",
        "print(\"Training data for the user userid: %s:\" % user_id)\n",
        "print(\"------------------------------------------------------------------------------------\")\n",
        "\n",
        "for user_item in user_items:\n",
        "    print(user_item)\n",
        "\n",
        "print(\"----------------------------------------------------------------------\")\n",
        "print(\"Recommendation process going on:\")\n",
        "print(\"----------------------------------------------------------------------\")\n",
        "\n",
        "#Recommend songs for the user using personalized model\n",
        "is_model.recommend(user_id)"
      ],
      "execution_count": 91,
      "outputs": [
        {
          "output_type": "stream",
          "text": [
            "------------------------------------------------------------------------------------\n",
            "Training data for the user userid: A1UEPQTQMKS52C:\n",
            "------------------------------------------------------------------------------------\n",
            "B0097BEECI\n",
            "----------------------------------------------------------------------\n",
            "Recommendation process going on:\n",
            "----------------------------------------------------------------------\n",
            "No. of unique products for the user: 1\n",
            "no. of unique products in the training set: 29196\n",
            "Non zero values in cooccurence_matrix :3\n"
          ],
          "name": "stdout"
        },
        {
          "output_type": "execute_result",
          "data": {
            "text/html": [
              "<div>\n",
              "<style scoped>\n",
              "    .dataframe tbody tr th:only-of-type {\n",
              "        vertical-align: middle;\n",
              "    }\n",
              "\n",
              "    .dataframe tbody tr th {\n",
              "        vertical-align: top;\n",
              "    }\n",
              "\n",
              "    .dataframe thead th {\n",
              "        text-align: right;\n",
              "    }\n",
              "</style>\n",
              "<table border=\"1\" class=\"dataframe\">\n",
              "  <thead>\n",
              "    <tr style=\"text-align: right;\">\n",
              "      <th></th>\n",
              "      <th>userId</th>\n",
              "      <th>productId</th>\n",
              "      <th>score</th>\n",
              "      <th>rank</th>\n",
              "    </tr>\n",
              "  </thead>\n",
              "  <tbody>\n",
              "    <tr>\n",
              "      <th>0</th>\n",
              "      <td>A1UEPQTQMKS52C</td>\n",
              "      <td>B0001M4E72</td>\n",
              "      <td>0.125000</td>\n",
              "      <td>1</td>\n",
              "    </tr>\n",
              "    <tr>\n",
              "      <th>1</th>\n",
              "      <td>A1UEPQTQMKS52C</td>\n",
              "      <td>B000F28DP2</td>\n",
              "      <td>0.058824</td>\n",
              "      <td>2</td>\n",
              "    </tr>\n",
              "    <tr>\n",
              "      <th>2</th>\n",
              "      <td>A1UEPQTQMKS52C</td>\n",
              "      <td>B001I45TAI</td>\n",
              "      <td>0.000000</td>\n",
              "      <td>3</td>\n",
              "    </tr>\n",
              "    <tr>\n",
              "      <th>3</th>\n",
              "      <td>A1UEPQTQMKS52C</td>\n",
              "      <td>B008ALMITM</td>\n",
              "      <td>0.000000</td>\n",
              "      <td>4</td>\n",
              "    </tr>\n",
              "    <tr>\n",
              "      <th>4</th>\n",
              "      <td>A1UEPQTQMKS52C</td>\n",
              "      <td>B0087EVHN0</td>\n",
              "      <td>0.000000</td>\n",
              "      <td>5</td>\n",
              "    </tr>\n",
              "    <tr>\n",
              "      <th>5</th>\n",
              "      <td>A1UEPQTQMKS52C</td>\n",
              "      <td>B0020HRCHU</td>\n",
              "      <td>0.000000</td>\n",
              "      <td>6</td>\n",
              "    </tr>\n",
              "    <tr>\n",
              "      <th>6</th>\n",
              "      <td>A1UEPQTQMKS52C</td>\n",
              "      <td>B004PYDE1E</td>\n",
              "      <td>0.000000</td>\n",
              "      <td>7</td>\n",
              "    </tr>\n",
              "    <tr>\n",
              "      <th>7</th>\n",
              "      <td>A1UEPQTQMKS52C</td>\n",
              "      <td>B003DW0GO2</td>\n",
              "      <td>0.000000</td>\n",
              "      <td>8</td>\n",
              "    </tr>\n",
              "    <tr>\n",
              "      <th>8</th>\n",
              "      <td>A1UEPQTQMKS52C</td>\n",
              "      <td>B000117DF8</td>\n",
              "      <td>0.000000</td>\n",
              "      <td>9</td>\n",
              "    </tr>\n",
              "    <tr>\n",
              "      <th>9</th>\n",
              "      <td>A1UEPQTQMKS52C</td>\n",
              "      <td>B00CG2EHY0</td>\n",
              "      <td>0.000000</td>\n",
              "      <td>10</td>\n",
              "    </tr>\n",
              "  </tbody>\n",
              "</table>\n",
              "</div>"
            ],
            "text/plain": [
              "           userId   productId     score rank\n",
              "0  A1UEPQTQMKS52C  B0001M4E72  0.125000    1\n",
              "1  A1UEPQTQMKS52C  B000F28DP2  0.058824    2\n",
              "2  A1UEPQTQMKS52C  B001I45TAI  0.000000    3\n",
              "3  A1UEPQTQMKS52C  B008ALMITM  0.000000    4\n",
              "4  A1UEPQTQMKS52C  B0087EVHN0  0.000000    5\n",
              "5  A1UEPQTQMKS52C  B0020HRCHU  0.000000    6\n",
              "6  A1UEPQTQMKS52C  B004PYDE1E  0.000000    7\n",
              "7  A1UEPQTQMKS52C  B003DW0GO2  0.000000    8\n",
              "8  A1UEPQTQMKS52C  B000117DF8  0.000000    9\n",
              "9  A1UEPQTQMKS52C  B00CG2EHY0  0.000000   10"
            ]
          },
          "metadata": {
            "tags": []
          },
          "execution_count": 91
        }
      ]
    },
    {
      "cell_type": "code",
      "metadata": {
        "id": "hgcXdTmrxRGK",
        "colab_type": "code",
        "colab": {}
      },
      "source": [
        "from surprise import Dataset\n",
        "from surprise import Reader\n",
        "from surprise import accuracy"
      ],
      "execution_count": 0,
      "outputs": []
    },
    {
      "cell_type": "code",
      "metadata": {
        "id": "N9HjIKlxxTQL",
        "colab_type": "code",
        "colab": {}
      },
      "source": [
        "reader = Reader(rating_scale=(1, 5))\n",
        "\n",
        "# The columns must correspond to user id, item id and ratings (in that order).\n",
        "data_df = Dataset.load_from_df(data[['userID', 'itemID', 'rating']], reader)"
      ],
      "execution_count": 0,
      "outputs": []
    },
    {
      "cell_type": "code",
      "metadata": {
        "id": "llMqYsmxx87b",
        "colab_type": "code",
        "colab": {}
      },
      "source": [
        "data_new = data_df"
      ],
      "execution_count": 0,
      "outputs": []
    },
    {
      "cell_type": "code",
      "metadata": {
        "id": "rlqu7Wvnyki7",
        "colab_type": "code",
        "colab": {}
      },
      "source": [
        "from surprise.model_selection import train_test_split\n",
        "trainset, testset = train_test_split(data_new, test_size=.30)"
      ],
      "execution_count": 0,
      "outputs": []
    },
    {
      "cell_type": "code",
      "metadata": {
        "id": "M0hUNUX7zUUR",
        "colab_type": "code",
        "colab": {}
      },
      "source": [
        "from surprise import AlgoBase\n"
      ],
      "execution_count": 0,
      "outputs": []
    },
    {
      "cell_type": "code",
      "metadata": {
        "id": "HIrOuUv4zlP_",
        "colab_type": "code",
        "colab": {}
      },
      "source": [
        "class popularity_recommender_py(AlgoBase):\n",
        "    def __init__(self):\n",
        "        self.train_data = None\n",
        "        self.user_id = None\n",
        "        self.item_id = None\n",
        "        self.popularity_recommendations = None\n",
        "        AlgoBase.__init__(self)\n",
        "        \n",
        "    #Create the popularity based recommender system model\n",
        "    def fit(self, train_data, user_id, item_id):\n",
        "      AlgoBase.fit(self, train_data)\n",
        "      train_data_grouped = train_data.groupby(['itemID']).agg({'userID': 'count'}).reset_index()\n",
        "      train_data_grouped.rename(columns = {'userID': 'score'},inplace=True)\n",
        "      train_data_sort = train_data_grouped.sort_values(['score', 'itemID'], ascending = [0,1])\n",
        "      train_data_sort['Rank'] = train_data_sort['score'].rank(ascending=0, method='first')\n",
        "      self.popularity_recommendations = train_data_sort.head(10)\n",
        "\n",
        "    #Use the popularity based recommender system model to\n",
        "    #make recommendations\n",
        "    def estimate(self, user_id):    \n",
        "      user_recommendations = self.popularity_recommendations\n",
        "\n",
        "      #Add user_id column for which the recommendations are being generated\n",
        "      user_recommendations['user_id'] = user_id\n",
        "\n",
        "      #Bring user_id column to the front\n",
        "      cols = user_recommendations.columns.tolist()\n",
        "      cols = cols[-1:] + cols[:-1]\n",
        "      user_recommendations = user_recommendations[cols]\n",
        "\n",
        "      return user_recommendations\n"
      ],
      "execution_count": 0,
      "outputs": []
    },
    {
      "cell_type": "code",
      "metadata": {
        "id": "XI61Amt_18am",
        "colab_type": "code",
        "colab": {}
      },
      "source": [
        "pm = popularity_recommender_py()\n",
        "pm.fit(train_data, 'userID', 'itemID')"
      ],
      "execution_count": 0,
      "outputs": []
    },
    {
      "cell_type": "code",
      "metadata": {
        "id": "syK2fhWw2v0d",
        "colab_type": "code",
        "colab": {}
      },
      "source": [
        "predictions = pm.estimate('A000715434M800HLCENK9')"
      ],
      "execution_count": 0,
      "outputs": []
    },
    {
      "cell_type": "code",
      "metadata": {
        "id": "G-xEZyvgmCVq",
        "colab_type": "code",
        "colab": {}
      },
      "source": [
        ""
      ],
      "execution_count": 0,
      "outputs": []
    },
    {
      "cell_type": "code",
      "metadata": {
        "id": "R3J9mUjrJsxB",
        "colab_type": "code",
        "colab": {}
      },
      "source": [
        ""
      ],
      "execution_count": 0,
      "outputs": []
    },
    {
      "cell_type": "code",
      "metadata": {
        "id": "i6_iD7LcEYTI",
        "colab_type": "code",
        "colab": {}
      },
      "source": [
        ""
      ],
      "execution_count": 0,
      "outputs": []
    }
  ]
}