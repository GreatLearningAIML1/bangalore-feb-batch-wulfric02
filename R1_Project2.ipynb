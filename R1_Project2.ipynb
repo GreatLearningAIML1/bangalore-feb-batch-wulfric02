{
  "nbformat": 4,
  "nbformat_minor": 0,
  "metadata": {
    "colab": {
      "name": "R1_Project2.ipynb",
      "provenance": []
    },
    "kernelspec": {
      "name": "python3",
      "display_name": "Python 3"
    }
  },
  "cells": [
    {
      "cell_type": "code",
      "metadata": {
        "id": "J_jcgpP3Gxcx",
        "colab_type": "code",
        "colab": {
          "base_uri": "https://localhost:8080/",
          "height": 122
        },
        "outputId": "899edbc4-1f56-4bd9-af4b-13b8cdb1de53"
      },
      "source": [
        "from google.colab import drive\n",
        "drive.mount('/gdrive')"
      ],
      "execution_count": 1,
      "outputs": [
        {
          "output_type": "stream",
          "text": [
            "Go to this URL in a browser: https://accounts.google.com/o/oauth2/auth?client_id=947318989803-6bn6qk8qdgf4n4g3pfee6491hc0brc4i.apps.googleusercontent.com&redirect_uri=urn%3aietf%3awg%3aoauth%3a2.0%3aoob&response_type=code&scope=email%20https%3a%2f%2fwww.googleapis.com%2fauth%2fdocs.test%20https%3a%2f%2fwww.googleapis.com%2fauth%2fdrive%20https%3a%2f%2fwww.googleapis.com%2fauth%2fdrive.photos.readonly%20https%3a%2f%2fwww.googleapis.com%2fauth%2fpeopleapi.readonly\n",
            "\n",
            "Enter your authorization code:\n",
            "··········\n",
            "Mounted at /gdrive\n"
          ],
          "name": "stdout"
        }
      ]
    },
    {
      "cell_type": "code",
      "metadata": {
        "id": "uqSn7j2dG2eg",
        "colab_type": "code",
        "colab": {
          "base_uri": "https://localhost:8080/",
          "height": 34
        },
        "outputId": "3498981f-5143-4ee1-e31a-cfd4f97158d8"
      },
      "source": [
        "%cd /gdrive/My Drive/statistical_learning"
      ],
      "execution_count": 2,
      "outputs": [
        {
          "output_type": "stream",
          "text": [
            "/gdrive/My Drive/statistical_learning\n"
          ],
          "name": "stdout"
        }
      ]
    },
    {
      "cell_type": "code",
      "metadata": {
        "id": "b0aZjxcbG8lP",
        "colab_type": "code",
        "colab": {}
      },
      "source": [
        "import numpy as np\n",
        "import pandas as pd\n",
        "from scipy.stats import ttest_1samp, ttest_ind, ttest_rel, t\n",
        "import matplotlib.pyplot as plt\n",
        "from math import sqrt\n",
        "\n",
        "%matplotlib inline"
      ],
      "execution_count": 0,
      "outputs": []
    },
    {
      "cell_type": "code",
      "metadata": {
        "id": "al5-hDapHCiy",
        "colab_type": "code",
        "colab": {
          "base_uri": "https://localhost:8080/",
          "height": 142
        },
        "outputId": "b919bd5d-63c4-4344-cca4-e0bf64284500"
      },
      "source": [
        "df = pd.read_csv('data.csv')\n",
        "df.head(3)"
      ],
      "execution_count": 4,
      "outputs": [
        {
          "output_type": "execute_result",
          "data": {
            "text/html": [
              "<div>\n",
              "<style scoped>\n",
              "    .dataframe tbody tr th:only-of-type {\n",
              "        vertical-align: middle;\n",
              "    }\n",
              "\n",
              "    .dataframe tbody tr th {\n",
              "        vertical-align: top;\n",
              "    }\n",
              "\n",
              "    .dataframe thead th {\n",
              "        text-align: right;\n",
              "    }\n",
              "</style>\n",
              "<table border=\"1\" class=\"dataframe\">\n",
              "  <thead>\n",
              "    <tr style=\"text-align: right;\">\n",
              "      <th></th>\n",
              "      <th>SALESPERSON</th>\n",
              "      <th>Old Scheme (in thousands)</th>\n",
              "      <th>New Scheme (in thousands)</th>\n",
              "    </tr>\n",
              "  </thead>\n",
              "  <tbody>\n",
              "    <tr>\n",
              "      <th>0</th>\n",
              "      <td>1</td>\n",
              "      <td>57</td>\n",
              "      <td>62</td>\n",
              "    </tr>\n",
              "    <tr>\n",
              "      <th>1</th>\n",
              "      <td>2</td>\n",
              "      <td>103</td>\n",
              "      <td>122</td>\n",
              "    </tr>\n",
              "    <tr>\n",
              "      <th>2</th>\n",
              "      <td>3</td>\n",
              "      <td>59</td>\n",
              "      <td>54</td>\n",
              "    </tr>\n",
              "  </tbody>\n",
              "</table>\n",
              "</div>"
            ],
            "text/plain": [
              "   SALESPERSON  Old Scheme (in thousands)  New Scheme (in thousands)\n",
              "0            1                         57                         62\n",
              "1            2                        103                        122\n",
              "2            3                         59                         54"
            ]
          },
          "metadata": {
            "tags": []
          },
          "execution_count": 4
        }
      ]
    },
    {
      "cell_type": "code",
      "metadata": {
        "id": "HW9MCXhMHFMq",
        "colab_type": "code",
        "colab": {
          "base_uri": "https://localhost:8080/",
          "height": 297
        },
        "outputId": "c85c957f-fc89-41b8-c029-b7f26567803f"
      },
      "source": [
        "df.describe()\n"
      ],
      "execution_count": 5,
      "outputs": [
        {
          "output_type": "execute_result",
          "data": {
            "text/html": [
              "<div>\n",
              "<style scoped>\n",
              "    .dataframe tbody tr th:only-of-type {\n",
              "        vertical-align: middle;\n",
              "    }\n",
              "\n",
              "    .dataframe tbody tr th {\n",
              "        vertical-align: top;\n",
              "    }\n",
              "\n",
              "    .dataframe thead th {\n",
              "        text-align: right;\n",
              "    }\n",
              "</style>\n",
              "<table border=\"1\" class=\"dataframe\">\n",
              "  <thead>\n",
              "    <tr style=\"text-align: right;\">\n",
              "      <th></th>\n",
              "      <th>SALESPERSON</th>\n",
              "      <th>Old Scheme (in thousands)</th>\n",
              "      <th>New Scheme (in thousands)</th>\n",
              "    </tr>\n",
              "  </thead>\n",
              "  <tbody>\n",
              "    <tr>\n",
              "      <th>count</th>\n",
              "      <td>30.000000</td>\n",
              "      <td>30.000000</td>\n",
              "      <td>30.000000</td>\n",
              "    </tr>\n",
              "    <tr>\n",
              "      <th>mean</th>\n",
              "      <td>15.500000</td>\n",
              "      <td>68.033333</td>\n",
              "      <td>72.033333</td>\n",
              "    </tr>\n",
              "    <tr>\n",
              "      <th>std</th>\n",
              "      <td>8.803408</td>\n",
              "      <td>20.455980</td>\n",
              "      <td>24.062395</td>\n",
              "    </tr>\n",
              "    <tr>\n",
              "      <th>min</th>\n",
              "      <td>1.000000</td>\n",
              "      <td>28.000000</td>\n",
              "      <td>32.000000</td>\n",
              "    </tr>\n",
              "    <tr>\n",
              "      <th>25%</th>\n",
              "      <td>8.250000</td>\n",
              "      <td>54.000000</td>\n",
              "      <td>55.000000</td>\n",
              "    </tr>\n",
              "    <tr>\n",
              "      <th>50%</th>\n",
              "      <td>15.500000</td>\n",
              "      <td>67.000000</td>\n",
              "      <td>74.000000</td>\n",
              "    </tr>\n",
              "    <tr>\n",
              "      <th>75%</th>\n",
              "      <td>22.750000</td>\n",
              "      <td>81.500000</td>\n",
              "      <td>85.750000</td>\n",
              "    </tr>\n",
              "    <tr>\n",
              "      <th>max</th>\n",
              "      <td>30.000000</td>\n",
              "      <td>110.000000</td>\n",
              "      <td>122.000000</td>\n",
              "    </tr>\n",
              "  </tbody>\n",
              "</table>\n",
              "</div>"
            ],
            "text/plain": [
              "       SALESPERSON  Old Scheme (in thousands)  New Scheme (in thousands)\n",
              "count    30.000000                  30.000000                  30.000000\n",
              "mean     15.500000                  68.033333                  72.033333\n",
              "std       8.803408                  20.455980                  24.062395\n",
              "min       1.000000                  28.000000                  32.000000\n",
              "25%       8.250000                  54.000000                  55.000000\n",
              "50%      15.500000                  67.000000                  74.000000\n",
              "75%      22.750000                  81.500000                  85.750000\n",
              "max      30.000000                 110.000000                 122.000000"
            ]
          },
          "metadata": {
            "tags": []
          },
          "execution_count": 5
        }
      ]
    },
    {
      "cell_type": "code",
      "metadata": {
        "id": "qbq-wWR0HHVn",
        "colab_type": "code",
        "colab": {
          "base_uri": "https://localhost:8080/",
          "height": 51
        },
        "outputId": "28cce6d4-4d23-43b4-baad-c000472c5c25"
      },
      "source": [
        "print(\"Old Scheme Mean:\", df['Old Scheme (in thousands)'].mean())\n",
        "print(\"New Scheme Mean:\", df['New Scheme (in thousands)'].mean())"
      ],
      "execution_count": 8,
      "outputs": [
        {
          "output_type": "stream",
          "text": [
            "Old Scheme Mean: 68.03333333333333\n",
            "New Scheme Mean: 72.03333333333333\n"
          ],
          "name": "stdout"
        }
      ]
    },
    {
      "cell_type": "code",
      "metadata": {
        "id": "qRlN3-sOHLjC",
        "colab_type": "code",
        "colab": {
          "base_uri": "https://localhost:8080/",
          "height": 68
        },
        "outputId": "9b627e08-315e-47ac-c09d-9697cd0eec7f"
      },
      "source": [
        "alpha = 0.05\n",
        "\n",
        "scheme1 = df['Old Scheme (in thousands)'] * 1000\n",
        "scheme2 = df['New Scheme (in thousands)'] * 1000\n",
        "\n",
        "t_statistic, p_value = ttest_1samp(scheme1 - scheme2, 0)\n",
        "print(t_statistic, p_value)\n",
        "\n",
        "t_statistic, p_value = ttest_rel(scheme1, scheme2)\n",
        "print(t_statistic, p_value)\n",
        "\n",
        "#since this is a 2 tailed test, need to divide pvalue by 2 to get onetailed result\n",
        "p_value = p_value / 2\n",
        "print (\"The p value =\", p_value)"
      ],
      "execution_count": 9,
      "outputs": [
        {
          "output_type": "stream",
          "text": [
            "-1.5559143823544377 0.13057553961337662\n",
            "-1.5559143823544377 0.13057553961337662\n",
            "The p value = 0.06528776980668831\n"
          ],
          "name": "stdout"
        }
      ]
    },
    {
      "cell_type": "code",
      "metadata": {
        "id": "kmRW7cUGHcEz",
        "colab_type": "code",
        "colab": {}
      },
      "source": [
        ""
      ],
      "execution_count": 0,
      "outputs": []
    },
    {
      "cell_type": "markdown",
      "metadata": {
        "id": "LO7DNdawH1bq",
        "colab_type": "text"
      },
      "source": [
        "Since p-value = 0.06528776980668831 is higher than 0.05, we accept (fail to reject) NULL hypothesis. The new scheme has NOT significantly raised outputs.\n"
      ]
    },
    {
      "cell_type": "markdown",
      "metadata": {
        "id": "TZIvM-YDISs0",
        "colab_type": "text"
      },
      "source": [
        "**4. Suppose it has been calculated that in order for Titan to break even, the average output must increase by £5000 in the scheme compared to the old scheme. If this figure is alternative hypothesis, what is:**\n",
        "\n"
      ]
    },
    {
      "cell_type": "markdown",
      "metadata": {
        "id": "oo8heq2FIhyA",
        "colab_type": "text"
      },
      "source": [
        "a) The probability of a type 1 error? (2.5 points)\n"
      ]
    },
    {
      "cell_type": "markdown",
      "metadata": {
        "id": "wY6uTrjpIpum",
        "colab_type": "text"
      },
      "source": [
        "**Answer**\n",
        "\n",
        "Probability of Type I error which is predetermined by significance level. Since the significance level is 0.05, then type I error is 0.05. i.e. 5% probability we make Type I error – rejecting null hypothesis when it is true."
      ]
    },
    {
      "cell_type": "markdown",
      "metadata": {
        "id": "bVyW96LEI-Cl",
        "colab_type": "text"
      },
      "source": [
        "## **b) What is the p- value of the hypothesis test if we test for a difference of $5000? (5 points)**\n"
      ]
    },
    {
      "cell_type": "code",
      "metadata": {
        "id": "wrCyOBamI10h",
        "colab_type": "code",
        "colab": {}
      },
      "source": [
        "# H0: μd ≤ 5000  \n",
        "# HA: μd > 5000"
      ],
      "execution_count": 0,
      "outputs": []
    },
    {
      "cell_type": "code",
      "metadata": {
        "id": "2rx2OfosJRTV",
        "colab_type": "code",
        "colab": {
          "base_uri": "https://localhost:8080/",
          "height": 136
        },
        "outputId": "058f3771-adda-4796-d84f-6b3086fc16d4"
      },
      "source": [
        "#Number of items\n",
        "n =  df.shape[0]\n",
        "print(\"Count = \", n)\n",
        "\n",
        "#Standard Deviation\n",
        "sd = (df['Old Scheme (in thousands)'] - df['New Scheme (in thousands)']).std()\n",
        "print(\"Standard deviation = \", sd)\n",
        "\n",
        "#Degree of Freedom\n",
        "DF = n-1\n",
        "print(\"Degree of Freedom = \", DF)\n",
        "\n",
        "#With α = 0.05 and df = 29, critical value for t statistic (or t_critical ) will be   1.699127.\n",
        "t_critical = t.ppf(1-alpha, DF)\n",
        "print(\"t_critical = \", t_critical)\n",
        "\n",
        "# t_critical = (diff_in_mean - uD) / sd / sqrt(n)\n",
        "# t_critical = (diff_in_mean - 0) / sd / sqrt(n)\n",
        "diff_in_mean = t_critical / sqrt(n) * sd\n",
        "print(\"diff_in_mean = \", diff_in_mean)\n",
        "\n",
        "#tstat = (d^ - uD) / Sd / sqrt(n)\n",
        "uD = 5000 / 1000 #5 same unit as dataframe\n",
        "tstat = (diff_in_mean - uD) /( sd / sqrt(n))\n",
        "print(\"tstat = \", tstat)\n",
        "\n",
        "#calculate the p-value\n",
        "p_val = t.sf(np.abs(tstat), n-1)\n",
        "print(\"p_val = \", p_val)"
      ],
      "execution_count": 12,
      "outputs": [
        {
          "output_type": "stream",
          "text": [
            "Count =  30\n",
            "Standard deviation =  14.08104619937615\n",
            "Degree of Freedom =  29\n",
            "t_critical =  1.6991270265334972\n",
            "diff_in_mean =  4.368176156228719\n",
            "tstat =  -0.2457659514095499\n",
            "p_val =  0.4037972524794316\n"
          ],
          "name": "stdout"
        }
      ]
    },
    {
      "cell_type": "markdown",
      "metadata": {
        "id": "CWYAz3SaJZWU",
        "colab_type": "text"
      },
      "source": [
        "# **C. Power of the test (5 points)**"
      ]
    },
    {
      "cell_type": "code",
      "metadata": {
        "id": "0jpTZySWJVIU",
        "colab_type": "code",
        "colab": {
          "base_uri": "https://localhost:8080/",
          "height": 34
        },
        "outputId": "4d8f9dec-f833-4e8a-b38a-68c92bbcef76"
      },
      "source": [
        "#Power of the hypothesis test is 1 minus the probability of Type II error. Basically the power of a test is the probability that we make the right decision when the null is not correct (i.e. we correctly reject it) Power of test is 1- beta = 1-0.40379 = 0.5962\n",
        "beta = p_val\n",
        "power_of_test = 1 - beta\n",
        "print(\"Power of Test = \", round(power_of_test * 100, 2), \"%\")"
      ],
      "execution_count": 13,
      "outputs": [
        {
          "output_type": "stream",
          "text": [
            "Power of Test =  59.62 %\n"
          ],
          "name": "stdout"
        }
      ]
    },
    {
      "cell_type": "code",
      "metadata": {
        "id": "o_y4b8B7J-m3",
        "colab_type": "code",
        "colab": {}
      },
      "source": [
        ""
      ],
      "execution_count": 0,
      "outputs": []
    }
  ]
}